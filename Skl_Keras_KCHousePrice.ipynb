{
 "cells": [
  {
   "cell_type": "code",
   "execution_count": 1,
   "metadata": {
    "collapsed": false
   },
   "outputs": [
    {
     "name": "stderr",
     "output_type": "stream",
     "text": [
      "//anaconda/lib/python3.5/site-packages/sklearn/cross_validation.py:41: DeprecationWarning: This module was deprecated in version 0.18 in favor of the model_selection module into which all the refactored classes and functions are moved. Also note that the interface of the new CV iterators are different from that of this module. This module will be removed in 0.20.\n",
      "  \"This module will be removed in 0.20.\", DeprecationWarning)\n"
     ]
    }
   ],
   "source": [
    "# import common APIs\n",
    "import numpy as np\n",
    "import pandas as pd\n",
    "import matplotlib.pyplot as plt\n",
    "from mpl_toolkits.mplot3d import Axes3D\n",
    "import seaborn as sns\n",
    "import os\n",
    "from sklearn.preprocessing import MinMaxScaler, StandardScaler, LabelEncoder, OneHotEncoder\n",
    "from sklearn.decomposition import PCA\n",
    "from sklearn import cross_validation, naive_bayes, tree, svm, ensemble\n",
    "from sklearn.metrics import classification_report,confusion_matrix,precision_recall_curve,auc,roc_auc_score,roc_curve\n",
    "from xgboost import XGBRegressor"
   ]
  },
  {
   "cell_type": "code",
   "execution_count": 2,
   "metadata": {
    "collapsed": false
   },
   "outputs": [
    {
     "data": {
      "text/html": [
       "<div>\n",
       "<table border=\"1\" class=\"dataframe\">\n",
       "  <thead>\n",
       "    <tr style=\"text-align: right;\">\n",
       "      <th></th>\n",
       "      <th>id</th>\n",
       "      <th>date</th>\n",
       "      <th>price</th>\n",
       "      <th>bedrooms</th>\n",
       "      <th>bathrooms</th>\n",
       "      <th>sqft_living</th>\n",
       "      <th>sqft_lot</th>\n",
       "      <th>floors</th>\n",
       "      <th>waterfront</th>\n",
       "      <th>view</th>\n",
       "      <th>...</th>\n",
       "      <th>grade</th>\n",
       "      <th>sqft_above</th>\n",
       "      <th>sqft_basement</th>\n",
       "      <th>yr_built</th>\n",
       "      <th>yr_renovated</th>\n",
       "      <th>zipcode</th>\n",
       "      <th>lat</th>\n",
       "      <th>long</th>\n",
       "      <th>sqft_living15</th>\n",
       "      <th>sqft_lot15</th>\n",
       "    </tr>\n",
       "  </thead>\n",
       "  <tbody>\n",
       "    <tr>\n",
       "      <th>0</th>\n",
       "      <td>7129300520</td>\n",
       "      <td>20141013T000000</td>\n",
       "      <td>221900.0</td>\n",
       "      <td>3</td>\n",
       "      <td>1.00</td>\n",
       "      <td>1180</td>\n",
       "      <td>5650</td>\n",
       "      <td>1.0</td>\n",
       "      <td>0</td>\n",
       "      <td>0</td>\n",
       "      <td>...</td>\n",
       "      <td>7</td>\n",
       "      <td>1180</td>\n",
       "      <td>0</td>\n",
       "      <td>1955</td>\n",
       "      <td>0</td>\n",
       "      <td>98178</td>\n",
       "      <td>47.5112</td>\n",
       "      <td>-122.257</td>\n",
       "      <td>1340</td>\n",
       "      <td>5650</td>\n",
       "    </tr>\n",
       "    <tr>\n",
       "      <th>1</th>\n",
       "      <td>6414100192</td>\n",
       "      <td>20141209T000000</td>\n",
       "      <td>538000.0</td>\n",
       "      <td>3</td>\n",
       "      <td>2.25</td>\n",
       "      <td>2570</td>\n",
       "      <td>7242</td>\n",
       "      <td>2.0</td>\n",
       "      <td>0</td>\n",
       "      <td>0</td>\n",
       "      <td>...</td>\n",
       "      <td>7</td>\n",
       "      <td>2170</td>\n",
       "      <td>400</td>\n",
       "      <td>1951</td>\n",
       "      <td>1991</td>\n",
       "      <td>98125</td>\n",
       "      <td>47.7210</td>\n",
       "      <td>-122.319</td>\n",
       "      <td>1690</td>\n",
       "      <td>7639</td>\n",
       "    </tr>\n",
       "    <tr>\n",
       "      <th>2</th>\n",
       "      <td>5631500400</td>\n",
       "      <td>20150225T000000</td>\n",
       "      <td>180000.0</td>\n",
       "      <td>2</td>\n",
       "      <td>1.00</td>\n",
       "      <td>770</td>\n",
       "      <td>10000</td>\n",
       "      <td>1.0</td>\n",
       "      <td>0</td>\n",
       "      <td>0</td>\n",
       "      <td>...</td>\n",
       "      <td>6</td>\n",
       "      <td>770</td>\n",
       "      <td>0</td>\n",
       "      <td>1933</td>\n",
       "      <td>0</td>\n",
       "      <td>98028</td>\n",
       "      <td>47.7379</td>\n",
       "      <td>-122.233</td>\n",
       "      <td>2720</td>\n",
       "      <td>8062</td>\n",
       "    </tr>\n",
       "    <tr>\n",
       "      <th>3</th>\n",
       "      <td>2487200875</td>\n",
       "      <td>20141209T000000</td>\n",
       "      <td>604000.0</td>\n",
       "      <td>4</td>\n",
       "      <td>3.00</td>\n",
       "      <td>1960</td>\n",
       "      <td>5000</td>\n",
       "      <td>1.0</td>\n",
       "      <td>0</td>\n",
       "      <td>0</td>\n",
       "      <td>...</td>\n",
       "      <td>7</td>\n",
       "      <td>1050</td>\n",
       "      <td>910</td>\n",
       "      <td>1965</td>\n",
       "      <td>0</td>\n",
       "      <td>98136</td>\n",
       "      <td>47.5208</td>\n",
       "      <td>-122.393</td>\n",
       "      <td>1360</td>\n",
       "      <td>5000</td>\n",
       "    </tr>\n",
       "    <tr>\n",
       "      <th>4</th>\n",
       "      <td>1954400510</td>\n",
       "      <td>20150218T000000</td>\n",
       "      <td>510000.0</td>\n",
       "      <td>3</td>\n",
       "      <td>2.00</td>\n",
       "      <td>1680</td>\n",
       "      <td>8080</td>\n",
       "      <td>1.0</td>\n",
       "      <td>0</td>\n",
       "      <td>0</td>\n",
       "      <td>...</td>\n",
       "      <td>8</td>\n",
       "      <td>1680</td>\n",
       "      <td>0</td>\n",
       "      <td>1987</td>\n",
       "      <td>0</td>\n",
       "      <td>98074</td>\n",
       "      <td>47.6168</td>\n",
       "      <td>-122.045</td>\n",
       "      <td>1800</td>\n",
       "      <td>7503</td>\n",
       "    </tr>\n",
       "  </tbody>\n",
       "</table>\n",
       "<p>5 rows × 21 columns</p>\n",
       "</div>"
      ],
      "text/plain": [
       "           id             date     price  bedrooms  bathrooms  sqft_living  \\\n",
       "0  7129300520  20141013T000000  221900.0         3       1.00         1180   \n",
       "1  6414100192  20141209T000000  538000.0         3       2.25         2570   \n",
       "2  5631500400  20150225T000000  180000.0         2       1.00          770   \n",
       "3  2487200875  20141209T000000  604000.0         4       3.00         1960   \n",
       "4  1954400510  20150218T000000  510000.0         3       2.00         1680   \n",
       "\n",
       "   sqft_lot  floors  waterfront  view     ...      grade  sqft_above  \\\n",
       "0      5650     1.0           0     0     ...          7        1180   \n",
       "1      7242     2.0           0     0     ...          7        2170   \n",
       "2     10000     1.0           0     0     ...          6         770   \n",
       "3      5000     1.0           0     0     ...          7        1050   \n",
       "4      8080     1.0           0     0     ...          8        1680   \n",
       "\n",
       "   sqft_basement  yr_built  yr_renovated  zipcode      lat     long  \\\n",
       "0              0      1955             0    98178  47.5112 -122.257   \n",
       "1            400      1951          1991    98125  47.7210 -122.319   \n",
       "2              0      1933             0    98028  47.7379 -122.233   \n",
       "3            910      1965             0    98136  47.5208 -122.393   \n",
       "4              0      1987             0    98074  47.6168 -122.045   \n",
       "\n",
       "   sqft_living15  sqft_lot15  \n",
       "0           1340        5650  \n",
       "1           1690        7639  \n",
       "2           2720        8062  \n",
       "3           1360        5000  \n",
       "4           1800        7503  \n",
       "\n",
       "[5 rows x 21 columns]"
      ]
     },
     "execution_count": 2,
     "metadata": {},
     "output_type": "execute_result"
    }
   ],
   "source": [
    "# Data observation\n",
    "filepath = '/Users/mac/Desktop/Kaggle_datasets/KC_housePrice/'\n",
    "filename01 = 'kc_house_data.csv'\n",
    "\n",
    "df_full = pd.read_csv(os.path.join(filepath, filename01))\n",
    "df_full.head()"
   ]
  },
  {
   "cell_type": "code",
   "execution_count": 3,
   "metadata": {
    "collapsed": false
   },
   "outputs": [
    {
     "name": "stdout",
     "output_type": "stream",
     "text": [
      "<class 'pandas.core.frame.DataFrame'>\n",
      "RangeIndex: 21613 entries, 0 to 21612\n",
      "Data columns (total 21 columns):\n",
      "id               21613 non-null int64\n",
      "date             21613 non-null object\n",
      "price            21613 non-null float64\n",
      "bedrooms         21613 non-null int64\n",
      "bathrooms        21613 non-null float64\n",
      "sqft_living      21613 non-null int64\n",
      "sqft_lot         21613 non-null int64\n",
      "floors           21613 non-null float64\n",
      "waterfront       21613 non-null int64\n",
      "view             21613 non-null int64\n",
      "condition        21613 non-null int64\n",
      "grade            21613 non-null int64\n",
      "sqft_above       21613 non-null int64\n",
      "sqft_basement    21613 non-null int64\n",
      "yr_built         21613 non-null int64\n",
      "yr_renovated     21613 non-null int64\n",
      "zipcode          21613 non-null int64\n",
      "lat              21613 non-null float64\n",
      "long             21613 non-null float64\n",
      "sqft_living15    21613 non-null int64\n",
      "sqft_lot15       21613 non-null int64\n",
      "dtypes: float64(5), int64(15), object(1)\n",
      "memory usage: 3.5+ MB\n"
     ]
    }
   ],
   "source": [
    "df_full.info()"
   ]
  },
  {
   "cell_type": "code",
   "execution_count": 8,
   "metadata": {
    "collapsed": false
   },
   "outputs": [
    {
     "data": {
      "text/plain": [
       "Index(['id', 'date', 'price', 'bedrooms', 'bathrooms', 'sqft_living',\n",
       "       'sqft_lot', 'floors', 'waterfront', 'view', 'condition', 'grade',\n",
       "       'sqft_above', 'sqft_basement', 'yr_built', 'yr_renovated', 'zipcode',\n",
       "       'lat', 'long', 'sqft_living15', 'sqft_lot15'],\n",
       "      dtype='object')"
      ]
     },
     "execution_count": 8,
     "metadata": {},
     "output_type": "execute_result"
    }
   ],
   "source": [
    "df_full.columns"
   ]
  },
  {
   "cell_type": "code",
   "execution_count": 7,
   "metadata": {
    "collapsed": false
   },
   "outputs": [
    {
     "data": {
      "text/plain": [
       "array([ 7,  6,  8, 11,  9,  5, 10, 12,  4,  3, 13,  1])"
      ]
     },
     "execution_count": 7,
     "metadata": {},
     "output_type": "execute_result"
    }
   ],
   "source": [
    "df_full.grade.unique()"
   ]
  },
  {
   "cell_type": "code",
   "execution_count": 11,
   "metadata": {
    "collapsed": false
   },
   "outputs": [
    {
     "name": "stderr",
     "output_type": "stream",
     "text": [
      "//anaconda/lib/python3.5/site-packages/sklearn/utils/validation.py:444: DataConversionWarning: Data with input dtype int64 was converted to float64 by MinMaxScaler.\n",
      "  warnings.warn(msg, DataConversionWarning)\n",
      "//anaconda/lib/python3.5/site-packages/ipykernel/__main__.py:16: SettingWithCopyWarning: \n",
      "A value is trying to be set on a copy of a slice from a DataFrame.\n",
      "Try using .loc[row_indexer,col_indexer] = value instead\n",
      "\n",
      "See the caveats in the documentation: http://pandas.pydata.org/pandas-docs/stable/indexing.html#indexing-view-versus-copy\n",
      "//anaconda/lib/python3.5/site-packages/ipykernel/__main__.py:20: SettingWithCopyWarning: \n",
      "A value is trying to be set on a copy of a slice from a DataFrame.\n",
      "Try using .loc[row_indexer,col_indexer] = value instead\n",
      "\n",
      "See the caveats in the documentation: http://pandas.pydata.org/pandas-docs/stable/indexing.html#indexing-view-versus-copy\n"
     ]
    }
   ],
   "source": [
    "cols = ['price', 'bedrooms', 'bathrooms', 'sqft_living',\n",
    "       'sqft_lot', 'floors', 'waterfront', 'view', 'condition', 'grade',\n",
    "       'sqft_above', 'sqft_basement', 'yr_built', 'zipcode',\n",
    "       'lat', 'long', 'sqft_living15', 'sqft_lot15']\n",
    "\n",
    "df_num = df_full[cols]\n",
    "\n",
    "minmax_cols = ['bedrooms', 'bathrooms', 'sqft_living',\n",
    "       'sqft_lot', 'floors', 'waterfront', 'view', 'condition', 'grade',\n",
    "       'sqft_above', 'sqft_basement', 'yr_built', #拿掉zipcode\n",
    "       'lat', 'long', 'sqft_living15', 'sqft_lot15']\n",
    "\n",
    "for col in minmax_cols:\n",
    "    scaler = MinMaxScaler()\n",
    "    scaler.fit(df_num[col].values.reshape(-1, 1))\n",
    "    df_num[col] = scaler.transform(df_num[col].values.reshape(-1, 1))\n",
    "    \n",
    "p_scaler = MinMaxScaler()\n",
    "p_scaler.fit(df_num['price'].values.reshape(-1, 1))\n",
    "df_num['price'] = p_scaler.transform(df_num['price'].values.reshape(-1, 1))\n",
    "\n",
    "\n",
    "df_num = pd.get_dummies(df_num, columns=['zipcode'])"
   ]
  },
  {
   "cell_type": "code",
   "execution_count": 12,
   "metadata": {
    "collapsed": false
   },
   "outputs": [
    {
     "data": {
      "text/html": [
       "<div>\n",
       "<table border=\"1\" class=\"dataframe\">\n",
       "  <thead>\n",
       "    <tr style=\"text-align: right;\">\n",
       "      <th></th>\n",
       "      <th>price</th>\n",
       "      <th>bedrooms</th>\n",
       "      <th>bathrooms</th>\n",
       "      <th>sqft_living</th>\n",
       "      <th>sqft_lot</th>\n",
       "      <th>floors</th>\n",
       "      <th>waterfront</th>\n",
       "      <th>view</th>\n",
       "      <th>condition</th>\n",
       "      <th>grade</th>\n",
       "      <th>...</th>\n",
       "      <th>zipcode_98146</th>\n",
       "      <th>zipcode_98148</th>\n",
       "      <th>zipcode_98155</th>\n",
       "      <th>zipcode_98166</th>\n",
       "      <th>zipcode_98168</th>\n",
       "      <th>zipcode_98177</th>\n",
       "      <th>zipcode_98178</th>\n",
       "      <th>zipcode_98188</th>\n",
       "      <th>zipcode_98198</th>\n",
       "      <th>zipcode_98199</th>\n",
       "    </tr>\n",
       "  </thead>\n",
       "  <tbody>\n",
       "    <tr>\n",
       "      <th>0</th>\n",
       "      <td>0.019266</td>\n",
       "      <td>0.090909</td>\n",
       "      <td>0.12500</td>\n",
       "      <td>0.067170</td>\n",
       "      <td>0.003108</td>\n",
       "      <td>0.0</td>\n",
       "      <td>0.0</td>\n",
       "      <td>0.0</td>\n",
       "      <td>0.5</td>\n",
       "      <td>0.500000</td>\n",
       "      <td>...</td>\n",
       "      <td>0</td>\n",
       "      <td>0</td>\n",
       "      <td>0</td>\n",
       "      <td>0</td>\n",
       "      <td>0</td>\n",
       "      <td>0</td>\n",
       "      <td>1</td>\n",
       "      <td>0</td>\n",
       "      <td>0</td>\n",
       "      <td>0</td>\n",
       "    </tr>\n",
       "    <tr>\n",
       "      <th>1</th>\n",
       "      <td>0.060721</td>\n",
       "      <td>0.090909</td>\n",
       "      <td>0.28125</td>\n",
       "      <td>0.172075</td>\n",
       "      <td>0.004072</td>\n",
       "      <td>0.4</td>\n",
       "      <td>0.0</td>\n",
       "      <td>0.0</td>\n",
       "      <td>0.5</td>\n",
       "      <td>0.500000</td>\n",
       "      <td>...</td>\n",
       "      <td>0</td>\n",
       "      <td>0</td>\n",
       "      <td>0</td>\n",
       "      <td>0</td>\n",
       "      <td>0</td>\n",
       "      <td>0</td>\n",
       "      <td>0</td>\n",
       "      <td>0</td>\n",
       "      <td>0</td>\n",
       "      <td>0</td>\n",
       "    </tr>\n",
       "    <tr>\n",
       "      <th>2</th>\n",
       "      <td>0.013770</td>\n",
       "      <td>0.060606</td>\n",
       "      <td>0.12500</td>\n",
       "      <td>0.036226</td>\n",
       "      <td>0.005743</td>\n",
       "      <td>0.0</td>\n",
       "      <td>0.0</td>\n",
       "      <td>0.0</td>\n",
       "      <td>0.5</td>\n",
       "      <td>0.416667</td>\n",
       "      <td>...</td>\n",
       "      <td>0</td>\n",
       "      <td>0</td>\n",
       "      <td>0</td>\n",
       "      <td>0</td>\n",
       "      <td>0</td>\n",
       "      <td>0</td>\n",
       "      <td>0</td>\n",
       "      <td>0</td>\n",
       "      <td>0</td>\n",
       "      <td>0</td>\n",
       "    </tr>\n",
       "    <tr>\n",
       "      <th>3</th>\n",
       "      <td>0.069377</td>\n",
       "      <td>0.121212</td>\n",
       "      <td>0.37500</td>\n",
       "      <td>0.126038</td>\n",
       "      <td>0.002714</td>\n",
       "      <td>0.0</td>\n",
       "      <td>0.0</td>\n",
       "      <td>0.0</td>\n",
       "      <td>1.0</td>\n",
       "      <td>0.500000</td>\n",
       "      <td>...</td>\n",
       "      <td>0</td>\n",
       "      <td>0</td>\n",
       "      <td>0</td>\n",
       "      <td>0</td>\n",
       "      <td>0</td>\n",
       "      <td>0</td>\n",
       "      <td>0</td>\n",
       "      <td>0</td>\n",
       "      <td>0</td>\n",
       "      <td>0</td>\n",
       "    </tr>\n",
       "    <tr>\n",
       "      <th>4</th>\n",
       "      <td>0.057049</td>\n",
       "      <td>0.090909</td>\n",
       "      <td>0.25000</td>\n",
       "      <td>0.104906</td>\n",
       "      <td>0.004579</td>\n",
       "      <td>0.0</td>\n",
       "      <td>0.0</td>\n",
       "      <td>0.0</td>\n",
       "      <td>0.5</td>\n",
       "      <td>0.583333</td>\n",
       "      <td>...</td>\n",
       "      <td>0</td>\n",
       "      <td>0</td>\n",
       "      <td>0</td>\n",
       "      <td>0</td>\n",
       "      <td>0</td>\n",
       "      <td>0</td>\n",
       "      <td>0</td>\n",
       "      <td>0</td>\n",
       "      <td>0</td>\n",
       "      <td>0</td>\n",
       "    </tr>\n",
       "  </tbody>\n",
       "</table>\n",
       "<p>5 rows × 87 columns</p>\n",
       "</div>"
      ],
      "text/plain": [
       "      price  bedrooms  bathrooms  sqft_living  sqft_lot  floors  waterfront  \\\n",
       "0  0.019266  0.090909    0.12500     0.067170  0.003108     0.0         0.0   \n",
       "1  0.060721  0.090909    0.28125     0.172075  0.004072     0.4         0.0   \n",
       "2  0.013770  0.060606    0.12500     0.036226  0.005743     0.0         0.0   \n",
       "3  0.069377  0.121212    0.37500     0.126038  0.002714     0.0         0.0   \n",
       "4  0.057049  0.090909    0.25000     0.104906  0.004579     0.0         0.0   \n",
       "\n",
       "   view  condition     grade      ...        zipcode_98146  zipcode_98148  \\\n",
       "0   0.0        0.5  0.500000      ...                    0              0   \n",
       "1   0.0        0.5  0.500000      ...                    0              0   \n",
       "2   0.0        0.5  0.416667      ...                    0              0   \n",
       "3   0.0        1.0  0.500000      ...                    0              0   \n",
       "4   0.0        0.5  0.583333      ...                    0              0   \n",
       "\n",
       "   zipcode_98155  zipcode_98166  zipcode_98168  zipcode_98177  zipcode_98178  \\\n",
       "0              0              0              0              0              1   \n",
       "1              0              0              0              0              0   \n",
       "2              0              0              0              0              0   \n",
       "3              0              0              0              0              0   \n",
       "4              0              0              0              0              0   \n",
       "\n",
       "   zipcode_98188  zipcode_98198  zipcode_98199  \n",
       "0              0              0              0  \n",
       "1              0              0              0  \n",
       "2              0              0              0  \n",
       "3              0              0              0  \n",
       "4              0              0              0  \n",
       "\n",
       "[5 rows x 87 columns]"
      ]
     },
     "execution_count": 12,
     "metadata": {},
     "output_type": "execute_result"
    }
   ],
   "source": [
    "df_num.head()"
   ]
  },
  {
   "cell_type": "code",
   "execution_count": 13,
   "metadata": {
    "collapsed": true
   },
   "outputs": [],
   "source": [
    "# Data preprocessing\n",
    "from sklearn.utils import shuffle\n",
    "\n",
    "shuffle_df = shuffle(df_num, random_state=42)\n",
    "\n",
    "df_label = shuffle_df['price']\n",
    "df_feature = shuffle_df.drop('price', axis=1)\n",
    "\n",
    "cut_point = round(len(df_num)*0.6)\n",
    "train_feature = np.array(df_feature.values[:cut_point,:])\n",
    "train_label = np.array(df_label.values[:cut_point])\n",
    "test_feature = np.array(df_feature.values[cut_point:,:])\n",
    "test_label = np.array(df_label.values[cut_point:])"
   ]
  },
  {
   "cell_type": "markdown",
   "metadata": {},
   "source": [
    "# Scikit-Learn"
   ]
  },
  {
   "cell_type": "code",
   "execution_count": 14,
   "metadata": {
    "collapsed": false
   },
   "outputs": [
    {
     "name": "stdout",
     "output_type": "stream",
     "text": [
      "Traing Score:0.999499\n",
      "Testing Score:0.765737\n"
     ]
    },
    {
     "data": {
      "text/plain": [
       "0.25120004515339039"
      ]
     },
     "execution_count": 14,
     "metadata": {},
     "output_type": "execute_result"
    }
   ],
   "source": [
    "## tree.DecisionTreeRegressor()\n",
    "from sklearn import cross_validation, tree\n",
    "X_train,X_test,y_train,y_test = cross_validation.train_test_split(train_feature,train_label, \n",
    "                                              test_size=0.25, random_state=0)\n",
    "regr=tree.DecisionTreeRegressor()\n",
    "regr.fit(X_train,y_train)\n",
    "print(\"Traing Score:%f\"%regr.score(X_train,y_train))\n",
    "print(\"Testing Score:%f\"%regr.score(X_test,y_test))\n",
    "np.mean(np.abs((regr.predict(test_feature)-test_label)/test_label)) #平均誤差百分比"
   ]
  },
  {
   "cell_type": "code",
   "execution_count": 15,
   "metadata": {
    "collapsed": false
   },
   "outputs": [
    {
     "name": "stdout",
     "output_type": "stream",
     "text": [
      "Traing Score:0.773419\n",
      "Testing Score:0.745703\n"
     ]
    },
    {
     "data": {
      "text/plain": [
       "0.22163226051203525"
      ]
     },
     "execution_count": 15,
     "metadata": {},
     "output_type": "execute_result"
    }
   ],
   "source": [
    "### svm.LinearSVR()\n",
    "from sklearn import cross_validation,svm\n",
    "X_train,X_test,y_train,y_test = cross_validation.train_test_split(train_feature,train_label,\n",
    "                                                                  test_size=0.25, random_state=0)\n",
    "regr=svm.LinearSVR()\n",
    "regr.fit(X_train,y_train)\n",
    "print(\"Traing Score:%f\"%regr.score(X_train,y_train))\n",
    "print(\"Testing Score:%f\"%regr.score(X_test,y_test))\n",
    "np.mean(np.abs( (regr.predict(test_feature)-test_label)/test_label)) #平均誤差百分比"
   ]
  },
  {
   "cell_type": "code",
   "execution_count": 16,
   "metadata": {
    "collapsed": false
   },
   "outputs": [
    {
     "name": "stdout",
     "output_type": "stream",
     "text": [
      "Traing Score:0.228179\n",
      "Testing Score:0.238159\n"
     ]
    },
    {
     "data": {
      "text/plain": [
       "1.1438836452705718"
      ]
     },
     "execution_count": 16,
     "metadata": {},
     "output_type": "execute_result"
    }
   ],
   "source": [
    "### ensemble.AdaBoostRegressor()\n",
    "from sklearn import cross_validation,ensemble\n",
    "X_train,X_test,y_train,y_test = cross_validation.train_test_split(train_feature,train_label,\n",
    "                                                                  test_size=0.25, random_state=0)\n",
    "regr=ensemble.AdaBoostRegressor()\n",
    "regr.fit(X_train,y_train)\n",
    "print(\"Traing Score:%f\"%regr.score(X_train,y_train))\n",
    "print(\"Testing Score:%f\"%regr.score(X_test,y_test))\n",
    "np.mean(np.abs( (regr.predict(test_feature)-test_label)/test_label)) #平均誤差百分比"
   ]
  },
  {
   "cell_type": "code",
   "execution_count": 86,
   "metadata": {
    "collapsed": false
   },
   "outputs": [
    {
     "name": "stdout",
     "output_type": "stream",
     "text": [
      "Traing Score:0.914783\n",
      "Testing Score:0.877460\n"
     ]
    },
    {
     "data": {
      "text/plain": [
       "0.20587734294095589"
      ]
     },
     "execution_count": 86,
     "metadata": {},
     "output_type": "execute_result"
    }
   ],
   "source": [
    "### ensemble.GradientBoostingRegressor()\n",
    "from sklearn import cross_validation,ensemble\n",
    "X_train,X_test,y_train,y_test = cross_validation.train_test_split(train_feature,train_label,\n",
    "                                                                  test_size=0.25, random_state=0)\n",
    "regr=ensemble.GradientBoostingRegressor()\n",
    "regr.fit(X_train,y_train)\n",
    "print(\"Traing Score:%f\"%regr.score(X_train,y_train))\n",
    "print(\"Testing Score:%f\"%regr.score(X_test,y_test))\n",
    "np.mean(np.abs( (regr.predict(test_feature)-test_label)/test_label)) #平均誤差百分比"
   ]
  },
  {
   "cell_type": "code",
   "execution_count": 90,
   "metadata": {
    "collapsed": false
   },
   "outputs": [
    {
     "name": "stdout",
     "output_type": "stream",
     "text": [
      "Traing Score:0.972302\n",
      "Testing Score:0.856844\n"
     ]
    },
    {
     "data": {
      "text/plain": [
       "0.19024343468167751"
      ]
     },
     "execution_count": 90,
     "metadata": {},
     "output_type": "execute_result"
    }
   ],
   "source": [
    "### ensemble.RandomForestRegressor()\n",
    "from sklearn import cross_validation,ensemble\n",
    "X_train,X_test,y_train,y_test = cross_validation.train_test_split(train_feature,train_label, \n",
    "                                                test_size=0.25, random_state=0)\n",
    "regr=ensemble.RandomForestRegressor()\n",
    "regr.fit(X_train,y_train)\n",
    "print(\"Traing Score:%f\"%regr.score(X_train,y_train))\n",
    "print(\"Testing Score:%f\"%regr.score(X_test,y_test))\n",
    "np.mean(np.abs( (regr.predict(test_feature)-test_label)/test_label)) #平均誤差百分比"
   ]
  },
  {
   "cell_type": "code",
   "execution_count": 81,
   "metadata": {
    "collapsed": false
   },
   "outputs": [
    {
     "name": "stdout",
     "output_type": "stream",
     "text": [
      "Traing Score:0.910821\n",
      "Testing Score:0.873735\n"
     ]
    },
    {
     "data": {
      "text/plain": [
       "0.20623351834388065"
      ]
     },
     "execution_count": 81,
     "metadata": {},
     "output_type": "execute_result"
    }
   ],
   "source": [
    "# XGBRegressor\n",
    "from xgboost import XGBRegressor\n",
    "X_train,X_test,y_train,y_test = cross_validation.train_test_split(train_feature,train_label,\n",
    "                                          test_size=0.25,random_state=0) #分層取樣\n",
    "regr=XGBRegressor()\n",
    "regr.fit(X_train,y_train)\n",
    "print(\"Traing Score:%f\"%regr.score(X_train,y_train))\n",
    "print(\"Testing Score:%f\"%regr.score(X_test,y_test))\n",
    "np.mean(np.abs( (regr.predict(test_feature)-test_label)/test_label)) #平均誤差百分比"
   ]
  },
  {
   "cell_type": "code",
   "execution_count": 91,
   "metadata": {
    "collapsed": false
   },
   "outputs": [
    {
     "data": {
      "text/html": [
       "<div>\n",
       "<table border=\"1\" class=\"dataframe\">\n",
       "  <thead>\n",
       "    <tr style=\"text-align: right;\">\n",
       "      <th></th>\n",
       "      <th>ans</th>\n",
       "      <th>real</th>\n",
       "    </tr>\n",
       "  </thead>\n",
       "  <tbody>\n",
       "    <tr>\n",
       "      <th>0</th>\n",
       "      <td>2.888338e+05</td>\n",
       "      <td>230000.0</td>\n",
       "    </tr>\n",
       "    <tr>\n",
       "      <th>1</th>\n",
       "      <td>6.662170e+05</td>\n",
       "      <td>713000.0</td>\n",
       "    </tr>\n",
       "    <tr>\n",
       "      <th>2</th>\n",
       "      <td>3.515175e+05</td>\n",
       "      <td>315000.0</td>\n",
       "    </tr>\n",
       "    <tr>\n",
       "      <th>3</th>\n",
       "      <td>6.574667e+05</td>\n",
       "      <td>379900.0</td>\n",
       "    </tr>\n",
       "    <tr>\n",
       "      <th>4</th>\n",
       "      <td>1.059171e+06</td>\n",
       "      <td>1100000.0</td>\n",
       "    </tr>\n",
       "  </tbody>\n",
       "</table>\n",
       "</div>"
      ],
      "text/plain": [
       "            ans       real\n",
       "0  2.888338e+05   230000.0\n",
       "1  6.662170e+05   713000.0\n",
       "2  3.515175e+05   315000.0\n",
       "3  6.574667e+05   379900.0\n",
       "4  1.059171e+06  1100000.0"
      ]
     },
     "execution_count": 91,
     "metadata": {},
     "output_type": "execute_result"
    }
   ],
   "source": [
    "real = p_scaler.inverse_transform(test_label.reshape(-1,1)).reshape(-1)\n",
    "ans = p_scaler.inverse_transform(regr.predict(test_feature).reshape(-1,1)).reshape(-1)\n",
    "\n",
    "df_ans = pd.DataFrame({'real':real,'ans':ans }, \n",
    "                      index = range(len(real))\n",
    "                      )\n",
    "df_ans.head()"
   ]
  },
  {
   "cell_type": "code",
   "execution_count": 143,
   "metadata": {
    "collapsed": false
   },
   "outputs": [
    {
     "data": {
      "image/png": "[encoded data removed]",
      "text/plain": [
       "<matplotlib.figure.Figure at 0x12689a7f0>"
      ]
     },
     "metadata": {},
     "output_type": "display_data"
    }
   ],
   "source": [
    "plt.figure(figsize=(10,10))\n",
    "plt.scatter(ans, real, alpha=0.5)\n",
    "plt.xlabel('pred price')\n",
    "plt.ylabel('real price')\n",
    "\n",
    "x=np.linspace(0,5000000,100)\n",
    "y=x\n",
    "\n",
    "plt.plot(x,y, c='red', label='correct answer')\n",
    "plt.legend()\n",
    "plt.show()"
   ]
  },
  {
   "cell_type": "code",
   "execution_count": 139,
   "metadata": {
    "collapsed": false
   },
   "outputs": [
    {
     "data": {
      "text/plain": [
       "<matplotlib.figure.Figure at 0x11ae3c518>"
      ]
     },
     "metadata": {},
     "output_type": "display_data"
    },
    {
     "data": {
      "image/png": "[encoded data removed]",
      "text/plain": [
       "<matplotlib.figure.Figure at 0x1324cfeb8>"
      ]
     },
     "metadata": {},
     "output_type": "display_data"
    }
   ],
   "source": [
    "plt.figure(figsize=(10,10))\n",
    "sns.jointplot('real','ans',data=df_ans, size=8)\n",
    "plt.xlabel('pred price')\n",
    "plt.ylabel('real price')\n",
    "\n",
    "plt.show()"
   ]
  },
  {
   "cell_type": "code",
   "execution_count": 127,
   "metadata": {
    "collapsed": false
   },
   "outputs": [
    {
     "data": {
      "image/png": "[encoded data removed]",
      "text/plain": [
       "<matplotlib.figure.Figure at 0x12a703390>"
      ]
     },
     "metadata": {},
     "output_type": "display_data"
    },
    {
     "data": {
      "text/plain": [
       "0.13858608505266715"
      ]
     },
     "execution_count": 127,
     "metadata": {},
     "output_type": "execute_result"
    }
   ],
   "source": [
    "plt.figure(figsize=(10,5))\n",
    "plt.plot(range(len(real)), (ans-real)/real)\n",
    "plt.show()\n",
    "\n",
    "np.mean(np.abs((ans-real)/real))"
   ]
  },
  {
   "cell_type": "code",
   "execution_count": 94,
   "metadata": {
    "collapsed": false
   },
   "outputs": [
    {
     "data": {
      "text/plain": [
       "0.92968093327194179"
      ]
     },
     "execution_count": 94,
     "metadata": {},
     "output_type": "execute_result"
    }
   ],
   "source": [
    "df_ans['ans'].corr(df_ans['real'])"
   ]
  },
  {
   "cell_type": "markdown",
   "metadata": {},
   "source": [
    "# Keras: MLP，效果穩定比ensemble還差"
   ]
  },
  {
   "cell_type": "code",
   "execution_count": 121,
   "metadata": {
    "collapsed": false
   },
   "outputs": [
    {
     "name": "stdout",
     "output_type": "stream",
     "text": [
      "_________________________________________________________________\n",
      "Layer (type)                 Output Shape              Param #   \n",
      "=================================================================\n",
      "dense_37 (Dense)             (None, 1000)              87000     \n",
      "_________________________________________________________________\n",
      "dropout_28 (Dropout)         (None, 1000)              0         \n",
      "_________________________________________________________________\n",
      "dense_38 (Dense)             (None, 400)               400400    \n",
      "_________________________________________________________________\n",
      "dropout_29 (Dropout)         (None, 400)               0         \n",
      "_________________________________________________________________\n",
      "dense_39 (Dense)             (None, 100)               40100     \n",
      "_________________________________________________________________\n",
      "dropout_30 (Dropout)         (None, 100)               0         \n",
      "_________________________________________________________________\n",
      "dense_40 (Dense)             (None, 1)                 101       \n",
      "=================================================================\n",
      "Total params: 527,601\n",
      "Trainable params: 527,601\n",
      "Non-trainable params: 0\n",
      "_________________________________________________________________\n",
      "None\n",
      "Train on 2593 samples, validate on 10375 samples\n",
      "Epoch 1/40\n",
      "1s - loss: 0.0063 - acc: 0.0000e+00 - val_loss: 0.0042 - val_acc: 9.6386e-05\n",
      "Epoch 2/40\n",
      "0s - loss: 0.0043 - acc: 0.0000e+00 - val_loss: 0.0025 - val_acc: 9.6386e-05\n",
      "Epoch 3/40\n",
      "0s - loss: 0.0030 - acc: 0.0000e+00 - val_loss: 0.0022 - val_acc: 9.6386e-05\n",
      "Epoch 4/40\n",
      "1s - loss: 0.0024 - acc: 0.0000e+00 - val_loss: 0.0012 - val_acc: 9.6386e-05\n",
      "Epoch 5/40\n",
      "1s - loss: 0.0017 - acc: 0.0000e+00 - val_loss: 0.0015 - val_acc: 9.6386e-05\n",
      "Epoch 6/40\n",
      "1s - loss: 0.0018 - acc: 0.0000e+00 - val_loss: 9.2006e-04 - val_acc: 9.6386e-05\n",
      "Epoch 7/40\n",
      "1s - loss: 0.0013 - acc: 0.0000e+00 - val_loss: 0.0012 - val_acc: 9.6386e-05\n",
      "Epoch 8/40\n",
      "1s - loss: 0.0015 - acc: 0.0000e+00 - val_loss: 0.0010 - val_acc: 9.6386e-05\n",
      "Epoch 9/40\n",
      "1s - loss: 0.0013 - acc: 0.0000e+00 - val_loss: 7.4158e-04 - val_acc: 9.6386e-05\n",
      "Epoch 10/40\n",
      "2s - loss: 0.0012 - acc: 0.0000e+00 - val_loss: 8.9546e-04 - val_acc: 9.6386e-05\n",
      "Epoch 11/40\n",
      "1s - loss: 0.0012 - acc: 0.0000e+00 - val_loss: 6.7407e-04 - val_acc: 9.6386e-05\n",
      "Epoch 12/40\n",
      "1s - loss: 0.0010 - acc: 0.0000e+00 - val_loss: 8.3928e-04 - val_acc: 9.6386e-05\n",
      "Epoch 13/40\n",
      "1s - loss: 0.0011 - acc: 0.0000e+00 - val_loss: 7.6231e-04 - val_acc: 9.6386e-05\n",
      "Epoch 14/40\n",
      "1s - loss: 0.0010 - acc: 0.0000e+00 - val_loss: 6.3069e-04 - val_acc: 9.6386e-05\n",
      "Epoch 15/40\n",
      "1s - loss: 9.4231e-04 - acc: 0.0000e+00 - val_loss: 6.8215e-04 - val_acc: 9.6386e-05\n",
      "Epoch 16/40\n",
      "1s - loss: 0.0010 - acc: 0.0000e+00 - val_loss: 6.2124e-04 - val_acc: 9.6386e-05\n",
      "Epoch 17/40\n",
      "1s - loss: 8.9099e-04 - acc: 0.0000e+00 - val_loss: 6.6870e-04 - val_acc: 9.6386e-05\n",
      "Epoch 18/40\n",
      "1s - loss: 9.8509e-04 - acc: 0.0000e+00 - val_loss: 6.4249e-04 - val_acc: 9.6386e-05\n",
      "Epoch 19/40\n",
      "1s - loss: 9.1923e-04 - acc: 0.0000e+00 - val_loss: 5.8642e-04 - val_acc: 9.6386e-05\n",
      "Epoch 20/40\n",
      "1s - loss: 8.9010e-04 - acc: 0.0000e+00 - val_loss: 5.8952e-04 - val_acc: 9.6386e-05\n",
      "Epoch 21/40\n",
      "1s - loss: 8.5547e-04 - acc: 0.0000e+00 - val_loss: 5.6615e-04 - val_acc: 9.6386e-05\n",
      "Epoch 22/40\n",
      "1s - loss: 8.5133e-04 - acc: 0.0000e+00 - val_loss: 5.9633e-04 - val_acc: 9.6386e-05\n",
      "Epoch 23/40\n",
      "1s - loss: 8.5320e-04 - acc: 0.0000e+00 - val_loss: 5.7230e-04 - val_acc: 9.6386e-05\n",
      "Epoch 24/40\n",
      "1s - loss: 8.1935e-04 - acc: 0.0000e+00 - val_loss: 5.5421e-04 - val_acc: 9.6386e-05\n",
      "Epoch 25/40\n",
      "1s - loss: 7.9277e-04 - acc: 0.0000e+00 - val_loss: 5.5150e-04 - val_acc: 9.6386e-05\n",
      "Epoch 26/40\n",
      "1s - loss: 7.9025e-04 - acc: 0.0000e+00 - val_loss: 5.4976e-04 - val_acc: 9.6386e-05\n",
      "Epoch 27/40\n",
      "1s - loss: 8.0641e-04 - acc: 0.0000e+00 - val_loss: 5.6003e-04 - val_acc: 9.6386e-05\n",
      "Epoch 28/40\n",
      "1s - loss: 8.1878e-04 - acc: 0.0000e+00 - val_loss: 5.3904e-04 - val_acc: 9.6386e-05\n",
      "Epoch 29/40\n",
      "1s - loss: 7.5964e-04 - acc: 0.0000e+00 - val_loss: 5.3740e-04 - val_acc: 9.6386e-05\n",
      "Epoch 30/40\n",
      "1s - loss: 8.4496e-04 - acc: 0.0000e+00 - val_loss: 5.3336e-04 - val_acc: 9.6386e-05\n",
      "Epoch 31/40\n",
      "1s - loss: 7.8396e-04 - acc: 0.0000e+00 - val_loss: 5.3531e-04 - val_acc: 9.6386e-05\n",
      "Epoch 32/40\n",
      "1s - loss: 8.6322e-04 - acc: 0.0000e+00 - val_loss: 5.3860e-04 - val_acc: 9.6386e-05\n",
      "Epoch 33/40\n",
      "1s - loss: 7.6880e-04 - acc: 0.0000e+00 - val_loss: 5.2475e-04 - val_acc: 9.6386e-05\n",
      "Epoch 34/40\n",
      "1s - loss: 8.1529e-04 - acc: 0.0000e+00 - val_loss: 5.2377e-04 - val_acc: 9.6386e-05\n",
      "Epoch 35/40\n",
      "1s - loss: 7.3003e-04 - acc: 0.0000e+00 - val_loss: 5.2979e-04 - val_acc: 9.6386e-05\n",
      "Epoch 36/40\n",
      "1s - loss: 8.0129e-04 - acc: 0.0000e+00 - val_loss: 5.2493e-04 - val_acc: 9.6386e-05\n",
      "Epoch 37/40\n",
      "1s - loss: 7.5247e-04 - acc: 0.0000e+00 - val_loss: 5.2032e-04 - val_acc: 9.6386e-05\n",
      "Epoch 38/40\n",
      "1s - loss: 7.4195e-04 - acc: 0.0000e+00 - val_loss: 5.2153e-04 - val_acc: 9.6386e-05\n",
      "Epoch 39/40\n",
      "1s - loss: 7.8844e-04 - acc: 0.0000e+00 - val_loss: 5.2697e-04 - val_acc: 9.6386e-05\n",
      "Epoch 40/40\n",
      "3s - loss: 7.6010e-04 - acc: 0.0000e+00 - val_loss: 5.2639e-04 - val_acc: 9.6386e-05\n"
     ]
    },
    {
     "data": {
      "image/png": "[encoded data removed]",
      "text/plain": [
       "<matplotlib.figure.Figure at 0x12debab70>"
      ]
     },
     "metadata": {},
     "output_type": "display_data"
    },
    {
     "data": {
      "image/png": "[encoded data removed]",
      "text/plain": [
       "<matplotlib.figure.Figure at 0x12d18fa58>"
      ]
     },
     "metadata": {},
     "output_type": "display_data"
    },
    {
     "name": "stdout",
     "output_type": "stream",
     "text": [
      "8544/8645 [============================>.] - ETA: 0s\n",
      "\n",
      "accuracy= 0.0\n"
     ]
    }
   ],
   "source": [
    "### Keras MLP models\n",
    "from keras.models import Sequential\n",
    "from keras.layers import Dense\n",
    "from keras.layers import Dropout\n",
    "\n",
    "def show_train_history(train_history,train,validation):\n",
    "    plt.plot(train_history.history[train])\n",
    "    plt.plot(train_history.history[validation])\n",
    "    plt.title('Train History')\n",
    "    plt.ylabel(train)\n",
    "    plt.xlabel('Epoch')\n",
    "    plt.legend(['train', 'validation'], loc='best')\n",
    "    plt.show()\n",
    "\n",
    "model = Sequential() \n",
    "model.add(Dense(units=1000, \n",
    "                input_dim=86, \n",
    "                kernel_initializer='uniform', \n",
    "                ))\n",
    "model.add(Dropout(0.5))\n",
    "\n",
    "model.add(Dense(units=400,  \n",
    "                kernel_initializer='uniform', \n",
    "                ))\n",
    "model.add(Dropout(0.5))\n",
    "\n",
    "model.add(Dense(units=100,  \n",
    "                kernel_initializer='uniform', \n",
    "                ))\n",
    "model.add(Dropout(0.5))\n",
    "\n",
    "model.add(Dense(units=1, #輸出一個數字 \n",
    "                kernel_initializer='uniform',\n",
    "                ))\n",
    "\n",
    "print(model.summary()) #可以清楚看到model還有參數數量\n",
    "\n",
    "model.compile(loss='mean_squared_error',\n",
    "              optimizer='adam', metrics=['accuracy'])\n",
    "\n",
    "train_history = model.fit(x=train_feature, y=train_label,  #上面多分割一步在keras是內建的\n",
    "                          validation_split=0.8, epochs=40, \n",
    "                          batch_size=2000, verbose=2) #verbose=2表示顯示訓練過程\n",
    "\n",
    "show_train_history(train_history,'acc','val_acc')\n",
    "show_train_history(train_history,'loss','val_loss')\n",
    "\n",
    "scores = model.evaluate(test_feature, test_label)\n",
    "print('\\n')\n",
    "print('accuracy=',scores[1])\n",
    "\n",
    "prediction = model.predict(test_feature)"
   ]
  },
  {
   "cell_type": "code",
   "execution_count": 122,
   "metadata": {
    "collapsed": false
   },
   "outputs": [
    {
     "data": {
      "text/html": [
       "<div>\n",
       "<table border=\"1\" class=\"dataframe\">\n",
       "  <thead>\n",
       "    <tr style=\"text-align: right;\">\n",
       "      <th></th>\n",
       "      <th>ans</th>\n",
       "      <th>real</th>\n",
       "    </tr>\n",
       "  </thead>\n",
       "  <tbody>\n",
       "    <tr>\n",
       "      <th>0</th>\n",
       "      <td>192319.84375</td>\n",
       "      <td>230000.0</td>\n",
       "    </tr>\n",
       "    <tr>\n",
       "      <th>1</th>\n",
       "      <td>612252.31250</td>\n",
       "      <td>713000.0</td>\n",
       "    </tr>\n",
       "    <tr>\n",
       "      <th>2</th>\n",
       "      <td>276880.93750</td>\n",
       "      <td>315000.0</td>\n",
       "    </tr>\n",
       "    <tr>\n",
       "      <th>3</th>\n",
       "      <td>563177.43750</td>\n",
       "      <td>379900.0</td>\n",
       "    </tr>\n",
       "    <tr>\n",
       "      <th>4</th>\n",
       "      <td>910415.56250</td>\n",
       "      <td>1100000.0</td>\n",
       "    </tr>\n",
       "  </tbody>\n",
       "</table>\n",
       "</div>"
      ],
      "text/plain": [
       "            ans       real\n",
       "0  192319.84375   230000.0\n",
       "1  612252.31250   713000.0\n",
       "2  276880.93750   315000.0\n",
       "3  563177.43750   379900.0\n",
       "4  910415.56250  1100000.0"
      ]
     },
     "execution_count": 122,
     "metadata": {},
     "output_type": "execute_result"
    }
   ],
   "source": [
    "# Train/Test Score，接續後面的confusion matrix\n",
    "real = p_scaler.inverse_transform(test_label.reshape(-1,1)).reshape(-1)\n",
    "ans2 = p_scaler.inverse_transform(prediction.reshape(-1,1)).reshape(-1)\n",
    "\n",
    "df_ans2 = pd.DataFrame({'real':real,'ans':ans2 }, \n",
    "                      index = range(len(real))\n",
    "                      )\n",
    "df_ans2.head()"
   ]
  },
  {
   "cell_type": "code",
   "execution_count": 131,
   "metadata": {
    "collapsed": false
   },
   "outputs": [
    {
     "data": {
      "image/png": "[encoded data removed]",
      "text/plain": [
       "<matplotlib.figure.Figure at 0x12cea97b8>"
      ]
     },
     "metadata": {},
     "output_type": "display_data"
    }
   ],
   "source": [
    "plt.figure(figsize=(10,10))\n",
    "plt.scatter(ans2, real)\n",
    "plt.xlabel('pred price')\n",
    "plt.ylabel('real price')\n",
    "\n",
    "x=np.linspace(0,5000000,100)\n",
    "y=x\n",
    "\n",
    "plt.plot(x,y, c='red', label='correct answer')\n",
    "plt.show()"
   ]
  },
  {
   "cell_type": "code",
   "execution_count": 125,
   "metadata": {
    "collapsed": false
   },
   "outputs": [
    {
     "data": {
      "image/png": "[encoded data removed]",
      "text/plain": [
       "<matplotlib.figure.Figure at 0x128493710>"
      ]
     },
     "metadata": {},
     "output_type": "display_data"
    },
    {
     "data": {
      "text/plain": [
       "0.18963831714529647"
      ]
     },
     "execution_count": 125,
     "metadata": {},
     "output_type": "execute_result"
    }
   ],
   "source": [
    "plt.figure(figsize=(10,5))\n",
    "plt.plot(range(len(real)), (ans2-real)/real)\n",
    "plt.show()\n",
    "\n",
    "np.mean(np.abs((ans2-real)/real))"
   ]
  },
  {
   "cell_type": "code",
   "execution_count": 120,
   "metadata": {
    "collapsed": false
   },
   "outputs": [
    {
     "data": {
      "text/plain": [
       "0.89304438555544596"
      ]
     },
     "execution_count": 120,
     "metadata": {},
     "output_type": "execute_result"
    }
   ],
   "source": [
    "df_ans2['ans'].corr(df_ans2['real'])"
   ]
  },
  {
   "cell_type": "code",
   "execution_count": null,
   "metadata": {
    "collapsed": true
   },
   "outputs": [],
   "source": []
  }
 ],
 "metadata": {
  "anaconda-cloud": {},
  "kernelspec": {
   "display_name": "Python [conda root]",
   "language": "python",
   "name": "conda-root-py"
  },
  "language_info": {
   "codemirror_mode": {
    "name": "ipython",
    "version": 3
   },
   "file_extension": ".py",
   "mimetype": "text/x-python",
   "name": "python",
   "nbconvert_exporter": "python",
   "pygments_lexer": "ipython3",
   "version": "3.5.2"
  }
 },
 "nbformat": 4,
 "nbformat_minor": 1
}
