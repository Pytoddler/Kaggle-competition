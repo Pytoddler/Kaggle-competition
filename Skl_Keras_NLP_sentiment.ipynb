{
 "cells": [
  {
   "cell_type": "code",
   "execution_count": 1,
   "metadata": {
    "collapsed": true
   },
   "outputs": [],
   "source": [
    "# import common APIs\n",
    "import numpy as np\n",
    "import pandas as pd\n",
    "import matplotlib.pyplot as plt\n",
    "from mpl_toolkits.mplot3d import Axes3D\n",
    "import seaborn as sns\n",
    "import os\n",
    "from sklearn.preprocessing import MinMaxScaler\n",
    "from sklearn.decomposition import PCA\n",
    "from sklearn.metrics import classification_report,confusion_matrix,precision_recall_curve,auc,roc_auc_score,roc_curve"
   ]
  },
  {
   "cell_type": "markdown",
   "metadata": {},
   "source": [
    "# sheet_1： 樣本數目超少難做出好結果"
   ]
  },
  {
   "cell_type": "markdown",
   "metadata": {},
   "source": [
    "Sheet_1.csv contains 80 user responses, in the response_text column, to a therapy chatbot. Bot said: 'Describe a time when you have acted as a resource for someone else'.  User responded. If a response is 'not flagged', the user can continue talking to the bot. If it is 'flagged', the user is referred to help."
   ]
  },
  {
   "cell_type": "code",
   "execution_count": 2,
   "metadata": {
    "collapsed": false
   },
   "outputs": [
    {
     "data": {
      "text/html": [
       "<div>\n",
       "<table border=\"1\" class=\"dataframe\">\n",
       "  <thead>\n",
       "    <tr style=\"text-align: right;\">\n",
       "      <th></th>\n",
       "      <th>response_id</th>\n",
       "      <th>class</th>\n",
       "      <th>response_text</th>\n",
       "      <th>Unnamed: 3</th>\n",
       "      <th>Unnamed: 4</th>\n",
       "      <th>Unnamed: 5</th>\n",
       "      <th>Unnamed: 6</th>\n",
       "      <th>Unnamed: 7</th>\n",
       "    </tr>\n",
       "  </thead>\n",
       "  <tbody>\n",
       "    <tr>\n",
       "      <th>0</th>\n",
       "      <td>response_1</td>\n",
       "      <td>not_flagged</td>\n",
       "      <td>I try and avoid this sort of conflict</td>\n",
       "      <td>NaN</td>\n",
       "      <td>NaN</td>\n",
       "      <td>NaN</td>\n",
       "      <td>NaN</td>\n",
       "      <td>NaN</td>\n",
       "    </tr>\n",
       "    <tr>\n",
       "      <th>1</th>\n",
       "      <td>response_2</td>\n",
       "      <td>flagged</td>\n",
       "      <td>Had a friend open up to me about his mental ad...</td>\n",
       "      <td>NaN</td>\n",
       "      <td>NaN</td>\n",
       "      <td>NaN</td>\n",
       "      <td>NaN</td>\n",
       "      <td>NaN</td>\n",
       "    </tr>\n",
       "    <tr>\n",
       "      <th>2</th>\n",
       "      <td>response_3</td>\n",
       "      <td>flagged</td>\n",
       "      <td>I saved a girl from suicide once. She was goin...</td>\n",
       "      <td>NaN</td>\n",
       "      <td>NaN</td>\n",
       "      <td>NaN</td>\n",
       "      <td>NaN</td>\n",
       "      <td>NaN</td>\n",
       "    </tr>\n",
       "    <tr>\n",
       "      <th>3</th>\n",
       "      <td>response_4</td>\n",
       "      <td>not_flagged</td>\n",
       "      <td>i cant think of one really...i think i may hav...</td>\n",
       "      <td>NaN</td>\n",
       "      <td>NaN</td>\n",
       "      <td>NaN</td>\n",
       "      <td>NaN</td>\n",
       "      <td>NaN</td>\n",
       "    </tr>\n",
       "    <tr>\n",
       "      <th>4</th>\n",
       "      <td>response_5</td>\n",
       "      <td>not_flagged</td>\n",
       "      <td>Only really one friend who doesn't fit into th...</td>\n",
       "      <td></td>\n",
       "      <td>NaN</td>\n",
       "      <td>NaN</td>\n",
       "      <td>NaN</td>\n",
       "      <td>NaN</td>\n",
       "    </tr>\n",
       "  </tbody>\n",
       "</table>\n",
       "</div>"
      ],
      "text/plain": [
       "  response_id        class                                      response_text  \\\n",
       "0  response_1  not_flagged              I try and avoid this sort of conflict   \n",
       "1  response_2      flagged  Had a friend open up to me about his mental ad...   \n",
       "2  response_3      flagged  I saved a girl from suicide once. She was goin...   \n",
       "3  response_4  not_flagged  i cant think of one really...i think i may hav...   \n",
       "4  response_5  not_flagged  Only really one friend who doesn't fit into th...   \n",
       "\n",
       "  Unnamed: 3  Unnamed: 4 Unnamed: 5  Unnamed: 6 Unnamed: 7  \n",
       "0        NaN         NaN        NaN         NaN        NaN  \n",
       "1        NaN         NaN        NaN         NaN        NaN  \n",
       "2        NaN         NaN        NaN         NaN        NaN  \n",
       "3        NaN         NaN        NaN         NaN        NaN  \n",
       "4                    NaN        NaN         NaN        NaN  "
      ]
     },
     "execution_count": 2,
     "metadata": {},
     "output_type": "execute_result"
    }
   ],
   "source": [
    "filepath = '/Users/mac/Desktop/Kaggle_datasets/deepNLP/'\n",
    "filename01 = 'sheet_1.csv'\n",
    "\n",
    "df_full = pd.read_csv(os.path.join(filepath, filename01))\n",
    "df_full.head()"
   ]
  },
  {
   "cell_type": "code",
   "execution_count": 3,
   "metadata": {
    "collapsed": false
   },
   "outputs": [],
   "source": [
    "df_full = df_full.iloc[:,1:3] #去掉後面不需要的欄位\n",
    "\n",
    "dict_label = {'not_flagged':0, 'flagged':1}\n",
    "df_full['class'] = df_full['class'].map(dict_label)"
   ]
  },
  {
   "cell_type": "code",
   "execution_count": 4,
   "metadata": {
    "collapsed": false
   },
   "outputs": [
    {
     "data": {
      "text/html": [
       "<div>\n",
       "<table border=\"1\" class=\"dataframe\">\n",
       "  <thead>\n",
       "    <tr style=\"text-align: right;\">\n",
       "      <th></th>\n",
       "      <th>class</th>\n",
       "      <th>response_text</th>\n",
       "    </tr>\n",
       "  </thead>\n",
       "  <tbody>\n",
       "    <tr>\n",
       "      <th>0</th>\n",
       "      <td>0</td>\n",
       "      <td>I try and avoid this sort of conflict</td>\n",
       "    </tr>\n",
       "    <tr>\n",
       "      <th>1</th>\n",
       "      <td>1</td>\n",
       "      <td>Had a friend open up to me about his mental ad...</td>\n",
       "    </tr>\n",
       "    <tr>\n",
       "      <th>2</th>\n",
       "      <td>1</td>\n",
       "      <td>I saved a girl from suicide once. She was goin...</td>\n",
       "    </tr>\n",
       "    <tr>\n",
       "      <th>3</th>\n",
       "      <td>0</td>\n",
       "      <td>i cant think of one really...i think i may hav...</td>\n",
       "    </tr>\n",
       "    <tr>\n",
       "      <th>4</th>\n",
       "      <td>0</td>\n",
       "      <td>Only really one friend who doesn't fit into th...</td>\n",
       "    </tr>\n",
       "    <tr>\n",
       "      <th>5</th>\n",
       "      <td>0</td>\n",
       "      <td>a couple of years ago my friends was going to ...</td>\n",
       "    </tr>\n",
       "    <tr>\n",
       "      <th>6</th>\n",
       "      <td>1</td>\n",
       "      <td>Roommate when he was going through death and l...</td>\n",
       "    </tr>\n",
       "    <tr>\n",
       "      <th>7</th>\n",
       "      <td>1</td>\n",
       "      <td>i've had a couple of friends (you could say mo...</td>\n",
       "    </tr>\n",
       "    <tr>\n",
       "      <th>8</th>\n",
       "      <td>0</td>\n",
       "      <td>Listened to someone talk about relationship tr...</td>\n",
       "    </tr>\n",
       "    <tr>\n",
       "      <th>9</th>\n",
       "      <td>1</td>\n",
       "      <td>I will always listen. I comforted my sister wh...</td>\n",
       "    </tr>\n",
       "    <tr>\n",
       "      <th>10</th>\n",
       "      <td>0</td>\n",
       "      <td>Took a week off work, packed up the car and pi...</td>\n",
       "    </tr>\n",
       "    <tr>\n",
       "      <th>11</th>\n",
       "      <td>1</td>\n",
       "      <td>On the memorial anniversary of my friends fath...</td>\n",
       "    </tr>\n",
       "    <tr>\n",
       "      <th>12</th>\n",
       "      <td>0</td>\n",
       "      <td>Anxious girlfriend always needs my help</td>\n",
       "    </tr>\n",
       "    <tr>\n",
       "      <th>13</th>\n",
       "      <td>0</td>\n",
       "      <td>Never</td>\n",
       "    </tr>\n",
       "    <tr>\n",
       "      <th>14</th>\n",
       "      <td>0</td>\n",
       "      <td>You as a mom</td>\n",
       "    </tr>\n",
       "    <tr>\n",
       "      <th>15</th>\n",
       "      <td>1</td>\n",
       "      <td>ex gf was a cutter/suicidal, got her out of he...</td>\n",
       "    </tr>\n",
       "    <tr>\n",
       "      <th>16</th>\n",
       "      <td>0</td>\n",
       "      <td>I have helped advise friends who have faced ci...</td>\n",
       "    </tr>\n",
       "    <tr>\n",
       "      <th>17</th>\n",
       "      <td>0</td>\n",
       "      <td>I've helped friends out before</td>\n",
       "    </tr>\n",
       "    <tr>\n",
       "      <th>18</th>\n",
       "      <td>0</td>\n",
       "      <td>A friend that is a girl and just talk to her t...</td>\n",
       "    </tr>\n",
       "    <tr>\n",
       "      <th>19</th>\n",
       "      <td>0</td>\n",
       "      <td>expressing concern and openness to friends whe...</td>\n",
       "    </tr>\n",
       "    <tr>\n",
       "      <th>20</th>\n",
       "      <td>0</td>\n",
       "      <td>listening to girlfriend's problems</td>\n",
       "    </tr>\n",
       "    <tr>\n",
       "      <th>21</th>\n",
       "      <td>1</td>\n",
       "      <td>Friend was thinking about suicide, after a few...</td>\n",
       "    </tr>\n",
       "    <tr>\n",
       "      <th>22</th>\n",
       "      <td>1</td>\n",
       "      <td>Having gone through depression and anxiety mys...</td>\n",
       "    </tr>\n",
       "    <tr>\n",
       "      <th>23</th>\n",
       "      <td>0</td>\n",
       "      <td>Sometimes my friends bring up issues they are ...</td>\n",
       "    </tr>\n",
       "    <tr>\n",
       "      <th>24</th>\n",
       "      <td>0</td>\n",
       "      <td>never i guess people dont see me as a guy they...</td>\n",
       "    </tr>\n",
       "    <tr>\n",
       "      <th>25</th>\n",
       "      <td>1</td>\n",
       "      <td>Last year, my best friend was diagnosed with a...</td>\n",
       "    </tr>\n",
       "    <tr>\n",
       "      <th>26</th>\n",
       "      <td>1</td>\n",
       "      <td>Cleaning up my friend's campsite and slightly ...</td>\n",
       "    </tr>\n",
       "    <tr>\n",
       "      <th>27</th>\n",
       "      <td>0</td>\n",
       "      <td>i listen pretty damn well. better at that as a...</td>\n",
       "    </tr>\n",
       "    <tr>\n",
       "      <th>28</th>\n",
       "      <td>1</td>\n",
       "      <td>Helping a friend through dealing with his alco...</td>\n",
       "    </tr>\n",
       "    <tr>\n",
       "      <th>29</th>\n",
       "      <td>0</td>\n",
       "      <td>I used to tutor homeless men at a shelter to h...</td>\n",
       "    </tr>\n",
       "    <tr>\n",
       "      <th>...</th>\n",
       "      <td>...</td>\n",
       "      <td>...</td>\n",
       "    </tr>\n",
       "    <tr>\n",
       "      <th>50</th>\n",
       "      <td>0</td>\n",
       "      <td>I once acted as a resource for someone who was...</td>\n",
       "    </tr>\n",
       "    <tr>\n",
       "      <th>51</th>\n",
       "      <td>1</td>\n",
       "      <td>My friend was going through a period of intens...</td>\n",
       "    </tr>\n",
       "    <tr>\n",
       "      <th>52</th>\n",
       "      <td>0</td>\n",
       "      <td>I have talked though some major blows in my gi...</td>\n",
       "    </tr>\n",
       "    <tr>\n",
       "      <th>53</th>\n",
       "      <td>0</td>\n",
       "      <td>Talking to a friend over a break up.</td>\n",
       "    </tr>\n",
       "    <tr>\n",
       "      <th>54</th>\n",
       "      <td>0</td>\n",
       "      <td>I care about other people more than myself so ...</td>\n",
       "    </tr>\n",
       "    <tr>\n",
       "      <th>55</th>\n",
       "      <td>0</td>\n",
       "      <td>Over the internet a LOT of people write to me ...</td>\n",
       "    </tr>\n",
       "    <tr>\n",
       "      <th>56</th>\n",
       "      <td>0</td>\n",
       "      <td>Friends sometimes come up to me and ask for ad...</td>\n",
       "    </tr>\n",
       "    <tr>\n",
       "      <th>57</th>\n",
       "      <td>1</td>\n",
       "      <td>My friend dealt with anxiety and this desire f...</td>\n",
       "    </tr>\n",
       "    <tr>\n",
       "      <th>58</th>\n",
       "      <td>0</td>\n",
       "      <td>Simply being there as a friend for somebody wh...</td>\n",
       "    </tr>\n",
       "    <tr>\n",
       "      <th>59</th>\n",
       "      <td>1</td>\n",
       "      <td>I've had some friends come to me saying people...</td>\n",
       "    </tr>\n",
       "    <tr>\n",
       "      <th>60</th>\n",
       "      <td>0</td>\n",
       "      <td>People calling, talk some sense into them, may...</td>\n",
       "    </tr>\n",
       "    <tr>\n",
       "      <th>61</th>\n",
       "      <td>1</td>\n",
       "      <td>Having self harmed in the past,  I shared my e...</td>\n",
       "    </tr>\n",
       "    <tr>\n",
       "      <th>62</th>\n",
       "      <td>0</td>\n",
       "      <td>Have worked through problems with friends</td>\n",
       "    </tr>\n",
       "    <tr>\n",
       "      <th>63</th>\n",
       "      <td>0</td>\n",
       "      <td>When my friend needed help when she was going ...</td>\n",
       "    </tr>\n",
       "    <tr>\n",
       "      <th>64</th>\n",
       "      <td>1</td>\n",
       "      <td>My sister has some pretty severe issues  with ...</td>\n",
       "    </tr>\n",
       "    <tr>\n",
       "      <th>65</th>\n",
       "      <td>0</td>\n",
       "      <td>Helped friends through stuff.</td>\n",
       "    </tr>\n",
       "    <tr>\n",
       "      <th>66</th>\n",
       "      <td>0</td>\n",
       "      <td>I helped encourage a friend to go to therapy, ...</td>\n",
       "    </tr>\n",
       "    <tr>\n",
       "      <th>67</th>\n",
       "      <td>0</td>\n",
       "      <td>I haven't really met anyone dealing with atten...</td>\n",
       "    </tr>\n",
       "    <tr>\n",
       "      <th>68</th>\n",
       "      <td>0</td>\n",
       "      <td>there are too many to remember specifically, b...</td>\n",
       "    </tr>\n",
       "    <tr>\n",
       "      <th>69</th>\n",
       "      <td>0</td>\n",
       "      <td>one of my friends was feeling down, so he came...</td>\n",
       "    </tr>\n",
       "    <tr>\n",
       "      <th>70</th>\n",
       "      <td>0</td>\n",
       "      <td>never.</td>\n",
       "    </tr>\n",
       "    <tr>\n",
       "      <th>71</th>\n",
       "      <td>0</td>\n",
       "      <td>I have tried but am absolutely horrable at it ...</td>\n",
       "    </tr>\n",
       "    <tr>\n",
       "      <th>72</th>\n",
       "      <td>1</td>\n",
       "      <td>Ex girlfriend had depression and anxiety. I us...</td>\n",
       "    </tr>\n",
       "    <tr>\n",
       "      <th>73</th>\n",
       "      <td>0</td>\n",
       "      <td>Always. I don't judge people to much, and can ...</td>\n",
       "    </tr>\n",
       "    <tr>\n",
       "      <th>74</th>\n",
       "      <td>1</td>\n",
       "      <td>My grandmother went through some severe depres...</td>\n",
       "    </tr>\n",
       "    <tr>\n",
       "      <th>75</th>\n",
       "      <td>0</td>\n",
       "      <td>Now that I've been through it, although i'm no...</td>\n",
       "    </tr>\n",
       "    <tr>\n",
       "      <th>76</th>\n",
       "      <td>1</td>\n",
       "      <td>when my best friends mom past away from od'ing...</td>\n",
       "    </tr>\n",
       "    <tr>\n",
       "      <th>77</th>\n",
       "      <td>0</td>\n",
       "      <td>As a camp counselor I provide stability in kid...</td>\n",
       "    </tr>\n",
       "    <tr>\n",
       "      <th>78</th>\n",
       "      <td>1</td>\n",
       "      <td>My now girlfriend used to have serious addicti...</td>\n",
       "    </tr>\n",
       "    <tr>\n",
       "      <th>79</th>\n",
       "      <td>0</td>\n",
       "      <td>The one person I ever talked to it was because...</td>\n",
       "    </tr>\n",
       "  </tbody>\n",
       "</table>\n",
       "<p>80 rows × 2 columns</p>\n",
       "</div>"
      ],
      "text/plain": [
       "    class                                      response_text\n",
       "0       0              I try and avoid this sort of conflict\n",
       "1       1  Had a friend open up to me about his mental ad...\n",
       "2       1  I saved a girl from suicide once. She was goin...\n",
       "3       0  i cant think of one really...i think i may hav...\n",
       "4       0  Only really one friend who doesn't fit into th...\n",
       "5       0  a couple of years ago my friends was going to ...\n",
       "6       1  Roommate when he was going through death and l...\n",
       "7       1  i've had a couple of friends (you could say mo...\n",
       "8       0  Listened to someone talk about relationship tr...\n",
       "9       1  I will always listen. I comforted my sister wh...\n",
       "10      0  Took a week off work, packed up the car and pi...\n",
       "11      1  On the memorial anniversary of my friends fath...\n",
       "12      0            Anxious girlfriend always needs my help\n",
       "13      0                                              Never\n",
       "14      0                                       You as a mom\n",
       "15      1  ex gf was a cutter/suicidal, got her out of he...\n",
       "16      0  I have helped advise friends who have faced ci...\n",
       "17      0                     I've helped friends out before\n",
       "18      0  A friend that is a girl and just talk to her t...\n",
       "19      0  expressing concern and openness to friends whe...\n",
       "20      0                 listening to girlfriend's problems\n",
       "21      1  Friend was thinking about suicide, after a few...\n",
       "22      1  Having gone through depression and anxiety mys...\n",
       "23      0  Sometimes my friends bring up issues they are ...\n",
       "24      0  never i guess people dont see me as a guy they...\n",
       "25      1  Last year, my best friend was diagnosed with a...\n",
       "26      1  Cleaning up my friend's campsite and slightly ...\n",
       "27      0  i listen pretty damn well. better at that as a...\n",
       "28      1  Helping a friend through dealing with his alco...\n",
       "29      0  I used to tutor homeless men at a shelter to h...\n",
       "..    ...                                                ...\n",
       "50      0  I once acted as a resource for someone who was...\n",
       "51      1  My friend was going through a period of intens...\n",
       "52      0  I have talked though some major blows in my gi...\n",
       "53      0               Talking to a friend over a break up.\n",
       "54      0  I care about other people more than myself so ...\n",
       "55      0  Over the internet a LOT of people write to me ...\n",
       "56      0  Friends sometimes come up to me and ask for ad...\n",
       "57      1  My friend dealt with anxiety and this desire f...\n",
       "58      0  Simply being there as a friend for somebody wh...\n",
       "59      1  I've had some friends come to me saying people...\n",
       "60      0  People calling, talk some sense into them, may...\n",
       "61      1  Having self harmed in the past,  I shared my e...\n",
       "62      0          Have worked through problems with friends\n",
       "63      0  When my friend needed help when she was going ...\n",
       "64      1  My sister has some pretty severe issues  with ...\n",
       "65      0                      Helped friends through stuff.\n",
       "66      0  I helped encourage a friend to go to therapy, ...\n",
       "67      0  I haven't really met anyone dealing with atten...\n",
       "68      0  there are too many to remember specifically, b...\n",
       "69      0  one of my friends was feeling down, so he came...\n",
       "70      0                                             never.\n",
       "71      0  I have tried but am absolutely horrable at it ...\n",
       "72      1  Ex girlfriend had depression and anxiety. I us...\n",
       "73      0  Always. I don't judge people to much, and can ...\n",
       "74      1  My grandmother went through some severe depres...\n",
       "75      0  Now that I've been through it, although i'm no...\n",
       "76      1  when my best friends mom past away from od'ing...\n",
       "77      0  As a camp counselor I provide stability in kid...\n",
       "78      1  My now girlfriend used to have serious addicti...\n",
       "79      0  The one person I ever talked to it was because...\n",
       "\n",
       "[80 rows x 2 columns]"
      ]
     },
     "execution_count": 4,
     "metadata": {},
     "output_type": "execute_result"
    }
   ],
   "source": [
    "df_full"
   ]
  },
  {
   "cell_type": "code",
   "execution_count": 5,
   "metadata": {
    "collapsed": false
   },
   "outputs": [],
   "source": [
    "feature = df_full['response_text'].values\n",
    "label = df_full['class'].values\n",
    "\n",
    "cut_point = round(len(df_full)*0.8)\n",
    "train_feature = np.array(feature[:cut_point])\n",
    "train_label = np.array(label[:cut_point])\n",
    "test_feature = np.array(feature[cut_point:])\n",
    "test_label = np.array(label[cut_point:])"
   ]
  },
  {
   "cell_type": "markdown",
   "metadata": {},
   "source": [
    "# Scikit-Learn: 直接交給vect做文字預處理，即可跑模型"
   ]
  },
  {
   "cell_type": "code",
   "execution_count": 28,
   "metadata": {
    "collapsed": false
   },
   "outputs": [],
   "source": [
    "from sklearn import preprocessing\n",
    "from sklearn.feature_extraction.text import CountVectorizer\n",
    "from sklearn.feature_extraction.text import TfidfVectorizer\n",
    "tfid = TfidfVectorizer()\n",
    "vect = CountVectorizer()"
   ]
  },
  {
   "cell_type": "markdown",
   "metadata": {},
   "source": [
    "## naive_bayes.MultinomialNB()"
   ]
  },
  {
   "cell_type": "code",
   "execution_count": 39,
   "metadata": {
    "collapsed": false
   },
   "outputs": [
    {
     "name": "stdout",
     "output_type": "stream",
     "text": [
      "             precision    recall  f1-score   support\n",
      "\n",
      "          0       0.70      0.54      0.61        13\n",
      "          1       0.40      0.57      0.47         7\n",
      "\n",
      "avg / total       0.59      0.55      0.56        20\n",
      "\n"
     ]
    }
   ],
   "source": [
    "from sklearn import naive_bayes\n",
    "\n",
    "x_train, x_test, y_train, y_test = train_test_split(feature, label ,random_state=0)\n",
    "\n",
    "x_train_dtm = vect.fit_transform(x_train) #把文本內容變成向量\n",
    "x_test_dtm = vect.transform(x_test)\n",
    "\n",
    "clf = naive_bayes.MultinomialNB()\n",
    "clf.fit(x_train_dtm,y_train)\n",
    "y_predict = clf.predict(x_test_dtm)\n",
    "\n",
    "print(classification_report(y_test,y_predict))"
   ]
  },
  {
   "cell_type": "markdown",
   "metadata": {},
   "source": [
    "## tree.DecisionTreeClassifier()"
   ]
  },
  {
   "cell_type": "code",
   "execution_count": 41,
   "metadata": {
    "collapsed": false
   },
   "outputs": [
    {
     "name": "stdout",
     "output_type": "stream",
     "text": [
      "             precision    recall  f1-score   support\n",
      "\n",
      "          0       0.70      0.54      0.61        13\n",
      "          1       0.40      0.57      0.47         7\n",
      "\n",
      "avg / total       0.59      0.55      0.56        20\n",
      "\n"
     ]
    }
   ],
   "source": [
    "from sklearn import tree\n",
    "\n",
    "x_train, x_test, y_train, y_test = train_test_split(feature, label ,random_state=0)\n",
    "\n",
    "x_train_dtm = vect.fit_transform(x_train)\n",
    "x_test_dtm = vect.transform(x_test)\n",
    "\n",
    "clf=tree.DecisionTreeClassifier()\n",
    "clf.fit(x_train_dtm,y_train)\n",
    "y_predict = clf.predict(x_test_dtm)\n",
    "\n",
    "print(classification_report(y_test,y_predict))"
   ]
  },
  {
   "cell_type": "markdown",
   "metadata": {},
   "source": [
    "## ensemble.RandomForestClassifier()"
   ]
  },
  {
   "cell_type": "code",
   "execution_count": 42,
   "metadata": {
    "collapsed": false
   },
   "outputs": [
    {
     "name": "stdout",
     "output_type": "stream",
     "text": [
      "             precision    recall  f1-score   support\n",
      "\n",
      "          0       0.68      1.00      0.81        13\n",
      "          1       1.00      0.14      0.25         7\n",
      "\n",
      "avg / total       0.79      0.70      0.62        20\n",
      "\n"
     ]
    }
   ],
   "source": [
    "from sklearn import ensemble\n",
    "\n",
    "x_train, x_test, y_train, y_test = train_test_split(feature, label ,random_state=0)\n",
    "\n",
    "x_train_dtm = vect.fit_transform(x_train)\n",
    "x_test_dtm = vect.transform(x_test)\n",
    "\n",
    "clf=ensemble.RandomForestClassifier()\n",
    "clf.fit(x_train_dtm,y_train)\n",
    "y_predict = clf.predict(x_test_dtm)\n",
    "\n",
    "print(classification_report(y_test,y_predict))"
   ]
  },
  {
   "cell_type": "markdown",
   "metadata": {},
   "source": [
    "## ensemble.AdaBoostClassifier()"
   ]
  },
  {
   "cell_type": "code",
   "execution_count": 43,
   "metadata": {
    "collapsed": false
   },
   "outputs": [
    {
     "name": "stdout",
     "output_type": "stream",
     "text": [
      "             precision    recall  f1-score   support\n",
      "\n",
      "          0       0.83      0.77      0.80        13\n",
      "          1       0.62      0.71      0.67         7\n",
      "\n",
      "avg / total       0.76      0.75      0.75        20\n",
      "\n"
     ]
    }
   ],
   "source": [
    "from sklearn import ensemble\n",
    "\n",
    "x_train, x_test, y_train, y_test = train_test_split(feature, label ,random_state=0)\n",
    "\n",
    "x_train_dtm = vect.fit_transform(x_train)\n",
    "x_test_dtm = vect.transform(x_test)\n",
    "\n",
    "clf=ensemble.AdaBoostClassifier()\n",
    "clf.fit(x_train_dtm,y_train)\n",
    "y_predict = clf.predict(x_test_dtm)\n",
    "\n",
    "print(classification_report(y_test,y_predict))"
   ]
  },
  {
   "cell_type": "markdown",
   "metadata": {},
   "source": [
    "# Keras: Tokenizer，texts_to_sequences，sequence.pad_sequences補齊"
   ]
  },
  {
   "cell_type": "code",
   "execution_count": 20,
   "metadata": {
    "collapsed": false
   },
   "outputs": [
    {
     "name": "stdout",
     "output_type": "stream",
     "text": [
      "64\n"
     ]
    }
   ],
   "source": [
    "from keras.preprocessing import sequence\n",
    "from keras.preprocessing.text import Tokenizer\n",
    "\n",
    "token = Tokenizer(num_words=20)\n",
    "token.fit_on_texts(train_feature) #用token讀取新文字 \n",
    "\n",
    "print(token.document_count)"
   ]
  },
  {
   "cell_type": "code",
   "execution_count": 21,
   "metadata": {
    "collapsed": false
   },
   "outputs": [
    {
     "name": "stdout",
     "output_type": "stream",
     "text": [
      "{'categories': 280, 'spiraling': 282, 'thoughts': 455, \"that's\": 116, 'known': 592, 'shelter': 392, 'lines': 582, 'overcome': 294, 'big': 193, 'open': 118, 'some': 36, 'sometimes': 113, 'pills': 274, 'talking': 254, 'couple': 176, 'another': 498, 'less': 420, 'thankgiving': 503, 'heard': 450, 'ago': 292, 'hits': 359, 'dealing': 135, 'level': 399, 'has': 207, 'struggle': 428, 'allowed': 361, 'kindness': 528, 'several': 362, 'intense': 544, 'it': 12, 'many': 235, 'self': 124, 'mind': 514, 'campsite': 377, 'top': 423, 'family': 444, 'little': 152, 'give': 132, 'from': 48, 'clean': 441, 'personal': 128, 'visited': 464, 'drove': 490, 'switched': 535, 'super': 489, 'best': 69, 'more': 65, 'now': 172, 'break': 550, 'expressing': 348, 'aunt': 565, 'advise': 344, 'you': 96, 'life': 46, 'turmoil': 598, 'fit': 278, 'set': 481, 'conflict': 267, 'reflect': 474, 'see': 214, 'hard': 236, 'off': 130, 'acted': 541, 'want': 117, 'might': 515, 'anxiety': 109, 'problems': 66, 'past': 605, 'sign': 414, 'thinking': 354, 'my': 7, 'as': 24, 'openness': 350, 'result': 305, 'hopes': 607, 'listen': 99, 'friend': 14, 'stuff': 111, 'them': 30, 'girlfriends': 549, \"you'll\": 579, 'reality': 572, 'taken': 496, 'will': 98, 'other': 112, 'throughout': 373, 'specific': 424, 'worked': 611, 'one': 60, 'those': 609, 'not': 63, 'listening': 203, 'could': 127, 'something': 168, 'desire': 257, 'ended': 230, 'fight': 286, 'probably': 421, \"friends'\": 475, 'the': 5, 'sense': 600, 'when': 22, 'maybe': 601, 'admit': 612, 'blue': 502, 'slightly': 378, 'bad': 241, 'yearbook': 415, 'started': 303, 'get': 51, 'whenever': 511, 'surfing': 325, 'very': 161, 'face': 365, 'found': 189, 'yourself': 429, 'faced': 200, 'needed': 155, 'girlfriend': 335, 'talked': 58, 'teacher': 401, 'house': 315, 'severe': 300, 'come': 87, 'she': 17, 'resource': 233, 'themselves': 139, 'blows': 548, 'everything': 146, 'pretty': 167, 'describes': 259, 'cops': 494, 'already': 495, 'related': 553, 'promised': 439, \"ged's\": 394, 'have': 21, 'with': 13, 'here': 538, \"it's\": 122, 'long': 537, 'or': 50, 'cutter': 339, 'situation': 249, 'ok': 173, 'was': 8, 'depression': 78, 'reading': 397, 'asks': 288, 'is': 61, 'obtain': 393, 'facing': 403, 'rude': 584, 'think': 59, 'tried': 143, 'end': 533, \"i'm\": 148, 'times': 149, 'talk': 32, 'initiated': 614, 'able': 480, 'refers': 563, 'helpful': 211, 'describe': 477, 'day': 196, \"he's\": 198, 'age': 395, 'support': 133, 'telling': 385, 'till': 539, 'going': 49, 'diagnosed': 215, 'kid': 223, 'there': 42, 'know': 84, 'jokingly': 562, 'everyday': 402, 'convinced': 436, 'because': 94, 'high': 220, 'good': 210, 'help': 35, 'schoolwork': 542, 'guess': 213, 'entire': 372, 'dont': 140, 'make': 104, 'packed': 319, 'really': 91, 'around': 197, 'first': 398, 'shared': 606, 'hood': 381, 'respect': 527, 'almost': 221, 'nice': 554, 'guy': 369, 'answer': 512, 'verge': 322, 'express': 453, 'ex': 338, 'loving': 275, 'into': 120, 'look': 150, 'feel': 81, 'peace': 597, 'adequate': 366, 'addiction': 157, 'countless': 405, 'concern': 349, 'doc': 437, 'thinks': 418, 'important': 363, 'memorial': 330, 'too': 76, 'sort': 266, 'lack': 443, 'mental': 268, 'cope': 358, 'may': 164, 'chat': 603, 'complete': 442, '5': 447, 'issues': 83, 'girls': 237, 'brought': 613, 'i': 1, 'therapist': 281, 'late': 446, 'within': 457, 'frustrated': 284, 'saying': 590, 'lot': 71, 'friends': 18, 'dialog': 352, 'mother': 387, 'way': 90, 'along': 581, 'been': 55, 'try': 44, 'parents': 188, \"they've\": 263, 'this': 56, 'through': 25, 'flickers': 540, 'troubles': 184, 'listener': 449, \"i'll\": 151, \"i've\": 77, 'lost': 310, 'year': 142, 'all': 114, 'also': 244, 'somebody': 588, 'well': 138, 'hear': 576, 'at': 70, 'hoping': 595, '50': 396, 'rejecting': 417, 'days': 355, 'brother': 479, 'eventually': 301, 'ward': 508, 'cleaning': 375, 'can': 68, 'someone': 67, 'took': 318, 'confines': 458, 'path': 482, 'sad': 522, 'feeling': 240, 'back': 88, 'roommate': 295, 'thats': 560, 'taking': 270, 'mom': 337, 'tunnel': 534, 'fell': 351, 'unless': 573, 'hadnt': 500, 'crazy': 287, 'healing': 483, 'shit': 64, 'laugh': 521, 'caring': 260, 'type': 427, 'due': 570, 'hand': 290, 'period': 543, 'helping': 216, 'qualified': 468, 'did': 95, 'fact': 571, 'above': 279, 'bedroom': 298, 'bunch': 273, 'apposed': 384, \"friend's\": 376, 'years': 75, 'said': 175, 'while': 97, 'what': 85, 'essential': 585, 'sister': 309, 'honest': 212, 'still': 248, 'find': 156, 'hung': 497, 'keep': 252, 'living': 379, 'activity': 329, 'me': 15, 'cutting': 313, 'kids': 406, 'time': 121, 'helped': 33, 'treatment': 465, 'virgity': 311, 'made': 545, 'offer': 209, 'about': 26, 'mine': 346, 'others': 194, 'major': 547, 'homeless': 390, 'in': 16, 'restless': 409, 'its': 552, 'eight': 411, 'oh': 578, \"didn't\": 123, 'sure': 546, 'having': 108, 'rejected': 412, 'calm': 162, 'would': 40, 'emotional': 180, 'over': 89, 'people': 27, 'slowly': 341, 'isolated': 434, 'his': 45, 'grade': 219, 'months': 231, 'problem': 326, 'caught': 467, 'suffer': 304, 'recovery': 374, 'though': 247, 'light': 532, 'called': 245, 'positive': 473, 'remote': 291, 'guys': 557, 'than': 179, 'damn': 383, 'agony': 564, 'alone': 199, \"who's\": 589, 'need': 147, 'trapped': 456, 'we': 615, 'harmed': 604, 'girl': 57, 'low': 177, 'ask': 170, 'basically': 251, 'strangers': 526, 'kind': 368, 'innermost': 558, 'hour': 492, 'simply': 101, 'anxious': 334, 'during': 463, 'who': 39, 'they': 31, 'facebook': 602, 'part': 190, 'swallow': 272, 'haha': 410, 'boyfriend': 169, 'away': 327, 'junior': 594, 'once': 160, 'a': 4, 'every': 195, 'change': 567, 'douche': 506, 'nervous': 416, 'cocaine': 471, 'car': 320, 'stayed': 486, 'similar': 201, 'her': 9, 'on': 37, 'same': 80, 'treat': 524, 'cancer': 462, 'quite': 299, 'calls': 166, 'esteem': 178, 'goal': 516, 'dumps': 472, 'dealt': 256, 'physical': 328, 'necessarily': 451, 'call': 171, 'being': 53, 'tutor': 389, 'calling': 599, 'progress': 586, 'before': 93, 'school': 47, \"girlfriend's\": 353, 'our': 182, 'after': 136, 'woods': 382, 'up': 29, 'am': 400, 'swimming': 530, 'both': 181, 'comes': 422, 'tell': 408, 'trying': 509, 'please': 289, 'tough': 154, 'together': 438, 'making': 158, 'even': 115, 'write': 551, 'understand': 205, 'happens': 153, 'number': 504, 'cant': 163, 'few': 137, 'suicidal': 340, '1n': 491, 'peoples': 520, 'serious': 469, 'enough': 531, 'twice': 413, 'y': 587, 'he': 20, 'blow': 580, 'focus': 317, 'irl': 255, 'wanted': 224, 'tryin': 347, 'comforted': 308, 'sustained': 518, 'blunt': 583, 'if': 62, 'subject': 568, 'hospital': 243, 'went': 102, 'logical': 285, 'bring': 191, 'anyway': 283, 'methods': 357, 'nobody': 523, 'perfect': 258, 'either': 261, 'only': 277, 'inside': 343, 'ear': 460, 'himself': 100, 'needs': 336, 'knowledge': 360, 'story': 386, 'circumstances': 345, 'least': 561, 'threw': 314, 'relationships': 302, 'idk': 536, 'always': 52, 'theripist': 476, 'relationship': 183, 'camping': 324, \"doesn't\": 165, 'experience': 185, 'never': 134, 'such': 577, \"you're\": 426, 'pulled': 574, 'actions': 610, 'picked': 321, 'skipped': 435, 'dying': 342, 'supportive': 316, 'stopped': 488, 'cause': 501, 'truth': 430, 'bit': 250, 'say': 174, 'much': 73, 'came': 466, 'down': 107, 'just': 41, 'like': 232, 'letting': 202, 'sometime': 529, 'told': 225, 'avoid': 265, 'else': 234, 'experiences': 364, '2': 485, 'that': 19, 'listened': 306, 'until': 487, 'be': 28, 'walked': 312, 'knew': 246, 'last': 141, 'changed': 445, 'better': 105, 'humans': 525, 'head': 227, 'answers': 596, 'camp': 404, 'for': 10, 'anything': 126, 'half': 493, \"wouldn't\": 262, 'purpose': 517, 'nah': 478, 'lives': 239, 'survival': 519, 'comfort': 593, 'managed': 356, 'then': 187, 'acquaintances': 591, 'rehab': 440, 'so': 43, 'any': 92, 'swaying': 608, 'father': 332, 'completely': 433, 'offered': 307, \"he'll\": 448, 'by': 74, 'side': 238, 'care': 226, 'dumped': 484, 'anniversary': 331, 'own': 103, 'often': 222, 'go': 86, 'objective': 556, 'to': 2, 'giving': 575, 'their': 54, 'example': 425, 'used': 388, 'him': 11, 'an': 144, 'were': 131, 'struggles': 206, 'relief': 454, 'struggling': 253, 'gf': 125, 'had': 34, 'and': 3, 'got': 82, 'how': 72, 'weed': 269, 'mt': 380, \"don't\": 228, \"they're\": 145, 'out': 38, 'death': 296, 'losing': 323, 'feelings': 559, 'indirectly': 276, 'kill': 242, 'myself': 110, 'commit': 371, 'person': 499, 'drag': 569, 'gone': 204, 'saved': 271, 'are': 106, 'speak': 461, 'lent': 459, 'week': 129, 'psych': 507, 'of': 6, 'hurts': 431, 'issue': 407, 'night': 186, 'killed': 264, 'internet': 208, 'depressed': 159, 'but': 23, 'switch': 293, 'normal': 367, 'men': 391, 'huge': 505, 'possibly': 566, 'disorder': 370, 'loss': 297, 'suicide': 119, 'advice': 79, 'fixed': 452, 'work': 192, 'drugs': 470, 'start': 432, 'let': 229, 'earlier': 513, 'hold': 510, 'alcoholic': 218, 'remind': 333, 'rant': 555, 'summer': 217, 'no': 419}\n"
     ]
    }
   ],
   "source": [
    "print(token.word_index)"
   ]
  },
  {
   "cell_type": "code",
   "execution_count": 22,
   "metadata": {
    "collapsed": true
   },
   "outputs": [],
   "source": [
    "x_train_seq = token.texts_to_sequences(train_feature)\n",
    "x_test_seq  = token.texts_to_sequences(test_feature)"
   ]
  },
  {
   "cell_type": "code",
   "execution_count": 24,
   "metadata": {
    "collapsed": false
   },
   "outputs": [
    {
     "data": {
      "text/plain": [
       "[[1, 3, 6],\n",
       " [4, 14, 2, 15, 2, 3, 12, 8, 3, 11],\n",
       " [1, 4, 17, 8, 2, 4, 6, 3, 1, 9, 6, 12, 16, 4],\n",
       " [1, 6, 1, 1],\n",
       " [14, 5, 6, 5, 9, 12, 17, 15, 17, 13, 9, 2, 15, 3, 9, 17, 15, 15, 5]]"
      ]
     },
     "execution_count": 24,
     "metadata": {},
     "output_type": "execute_result"
    }
   ],
   "source": [
    "x_train_seq[0:5]"
   ]
  },
  {
   "cell_type": "code",
   "execution_count": 25,
   "metadata": {
    "collapsed": false
   },
   "outputs": [
    {
     "data": {
      "text/plain": [
       "[[7, 13, 9, 1, 2, 10, 9, 17, 12, 3, 2, 9],\n",
       " [18],\n",
       " [1, 4, 14, 2, 2, 3, 2, 2, 8, 10],\n",
       " [1, 13, 1, 4, 2],\n",
       " [2, 3, 13, 19, 12, 4]]"
      ]
     },
     "execution_count": 25,
     "metadata": {},
     "output_type": "execute_result"
    }
   ],
   "source": [
    "x_test_seq[0:5]"
   ]
  },
  {
   "cell_type": "code",
   "execution_count": 26,
   "metadata": {
    "collapsed": true
   },
   "outputs": [],
   "source": [
    "#由於ML的矩陣都是要長一樣的才能運算，所以取最多字20\n",
    "#如果超過20字從前面開始砍掉，如果少於20字從前面開始補0\n",
    "x_train = sequence.pad_sequences(x_train_seq, maxlen=20)\n",
    "x_test  = sequence.pad_sequences(x_test_seq,  maxlen=20)"
   ]
  },
  {
   "cell_type": "code",
   "execution_count": 27,
   "metadata": {
    "collapsed": false
   },
   "outputs": [
    {
     "data": {
      "text/plain": [
       "(64, 20)"
      ]
     },
     "execution_count": 27,
     "metadata": {},
     "output_type": "execute_result"
    }
   ],
   "source": [
    "x_train.shape"
   ]
  },
  {
   "cell_type": "markdown",
   "metadata": {},
   "source": [
    "## MLP: 題目是NLP要加上Embedding層"
   ]
  },
  {
   "cell_type": "code",
   "execution_count": 30,
   "metadata": {
    "collapsed": false
   },
   "outputs": [
    {
     "name": "stdout",
     "output_type": "stream",
     "text": [
      "_________________________________________________________________\n",
      "Layer (type)                 Output Shape              Param #   \n",
      "=================================================================\n",
      "embedding_3 (Embedding)      (None, 20, 32)            2048      \n",
      "_________________________________________________________________\n",
      "dropout_7 (Dropout)          (None, 20, 32)            0         \n",
      "_________________________________________________________________\n",
      "flatten_3 (Flatten)          (None, 640)               0         \n",
      "_________________________________________________________________\n",
      "dense_7 (Dense)              (None, 32)                20512     \n",
      "_________________________________________________________________\n",
      "dropout_8 (Dropout)          (None, 32)                0         \n",
      "_________________________________________________________________\n",
      "dense_8 (Dense)              (None, 32)                1056      \n",
      "_________________________________________________________________\n",
      "dropout_9 (Dropout)          (None, 32)                0         \n",
      "_________________________________________________________________\n",
      "dense_9 (Dense)              (None, 1)                 33        \n",
      "=================================================================\n",
      "Total params: 23,649\n",
      "Trainable params: 23,649\n",
      "Non-trainable params: 0\n",
      "_________________________________________________________________\n",
      "None\n",
      "Train on 51 samples, validate on 13 samples\n",
      "Epoch 1/10\n",
      "0s - loss: 0.6955 - acc: 0.5294 - val_loss: 0.6852 - val_acc: 0.8462\n",
      "Epoch 2/10\n",
      "0s - loss: 0.6759 - acc: 0.6667 - val_loss: 0.6811 - val_acc: 0.7692\n",
      "Epoch 3/10\n",
      "0s - loss: 0.6752 - acc: 0.6471 - val_loss: 0.6763 - val_acc: 0.6923\n",
      "Epoch 4/10\n",
      "0s - loss: 0.6777 - acc: 0.5686 - val_loss: 0.6717 - val_acc: 0.6923\n",
      "Epoch 5/10\n",
      "0s - loss: 0.6798 - acc: 0.6471 - val_loss: 0.6675 - val_acc: 0.6923\n",
      "Epoch 6/10\n",
      "0s - loss: 0.6689 - acc: 0.6471 - val_loss: 0.6635 - val_acc: 0.6923\n",
      "Epoch 7/10\n",
      "0s - loss: 0.6675 - acc: 0.7255 - val_loss: 0.6596 - val_acc: 0.6923\n",
      "Epoch 8/10\n",
      "0s - loss: 0.6503 - acc: 0.7059 - val_loss: 0.6555 - val_acc: 0.6923\n",
      "Epoch 9/10\n",
      "0s - loss: 0.6492 - acc: 0.6863 - val_loss: 0.6515 - val_acc: 0.6923\n",
      "Epoch 10/10\n",
      "0s - loss: 0.6410 - acc: 0.7059 - val_loss: 0.6471 - val_acc: 0.6923\n"
     ]
    },
    {
     "data": {
      "image/png": "[encoded data removed]",
      "text/plain": [
       "<matplotlib.figure.Figure at 0x120973f98>"
      ]
     },
     "metadata": {},
     "output_type": "display_data"
    },
    {
     "data": {
      "image/png": "[encoded data removed]",
      "text/plain": [
       "<matplotlib.figure.Figure at 0x11cb7b0b8>"
      ]
     },
     "metadata": {},
     "output_type": "display_data"
    },
    {
     "name": "stdout",
     "output_type": "stream",
     "text": [
      "16/16 [==============================] - 0s\n",
      "\n",
      "\n",
      "accuracy= 0.6875\n",
      "16/16 [==============================] - 0s\n"
     ]
    }
   ],
   "source": [
    "import matplotlib.pyplot as plt\n",
    "def show_train_history(train_history,train,validation):\n",
    "    plt.plot(train_history.history[train])\n",
    "    plt.plot(train_history.history[validation])\n",
    "    plt.title('Train History')\n",
    "    plt.ylabel(train)\n",
    "    plt.xlabel('Epoch')\n",
    "    plt.legend(['train', 'validation'], loc='upper left')\n",
    "    plt.show()\n",
    "\n",
    "from keras.models import Sequential\n",
    "from keras.layers.core import Dense, Dropout, Activation, Flatten\n",
    "from keras.layers.embeddings import Embedding\n",
    "\n",
    "#設計模型\n",
    "model = Sequential()\n",
    "\n",
    "#Embedding，把文字向量投影到多維度向量（語意），否則數字之間無關聯，沒能體現出語言之間有「語意」\n",
    "#在此投影成32維度\n",
    "model.add(Embedding(output_dim = 32,\n",
    "                    input_dim = 64,\n",
    "                    input_length = 20))\n",
    "model.add(Dropout(0.5))\n",
    "\n",
    "model.add(Flatten())\n",
    "\n",
    "model.add(Dense(units=32, activation='relu'))\n",
    "model.add(Dropout(0.5))\n",
    "\n",
    "model.add(Dense(units=32, activation='relu'))\n",
    "model.add(Dropout(0.5))\n",
    "\n",
    "model.add(Dense(units=1, activation='sigmoid'))\n",
    "\n",
    "print(model.summary())\n",
    "\n",
    "\n",
    "#訓練模型\n",
    "model.compile(loss='binary_crossentropy',\n",
    "              optimizer = 'adam',\n",
    "              metrics=['accuracy'])\n",
    "\n",
    "train_history = model.fit(x_train, train_label,\n",
    "                          validation_split=0.2, batch_size=100, epochs=10, verbose=2)\n",
    "\n",
    "show_train_history(train_history,'acc','val_acc')\n",
    "show_train_history(train_history,'loss','val_loss')\n",
    "\n",
    "\n",
    "######################### 實際測驗得分\n",
    "scores = model.evaluate(x_test, test_label)\n",
    "print('\\n')\n",
    "print('accuracy=',scores[1])\n",
    "\n",
    "######################### 紀錄模型預測情形（答案卷）\n",
    "prediction = model.predict_classes(x_test)\n",
    "\n",
    "#儲存訓練結果\n",
    "#model.save_weights(\"Savemodel_Keras/IMDB_MLP.h5\")\n",
    "#print('\\n model saved to disk')"
   ]
  },
  {
   "cell_type": "markdown",
   "metadata": {},
   "source": [
    "## RNN"
   ]
  },
  {
   "cell_type": "code",
   "execution_count": 33,
   "metadata": {
    "collapsed": false
   },
   "outputs": [
    {
     "name": "stdout",
     "output_type": "stream",
     "text": [
      "_________________________________________________________________\n",
      "Layer (type)                 Output Shape              Param #   \n",
      "=================================================================\n",
      "embedding_6 (Embedding)      (None, 20, 32)            2048      \n",
      "_________________________________________________________________\n",
      "dropout_14 (Dropout)         (None, 20, 32)            0         \n",
      "_________________________________________________________________\n",
      "simple_rnn_3 (SimpleRNN)     (None, 16)                784       \n",
      "_________________________________________________________________\n",
      "dense_14 (Dense)             (None, 256)               4352      \n",
      "_________________________________________________________________\n",
      "dropout_15 (Dropout)         (None, 256)               0         \n",
      "_________________________________________________________________\n",
      "dense_15 (Dense)             (None, 1)                 257       \n",
      "=================================================================\n",
      "Total params: 7,441\n",
      "Trainable params: 7,441\n",
      "Non-trainable params: 0\n",
      "_________________________________________________________________\n",
      "None\n",
      "Train on 51 samples, validate on 13 samples\n",
      "Epoch 1/10\n",
      "0s - loss: 0.7032 - acc: 0.3922 - val_loss: 0.6927 - val_acc: 0.3077\n",
      "Epoch 2/10\n",
      "0s - loss: 0.7007 - acc: 0.4314 - val_loss: 0.6881 - val_acc: 0.6923\n",
      "Epoch 3/10\n",
      "0s - loss: 0.6910 - acc: 0.5294 - val_loss: 0.6834 - val_acc: 0.6923\n",
      "Epoch 4/10\n",
      "0s - loss: 0.6818 - acc: 0.7451 - val_loss: 0.6785 - val_acc: 0.6923\n",
      "Epoch 5/10\n",
      "0s - loss: 0.6789 - acc: 0.7255 - val_loss: 0.6737 - val_acc: 0.6923\n",
      "Epoch 6/10\n",
      "0s - loss: 0.6740 - acc: 0.6667 - val_loss: 0.6684 - val_acc: 0.6923\n",
      "Epoch 7/10\n",
      "0s - loss: 0.6753 - acc: 0.6275 - val_loss: 0.6628 - val_acc: 0.6923\n",
      "Epoch 8/10\n",
      "0s - loss: 0.6541 - acc: 0.7255 - val_loss: 0.6566 - val_acc: 0.6923\n",
      "Epoch 9/10\n",
      "0s - loss: 0.6558 - acc: 0.7059 - val_loss: 0.6500 - val_acc: 0.7692\n",
      "Epoch 10/10\n",
      "0s - loss: 0.6504 - acc: 0.6863 - val_loss: 0.6430 - val_acc: 0.6923\n"
     ]
    },
    {
     "data": {
      "image/png": "[encoded data removed]",
      "text/plain": [
       "<matplotlib.figure.Figure at 0x123bee6d8>"
      ]
     },
     "metadata": {},
     "output_type": "display_data"
    },
    {
     "data": {
      "image/png": "[encoded data removed]",
      "text/plain": [
       "<matplotlib.figure.Figure at 0x121ebda20>"
      ]
     },
     "metadata": {},
     "output_type": "display_data"
    },
    {
     "name": "stdout",
     "output_type": "stream",
     "text": [
      "16/16 [==============================] - 0s\n",
      "\n",
      "\n",
      "accuracy= 0.6875\n",
      "16/16 [==============================] - 0s\n"
     ]
    }
   ],
   "source": [
    "import matplotlib.pyplot as plt\n",
    "def show_train_history(train_history,train,validation):\n",
    "    plt.plot(train_history.history[train])\n",
    "    plt.plot(train_history.history[validation])\n",
    "    plt.title('Train History')\n",
    "    plt.ylabel(train)\n",
    "    plt.xlabel('Epoch')\n",
    "    plt.legend(['train', 'validation'], loc='upper left')\n",
    "    plt.show()\n",
    "\n",
    "    \n",
    "from keras.models import Sequential\n",
    "from keras.layers.core import Dense, Dropout, Activation\n",
    "from keras.layers.embeddings import Embedding\n",
    "from keras.layers.recurrent import SimpleRNN #改SimpleRNN\n",
    "\n",
    "model = Sequential()\n",
    "\n",
    "model.add(Embedding(output_dim=32,\n",
    "                    input_dim=64, \n",
    "                    input_length=20))\n",
    "model.add(Dropout(0.35))\n",
    "\n",
    "model.add(SimpleRNN(units=16)) ##改SimpleRNN\n",
    "\n",
    "model.add(Dense(units=256,activation='relu' ))\n",
    "model.add(Dropout(0.35))\n",
    "\n",
    "model.add(Dense(units=1,activation='sigmoid' ))\n",
    "\n",
    "print(model.summary())\n",
    "\n",
    "model.compile(loss='binary_crossentropy', \n",
    "              optimizer='adam', \n",
    "              metrics=['accuracy'])\n",
    "\n",
    "train_history =model.fit(x_train, train_label, batch_size=100, \n",
    "                         epochs=10,verbose=2,\n",
    "                         validation_split=0.2)\n",
    "\n",
    "show_train_history(train_history,'acc','val_acc')\n",
    "show_train_history(train_history,'loss','val_loss')\n",
    "\n",
    "\n",
    "######################### 實際測驗得分\n",
    "scores = model.evaluate(x_test, test_label)\n",
    "print('\\n')\n",
    "print('accuracy=',scores[1])\n",
    "\n",
    "######################### 紀錄模型預測情形（答案卷）\n",
    "prediction = model.predict_classes(x_test)\n",
    "\n",
    "#儲存訓練結果\n",
    "#model.save_weights(\"Savemodel_Keras/IMDB_RNN.h5\")\n",
    "#print('\\n model saved to disk')"
   ]
  },
  {
   "cell_type": "markdown",
   "metadata": {},
   "source": [
    "## LSTM"
   ]
  },
  {
   "cell_type": "code",
   "execution_count": 35,
   "metadata": {
    "collapsed": false
   },
   "outputs": [
    {
     "name": "stdout",
     "output_type": "stream",
     "text": [
      "_________________________________________________________________\n",
      "Layer (type)                 Output Shape              Param #   \n",
      "=================================================================\n",
      "embedding_8 (Embedding)      (None, 20, 32)            2048      \n",
      "_________________________________________________________________\n",
      "dropout_18 (Dropout)         (None, 20, 32)            0         \n",
      "_________________________________________________________________\n",
      "lstm_2 (LSTM)                (None, 8)                 1312      \n",
      "_________________________________________________________________\n",
      "dense_18 (Dense)             (None, 256)               2304      \n",
      "_________________________________________________________________\n",
      "dropout_19 (Dropout)         (None, 256)               0         \n",
      "_________________________________________________________________\n",
      "dense_19 (Dense)             (None, 1)                 257       \n",
      "=================================================================\n",
      "Total params: 5,921\n",
      "Trainable params: 5,921\n",
      "Non-trainable params: 0\n",
      "_________________________________________________________________\n",
      "None\n",
      "Train on 51 samples, validate on 13 samples\n",
      "Epoch 1/10\n",
      "0s - loss: 0.6930 - acc: 0.4706 - val_loss: 0.6912 - val_acc: 0.6923\n",
      "Epoch 2/10\n",
      "0s - loss: 0.6907 - acc: 0.6863 - val_loss: 0.6892 - val_acc: 0.6923\n",
      "Epoch 3/10\n",
      "0s - loss: 0.6888 - acc: 0.6863 - val_loss: 0.6872 - val_acc: 0.6923\n",
      "Epoch 4/10\n",
      "0s - loss: 0.6870 - acc: 0.6863 - val_loss: 0.6851 - val_acc: 0.6923\n",
      "Epoch 5/10\n",
      "0s - loss: 0.6850 - acc: 0.6863 - val_loss: 0.6829 - val_acc: 0.6923\n",
      "Epoch 6/10\n",
      "0s - loss: 0.6817 - acc: 0.6863 - val_loss: 0.6806 - val_acc: 0.6923\n",
      "Epoch 7/10\n",
      "0s - loss: 0.6799 - acc: 0.6863 - val_loss: 0.6782 - val_acc: 0.6923\n",
      "Epoch 8/10\n",
      "0s - loss: 0.6780 - acc: 0.6863 - val_loss: 0.6757 - val_acc: 0.6923\n",
      "Epoch 9/10\n",
      "0s - loss: 0.6744 - acc: 0.6863 - val_loss: 0.6732 - val_acc: 0.6923\n",
      "Epoch 10/10\n",
      "0s - loss: 0.6738 - acc: 0.6863 - val_loss: 0.6705 - val_acc: 0.6923\n"
     ]
    },
    {
     "data": {
      "image/png": "[encoded data removed]",
      "text/plain": [
       "<matplotlib.figure.Figure at 0x124f59a20>"
      ]
     },
     "metadata": {},
     "output_type": "display_data"
    },
    {
     "data": {
      "image/png": "[encoded data removed]",
      "text/plain": [
       "<matplotlib.figure.Figure at 0x125700908>"
      ]
     },
     "metadata": {},
     "output_type": "display_data"
    },
    {
     "name": "stdout",
     "output_type": "stream",
     "text": [
      "16/16 [==============================] - 0s\n",
      "\n",
      "\n",
      "accuracy= 0.6875\n",
      "16/16 [==============================] - 0s\n"
     ]
    }
   ],
   "source": [
    "import matplotlib.pyplot as plt\n",
    "def show_train_history(train_history,train,validation):\n",
    "    plt.plot(train_history.history[train])\n",
    "    plt.plot(train_history.history[validation])\n",
    "    plt.title('Train History')\n",
    "    plt.ylabel(train)\n",
    "    plt.xlabel('Epoch')\n",
    "    plt.legend(['train', 'validation'], loc='upper left')\n",
    "    plt.show()\n",
    "\n",
    "    \n",
    "from keras.models import Sequential\n",
    "from keras.layers.core import Dense, Dropout, Activation\n",
    "from keras.layers.embeddings import Embedding\n",
    "from keras.layers.recurrent import LSTM #改成LSTM\n",
    "\n",
    "model = Sequential()\n",
    "\n",
    "model.add(Embedding(output_dim=32,\n",
    "                    input_dim=64, \n",
    "                    input_length=20))\n",
    "model.add(Dropout(0.35))\n",
    "\n",
    "model.add(LSTM(units=8)) #改LSTM\n",
    "\n",
    "model.add(Dense(units=256,activation='relu' ))\n",
    "model.add(Dropout(0.35))\n",
    "\n",
    "model.add(Dense(units=1,activation='sigmoid' ))\n",
    "\n",
    "print(model.summary())\n",
    "\n",
    "model.compile(loss='binary_crossentropy', \n",
    "              optimizer='adam', \n",
    "              metrics=['accuracy'])\n",
    "\n",
    "train_history =model.fit(x_train, train_label, batch_size=100, \n",
    "                         epochs=10,verbose=2,\n",
    "                         validation_split=0.2)\n",
    "\n",
    "show_train_history(train_history,'acc','val_acc')\n",
    "show_train_history(train_history,'loss','val_loss')\n",
    "\n",
    "\n",
    "######################### 實際測驗得分\n",
    "scores = model.evaluate(x_test, test_label)\n",
    "print('\\n')\n",
    "print('accuracy=',scores[1])\n",
    "\n",
    "######################### 紀錄模型預測情形（答案卷）\n",
    "prediction = model.predict_classes(x_test)"
   ]
  },
  {
   "cell_type": "markdown",
   "metadata": {
    "collapsed": true
   },
   "source": [
    "# Twitter_airline_sentiment 實戰"
   ]
  },
  {
   "cell_type": "code",
   "execution_count": 44,
   "metadata": {
    "collapsed": false
   },
   "outputs": [
    {
     "data": {
      "text/html": [
       "<div>\n",
       "<table border=\"1\" class=\"dataframe\">\n",
       "  <thead>\n",
       "    <tr style=\"text-align: right;\">\n",
       "      <th></th>\n",
       "      <th>tweet_id</th>\n",
       "      <th>airline_sentiment</th>\n",
       "      <th>airline_sentiment_confidence</th>\n",
       "      <th>negativereason</th>\n",
       "      <th>negativereason_confidence</th>\n",
       "      <th>airline</th>\n",
       "      <th>airline_sentiment_gold</th>\n",
       "      <th>name</th>\n",
       "      <th>negativereason_gold</th>\n",
       "      <th>retweet_count</th>\n",
       "      <th>text</th>\n",
       "      <th>tweet_coord</th>\n",
       "      <th>tweet_created</th>\n",
       "      <th>tweet_location</th>\n",
       "      <th>user_timezone</th>\n",
       "    </tr>\n",
       "  </thead>\n",
       "  <tbody>\n",
       "    <tr>\n",
       "      <th>0</th>\n",
       "      <td>570306133677760513</td>\n",
       "      <td>neutral</td>\n",
       "      <td>1.0000</td>\n",
       "      <td>NaN</td>\n",
       "      <td>NaN</td>\n",
       "      <td>Virgin America</td>\n",
       "      <td>NaN</td>\n",
       "      <td>cairdin</td>\n",
       "      <td>NaN</td>\n",
       "      <td>0</td>\n",
       "      <td>@VirginAmerica What @dhepburn said.</td>\n",
       "      <td>NaN</td>\n",
       "      <td>2015-02-24 11:35:52 -0800</td>\n",
       "      <td>NaN</td>\n",
       "      <td>Eastern Time (US &amp; Canada)</td>\n",
       "    </tr>\n",
       "    <tr>\n",
       "      <th>1</th>\n",
       "      <td>570301130888122368</td>\n",
       "      <td>positive</td>\n",
       "      <td>0.3486</td>\n",
       "      <td>NaN</td>\n",
       "      <td>0.0000</td>\n",
       "      <td>Virgin America</td>\n",
       "      <td>NaN</td>\n",
       "      <td>jnardino</td>\n",
       "      <td>NaN</td>\n",
       "      <td>0</td>\n",
       "      <td>@VirginAmerica plus you've added commercials t...</td>\n",
       "      <td>NaN</td>\n",
       "      <td>2015-02-24 11:15:59 -0800</td>\n",
       "      <td>NaN</td>\n",
       "      <td>Pacific Time (US &amp; Canada)</td>\n",
       "    </tr>\n",
       "    <tr>\n",
       "      <th>2</th>\n",
       "      <td>570301083672813571</td>\n",
       "      <td>neutral</td>\n",
       "      <td>0.6837</td>\n",
       "      <td>NaN</td>\n",
       "      <td>NaN</td>\n",
       "      <td>Virgin America</td>\n",
       "      <td>NaN</td>\n",
       "      <td>yvonnalynn</td>\n",
       "      <td>NaN</td>\n",
       "      <td>0</td>\n",
       "      <td>@VirginAmerica I didn't today... Must mean I n...</td>\n",
       "      <td>NaN</td>\n",
       "      <td>2015-02-24 11:15:48 -0800</td>\n",
       "      <td>Lets Play</td>\n",
       "      <td>Central Time (US &amp; Canada)</td>\n",
       "    </tr>\n",
       "    <tr>\n",
       "      <th>3</th>\n",
       "      <td>570301031407624196</td>\n",
       "      <td>negative</td>\n",
       "      <td>1.0000</td>\n",
       "      <td>Bad Flight</td>\n",
       "      <td>0.7033</td>\n",
       "      <td>Virgin America</td>\n",
       "      <td>NaN</td>\n",
       "      <td>jnardino</td>\n",
       "      <td>NaN</td>\n",
       "      <td>0</td>\n",
       "      <td>@VirginAmerica it's really aggressive to blast...</td>\n",
       "      <td>NaN</td>\n",
       "      <td>2015-02-24 11:15:36 -0800</td>\n",
       "      <td>NaN</td>\n",
       "      <td>Pacific Time (US &amp; Canada)</td>\n",
       "    </tr>\n",
       "    <tr>\n",
       "      <th>4</th>\n",
       "      <td>570300817074462722</td>\n",
       "      <td>negative</td>\n",
       "      <td>1.0000</td>\n",
       "      <td>Can't Tell</td>\n",
       "      <td>1.0000</td>\n",
       "      <td>Virgin America</td>\n",
       "      <td>NaN</td>\n",
       "      <td>jnardino</td>\n",
       "      <td>NaN</td>\n",
       "      <td>0</td>\n",
       "      <td>@VirginAmerica and it's a really big bad thing...</td>\n",
       "      <td>NaN</td>\n",
       "      <td>2015-02-24 11:14:45 -0800</td>\n",
       "      <td>NaN</td>\n",
       "      <td>Pacific Time (US &amp; Canada)</td>\n",
       "    </tr>\n",
       "  </tbody>\n",
       "</table>\n",
       "</div>"
      ],
      "text/plain": [
       "             tweet_id airline_sentiment  airline_sentiment_confidence  \\\n",
       "0  570306133677760513           neutral                        1.0000   \n",
       "1  570301130888122368          positive                        0.3486   \n",
       "2  570301083672813571           neutral                        0.6837   \n",
       "3  570301031407624196          negative                        1.0000   \n",
       "4  570300817074462722          negative                        1.0000   \n",
       "\n",
       "  negativereason  negativereason_confidence         airline  \\\n",
       "0            NaN                        NaN  Virgin America   \n",
       "1            NaN                     0.0000  Virgin America   \n",
       "2            NaN                        NaN  Virgin America   \n",
       "3     Bad Flight                     0.7033  Virgin America   \n",
       "4     Can't Tell                     1.0000  Virgin America   \n",
       "\n",
       "  airline_sentiment_gold        name negativereason_gold  retweet_count  \\\n",
       "0                    NaN     cairdin                 NaN              0   \n",
       "1                    NaN    jnardino                 NaN              0   \n",
       "2                    NaN  yvonnalynn                 NaN              0   \n",
       "3                    NaN    jnardino                 NaN              0   \n",
       "4                    NaN    jnardino                 NaN              0   \n",
       "\n",
       "                                                text tweet_coord  \\\n",
       "0                @VirginAmerica What @dhepburn said.         NaN   \n",
       "1  @VirginAmerica plus you've added commercials t...         NaN   \n",
       "2  @VirginAmerica I didn't today... Must mean I n...         NaN   \n",
       "3  @VirginAmerica it's really aggressive to blast...         NaN   \n",
       "4  @VirginAmerica and it's a really big bad thing...         NaN   \n",
       "\n",
       "               tweet_created tweet_location               user_timezone  \n",
       "0  2015-02-24 11:35:52 -0800            NaN  Eastern Time (US & Canada)  \n",
       "1  2015-02-24 11:15:59 -0800            NaN  Pacific Time (US & Canada)  \n",
       "2  2015-02-24 11:15:48 -0800      Lets Play  Central Time (US & Canada)  \n",
       "3  2015-02-24 11:15:36 -0800            NaN  Pacific Time (US & Canada)  \n",
       "4  2015-02-24 11:14:45 -0800            NaN  Pacific Time (US & Canada)  "
      ]
     },
     "execution_count": 44,
     "metadata": {},
     "output_type": "execute_result"
    }
   ],
   "source": [
    "filepath = '/Users/mac/Desktop/Kaggle_datasets/Twitter_air_sentiment/'\n",
    "filename02 = 'Tweets.csv'\n",
    "\n",
    "df = pd.read_csv(os.path.join(filepath, filename02))\n",
    "df.head()"
   ]
  },
  {
   "cell_type": "code",
   "execution_count": 48,
   "metadata": {
    "collapsed": false
   },
   "outputs": [
    {
     "data": {
      "text/html": [
       "<div>\n",
       "<table border=\"1\" class=\"dataframe\">\n",
       "  <thead>\n",
       "    <tr style=\"text-align: right;\">\n",
       "      <th></th>\n",
       "      <th>tweet_id</th>\n",
       "      <th>airline_sentiment</th>\n",
       "      <th>airline_sentiment_confidence</th>\n",
       "      <th>negativereason</th>\n",
       "      <th>negativereason_confidence</th>\n",
       "      <th>airline</th>\n",
       "      <th>airline_sentiment_gold</th>\n",
       "      <th>name</th>\n",
       "      <th>negativereason_gold</th>\n",
       "      <th>retweet_count</th>\n",
       "      <th>text</th>\n",
       "      <th>tweet_coord</th>\n",
       "      <th>tweet_created</th>\n",
       "      <th>tweet_location</th>\n",
       "      <th>user_timezone</th>\n",
       "    </tr>\n",
       "  </thead>\n",
       "  <tbody>\n",
       "    <tr>\n",
       "      <th>14635</th>\n",
       "      <td>569587686496825344</td>\n",
       "      <td>positive</td>\n",
       "      <td>0.3487</td>\n",
       "      <td>NaN</td>\n",
       "      <td>0.0000</td>\n",
       "      <td>American</td>\n",
       "      <td>NaN</td>\n",
       "      <td>KristenReenders</td>\n",
       "      <td>NaN</td>\n",
       "      <td>0</td>\n",
       "      <td>@AmericanAir thank you we got on a different f...</td>\n",
       "      <td>NaN</td>\n",
       "      <td>2015-02-22 12:01:01 -0800</td>\n",
       "      <td>NaN</td>\n",
       "      <td>NaN</td>\n",
       "    </tr>\n",
       "    <tr>\n",
       "      <th>14636</th>\n",
       "      <td>569587371693355008</td>\n",
       "      <td>negative</td>\n",
       "      <td>1.0000</td>\n",
       "      <td>Customer Service Issue</td>\n",
       "      <td>1.0000</td>\n",
       "      <td>American</td>\n",
       "      <td>NaN</td>\n",
       "      <td>itsropes</td>\n",
       "      <td>NaN</td>\n",
       "      <td>0</td>\n",
       "      <td>@AmericanAir leaving over 20 minutes Late Flig...</td>\n",
       "      <td>NaN</td>\n",
       "      <td>2015-02-22 11:59:46 -0800</td>\n",
       "      <td>Texas</td>\n",
       "      <td>NaN</td>\n",
       "    </tr>\n",
       "    <tr>\n",
       "      <th>14637</th>\n",
       "      <td>569587242672398336</td>\n",
       "      <td>neutral</td>\n",
       "      <td>1.0000</td>\n",
       "      <td>NaN</td>\n",
       "      <td>NaN</td>\n",
       "      <td>American</td>\n",
       "      <td>NaN</td>\n",
       "      <td>sanyabun</td>\n",
       "      <td>NaN</td>\n",
       "      <td>0</td>\n",
       "      <td>@AmericanAir Please bring American Airlines to...</td>\n",
       "      <td>NaN</td>\n",
       "      <td>2015-02-22 11:59:15 -0800</td>\n",
       "      <td>Nigeria,lagos</td>\n",
       "      <td>NaN</td>\n",
       "    </tr>\n",
       "    <tr>\n",
       "      <th>14638</th>\n",
       "      <td>569587188687634433</td>\n",
       "      <td>negative</td>\n",
       "      <td>1.0000</td>\n",
       "      <td>Customer Service Issue</td>\n",
       "      <td>0.6659</td>\n",
       "      <td>American</td>\n",
       "      <td>NaN</td>\n",
       "      <td>SraJackson</td>\n",
       "      <td>NaN</td>\n",
       "      <td>0</td>\n",
       "      <td>@AmericanAir you have my money, you change my ...</td>\n",
       "      <td>NaN</td>\n",
       "      <td>2015-02-22 11:59:02 -0800</td>\n",
       "      <td>New Jersey</td>\n",
       "      <td>Eastern Time (US &amp; Canada)</td>\n",
       "    </tr>\n",
       "    <tr>\n",
       "      <th>14639</th>\n",
       "      <td>569587140490866689</td>\n",
       "      <td>neutral</td>\n",
       "      <td>0.6771</td>\n",
       "      <td>NaN</td>\n",
       "      <td>0.0000</td>\n",
       "      <td>American</td>\n",
       "      <td>NaN</td>\n",
       "      <td>daviddtwu</td>\n",
       "      <td>NaN</td>\n",
       "      <td>0</td>\n",
       "      <td>@AmericanAir we have 8 ppl so we need 2 know h...</td>\n",
       "      <td>NaN</td>\n",
       "      <td>2015-02-22 11:58:51 -0800</td>\n",
       "      <td>dallas, TX</td>\n",
       "      <td>NaN</td>\n",
       "    </tr>\n",
       "  </tbody>\n",
       "</table>\n",
       "</div>"
      ],
      "text/plain": [
       "                 tweet_id airline_sentiment  airline_sentiment_confidence  \\\n",
       "14635  569587686496825344          positive                        0.3487   \n",
       "14636  569587371693355008          negative                        1.0000   \n",
       "14637  569587242672398336           neutral                        1.0000   \n",
       "14638  569587188687634433          negative                        1.0000   \n",
       "14639  569587140490866689           neutral                        0.6771   \n",
       "\n",
       "               negativereason  negativereason_confidence   airline  \\\n",
       "14635                     NaN                     0.0000  American   \n",
       "14636  Customer Service Issue                     1.0000  American   \n",
       "14637                     NaN                        NaN  American   \n",
       "14638  Customer Service Issue                     0.6659  American   \n",
       "14639                     NaN                     0.0000  American   \n",
       "\n",
       "      airline_sentiment_gold             name negativereason_gold  \\\n",
       "14635                    NaN  KristenReenders                 NaN   \n",
       "14636                    NaN         itsropes                 NaN   \n",
       "14637                    NaN         sanyabun                 NaN   \n",
       "14638                    NaN       SraJackson                 NaN   \n",
       "14639                    NaN        daviddtwu                 NaN   \n",
       "\n",
       "       retweet_count                                               text  \\\n",
       "14635              0  @AmericanAir thank you we got on a different f...   \n",
       "14636              0  @AmericanAir leaving over 20 minutes Late Flig...   \n",
       "14637              0  @AmericanAir Please bring American Airlines to...   \n",
       "14638              0  @AmericanAir you have my money, you change my ...   \n",
       "14639              0  @AmericanAir we have 8 ppl so we need 2 know h...   \n",
       "\n",
       "      tweet_coord              tweet_created tweet_location  \\\n",
       "14635         NaN  2015-02-22 12:01:01 -0800            NaN   \n",
       "14636         NaN  2015-02-22 11:59:46 -0800          Texas   \n",
       "14637         NaN  2015-02-22 11:59:15 -0800  Nigeria,lagos   \n",
       "14638         NaN  2015-02-22 11:59:02 -0800     New Jersey   \n",
       "14639         NaN  2015-02-22 11:58:51 -0800     dallas, TX   \n",
       "\n",
       "                    user_timezone  \n",
       "14635                         NaN  \n",
       "14636                         NaN  \n",
       "14637                         NaN  \n",
       "14638  Eastern Time (US & Canada)  \n",
       "14639                         NaN  "
      ]
     },
     "execution_count": 48,
     "metadata": {},
     "output_type": "execute_result"
    }
   ],
   "source": [
    "df.tail()"
   ]
  },
  {
   "cell_type": "code",
   "execution_count": 45,
   "metadata": {
    "collapsed": false
   },
   "outputs": [
    {
     "name": "stdout",
     "output_type": "stream",
     "text": [
      "<class 'pandas.core.frame.DataFrame'>\n",
      "RangeIndex: 14640 entries, 0 to 14639\n",
      "Data columns (total 15 columns):\n",
      "tweet_id                        14640 non-null int64\n",
      "airline_sentiment               14640 non-null object\n",
      "airline_sentiment_confidence    14640 non-null float64\n",
      "negativereason                  9178 non-null object\n",
      "negativereason_confidence       10522 non-null float64\n",
      "airline                         14640 non-null object\n",
      "airline_sentiment_gold          40 non-null object\n",
      "name                            14640 non-null object\n",
      "negativereason_gold             32 non-null object\n",
      "retweet_count                   14640 non-null int64\n",
      "text                            14640 non-null object\n",
      "tweet_coord                     1019 non-null object\n",
      "tweet_created                   14640 non-null object\n",
      "tweet_location                  9907 non-null object\n",
      "user_timezone                   9820 non-null object\n",
      "dtypes: float64(2), int64(2), object(11)\n",
      "memory usage: 1.7+ MB\n"
     ]
    }
   ],
   "source": [
    "df.info() #答案label應該是airline_sentiment"
   ]
  },
  {
   "cell_type": "code",
   "execution_count": 46,
   "metadata": {
    "collapsed": false
   },
   "outputs": [
    {
     "data": {
      "text/plain": [
       "negative    9178\n",
       "neutral     3099\n",
       "positive    2363\n",
       "Name: airline_sentiment, dtype: int64"
      ]
     },
     "execution_count": 46,
     "metadata": {},
     "output_type": "execute_result"
    }
   ],
   "source": [
    "df.airline_sentiment.value_counts()"
   ]
  },
  {
   "cell_type": "code",
   "execution_count": 47,
   "metadata": {
    "collapsed": false
   },
   "outputs": [
    {
     "data": {
      "text/plain": [
       "United            3822\n",
       "US Airways        2913\n",
       "American          2759\n",
       "Southwest         2420\n",
       "Delta             2222\n",
       "Virgin America     504\n",
       "Name: airline, dtype: int64"
      ]
     },
     "execution_count": 47,
     "metadata": {},
     "output_type": "execute_result"
    }
   ],
   "source": [
    "df.airline.value_counts()"
   ]
  },
  {
   "cell_type": "markdown",
   "metadata": {},
   "source": [
    "### 嘗試消除航空公司的tag，可是有點麻煩，改天研究"
   ]
  },
  {
   "cell_type": "code",
   "execution_count": 191,
   "metadata": {
    "collapsed": false
   },
   "outputs": [],
   "source": [
    "#消除掉航空公司的tag\n",
    "airlines = ['@united ','@USAirways ','@AmericanAir ','@SouthwestAir ','@Delta ','@VirginAmerica ']\n",
    "texts = df.text.values.tolist()\n",
    "text_sub = []\n",
    "\n",
    "for text in texts:\n",
    "    count = 0\n",
    "    for airline in airlines:\n",
    "        count += 1\n",
    "        if airline in text:\n",
    "            tmp = text.replace(airline,'')\n",
    "            text_sub.append(tmp)\n",
    "        else:\n",
    "            if count == 6:\n",
    "                text_sub.append(text)"
   ]
  },
  {
   "cell_type": "code",
   "execution_count": 192,
   "metadata": {
    "collapsed": false
   },
   "outputs": [
    {
     "data": {
      "text/plain": [
       "['What @dhepburn said.',\n",
       " \"plus you've added commercials to the experience... tacky.\",\n",
       " \"I didn't today... Must mean I need to take another trip!\",\n",
       " 'it\\'s really aggressive to blast obnoxious \"entertainment\" in your guests\\' faces &amp; they have little recourse',\n",
       " \"and it's a really big bad thing about it\"]"
      ]
     },
     "execution_count": 192,
     "metadata": {},
     "output_type": "execute_result"
    }
   ],
   "source": [
    "text_sub[0:5] #成功踢除航空公司tag"
   ]
  },
  {
   "cell_type": "code",
   "execution_count": 193,
   "metadata": {
    "collapsed": false
   },
   "outputs": [
    {
     "data": {
      "text/plain": [
       "['@AmericanAir Please bring American Airlines to #BlackBerry10',\n",
       " \"you have my money, you change my flight, and don't answer your phones! Any other suggestions so I can make my commitment??\",\n",
       " \"@AmericanAir you have my money, you change my flight, and don't answer your phones! Any other suggestions so I can make my commitment??\",\n",
       " 'we have 8 ppl so we need 2 know how many seats are on the next flight. Plz put us on standby for 4 people on the next flight?',\n",
       " '@AmericanAir we have 8 ppl so we need 2 know how many seats are on the next flight. Plz put us on standby for 4 people on the next flight?']"
      ]
     },
     "execution_count": 193,
     "metadata": {},
     "output_type": "execute_result"
    }
   ],
   "source": [
    "text_sub[-5:] #成功踢除航空公司tag"
   ]
  },
  {
   "cell_type": "code",
   "execution_count": 194,
   "metadata": {
    "collapsed": false
   },
   "outputs": [
    {
     "data": {
      "text/plain": [
       "26366"
      ]
     },
     "execution_count": 194,
     "metadata": {},
     "output_type": "execute_result"
    }
   ],
   "source": [
    "len(text_sub)"
   ]
  },
  {
   "cell_type": "markdown",
   "metadata": {},
   "source": [
    "### 不拿掉航空公司的tag"
   ]
  },
  {
   "cell_type": "code",
   "execution_count": 195,
   "metadata": {
    "collapsed": false
   },
   "outputs": [],
   "source": [
    "feature = np.array(df['text'])\n",
    "\n",
    "dict_label = {'negative':-1, 'neutral':0, 'positive':1}\n",
    "label = df['airline_sentiment'].map(dict_label).values\n",
    "label_onehot = pd.get_dummies(df['airline_sentiment'])\n",
    "\n",
    "\n",
    "cut_point = round(len(df)*0.8)\n",
    "train_feature = np.array(feature[:cut_point])\n",
    "train_label = np.array(label[:cut_point])\n",
    "train_label_onehot = np.array(label_onehot[:cut_point])\n",
    "\n",
    "test_feature = np.array(feature[cut_point:])\n",
    "test_label = np.array(label[cut_point:])\n",
    "test_label_onehot = np.array(label_onehot[cut_point:])"
   ]
  },
  {
   "cell_type": "markdown",
   "metadata": {},
   "source": [
    "# Scikit-Learn:不認真調參數的話，效果比訓練過後的DL還差"
   ]
  },
  {
   "cell_type": "code",
   "execution_count": 265,
   "metadata": {
    "collapsed": false
   },
   "outputs": [],
   "source": [
    "from sklearn import preprocessing\n",
    "from sklearn.feature_extraction.text import CountVectorizer\n",
    "from sklearn.feature_extraction.text import TfidfVectorizer\n",
    "tfid = TfidfVectorizer()\n",
    "vect = CountVectorizer()"
   ]
  },
  {
   "cell_type": "markdown",
   "metadata": {},
   "source": [
    "## naive_bayes.MultinomialNB()"
   ]
  },
  {
   "cell_type": "code",
   "execution_count": 266,
   "metadata": {
    "collapsed": false
   },
   "outputs": [
    {
     "name": "stdout",
     "output_type": "stream",
     "text": [
      "             precision    recall  f1-score   support\n",
      "\n",
      "         -1       0.77      0.97      0.86      2327\n",
      "          0       0.72      0.41      0.52       772\n",
      "          1       0.87      0.48      0.62       561\n",
      "\n",
      "avg / total       0.78      0.77      0.75      3660\n",
      "\n"
     ]
    }
   ],
   "source": [
    "from sklearn import naive_bayes\n",
    "\n",
    "x_train, x_test, y_train, y_test = train_test_split(feature, label ,random_state=0)\n",
    "\n",
    "x_train_dtm = vect.fit_transform(x_train) #把文本內容變成向量\n",
    "x_test_dtm = vect.transform(x_test)\n",
    "\n",
    "clf = naive_bayes.MultinomialNB()\n",
    "clf.fit(x_train_dtm,y_train)\n",
    "y_predict = clf.predict(x_test_dtm)\n",
    "\n",
    "print(classification_report(y_test,y_predict))"
   ]
  },
  {
   "cell_type": "code",
   "execution_count": 273,
   "metadata": {
    "collapsed": false
   },
   "outputs": [
    {
     "data": {
      "text/plain": [
       "array([-1, -1,  1, -1,  1])"
      ]
     },
     "execution_count": 273,
     "metadata": {},
     "output_type": "execute_result"
    }
   ],
   "source": [
    "#測試自創語句\n",
    "string = ['I hate waiting. fuck you airline. They only want to take my money.',\n",
    "          'I fucking love this airline',\n",
    "          'I love this airline',\n",
    "          'It rains a lot here',\n",
    "          'Good job']\n",
    "str_trans = vect.transform(string)\n",
    "clf.predict(str_trans)"
   ]
  },
  {
   "cell_type": "markdown",
   "metadata": {},
   "source": [
    "## ensemble.RandomForestClassifier()"
   ]
  },
  {
   "cell_type": "code",
   "execution_count": 241,
   "metadata": {
    "collapsed": false
   },
   "outputs": [
    {
     "name": "stdout",
     "output_type": "stream",
     "text": [
      "             precision    recall  f1-score   support\n",
      "\n",
      "         -1       0.76      0.93      0.84      2327\n",
      "          0       0.57      0.38      0.45       772\n",
      "          1       0.74      0.40      0.52       561\n",
      "\n",
      "avg / total       0.72      0.73      0.71      3660\n",
      "\n"
     ]
    }
   ],
   "source": [
    "from sklearn import ensemble\n",
    "\n",
    "x_train, x_test, y_train, y_test = train_test_split(feature, label ,random_state=0)\n",
    "\n",
    "x_train_dtm = vect.fit_transform(x_train)\n",
    "x_test_dtm = vect.transform(x_test)\n",
    "\n",
    "clf=ensemble.RandomForestClassifier()\n",
    "clf.fit(x_train_dtm, y_train)\n",
    "y_predict = clf.predict(x_test_dtm)\n",
    "\n",
    "print(classification_report(y_test, y_predict))"
   ]
  },
  {
   "cell_type": "markdown",
   "metadata": {},
   "source": [
    "## tree.DecisionTreeClassifier()"
   ]
  },
  {
   "cell_type": "code",
   "execution_count": 240,
   "metadata": {
    "collapsed": false
   },
   "outputs": [
    {
     "name": "stdout",
     "output_type": "stream",
     "text": [
      "             precision    recall  f1-score   support\n",
      "\n",
      "         -1       0.80      0.81      0.81      2327\n",
      "          0       0.49      0.50      0.50       772\n",
      "          1       0.58      0.52      0.55       561\n",
      "\n",
      "avg / total       0.70      0.70      0.70      3660\n",
      "\n"
     ]
    }
   ],
   "source": [
    "from sklearn import tree\n",
    "\n",
    "x_train, x_test, y_train, y_test = train_test_split(feature, label ,random_state=0)\n",
    "\n",
    "x_train_dtm = vect.fit_transform(x_train)\n",
    "x_test_dtm = vect.transform(x_test)\n",
    "\n",
    "clf=tree.DecisionTreeClassifier()\n",
    "clf.fit(x_train_dtm,y_train)\n",
    "y_predict = clf.predict(x_test_dtm)\n",
    "\n",
    "print(classification_report(y_test,y_predict))"
   ]
  },
  {
   "cell_type": "markdown",
   "metadata": {},
   "source": [
    "# Keras: Tokenizer，texts_to_sequences，sequence.pad_sequences補齊"
   ]
  },
  {
   "cell_type": "code",
   "execution_count": 284,
   "metadata": {
    "collapsed": false
   },
   "outputs": [
    {
     "name": "stdout",
     "output_type": "stream",
     "text": [
      "11712\n"
     ]
    }
   ],
   "source": [
    "from keras.preprocessing import sequence\n",
    "from keras.preprocessing.text import Tokenizer\n",
    "\n",
    "token = Tokenizer(num_words=5000)\n",
    "token.fit_on_texts(train_feature) #用token讀取新文字 \n",
    "\n",
    "print(token.document_count)"
   ]
  },
  {
   "cell_type": "code",
   "execution_count": 285,
   "metadata": {
    "collapsed": false
   },
   "outputs": [
    {
     "name": "stdout",
     "output_type": "stream",
     "text": [
      "{'screwing': 3048, 'tennis': 8288, 'waitingagain': 13469, '423': 10154, '514': 7220, 'burn': 4861, '03': 4774, 'dominick': 12720, 'apparent': 3844, 'itravelalot': 10315, 'scale': 2738, 'flight911': 6773, 'unitedsucksdick': 7470, 'ixm3t5mizc': 11332, 'shameful': 1576, 'learning': 5682, '4124': 6463, 'cart': 2171, 'await': 12710, 'nbr': 5730, 'justgetmehome': 8188, 'elp': 7728, 'onlyblue': 11916, 'h6ce3mwcqj': 11979, 'moose': 6026, 'rocking': 5348, 'noservice': 4483, 'jerks': 13383, 'size': 1843, 'pooling': 3281, 'napkins': 10647, 'cough': 11446, 'failures': 3472, 'base': 3720, 'elizabeth': 8813, 'reposting': 14014, 'jknwugj778': 11885, 'predicted': 5562, 'looong': 4723, 'tgcyalate': 9640, \"they're\": 646, 'smelly': 13468, '3636': 7303, '56': 3512, 'interior': 6915, 'sprint': 6201, 'goodcustomerservice': 11398, '4229': 9597, 'mitchell': 12558, 'gsb2j3c4gm': 5925, 'o': 912, 'dragonss': 1738, 'daniel': 11098, 'whathappend': 9200, 'tells': 1039, 'risk': 2881, 'overwhelming': 5774, 'couple': 1292, 'account': 415, 'nephew': 3907, 'edits': 11250, 'courses': 12018, '8b': 4898, 'pyalebgkjt': 5991, 'ones': 1536, 'eight': 5659, 'jh”': 3499, 'fransico': 7127, 'doumented': 8201, 'instead': 363, 'fjbfsc': 9943, 'whagpknnlf': 9447, 'update': 327, 'signin': 8710, 'assure': 4744, 'story': 1136, 'suffer': 6716, \"old's\": 9858, 'drwinston001': 12174, 'accidents': 9177, '🍷👍💺✈️': 5885, 'shitty': 2145, 'bushug': 8032, 'hospice': 13398, 'bridges': 11119, 'account…': 12926, 'link': 443, 'illegal': 2532, 'ultimately': 12811, 'alaska': 12218, '85': 8964, '🙏🙏🙏✌️✌️✌️🙏🙏🙏': 3324, 'aircraft': 817, 'part': 770, 'lit': 4412, 'rr': 1273, 'ashevilleair': 9916, 'zj76': 8042, 'kvfwajvvid': 8496, 'nothappy': 1605, 'beijing': 10189, 'communicating': 8578, '167': 12438, 'noneother': 6162, 'method': 1872, 'announcer': 9238, 'livewelltraveled': 6182, 'bitcoin': 11606, 'rivals': 7568, 'rosetta': 6298, '108': 11777, 'beatriz': 12134, 'toronto': 3573, 'saxonandparole': 11936, 'accountability': 3019, 'automobiles': 8534, 'schiphol': 8273, 'bypass': 8596, 'these': 555, 'bout': 13519, 'synch': 12842, 'peeled': 12791, 'revue': 5999, 'practical': 2972, 'happiness': 3984, '4411': 8678, 'permanent': 10071, 'daily': 1129, '❤️ny': 11086, 'h46ht1oz40': 9166, 'bold': 5054, 'dvr': 8509, 'gaga': 4156, 'upload': 4391, '2nzh3qoazo': 11779, 'mood': 4228, 'guidelines': 3629, 'posts': 6076, 'onion': 13731, 'explanation': 1082, 'checkpoint': 4632, 'hillaconlin': 10386, 'seetonight': 12032, 'sellout': 8359, 'song': 1517, 'chrishasmadeusblush': 11222, 'xzbajmiekx': 7387, 'systemwide': 4318, 'spurs': 12040, 'jetway': 1400, '800': 685, 'turns': 1832, 'worstservice': 6844, 'radish': 9804, 'grabbed': 5230, 'elderly': 3237, 'chocolate': 3138, 'grassy': 9331, '200': 581, 'burroughs': 13475, 'raising': 6630, 'cheers': 1445, '3138': 9211, '1870': 13758, 'qgwk10dewv': 7869, 'to': 1, 'fueled': 4550, 'dates': 1802, 'days': 186, 'o0745apiau': 8392, 'stillbagless': 13161, 'ewwgi97gdx': 5977, '10m': 12899, 'thru': 691, \"could've\": 3199, 'hayleymad': 5353, 'diffused': 11132, '😄': 3940, 'celebrating': 3396, 'yearly': 10120, \"'flight'\": 9260, 'encounter': 13850, '2155': 9054, 'diligent': 7506, 'sticking': 3830, 'rodeo': 12725, '3589': 7914, 'nasty': 1986, 'negligent': 6392, 'handing': 5276, 'jockeying': 7233, '1212': 6661, 'scvpools': 7765, '1183': 11529, 've': 13091, '͜ʖ': 5292, 'hilton': 9257, '🙌😏': 9502, 'precludes': 9368, 'seeing': 1666, 'request”': 7560, 'thurs': 3408, 'ac': 2968, 'cancun': 1463, 'medallion': 8375, '2696': 13693, 'boards': 1575, 'bringyourown': 7756, 'implement': 9727, 'fans': 2178, 'gettingthirsty': 9232, 'gif': 11162, 'tf': 11352, 'you’ve': 5989, 'noreimbursement': 7713, 'boyfriend': 2947, 'tire': 3603, 'existence': 5181, 'consumers': 3407, 'whyyy': 10235, 'ffanixjhwh': 13354, 'fan': 1200, 'values': 4736, 'myvxexperience': 6263, 'outstanding': 1521, 'prompting': 12712, 'troubling': 7584, 'acu': 13329, 'takeresponsibility': 12632, 'surcharge': 8029, '4609': 12916, 'honors': 12969, 'nola': 2700, 'send': 360, 'needed': 652, 'connection…': 13623, 'mb0hvfqb1t”': 10984, 'jerk': 4965, 'logic': 3420, 'probably': 752, 'budget': 3208, 'jeu7od3eyj': 6088, 'ktawbiuuro': 11759, 'parentsonboard': 8955, 'correctly': 1920, 'forelock': 8803, 'rita': 9334, 'october': 2066, 'small': 961, 'fra': 1811, 'stingy': 7144, 'digging': 4226, 'yay': 1834, 'dinner': 2128, 'bonus': 2742, 'bags': 141, 'kcqebeej7s': 13663, '3khgjofgpx': 13504, 'n615jb': 11800, 'divided': 12430, 'going2': 9652, 'cnxn': 4694, 'heated': 11845, 'pereira': 11792, 'kuala': 6454, 'lou': 9137, 'rt“': 11850, 'dmd': 8449, 'mergerdisaster': 13565, 'yeah': 726, 'wish': 658, '345': 5921, 'aisles': 10604, '1h': 5271, 'convince': 4569, 'stars': 3788, 'vbfieo2qjc': 7151, \"he'll\": 4739, 'unfriendlyskies': 1680, 'iphone': 1355, 'stubborn': 11895, 'walls29': 11752, 'airnzusa': 4760, '799': 4117, '😂😂😂😂😂😭😭😭😭😢😢😢😢': 9635, 'begin': 1635, 'punta': 3174, 'assign': 2983, 'worries': 1216, 'hollymais': 9388, 'n33289': 8473, 'i5v9wfbtue': 12691, 'waits': 3224, 'theworstairlineever': 13436, 'boston': 355, 'outlook': 6086, 'flght': 13266, 'inactivity': 12508, 'upcoming': 1942, 'localized': 6377, \"'tough\": 13794, 'neveind': 10395, 'promptly': 3804, 'word': 987, 'bother': 1398, 'resume': 2953, 'presenting': 10134, '424': 3303, 'adjusting': 9767, 'sec': 2496, 'b6': 3291, 'beverage': 4364, 'printer': 12918, '07xhcacjax': 10140, 'exhaustion': 12611, 'continental': 2552, '5lb': 8206, 'solid': 5118, 'beverages': 5573, 'b4': 1397, 'psgrs': 11184, '2016': 4033, 'flamethrowers': 9277, 'more': 104, 'switch': 738, 'began': 4995, 'rudeservice': 12384, 'bogotá': 4627, 'ideologias': 6746, 'ongoing': 7061, 'flight850': 13355, '5722': 11534, 'jetblues': 11120, 'oma': 3575, 'kc': 2273, 'win': 1044, 'xf9mpnaaje': 11420, '1114': 8736, 'a49': 9046, '6th': 2978, 'seatbelt': 4200, 'what': 63, 'grrrrrr': 9214, 'geekstiel': 9939, 'wemosaictogether': 11711, 'childrens': 9735, 'dice': 5158, 'thenationaluae': 3402, 'randomly': 2936, 'nullified': 6366, 'adapted': 6737, 'intl': 1187, 'laura': 10161, 'stroller': 2197, 'dfw': 884, 'drink': 1051, 'kcddod7uff': 10200, 'uncontrollable': 12392, 'hi': 380, 'tonic': 9226, 'grandcayman': 12581, '3130': 3233, 'loves': 2768, 'track': 1523, 'barzegar': 9010, 'umpteen': 6370, 'standards': 4231, 'mean…it': 9164, '5t4fpcgrej': 12114, 'fix': 393, 'tad': 11470, 'e09kej9bv1': 13962, 'authority': 11346, 'internal': 3871, 'solving': 6462, 'focused': 4438, 'competitively': 8701, 'feat': 6569, 'compact': 11447, 'yes': 169, 'differ': 13328, 'livid': 4706, 'legroom': 1604, 'nikon': 11186, 'inconveniences': 7909, 'abcnetwork': 5499, 'jimtrotter': 7685, 'lgjw7b': 8191, 'knees': 3852, 'anythin': 13968, 'truu': 6666, \"reso's\": 10533, 'started': 986, 'jn3v3k3qgv': 13038, 'absolute': 1090, 'headphones': 2474, 'pearl': 11089, 'swwhyhen76': 11636, '1583': 3805, 'communications': 3826, 'fligths': 12540, 'islands': 5664, 'bvfaxdubaq': 9191, 'transpired': 7306, '👏👏👏👏': 10678, 'roam': 8105, 'car': 502, 'log': 1592, 'zambia': 6520, 'minefits': 12675, 'panicked': 6658, 'lower': 1989, 'lineup': 6281, 'yf9nhmwyff': 13050, 'anniversary': 1983, '2008': 11207, 'sandwiches': 13691, 'shoulda': 8536, 'depressing': 10804, '589': 11303, 'g': 2220, 'mbcehcszx3': 10681, 'consecutive': 2850, 'can’t': 2835, 'jackass': 5396, '734': 13197, 'finq5fh6ue': 9305, 'removal': 3426, 'thankfully': 2889, 'owmaxoyehz': 8586, 'usairwaysmobile': 13913, 'mighty': 9357, 'cushion': 4448, 'smallest': 3031, '95': 7467, 'item': 1353, 'ua252': 7398, 'ct': 2854, 'quito': 7291, \"i'll\": 229, 'frequency': 4254, 'conversation': 5185, '1851': 13473, 'overheating': 4697, '470': 14006, 'quoted': 3444, \"you'll\": 1250, 'lamp': 9808, 'show': 372, '5080': 5843, 'ipaamzt7z2': 8146, '578': 10100, 'tags': 4361, '21l': 6812, '83': 12271, '4me': 8162, 'vail': 6592, 'fast': 1157, 'pqm': 7096, 'leak': 13385, 'train': 1252, 'ivr': 3211, 'dc': 552, 'friendliest': 3746, 'marciaveronicaa': 13815, 'above': 1316, 'passenegers': 8822, '7498': 12702, 'uggh': 6924, 'overcharge': 7966, 'byebyeusairline': 10003, 'javascript': 6080, 'nohelponboard': 13590, 'hotmail': 5301, 'nonupgrade': 7646, '67k4n9eq6e': 12127, 'ua230': 7157, 'criminal': 5513, 'kdmq0jps02': 13836, 'swagglikebean': 9774, '9”w': 13481, 'connector': 3484, 'used': 503, 'incidents': 10551, 'grandfather': 3611, 'about': 81, 'accompany': 6341, 'tablet': 2406, 'trees': 5232, 'laissez': 6770, 'exciting': 11418, '261633561838': 10116, 'velcro': 13669, 'fudgin': 12839, 'tell': 286, 'rack': 11847, 'opening': 2199, 'moment': 1647, '4047': 12869, 'hg7veqhghy': 12580, 'centerl': 8344, 'xbqqqbrgvf': 6557, '442998': 10417, 'flyrepublicair': 12856, '1544': 6551, 'jealous': 12641, 'coughed': 8458, '719': 2808, 'awe1701': 13525, 'plan': 1006, 'saipan': 6430, 'preferences': 8619, 'qm9dqbai6g': 6043, 'liked': 12374, 'sunny': 1852, 'lotttttttt': 13194, 'wings': 4245, '18gal': 10722, '3854': 10332, 'ours': 4316, 'colonist': 12351, 'bops': 10979, '8h4': 10357, 'minor': 1664, 'blatantly': 6898, '4158': 9633, '910': 3369, 'vo61lme5ja': 7791, 'mc': 4105, 'bummed': 5428, 'restating': 7483, '2301': 11342, 'reviewing': 5346, 'force': 4897, 'gotten': 1321, 'velour': 9689, 'dfpietra': 6643, 'regards': 3568, 'signage': 12037, 'duffy': 12657, 'occurs': 6739, 'rt': 333, 'hd': 4891, 'machine': 2297, 'remembers': 11906, 'using': 487, 'canister': 10622, 'considering': 1785, 'reassigned': 11878, 'turning': 2405, 'vpdrplxj5a': 11200, 'neighboring': 10813, 'sytycd': 6183, 'ryand2285': 9666, 'nice': 288, 'flightd…incompetence': 12850, 'bathroom': 1952, 'q8vsffrd1u': 9949, 'vineyard': 5127, 'effin': 13324, '😄😄😄': 7913, \"week's\": 4817, '9bzqzqx8dc': 11410, 'inflatable': 11594, 'release': 4069, 'grow': 8256, 'n353jb': 12301, 'incurring': 8569, 'cases': 13678, 'handle': 928, '2053': 8941, '443min': 7384, 'peterstraubmma': 6797, 'order': 983, 'various': 4330, 'stationary': 13871, 'ua4904': 8150, 'reading': 2363, 'too👍': 13746, 'likely': 1241, 'kta': 9047, 'eniqg0buzj': 6012, 'emilylyonss': 14028, 'yummy': 4236, 'enroute': 2764, 'took': 388, 'wmass': 6925, 'refueling': 4365, 'crewe': 7258, 'similar': 2382, 'sticks': 13658, 'jdhadp': 11615, '1249': 6501, 'tejrn09tfw”': 10823, '2d': 2864, 'flightncy': 8882, 'temps': 6752, 'preexisting': 6312, '122': 5311, 'rubbish': 7149, 'disruptions': 13960, 'sapphire': 13374, 'humans': 3639, 'experiencing': 3790, 'loveloughneagh': 13756, 'yx1dqjn8nl': 11646, 'frigid': 3466, 'space': 830, 'happycustomer': 3574, 'exceptionally': 11588, 'kicked': 2226, 'port': 4067, '4232': 7022, '7x9usbj2fv': 10735, '1065': 10947, 'leeds': 12387, 'corporate': 1331, 'effective': 12315, 'beamske': 4102, 'needing': 2511, 'ua276': 6525, 'airtran': 9285, 'joni': 8334, 'nvm': 5335, 'iitojhuikh': 9219, '23': 978, 'e2axlqzwvh': 10937, 'desperately': 3005, 'thai': 6418, '27': 1224, 'erased': 8420, 'winners': 1613, 'autoresponse': 5535, 'teamspirit': 9880, '🙈': 10650, 'ua1523': 7675, '1700': 5130, 'pleasehurryup': 13186, 'mechanicalissue': 13595, 'paying': 660, '8hrs': 4755, 'lgb': 5584, \"849's\": 13420, 'barely': 2034, '8fkqw': 10275, 'crew': 166, 'lfs4pefe6y': 6060, 'rnd': 9467, 'irresponsible': 7003, 'cartagena': 11277, '2hours': 3751, 'rerouted': 1937, 'airlines': 251, 'notgoodenough': 3708, 'doin': 13967, 'individual': 3675, '376': 9265, 'ceo': 561, 'ninadavuluri': 5620, 'tckt': 13777, 'line': 253, 'tripofalifetime': 9968, 'achieving': 9963, 'interaction': 3930, 'chapman': 9677, '805': 5144, 'lengthy': 12447, 'provide': 787, 'looked': 1674, 'codes': 5290, '1133': 12300, 'nh10': 7309, 'improvements': 5092, 'ohio': 5170, '😡😡': 4616, 'path': 3737, 'ns1acfqcdq': 7098, 'rows': 1690, 'cloud': 4903, 'charging': 1055, 'til': 1791, 'leadership': 4633, 'jamie': 9542, '335': 8304, 'hop': 3417, 'samoore10': 9882, 'unspecified': 5429, '4am': 2672, 'goodgriefpeople': 12627, 'flypdx': 4345, '472': 4521, 'honululu': 7877, 'boot': 7251, '35pm': 5362, 'lives': 2432, 'nj': 1725, 'incentive': 2392, \"pandora's\": 11376, 'credit': 306, 'chemistry': 9174, 'zagging': 13416, '170': 9526, 'preggo': 13301, '732': 7472, 'bush': 2640, 'sked': 4368, 'daytonabeach': 12112, 'renting': 3608, '5136': 13622, 'slew': 8068, '1230': 2491, 'vxsafetydance”': 6165, 'hero': 3225, 'creditcardsales': 13448, 'zv2pt6trk9': 5952, 'bcz': 11971, 'transcontinental': 7941, 'mail': 1027, 'marty': 10607, 'evasive': 12002, 'cheeze': 8787, 'with': 23, 'manager': 1803, 'lizautter': 6071, 'neverflyvirginforbusiness': 3340, 'trashy': 7312, 'slots': 4243, 'cat': 13414, 'dunno': 3032, 'birthday': 782, 'reads': 8521, 'tactic': 6950, 'unitedlies': 7437, 'possibility': 5457, 'memories': 3571, 'one': 75, 'hell': 1074, 'touting': 13771, 'sloooooow': 11106, 'mashing': 9517, 'consideration': 4784, 'worstairline': 2638, 'ship': 3085, 'sbgbn7ouxy': 9344, 'amazing💖': 9616, '4372': 8429, '668': 9515, 'semantics': 11843, 'swell': 5107, 'chkd': 5698, '680': 3320, 'markie': 5585, 'briansumers': 10708, 'hv': 2777, 'profitability': 4205, 'sjo': 3590, 'hisc4ndmgz': 6448, 'solo': 3649, 'nrpwmgyv3e': 11431, 'rebecca': 6919, 'hanged': 13147, '1777': 13642, 'flywhonotblue': 11522, '4200': 10022, 'lycarltfhl”': 10929, 'wta5px70a5': 9904, 'asset': 5683, 'steps': 2323, 'happy4them': 12088, 'tight': 2402, 'miranda': 6039, 'flight424': 11786, 'careless': 13037, 'billmelate': 11063, 'offended': 12619, 'jetbluemember': 12131, 'staralliance': 1949, '7th': 2749, 'benefits': 2033, 'workers': 1804, 'pic': 2092, 'acces': 11860, 'us624': 12492, '19jun': 11075, 'laurieameacham': 11071, 'gorgeous': 3292, 'noooooooooooooooooooooope': 6738, 'wjere': 6150, 'does': 216, '😒': 1842, '4278': 12889, 's': 731, 'mammoth': 6493, 'myr': 13505, 'vegetarian': 8049, 'angel': 5618, 'disguised': 13854, 'repeat': 4838, '1557': 5488, 'daddyshome': 13461, 'russell': 7280, 'gg8929': 1982, 'truthful': 13244, 'logs': 7105, '1535': 8467, 'ripoff': 1985, 'celebration': 9625, 'stepitup': 12713, 'breavement': 13555, 'au': 5568, 'buys': 12682, 'propositioned': 13447, 'wearing': 2612, 'dxicoyioxf': 7556, 'backtodelta': 12349, 'failback': 13156, '1180': 7009, 'mxo42': 11358, 'westpalmbeach': 11082, 'referral': 5017, '3586': 8580, 'snowy': 2621, 'rooms': 1781, 'internet': 1276, 'keithlaw': 13446, '👏👏': 3717, '657': 13729, 'platinumeventually': 13141, 'ezee': 8792, 'acosta': 6648, 'silence': 8211, '5268': 12656, 'ce3k': 7118, 'instant': 11413, '👊': 5367, 'corner': 5252, '1773': 13103, 'instagram': 4932, 'oscar': 3825, 'logging': 4924, '2z3hgqprsg': 10943, 'bereavement': 4606, 'unitedfirst': 8781, '4464': 5361, '1689': 7297, 'haha': 878, 'final': 1253, 'glass': 3286, 't1': 6879, 'getittogether': 2796, 'partial': 3511, 'jayvig': 3310, 'slight': 4837, 'steward': 11625, 'template': 13350, 'bgtjfmneot': 12943, 'winterstorm2015': 7067, 'hannah': 4309, 'tuned': 3504, 'aa2595': 12962, 'disproportionate': 5916, 'age': 2149, 'ots': 7318, 'ph6rps': 4387, 'mexico': 1061, '1903': 13104, 'nor': 2100, 'lovetotravel': 10158, 'tweets': 1590, '4435': 4126, 'longstanding': 8535, 'goin': 3952, 'scqujbvsta': 7658, 'cards': 2873, 'okie': 11859, 'heavily': 2763, 'under': 662, 'lodging': 3315, 'tpzhjx7hbt': 11596, 'fuckinf': 10323, 'years': 604, 'werin': 6047, 'nfaqhhr09j': 6708, '4jun': 8066, 'meeting': 1063, 'person': 336, 'closure': 11274, 'craving': 10302, 'inspected': 4769, 'argue': 5717, '1stclass': 6606, '533': 11915, 'criticism': 10110, 'nl': 10370, 'notwheelsup': 11715, 'broke': 1199, 'cakendeath': 13735, 'unorganized': 9630, 'waived': 3412, 'dxux6dbfd3': 11676, 'everglades': 7796, 'fog': 13666, 'uninformed': 9461, 'involved': 5419, 'impolite': 6331, 'down': 273, 'shower': 6442, 'copy': 1891, 'iwoigrlhxb': 9713, 'nbz45jcd1r': 10229, 'sna': 1550, \"airlines'\": 8833, 'answerthephone': 10600, 'q4vnmb': 9286, 'relied': 12758, 'jetbluefame': 10690, 'opportunity': 1623, 'emp': 10405, 'sciencebehindtheexperience': 4150, 'offenders': 7544, 'customers': 237, 'boldflavors': 8759, '4322': 3318, 'continues': 2028, 'myc88': 10880, 'usair': 638, '5594': 12697, 'oversized': 4599, 'scattered': 5828, 'razor': 6484, 'amagrino': 11270, 'aygaoeb6uu': 13290, 'deeply': 6152, 'origin': 4557, 'smiling': 2723, 'bread': 12133, 'lame': 1634, 'mt8splm02v': 13822, 'imvmpnqxai': 11046, 'parked': 2625, 'x5zqssjtrb': 9433, 'sh': 13233, 'sets': 10271, 'zig': 13415, 'privileges': 4901, 'flt348': 11526, 'ua6259': 4536, 'bikes': 10253, 'grrrrrrrr': 12685, 'disconnect': 2632, 'chinese': 6176, 'connex': 7192, 'surat': 13952, 'fact': 761, 'dishonoring': 7199, 'fd2tnyctrb': 11001, 'san68059m': 4533, 'contents': 4547, 'requirements': 10422, 'arvls': 7524, '😊': 1087, 'oregon': 8287, 'applepay': 5672, 'cabin': 813, 'g4wwr6vbrq': 10828, 'assholes': 13061, 'tempting': 11421, 'worthless': 2333, 'recline': 3365, '2464': 9574, '1156': 9301, 'jk': 7433, 'mileagerun': 13600, 'all': 70, 'welllllll': 10902, 'hourdelay': 6987, 'cried': 5401, 'join': 2185, 'younger': 11130, 'phil': 4123, 'refunded': 1149, 'nhlbruins': 11880, 'queues': 8114, 'worstthingever': 10277, 'orangecounty': 3929, 'recruiter': 7616, '8thtime5monthsold': 8072, '9xbo5dakak': 7509, \"ain't\": 4546, 'strayed': 6184, 'mileage': 829, 'winterstorm': 5756, 'threat': 8401, '18009174929': 7893, 'ujfs9zi6kd': 6138, 'gofundme': 12954, 'samantha': 12001, 'blizzard': 5840, 'amaze': 6636, 'glassslipperchallenge': 11913, 'announcement': 1373, 'fispahani': 13959, 'ua1297': 8571, 'sdylukr7pt': 7968, \"tv's\": 3840, 'o3wlainimy': 8977, 'alison': 9497, 'caned': 4513, 'barklays': 14003, '9meozbo4xl': 7731, '2daysofhell': 8625, 'mtn': 8738, 'dobetter': 2725, 'sm': 10857, '45mins': 3865, 'limit': 2137, '6f': 11544, 'imtired': 13176, 'noticing': 4637, 'someone': 175, 'too😊😊': 10992, 'organization': 3016, 'sincerely': 2277, 'warmest': 11619, 'yow': 4690, 'android': 3986, 'hap4gbostu': 11298, 'hood': 10437, 'confident': 4321, 'wind': 3139, 'extent': 4437, '000': 850, 'runway': 536, '5713': 7310, '3763': 6753, 'tyxaztmq1u': 12999, 'strives': 9027, 'agian': 12151, 'pennies': 10481, 'teen': 12860, 'pairing': 6244, 'a380s': 6460, 'presented': 3868, 'level': 1588, 'friendlyteam': 12427, 'purpose': 2498, 'econ': 3677, 'contracts': 8755, 'questions': 1464, 'bhx': 7693, 'swiss': 4806, 'encouraged': 6517, \"dm'ed\": 3631, 'gettingbetter': 9400, 'swa': 537, 'amongst': 4534, 'expectations': 3376, 'coats': 4305, 'notbabysitters': 11839, '🙏🙏🙏': 12781, 'vinyl': 5142, 'leisure': 8677, 'confirming': 3528, 'experienced': 1242, 'upgraded': 1585, 'allowed': 798, 'snowbama': 10463, 'channel': 3404, 'burned': 12745, 'leeannhealey': 10242, '1215pm': 9492, 'gkgkzlawpr': 7503, 'responsibility': 2295, 'travelocity': 4682, \"that'll\": 11244, 'belabor': 6939, '8th': 3567, 'guys😍😍😍': 11138, 'lie': 1179, 'lmfaooo': 10919, 'husain': 13987, 'flightn': 6449, '0ewj7oklji': 7885, 'ua936': 3655, '746': 2935, 'phone': 107, 'visible': 3627, 'swadiversity': 4010, 'poop': 10633, 'sorude': 13041, 'delicious': 12229, 'znsujp86bv': 12346, 'tagged': 4677, '😒👎': 10133, 'caribbean': 5397, 'itscostingmeincome': 11705, 'utah': 2786, 'picture': 1637, 'bring': 648, 'power': 1040, 'ljzdthd9bv': 10026, 'unrivalled': 6416, 'dying': 2183, '3hrs': 1886, '433': 6845, 'who': 179, 'wsgyckciio': 12530, 'hanneslohmann': 11622, 'fleet’s': 10965, \"dm's\": 4902, 'apply': 1269, 'retweeted': 12448, 'idk': 4050, 'cousin': 2883, 'rico': 2414, 'recommended': 3448, 'evermoreroom': 10605, \"site—it's\": 6562, 'sirius': 11742, 'buisness': 9084, 'swfan': 10510, 'ua1116': 3429, 'sundays': 7015, 'patronizing': 5621, 'ali': 3093, 'wilson': 8793, '17mph': 9773, '0316': 12751, '4968': 10458, 'fy6f9rzb9k': 8020, 'sellmypointssoon': 9270, 'vd0tlomtwu': 11737, 'cun': 1579, 'b737': 2136, 'lfgr0nifut': 12189, 'sb': 9471, 'parryaftab': 8494, 'intuitlife': 9040, 'sports': 9208, '380': 9443, '3nsusfsbpv': 9668, 'nochill': 10502, 'kristi': 9229, 'recvd': 13775, 'msbgu': 5520, 'hdndl11785': 7308, '2118': 12897, 'quiche': 8862, 'dos': 9236, 'statusmatch': 6148, 'tld': 5254, 'lined': 9998, 'assist': 979, 'outfitted': 7148, 'finalstretch': 13598, 'trading': 4076, 'refrain': 4692, 'pad': 8018, 'n614sw': 10451, 'nyvv1x3d67': 8801, 'stunning': 4457, 'nw7vx7dgmf': 10184, 'ewk': 9315, '5pm': 3976, 'bowl': 10053, '340': 10958, 'famous': 12357, 'spirited': 12210, 'usuck': 13171, 'maimi': 5496, 'mis': 7399, 'itscold': 11846, 'you': 6, 'betty': 13843, 'nocrew': 5763, 'flight838': 12980, 'delivered': 736, 'steal': 5305, 'xd': 12083, 'callback': 2377, 'indicating': 8905, '3ltx7jkbo9”': 11019, 'spilled': 10524, 'sw”followed': 10313, 'alliance': 1957, 'signed': 1917, '💙💙💙💙': 10998, 'entrees': 8864, 'nofilterneeded': 11325, 'dory': 11239, 'gifting': 11889, 'severally': 13888, '777': 1880, 'jk7qmdfqgf': 6219, '85832': 3919, '12th': 8505, 'deserves': 1382, 'clearing': 4408, '325': 13961, '“': 202, '8je1h3666w': 13010, 'pure': 5489, 'fucking': 1203, 'benjaminokeefe': 11502, 'notch': 2662, 'demo': 6125, 'wewantcomps': 13684, 'listening': 1196, 'forget': 1878, 'cell': 1728, 'osc9oflol3': 12858, 'pitt': 5479, 'boiled': 7978, 'rectified': 5463, 'kciairport': 3380, 'rudely': 5163, '1219': 7977, 'zofwldqxbe': 11828, 'gills': 7050, 'vipliveinthevieyard': 9036, 'ua423': 8408, 'flyingainteasy': 6311, '838': 5721, 'freeconcert': 12293, 'fll': 485, 'lively': 13708, 'oversleeping': 12391, 'enforcing': 5306, 'karajusto': 5391, '6212': 8082, 'stubbornly': 13744, 'valentines': 5227, 'lauren': 2001, '3444': 8010, '2y': 6238, 'organizational': 11280, 'humored': 10457, 'blazer': 6154, 'dallaslovefield': 2514, 'running': 824, '449': 12572, 'exclusive': 10083, '833': 11811, 'unplanned': 7473, 'deed': 9428, 'bffs': 10173, '8000': 7588, 'overheads': 8487, 'caucasity': 10906, 'aggravating': 13080, 'ef4p0hishb': 13904, 'sam': 7514, 'elbows': 7847, '236': 4302, 'lyqrb4hcyu': 12147, 'austrian': 3425, 'topqmvqnjp': 9197, 'particularly': 3056, '566': 11951, 'fkn': 13153, 'reasons': 1703, \"chairman's\": 5716, 'rebooting': 6542, '2ny5tuxfqf': 7021, 'tmccexyaaq': 6715, 'outsourcing': 4761, 'geeeeezzzzz': 13635, 'ltf2qud3xc': 11488, 'equip': 9276, '900': 3856, 'roundtrip': 1970, 'cpus': 7841, 'ua1724': 8080, 'flyitforward': 2803, 'fox8news': 9228, 'sunrises': 10673, 'gerne': 11061, 'insight': 5433, 'a3': 4732, 'woohoo': 5375, \"father's\": 12660, 'red': 1277, \"m'good\": 11180, 'diverged': 7688, 'jeffsmisek': 7088, 'twist': 12687, 'awe474': 12942, 'dollar': 2871, 'important': 1326, 'dec': 11607, 'tiffanyandco': 7231, 'sofly': 12030, 'robthecameraman': 7969, 'truthh4': 12911, 'coverage': 4084, 'campilley': 4410, 'cory': 11402, 'african': 12005, 'greetingz': 6028, 'tourists': 9011, 'half': 464, 'fedexed': 10278, 'methods': 11062, 'bottom': 3260, 'end': 574, 'arms': 3378, 'ding': 5106, 'bridesmaid': 10187, '9pm': 3152, 'fixing': 2976, '4348': 4960, 'notsurprising': 8948, 'entitled': 3728, 'stat': 2216, 'charlotte': 509, \"columbus'\": 10103, '125': 5497, 'hilarious': 2342, 'heller': 12227, 'wrote': 3166, 'assured': 2917, 'timeliness': 4488, 'failagain': 8440, 'hired': 10918, 'pleeeease': 10221, '🚫': 9705, 'satisfy': 9076, 'irritated': 2611, 'dreading': 13719, '😩😂😂😂😂': 11038, 'flight1797': 13717, 'horse': 5289, 'wretched': 9338, 'obsessed': 6166, 'retrieve': 1815, 'reveals': 11980, 'unitedairlinessux': 7136, 'wouldnt': 7274, 'actual': 1141, 'nada': 6494, 'tiday': 9395, '6delays': 7523, 'remains': 3672, 'navimumbai': 13953, 'i': 3, 'yqhk8ljabn': 13438, 'sync': 5816, 'seen': 970, 'shock': 12615, 'overnight': 862, 'collectively': 13090, \"req'ing\": 13683, 'tn': 5247, 'smoothie': 7202, 'buwjtvuwkm': 13926, 'kl9baimes6': 9097, 'bus': 1158, 'travelingwithsmallkids': 8819, 'timed': 2731, 'zones': 7554, 'mem': 3230, 'nuhplnxriq': 12648, 'clarion': 12831, 'nodrinks': 12902, 'sailed': 8547, 'flood': 11380, 'alfamilyoffour': 13074, 'noluv': 9506, 'young': 2152, 'feeltheheat': 8356, 'former': 4807, 'movements': 13417, 'setup': 5451, 'scam': 2905, 'deval': 9790, 'lowered': 3007, 'processing': 5110, 'coma': 13859, 'ignore': 3123, 'harder': 2730, 'disaster': 1384, 'tqc96tkci9”': 10773, 'ebokeers': 8479, 'b': 500, \"baby's\": 13661, 'mgr': 7548, 'shown': 2014, \"plane's\": 2996, 'edit': 8519, 'retailer': 10489, 'stinks': 2666, 'challenges': 4348, 'eu': 3547, 'wedding': 1608, 'mavigetbbw': 10267, 'dr5octp1dy': 13006, 'mikeabramson': 10531, 'eould': 9973, 'pw1eudlczg': 12768, 'keepit100': 7858, 'technology': 5021, 'doorstep': 6981, 'dtw': 2037, 'hiremorepeople': 9718, 'handily': 6082, 'malfunction': 2516, 'scoop': 13029, 'alwaysdelayed': 8239, 'cozy': 6588, '”unfortunately': 11503, 'parachuteguy': 4675, 'digit': 13306, 'possibly': 1328, '4179': 9392, 'ua871': 6779, 'nah': 2078, 'neighbors': 5049, 'shaky': 6544, 'tic': 14049, '763': 14008, '2zm4jkalzl': 10684, 'wager': 11685, 'kooples': 6155, 'g6455c': 8197, 'sests': 10220, 'electronic': 6776, 'ckin': 13791, 'those': 465, 'comedy': 4545, \"wont'\": 12505, '748': 12506, 'transferring': 10778, 'southern': 12862, 'worstever': 13459, 'promoting': 6161, 'depart': 957, 'auf': 12642, 'oak': 2457, 'arrange': 3755, 'noon': 2448, 'malpensa': 6831, 'boom': 6207, '460': 11090, 'atlanta': 679, 'icelandair': 11987, 'of': 17, \"'unwind'\": 6755, 'onlywaytofly': 10162, 'sanity': 4207, 'recouping': 6401, 'serve': 2374, '1612': 8040, \"747's\": 3428, 'money': 398, 'man': 911, 'faces': 3327, 'slowness': 9406, 'pitts': 11350, 'philacarservice': 12547, 'pto': 11253, 'y8aormfkac': 6221, 'example': 1388, 'babies': 4019, 'thaiairways': 6417, 'cleanliness': 7737, 'avbdstjujs': 8037, 'mos': 6672, 'applications': 9179, 'initial': 2427, '2bwi': 9791, 'kleankanteen': 7757, 'lessening': 10785, '4251': 3267, 'vainglorygame': 11554, 'glance': 8777, '5283': 13239, '4651': 7738, 'canned': 2549, 'xna': 13159, 'errored': 7682, 'pride': 12803, 'customerservicewin': 10314, 'weakservice': 10499, 'il': 8343, 'fav': 2249, 'dfmvmibh4x': 11972, 'bagtag': 13582, 'reach': 794, 'squared': 4232, 'absurd': 1559, 'shannonwoodward': 5500, 'akron': 9337, 'what’s': 4389, 'unexpected': 2824, 'bump': 2706, 'b46': 9303, '4210': 13012, 'see': 150, 'euros': 9012, 'mitchellairport': 9355, 'nawww': 8142, 'loeco4gmvd': 6609, 'reflight': 622, 'sched': 2928, 'elite': 1819, 'answerphone': 13187, 'disappointment': 1786, 'local': 2073, 'ktm': 7040, 'ngxal9oml6': 9984, 'impending': 4194, 'valleys': 13689, 'capacity': 3912, 'history': 1835, 'starts': 3057, '430am': 6905, 'dreamliner': 4699, 'preventative': 7979, '620': 11255, 'westchester': 4035, 'pjs': 4433, 'mfssh2uhue”': 11014, 'cross': 1274, 'idiot': 3712, 'vqmdmzafuj': 12055, '7br5t5qcxk': 7428, 'preferred': 1301, 'inefficient': 3109, '755': 13169, 'impressions': 5694, 'noshadetothedmv': 13335, 'stillmakingmepoorthough': 8532, '❄️': 9044, 'julesdameron': 11147, 'promotions': 3165, 'paypal': 3985, 'wheel': 3373, '6ttzejv3hy': 11630, 'crutches': 9698, 'anku': 5614, 'fbtemfwrsp': 12188, 'rules': 1246, 'ground': 401, 'disappointing': 1171, 'airlineguys': 8216, 'brighter': 9385, 'unexpactable': 8416, 'beats': 2490, 'mobile': 823, 'makestoomuchsense': 7292, 'btb4awqtln': 12206, 'subsequent': 4189, 'travelling': 2633, '17th': 4751, 'gogh': 4943, 'departure': 374, 'thelodge': 11956, '73': 3489, 'begrudgingly': 5911, 'wins': 4816, 'unanswered': 7006, 'plague': 3433, 'little': 467, 'boyfriends': 13528, '416': 7218, 'intercontinental': 8559, 'hiccups': 7206, \"'\": 2504, 'lifting': 9194, 'did': 121, 'agt': 4005, 'quality': 1486, 'memorial': 5198, 'typically': 7739, 'wewanttoknow': 12828, 'scan': 2565, 'superhero': 10347, '134': 10205, 'shoes': 2056, 'pretzels': 3006, 'reduced': 5011, '791': 7910, '1514': 4763, 'breaking': 2647, 'flight🍸': 6041, '1a': 5387, '725': 13872, 'basically': 1798, \"aren't\": 723, 'seat': 143, 'thinkbus': 8035, 'forgetting': 3164, 'fam😭😭': 10868, '1801': 12461, 'pointsme': 10627, 'oxy1jnpjm3': 10648, 'handbag': 8124, 'blind': 7463, 'plz': 1011, '✌️': 11006, 'asyqe1tdjp': 11760, 'darquenloveli': 6474, 'bduauzfhw2': 12071, 'require': 10265, 'battles': 1121, 'deli': 11205, 'kj1iljaebv': 5902, 'fr': 3794, 'erzht75kqz': 10859, 'full': 375, 'jlhm0x7ukb': 10330, 'ar0vaylmfc”': 10964, 'waiver': 3299, 'airlinequality': 12061, 'catsanddogslivingtogether': 11087, 'demanded': 11300, 'int’l': 7826, 'says': 257, 'bringbackrealstaff': 7197, 'viable': 7093, '5xvnnmltiw': 7553, '802': 11764, '1099': 5631, 'blacklivesmatter': 9576, 'ashamed': 2435, 'salvaged': 6917, 'attentiveness': 4551, 'referring': 12760, 'gqp69g9zgw': 12015, 'columbus': 1736, '9vkj9s7jrm': 12390, 'vx': 2006, 'ua1745': 7534, 'cameras': 10730, 'picks': 5703, 'driver': 2717, 'k0mhzrjf6e': 12882, 'concept': 3676, 'janet': 3766, 'pkaxunyfn2': 13965, 'brokenwheel': 6422, 'emery': 7784, 'directional': 9306, 'prbound': 10694, 'ymmh9k4cbr': 11515, 'cheap1': 9264, 'coordinate': 5241, 'nerds': 11143, 'hip': 11741, 'lasairport': 3936, 'helene': 11812, 'worth': 935, 'guam': 6431, 'software': 2568, 'deal': 601, 'complete': 1025, 'glasses': 4071, 'secs': 13151, 'opinion': 9644, 'yco9dikpt9”': 11039, 'brandi': 8891, 'forgotten': 10073, 'such': 611, 'ins': 2670, 'proactive': 3892, 'nudgenudge': 8260, 'threatened': 3104, 'takemeback': 9776, 'homeward': 11115, \"doctors'\": 6823, 'predictive': 11463, '☺': 9921, 'gifts': 13138, 'slapintheface': 8421, 'zcc82u': 6338, 'heavenlychc9': 8974, 'surgery': 2250, 'lostandforgotten': 12603, 'shortcomings': 12519, 'cathy': 12408, 'fear': 13020, 'sf': 1227, 'poorcommunication': 11784, 'marvinatorsb': 12637, 'undelayed': 12825, 'cabcelled': 11194, '60': 1116, 'railed': 7934, 'query': 11584, '2595': 12964, 'events': 4701, 'lifeline': 7167, 'na': 13019, 'severely': 4192, '504': 12489, 'earlier': 378, 'bze': 13042, 'scrum': 11585, 'imran': 6683, 'annoying': 1701, 'user': 2481, 'miriam': 5034, 'cant': 700, 'travelzoo': 5901, \"q'd\": 12472, 'big': 468, 'codeshare': 4287, '4hrs': 2539, 'afiliates': 6225, 'reverse': 12435, 'iwoulddoanythingforlove': 11645, 'zo2iceg4li': 9952, 'bhm': 2355, 'veterans': 10677, 'inefficiency': 6910, 'muscles': 11612, 'accordingly': 3776, 'lowercase': 10035, 'jt': 2732, 'loveeee': 10032, '3076': 9592, 'rhonda': 4725, 'closings': 8829, 'notevenjv': 13774, 'srm13qbrzd': 11027, 'mishaps': 13193, 'stow': 3756, 'hipster': 5865, 'getmeoffrhisfuckinplane': 7413, 'carsl': 5612, 'reduce': 4320, '256746438028': 8944, 'separated': 4583, 'naval': 13449, 'mild': 7536, 'mosaic': 2207, 'lock': 4255, 'sending': 842, 'cuba': 2462, 'stewardesses': 5388, 'fairway': 7630, 'card': 404, 'due': 172, 'treating': 2373, 'noanswer': 6669, 'gonna': 748, 'babyfood': 11384, 'hung': 442, 'conflicting': 3244, 'pair': 1773, 'checkin': 683, '🎀🇬🇧🎀🇺🇸🎀': 6142, 'davidson': 9579, 'older': 11633, 'advised': 7674, 'hundreds': 2084, 'bad4business': 6835, '40k': 13776, 'photos': 9509, 'qlyss8': 8524, 'analytics': 11464, \"capeair's\": 6433, 'ua1470': 7531, 'password': 2025, '3': 92, 'installed': 8271, '😁😁😁😁': 10241, 'nuts': 1549, '3710': 8730, 'chocked': 8058, 'k7ubotmr1r': 11452, 'demoted': 6626, 'jhxwmutx4g': 13887, 'orbitz': 4762, 'ceases': 6635, 'bandie': 6134, 'albuquerque': 3585, 'military': 1376, 'menu': 3796, 'untrained': 8871, 'worksnicely': 8281, 'checkout': 2862, 'error': 596, 'h6hn33jjje': 7853, 'curvygirltravels': 13305, '🌟🌟': 9521, 'raleigh': 1583, 'century': 3443, 'notanymore': 9126, 'freeze': 13488, 'least': 412, '80': 3798, 'husainhaqqani': 13986, '5z9styuqj3': 10358, 'phltolas': 13636, 'bailed': 12776, 'actually': 410, 'plowing': 7562, 'ihop': 10985, 'sch': 5654, 'walks': 6516, 'sickcrew': 14043, 'finleybklyncfs': 11179, 'hahah': 11011, 'winnipeg': 8658, 'holy': 3880, '1680': 10725, 'loyalty': 1500, 'moodlighting': 4151, 'stains': 7571, 'iad': 461, 'incoming': 2721, 'angeles': 4153, 'miracle': 9362, 'tux': 11297, 'elhxuv0uj1': 9136, 'vosizh17sl”': 10954, 'few': 516, 'discover': 4549, 'woaw': 3375, 'fly2midway': 5190, '123': 5477, 'badpolicy': 5131, 'pops': 5778, 'robot': 5184, 'csnrpvy9b9': 10907, \"time'\": 4285, 'begging': 6863, 'challenge': 3392, 'tifffyhuang': 9747, 'lunch': 3972, 'beers': 4469, 'intent': 4541, 'ordnoise': 8769, '5223': 13561, '💯💯💯': 11026, 'mixtape': 10030, 'compliment': 2915, 'jorescfb4x': 8587, 'ne': 9700, '45minflight': 9623, 'throug': 8108, 'pisspoor': 12896, 'suffering': 4683, 'eom': 9348, 'globe': 2827, '8719519': 6296, 'syd': 7418, 'psychological': 13610, 'vigil': 14041, '15th': 2430, 'unitedairlinessuck': 8363, 'naia': 6884, 'tarmack': 5314, 'please': 77, 'sanitized': 5279, 'russia': 12794, 'b16': 13099, 'snowforce': 8254, '209': 9425, 'enormous': 13353, 'recognition': 4803, 'uncompromising': 12242, 'accidentally': 3069, 'intend': 5291, 'jp': 3459, 'pattonoswalt': 12844, 'gbiw9ugfnm': 8224, 'opal': 3667, 'proportion': 7842, 'forced': 960, 'wave': 7947, 'ump': 8184, 'staffers': 8734, '❌': 7626, 'transatlantic': 4333, 'tpallini': 7994, 'enterprise': 5360, 'earnedmybusiness': 7736, 'new': 152, 'booted': 6369, '58': 3301, 'geraghty': 11078, 'able': 329, 'mnl': 4516, '♥️': 5317, 'melbourne': 6975, 'overreacting': 10809, 'whyisusairalwaysdelayed': 12987, 'distressed': 7253, 'sdf': 3541, 'talking': 1190, 'loudspeaker': 7557, '1027': 10179, 'hub': 4083, 'swapping': 8118, '18feb': 12485, 'faster': 1439, 'argueing': 7647, '😭😭💔💔💔💔💔💔💔': 9876, 'tweetin': 13966, 'style': 4097, 'dmangen': 7901, '9am': 2489, 'courrier': 6963, 'angry': 1254, 'eating': 12974, 'catering': 3034, 'jdbwaffles': 13607, 'sunset': 5957, 'w0hoaewhws': 10886, 'tables': 4160, 'smaller': 4874, 'you…i': 12440, 'cinziannap': 12319, '11am': 3993, 'satesq': 14033, 'himself': 9834, 'daughter': 1029, 'pieces': 10464, 'settled': 3513, 'excruciatingly': 9955, 'ish': 11898, 'lucas': 5948, 'hemispheres': 8739, 'attained': 6415, 'f6dk04': 13378, '12a': 12058, 'obvious': 4312, 'kerry': 8477, 'bestfriend': 10131, '0736': 5898, 'sex': 11396, 'shame': 1349, 'getmeoffthisplane': 13386, 'stated': 2153, 'los': 4152, 'eqqi1nfszh': 9852, 'trueblue”': 10689, 'supplies': 4475, 'question': 476, 'forty': 9622, '15mins': 3605, 'mumbai': 13951, 'mbj': 13390, 'lite': 13821, '😋': 9451, 'session': 11477, 'la397zaoay': 11712, 'condescension': 10577, 'aquadilla': 8489, 'chillycvz': 12232, '5kshtue6q0”': 10810, 'nmbhngnmki': 7585, 'literate': 6397, 'gsa': 8011, 'khzrccyp2a”': 10898, 'ways': 1189, 'hats': 4143, 'll”': 10015, 'disspointed': 7121, 'france': 9017, 'unsecured': 12689, 'meant': 1718, '🍷': 11863, 'humiliated': 12241, '🙌': 6526, 'cak': 13712, 'many': 359, 'toolong': 11415, 'attendents': 7814, 'disbelief': 13428, 'inpolite': 7077, 'university': 5395, 'heat': 1894, 'e0r0nto4tr': 11429, 'option': 506, 'dang': 3864, '771': 10484, 'cup': 2395, 'cheaper': 1457, 'cookies': 3656, 'wifi': 277, 'emails': 1098, 'argh': 12177, 'any': 94, 'parking': 3222, 'ardent': 5604, 'dreams': 3572, 'calls': 792, '2mm': 8414, 'scent': 11202, 'rockingthetweets': 12363, 'hundred': 3699, 'silver': 1282, 'wc': 4299, 'communicate': 2365, 'robin': 2967, 'caroline': 10346, 'helpimstuck': 6495, 'misfortune': 4591, 'quzvmk2rtr': 6604, 'unconscionable': 7370, '453': 12057, 'cls': 13297, '4424': 12855, 'outpost': 8568, 'dzegapfqw1': 9313, 'clicks': 13975, 'prefer': 2214, 'vx919': 6126, 'ripping': 12402, '15min': 3681, 'participate': 12240, '1world': 13291, 'tindertips': 6212, 'it': 18, 'handed': 2897, 'deicer': 10496, 'accuratetraveltimes': 7620, 'hey': 513, 'ought': 11232, 'currentlysittingontarmac': 11809, 'roc': 1969, 'delaying': 1386, '80°': 13372, '000419': 6197, 'party': 1008, 'goodspeed': 7899, 'flight…': 9920, 'corny': 8227, 'ua5184': 7856, 'pesky': 6349, 'thaw': 5365, '6tz6imqzlg': 8860, 'breakup': 8153, 'isitthegarykellyway': 9671, 'commitment': 3098, \"'on\": 4284, 'execplat': 13599, '463': 10174, 'economic': 9118, 'dope': 8670, 'exe': 12573, 'ripskymall': 10203, 'ctr': 10126, 'tk': 9941, '5545': 12561, 'cigarettes': 8725, 'coming': 490, 'sao': 8318, 'brandmance': 2797, 'loaded': 1904, 'continuing': 3610, 'rescue': 10019, 'yield': 13513, 'trip': 177, 'sport': 12752, 'thx': 334, 'shampoo': 4716, '40am': 5702, 'fate': 13983, 'cover': 1080, 'mvmt': 13620, 'laundry': 13738, 'burning': 5818, 'appreciation': 3645, 'assigned': 1691, '🙏🙏🙏😢😢😢🙏🙏🙏': 14047, 'backs': 4111, '1937': 12717, 'somewhat': 4702, '736': 6481, 'requiring': 13862, 'weatherless': 9364, 'understandable': 2423, 'mimosa': 13553, 'suitcase': 1135, 'historically': 7166, 'tasty': 8017, \"you're\": 243, '654': 12292, 'num': 4833, 'screenshot': 4785, 'attempt': 1455, 'enraging': 12304, 'terriblecustomerservice': 7809, 'seeking': 6412, 'h3k3owohd1': 6930, 'puerto': 1988, 'mins…': 13861, 'hostage': 1780, 'cheer': 3706, 'princesses': 11912, 'homeschool': 12209, '1pm10': 13786, 'a1': 3934, 'washington': 1307, '😡😡😡': 7915, 'ticketing': 2779, 'ftl': 12138, 'recorded': 5792, 'busiest': 4936, 'responses': 2314, 'westagard': 10176, '06': 12047, 'wtfodds': 6360, 'happier': 3617, 'ignoring': 2416, 'luggages': 4796, 'pbi': 1214, 'herba': 12486, 'targeting': 5673, 'n3bvzty3zi': 6198, 'others': 1024, 'formed': 8143, 'pres': 4577, '😎': 2830, 'goingtovegas': 9961, 'ua4636': 7863, 'splitting': 7938, 'doug': 3958, 'lovesouthwest': 10334, 'venture': 9670, 'learnt': 11586, 'b91': 7122, \"service'\": 6974, 'unfollowing': 10860, 'heattrap': 6698, 'county': 10703, 'jetblueblues': 5613, 'applying': 4486, 'reload': 10404, 'abandoned': 13177, 'effortless': 13015, 'fiasco': 3078, 'menus': 4841, 'skift': 6174, 'contractors': 7709, 'chiberia': 10010, 'preference': 4735, 'befor': 6886, 'sukhdeep': 6783, 'fed': 5648, 'nowarmclothes': 9102, 'hsmpbsf4uf': 8285, 'yourselves': 3838, 'ladies': 2676, 'permissions': 11141, 'robprice': 13200, 'making': 322, 'takes': 806, 'laiggef9kj': 11204, 'consistent': 1921, '1348': 12168, 'ua90': 7423, 'graduate': 9818, 'tabitha': 13142, 'sacramento': 3060, 'detail': 3114, 'verified': 10625, 'damn': 1151, 'counts': 7269, 'andrews': 3338, 'dictionary': 11844, 'clockwork': 4818, 'action': 2921, 'tiredcustomer': 8169, 'fort': 1427, 'lesson': 1694, '471': 11604, 'closest': 2570, 'answering': 879, 'accept': 1539, 'bledsoe': 13695, 'flightspots': 10185, 'closes': 5146, '💝too': 9702, 'goosebayairport': 7222, 'fyi': 1137, 'hqhdad7fvk': 12650, 'latrice': 6317, 'ogg': 2569, 'plenty': 1333, 'need': 80, 'indication': 4322, 'tweet': 452, 'cameron': 12143, '1366': 12195, 'deciding': 4662, 'n7psuejdc8': 13787, 'getphilz': 8916, 'sox': 11801, 'honey': 3899, \"o'head\": 7577, 'parhetic': 9982, 'star': 1956, '617': 5168, 'issues': 292, 'living': 2398, 'aruna': 9684, 'men': 4142, 'lowest': 3193, 'ing': 3271, 'inoperable': 11799, 'play': 1567, 'igotmonte': 10061, 'instruments': 5347, 'travels': 2353, 'ux': 12453, '🍅🍅🍅🍅': 10976, 'pssngrs': 6880, '1171': 4688, 'shouldigetoutandpush': 11043, '❤️': 1626, 'terms': 4054, '767': 7793, 'a30': 10210, 'beautiful': 1435, 'streetwise': 11581, 'guessweflyingdelta': 9896, 'intercom': 3922, 'twins': 13214, 'performing': 3564, 'podium': 13102, 'medicalissue': 13594, 'marathon': 4072, 'expanding': 4251, 'advertised': 6951, 'internships': 9577, 'pillow': 11974, 'toiletries': 8849, '6mos': 9603, 'temporary': 10599, '49flbgzzkd': 11221, 'captiveaudience': 9915, '2chng': 9651, 'lft5': 12382, 'first': 149, 'rates': 1767, 'ideal': 5537, '☺👍👍': 11245, '4386': 5310, 'tar': 11373, 'apathy': 6267, 'jamesasworth': 10286, 'milage': 8372, '2morrow': 5557, 'geraldine': 12204, 'nocommunication': 13003, 'resorting': 12651, 'tap': 11152, 'adv': 10734, 'birthdate': 4482, '✅': 7625, 'starving': 5423, 'nigeria': 8129, 'videos': 3997, 'makessense': 7455, '713': 4176, 'hike': 10732, 'reporter': 12399, 'impatience': 8241, 'brianregancomic': 10362, 'cheapest': 10123, 'anti': 8690, 'shenanigans': 4983, '1f': 13629, 'epqqonho2h': 11267, 'drove': 2195, 'reschedules': 13240, \"liftin'\": 11329, 'laptop': 1874, 'cleveland': 2104, 'fella': 3867, 'yccitaep3s”': 9207, 'dmb41shows': 8170, 'slip': 3815, 'random': 2480, 'chair': 2332, 'canadian': 2945, 'routine': 7705, 'challenging': 12425, 'larry': 5308, 'audition': 8861, '435': 3570, 'my3dnvbzaz': 9906, 'armrest': 2705, 'ihatemergers': 13664, 'aiecraft': 10741, 'pumping': 12755, 'constant': 2508, 'ifthe80sneverstopped': 10066, 'trust': 1760, 'unansweredquestions': 12914, 'tomorrow': 163, 'tim': 5490, 'swrr': 10426, 'washingtondc': 7299, 'induce': 7284, 'fedora': 10871, 'clever': 3215, 'reallytallchris': 5951, 'orlandosentinel': 8575, 'soaking': 5179, 'exhausted': 2845, 'ciscojimfrench': 6893, \"houston's\": 8558, 'godelta': 12893, 'corp': 5136, 'evv': 13119, 'h952rdktqy”': 5992, 'impressive': 2819, 'incredible': 1877, 'harsh': 4828, 'capa': 3382, 'cm4roiypc2': 13352, 'charlote': 12883, 'daryl': 12510, 'cali': 3241, 'sons': 3938, 'busy': 923, '1025': 11210, 'refundable': 3785, 'balls': 3278, 'jparkermastin': 9326, 'q9byn9pctf': 8615, \"changed'\": 8563, 'decides': 13079, 'present': 2645, 'tonnes': 12738, '0bjnz4eix5': 9672, '893': 14027, 'to10': 6172, 'the16': 11146, 'alamo': 11172, 'stlouis': 9865, 'detroit': 4645, 'valuing': 13562, '16mo': 11677, 'usairwayssuck': 5796, 'amy': 7837, 'disconnecting': 12542, 'crisis': 2493, 'us1765': 13507, 'jetred': 11660, 'entertainmnt': 6608, 'prefference': 11208, 'dublin': 4431, 'appreciated': 843, 'peeved': 13941, 'gift': 2255, 'wmn4life': 9892, 'meetthefleet': 6016, 'cih1qnllcm': 6509, 'complains': 4465, 'ua3728': 4900, 'receiving': 3253, 'whoa': 5379, 'curse': 9427, 'ua5631': 8296, 'tears': 5009, 'xijifymvqp': 9855, 'classed': 6729, 'lve': 13696, 'degrees': 2036, 'bicycles': 10250, 'anaphylaxis': 7488, 'dropping': 3207, 'deliver': 1260, 'accomplish': 13030, 'sun': 1652, 'cayman': 12146, '3750': 6789, 'infants': 5455, 'lhwfbkfyni': 9460, 'disinfectant': 4729, 'nofun': 5065, 'marked': 5634, 'exits': 10925, 'isnt': 2703, 'restrictions': 4115, 'born': 5060, 'stockhouse': 12101, 'uses': 13946, '41am': 12742, 'express': 1772, 'cheertymedad': 4271, 'quicker': 3635, 'prospective': 9816, '50min': 9540, 'sys': 5623, 'tkvcmhbpim': 10208, '127': 11892, 'fendforyourself': 13882, 'front': 742, 'favor': 3694, '6000': 6276, 'schoolgirl': 9086, 'trivia': 11694, 'petition': 13760, 'backlog': 3688, 'pales': 7045, 'document': 3689, 'ybv0xaowkv': 7888, 'dsearls': 13957, 'hooray': 13183, 'kudos': 868, 'season': 4336, 'efforts': 2307, 'contagious': 12746, 'supporting': 4452, 'spousal': 6628, '50': 454, 'makes': 495, 'woof': 4046, 'gogo': 3886, 'shocker': 11096, 'manifests': 12629, 'riot': 7018, 'zl4bvexmcj': 13673, 'promising': 3693, 'welcomes': 12587, 'appointed': 7607, 'heh': 6959, 'pamper': 12766, 'straying': 10298, 'prohibits': 8727, 'ingredients': 8761, 'apologized': 8632, 'motherpollock': 11961, 'funited': 7165, 'balt': 10344, 'miles😡': 13437, 'notified': 1717, 'comm': 5645, 'smart': 5596, 'unfamiliar': 6332, 'kiosk': 3598, 'timco': 4453, 'pdquigley': 12799, 'start': 414, '350pm': 7425, 'arrogant': 4563, '❤️❤️❤️': 10044, 'jackpot': 9951, 'realise': 7268, 'faire': 6771, 'replane': 13557, 'wn3946': 9333, 'enjoyable': 3734, 'maqw2nlniu': 13521, 'leg': 721, 'named': 2646, 'newborns': 11272, 'unbalanced': 7074, 'top': 796, 'welfare': 8695, 'telephone': 3939, 'hoot': 4966, 'thevdt': 5602, '1701': 3769, 'balance': 1737, 'description': 11287, 'cbcallinaday': 8626, 'reservation': 255, 'talents': 9549, 'trying': 119, 'anhour': 9646, 'thee': 8091, 'hooked': 2526, 'media': 954, 'ua1469': 6961, '800w': 7120, 'reflection': 12786, 'ua1764': 7319, 'ed': 4832, 'gguaa1jvdf': 10884, '2247': 8305, 'mqxc64': 7159, 'oaflfr7wxb': 6315, 'e11': 9055, 'lounges': 4938, 'gopro': 4202, 'houston': 471, '1hr': 1003, 'e': 963, 'ahhhh': 4009, 'institutional': 11462, 'basket': 5709, 'hawaiian': 5518, 'capt': 2637, '44pm': 12830, 'oreos': 8110, 'peanutsandtoons': 10199, 'intention': 7044, 'stick': 1987, 'athletes': 5187, 'exposed': 4262, 'downhill': 3692, 'reasonable': 1933, '22nd': 9734, 'sea✈️bos': 11228, 'crosswinds': 13797, 'expanded': 11288, 'holds': 5219, 'professorpaul15': 5676, 'improvement': 6344, 'wit': 10950, 'luck': 894, 'premiere': 2589, 'mpagent': 6795, 'removed': 4508, '⌚️': 12905, 'despise': 8090, '8273993': 8859, 'improve': 1639, 'exicted': 13609, '69': 3306, 'linked': 3176, 'honour': 6374, 'ua6318': 6999, '899': 9601, 'bradley': 5296, 'priv': 12594, 'pact': 11279, 'alist': 9780, 'pdx': 1221, 'company': 456, 'xzy7phkfgr': 12069, 'wontflyagainwithyou': 8733, 'shattered': 6314, 'tent': 9013, 'damaged': 1527, 'backhome': 11377, 'kin': 11525, 'islandexpert': 10683, 'apparently': 768, 'xwjol55flh': 6220, 'carolina': 3990, 'effing': 6513, 'cesspool': 13273, 'xltv5z6st1': 7000, 'edgy': 8743, 'friendlyskies': 2929, 'college': 2204, 'anybody': 5678, 'routes': 1056, 'istudios': 9105, 'bbj6kmtyul': 8681, 'shuttles': 13422, 'cabo': 2229, 'straight': 1615, 'us1562': 12728, 'relaxing': 4672, 'shitshow': 13401, 'waives': 6646, 'snapchat': 5383, 'nevertoldus': 11932, 'chat': 2011, 'understanding': 2859, 'unsafe': 4456, '930pm': 7511, 'lon': 8207, '702': 10039, 'accepting': 2371, 'xoxo': 5953, 'guyyyys': 5900, 'salt': 2248, 'hkg': 7956, 'complicated': 9692, 'replicate': 13060, 'des': 13162, 'friday': 788, 'esp': 2547, 'setorii': 11262, 'occupied': 13625, 'amateurish': 5012, 'adds': 2246, 'johnwayneair': 10399, 'considerable': 4292, 'tvs': 3035, 'getmehome': 13124, 'unemployment': 13626, 'arrival': 837, 'indicate': 6310, 'cry': 2608, 'exiting': 7547, '16': 1207, 'marriottrewards': 12833, 'diversion': 13307, 'greensboro': 13538, 'tagging': 7542, 'flipped': 4804, 'flightaware': 3018, 'invest': 4575, 'otherwise': 1389, '2102': 12719, 'poor': 466, 'ua1564': 8492, 'quantas': 8447, '😢😢': 11849, 'clarification': 3719, 'usnavy': 12098, 'dominican': 4991, 'businesstravel': 6594, 'sit': 453, '41min': 12488, 'income': 8427, 'lubbock': 9129, 'accommodates': 10098, '320': 5626, 'advising': 6535, 'rndtrp': 9801, 'urgency': 6717, 'malik': 13991, 'inch': 3662, 'recover': 12823, 'remarks': 7100, 'needtobehonest': 7490, '2nt': 11678, 'firm': 8842, 'pm': 775, 'gusty': 6095, 'an': 42, 'kmm24999563v99860l0km': 6295, '7d': 4191, 'baseball': 10056, 'danny': 13544, 'frustratingly': 6793, 'complimenting': 7743, '3267': 9353, 'ready': 753, 'yuma': 3323, '23”l': 13480, 'policy': 438, 'anytime': 1746, 'hep': 4620, 'madbee95': 6091, 'prob': 3001, '1918': 11107, 'planebroken': 13501, 'courtney': 10281, 'unitedbreaksguitars': 6328, 'higgs': 9107, 'portable': 9663, 'format': 8033, 'affects': 12072, 'when': 68, 'comedic': 11787, 'warning': 3132, 'everythingsgonnabealright': 11727, 'festival': 5647, 'grandcanyon': 9536, 'reconsider': 4505, 'liking': 11095, 'set': 728, 'wholly': 10117, 'norush': 13073, 'rmznivgmg6': 6189, 'faaaannntastic': 10164, 'break': 1548, 'squarely': 8907, 'mdw2mci': 9152, 'ua415': 7862, 'finnair': 12735, '44': 2654, 'pek': 7740, 'placed': 1796, '338': 6032, 'aufm4xdaj2': 9711, 'delhi': 3455, 'wheelchair': 1609, 'okc': 1887, 'suggestions': 1421, '45': 402, 'icing': 1699, 'desk': 533, 'ua3710': 8729, 'destroying': 13706, 'strand': 2322, 'horizon': 9934, 'infographic': 6260, 'g00saozgtv': 7332, 'transf': 5710, 'rundisney': 11965, 'diff': 1560, 'led': 4709, 'frightening': 8663, 'southbendinwhere': 7868, 'n231wn': 9715, \"sayin'\": 8323, '6533': 6336, 'silicon': 4190, 'hurricane': 7997, 'out': 54, 'common': 1882, 'asking…': 12585, 'forfeit': 12507, 'wasn’t': 5416, 'development': 5398, '20': 301, 'mayweatherpacquiao': 3379, '768': 4304, 'activities': 3665, 'advertising': 2628, 'nws': 7876, 'church': 8546, 'idea': 557, 'tru': 9350, 'avoid': 1793, '2373': 9000, 'baking': 9740, 'yaayy': 7555, 'freyabevan': 4211, \"c'mon\": 2773, 'masters': 5036, 'expand': 11831, 'industry': 2265, 'am': 99, 'sporadically': 10212, 'beareavement': 13547, 'proj': 7698, 'lufthansa': 1923, 'hotspot': 4260, 'total': 989, 'sway': 10772, '6kp4m0r1f7': 7403, 'impacts': 7397, 'essentials': 9431, 'modifications': 5434, 'crossing': 8872, 'embossed': 2866, 'upsell': 8845, 'msp': 1606, '1k': 705, 'beatz247': 5661, 'remote': 3128, '9unxqotzik': 9370, '5hourwait': 13272, '192': 9800, 'd1mqf5': 13270, 'mails': 4882, 'ride': 952, 'happen': 735, '1800flowers': 10274, 'b12': 4693, 'buzz': 9782, 'deficiency': 9893, 'pzal4wtrez': 8850, 'squished': 12379, 'mb3bjwgoap': 7333, 'hear': 544, 'kitties': 11754, 'greeeaat': 7364, 'awards': 2059, 'shivadelrahim': 13363, 'announcements': 2142, 'ny6cs7jruv': 11327, 'credentials': 10635, 'relationship': 2643, 'uppp': 13175, 'dimmed': 8109, 'odlall5edh': 7995, 'birthdays': 8830, 'tab': 3808, '539': 7958, 'hemophilia': 12383, 'referencing': 6577, 'igsvzvrbbn': 9015, 'united1k': 7293, 'map': 2689, 'shoddy': 5038, 'theairhelper': 7240, 'electrical': 7495, 'planes': 409, 'concerns': 2144, 'somehow': 1864, 'prompted': 8945, 'except': 1081, 'safety': 687, 'sylvie': 11356, 'mostly': 3386, '26f': 4695, 'lane': 10700, 'yeehaw': 10090, 'e1eofthgaj': 4944, 'sorrynotsorry': 6098, 'itinerary': 1287, '1200': 3171, 'ch': 13196, 'traditions': 8087, 'rno': 5057, 'saveface': 13178, 'happened': 593, 'dozens': 4128, 'filed': 1053, 'frozenwater': 9019, 'correct': 681, 'passion': 5576, 'superstars': 13086, 'las2sfo': 6127, 'toledo': 10836, '989': 5561, 'suddenly': 12176, 'grouchy': 4917, 'theycouldatleastofferfreebooze': 9021, 'bgr1061': 9649, 'jtxyhqhfjj': 10046, 'logistically': 12624, 'opaque': 7830, 'jj”': 7948, 'jobs': 3463, 'extra': 428, 'environment': 5483, 'goodwill': 2795, 'desirable': 10000, 'fakesincerity': 7595, 'locally': 8598, 'busted': 9458, 'really': 133, 'taxies': 7692, 'blue': 585, 'house': 2120, '🙏🙏🙏🙏🙏🙏🙏🙏🙏🙏🙏😢😢😢😢😢😢😢😢🙏🙏🙏🙏🙏🙏🙏🙏🙏🙏🙏🙏🙏🙏🙏🙏🙏🙏🙏🙏🙏': 14044, 'flight6831': 7653, 'coltsmissingbags': 8661, 'ha': 1501, 'increased': 2853, '3880': 13827, 'outsourced': 6748, 'destinationdragon': 5153, 'irate': 9465, '3hr': 13125, 'christine': 8992, '1tix': 7773, '…tried': 6268, 'every': 294, 'jenniferwalshpr': 4887, 'luved': 9771, 'lose': 684, 'aunts': 8116, 'vicky': 4787, 'dounotwantmybusiness': 7925, 'sees': 3383, '600mph': 7147, 'bot': 6413, 'concerned': 1519, 'instrument': 10495, 'wezumdimyf': 10712, '1235': 6355, 'dm': 161, 'backed': 13397, 'syracuse': 4057, 'karren': 8041, 'efficiently': 6428, 'lindsay': 7870, 'terribly': 2107, 'entrance': 9050, 'awake': 3801, 'gain': 3272, 'qualifies': 5067, 'dulles': 1172, 'kill': 2799, '400s': 8346, 'manufactured': 9912, 'reunion': 6725, 'fullprice': 9115, 'jvj73zza4a': 7092, 'southwestluvsweeps': 10520, 'vet': 9612, 'flightattendant': 5909, '16h': 6339, 'ua1740': 3811, 'hepl': 7371, 'spare': 2303, 'surgeries': 4310, '78': 8205, 'strangers': 4351, '😁': 2238, 'grab': 4962, 'sporting': 10968, 'bandwidth': 5088, 'upgrades': 1091, 'dqny4aktg9': 11024, 'promo': 1234, 'replaced': 5063, 'replace': 4565, '🙏🙏🙏🙏🙏🙏🙏🙏🙏🙏🙏🙏🙏🙏🙏🙏🙏🙏': 13901, 'disappears': 4640, '33036': 11474, 'atfrkp6goy': 6528, 'craziness': 3962, 'zpz78poeon': 11442, '210pm': 8965, 'mwa': 9321, '4404': 7304, 'thewayoftheid': 10921, 'quote': 4531, 'rockies': 6029, 'mother': 1417, 'foxnews': 7474, 'address': 720, '10f': 8527, 'inconvenient': 2061, 'yet': 259, 'yasssss': 10852, 'refreshing': 4249, '😂😂😂😂😂omg': 11927, 'tired': 995, 'worst2unitedflightsever': 3437, 'cascino': 10508, 'udub': 12142, 'flightation': 2328, 'compensates': 7443, 'flattering': 3652, 'lukewyckoff': 9261, 'citing': 4617, 'zukes': 8530, 'doubtful': 4738, 'sky': 1715, 'aau9mka6zy': 9067, 'mjtk2sfuhg': 10724, 'plot': 12688, 'brandloveaffair': 3294, 'paulgordonbrown': 5567, 'jon3s': 5339, 'ua82': 7864, 'blacked': 8409, 'applaud': 12644, 'options': 657, 'reps': 1142, \"customer's\": 5402, \"grader's\": 9420, 'flydelta': 3311, 'procedures': 3821, 'november': 2771, 'leopolds': 12224, 'ensuring': 4558, \"team's\": 6514, 'fam': 1829, 'jammed': 13454, 'remembered': 3445, 'youre': 2420, 'ewxwxidtfx': 7657, 'inconceivable': 11217, 'non': 627, 'tailfinthursday': 11977, '38otlzak5d': 8890, 'cle': 1469, 'seanmfmadden': 6796, 'exhausting': 6802, 'yourself': 2993, '699': 2810, 'ur': 391, 'dxn58rxdks”': 10889, 'words': 1420, 'keeper': 6120, 'improvetheprocess': 7210, '858': 6769, 'amirite': 10637, 'corrupt': 12270, 'rule': 3217, 'lyoocx5msh': 7898, 'f5r3zz': 10571, 'pqms': 6820, 'americanairbr': 11364, 'annamarie': 9787, 'luggage': 154, 'sooooooo': 11576, 'magic': 3155, 'prison': 7522, 'tnx': 8460, 'appreciates': 5813, 'milestone': 7751, 'gcwvfuopl2': 8212, 'secrets': 9384, 'airfarewatchdog': 7970, 'noair': 5868, 'motel': 4849, 'anticipate': 3269, 'hopped': 7276, 'm1yywafkfi': 9058, 'martin': 5896, 'southwestsucks': 9504, 'whyairtravelsucks': 6787, 'o1u96xc3bo': 7408, 'sprawled': 13579, 'issuing': 4869, 'thomas': 3119, '⭐️⭐️⭐️⭐️⭐️': 12381, 'ua14': 7485, '757': 3044, 'wx': 5315, 'sadly': 1964, 'kick': 3515, 'stations': 3963, 'companionpass': 9342, '4hr': 3810, 'misery': 13426, 'shorts': 5414, 'aim': 9376, '70s': 8581, 'pleeeeease': 13659, 'hayden': 3022, 'farecompare': 2826, 'honored': 3196, 'extravaganza': 8298, 'vacay': 5115, 'remember': 1555, 'eeqwvammiy': 13013, 'chats': 10825, 'a': 5, '7apr': 6832, 'stt': 2650, 'upc': 8699, 'keepitup': 12317, 'n8uvclmada': 12761, 'denver': 364, 'alex': 9508, 'evaluate': 2459, 'torture': 5100, 'hard': 566, 'lazy': 2623, 'depending': 13262, 'undue': 13682, 'killing': 1685, 'ten': 2594, 'late': 95, 'token': 11196, 's4': 9435, 'english': 1687, 'wipes': 7570, \"9'8\": 11160, 'tsaprecheck': 5838, '3389': 13977, 'failure': 1110, 'ua1069': 7493, 'it😊': 8253, 'especially': 1042, 'losers': 4842, 'noone': 9838, 'dig': 11066, 'zhxok07aqa': 7466, 'apeared': 7273, 'notice': 1230, 'pat': 3562, 'complaining': 4913, '40pm': 2658, 'hockey': 13657, 'donate': 2906, 'nogood': 5258, 'treat': 856, 'whufmi2ytd': 12187, 'extralight': 11123, 'lft7qd23sy': 12589, 'graphic': 5863, 'fleet': 2083, 'neptune': 3325, '384': 7912, 'fulfilled': 12535, 'meaningful': 4598, 'safe': 1206, 'actualy': 13157, 'green': 2361, 'aadvantage': 3316, 'nonetheless': 8857, 'u😻😻😻': 8396, 'furious': 2400, 'usb': 10390, 'fully': 2472, 'atrocious': 2293, 'fall': 2399, 'havana': 5609, 'imateacher': 14015, 'unpredictable': 10190, 'pleasure': 2615, 'dance': 3363, 'olympic': 9336, '🍻🍻': 9584, 'hole': 4752, 'canadaair': 7964, 'puj': 7676, 'scumbag': 9794, 'sittin': 11312, 'askpaypal': 3322, '253': 8818, 'lousy': 2118, 'buf': 1324, '81': 8771, 'awe': 4093, 'debit': 5480, '2dayslate': 13922, 'proving': 5151, '9may': 8646, 'provided': 1057, 'tu9jx2jazn': 12062, 'czor4nyh9n': 12259, 'webpage': 11099, 'choosing': 2961, \"50's\": 12097, 'lacking': 8327, 'captured': 11258, 'hill': 11568, 'evn': 13509, 'appreciate': 312, '9tbsjquw41': 7727, '6kqlhvap7g': 6778, 'thousand': 4856, 'ueggkn79za': 11983, 'turrible': 8469, 'destroy': 9371, 'noob': 5870, 'tacky': 5848, 'devastated': 11118, 'levels': 6655, 'helpful': 370, 'aucsykfuhd': 11695, 'doing': 432, 'stranger': 4950, 'regrading': 7504, '7pofsxojsy': 8980, 'abc11': 7410, 'delight': 5091, 'melinda': 13537, 'baggagelost': 5823, 'fuckin': 10743, 'ex': 4396, 'chief': 7718, 'jokers': 7396, 'patches': 2867, '1226': 7574, '8d': 12646, 'smelled': 7207, \"80's\": 3992, 'substitutes': 7576, 'loving': 2109, 'missedupgrades': 12554, 'facepalm': 8979, 'zfv': 13638, 'approve': 3084, 'wheels': 2175, 'hotelstonight': 8377, 'shotwest': 10424, 'mn': 7984, 'patiencerunningout': 13486, 'dnx58v': 13885, 'giving': 744, \"haven't\": 435, 'spain': 12441, 'rx8z53m7yy': 9569, '1lesscustomer': 12410, 'holdup': 3953, 'pity': 13823, 'labyrinth': 8232, 'randomactsofcorporategreed': 8368, '914': 6113, 'flightlations': 876, '16mont': 11587, '1117': 11211, 'them': 151, 'fernheinig18': 7020, 'excusable': 13165, 'delete': 3616, 'papers': 4879, 'angst': 7599, 'cooker': 7014, \"cont'd\": 14016, '4ward': 4366, 'enjoyed': 2064, 'recieved': 3413, 'mkt': 9199, '27aitzl6nd': 8038, 'avalonhollywood': 6050, 'definately': 8332, 'southwestrally': 5341, 'blame': 1391, 'nev': 9494, 'szr0pioa21': 6151, 'b18': 12562, 'punishedforflying': 9274, 'grrrr': 12718, 'coupled': 7721, 'jetbluerocks': 4064, 'own': 543, 'haj5lkqjw4': 13919, 'yyj': 4449, 'txt': 3275, 'companies': 5454, 'usairwaysfflyer': 13377, 'terri': 6849, 'appears': 1919, 'heroes': 10045, '856': 8770, 'higherandhigher': 11330, 'crowded': 5789, 'melton': 11722, 't5sparrow': 12010, 'c29': 12816, 'aflame': 12917, 'tablets': 8688, 'robbing': 6804, 'belong': 4626, 'entertained': 9224, 'starboard': 8778, 'takemehome': 9798, 'h8': 13315, 'mistakes': 2534, 'approval': 10318, 'reserve': 2325, 'anyone40min': 13779, 'operators': 3659, 'responds': 3096, '555': 13656, 'hlp': 13224, 'orf': 3497, 'saturday': 925, \"mom's\": 3726, 'emailing': 4275, 'gr8': 3970, 'catch': 944, 'controllers': 5547, 'jh': 1925, 'swap': 12084, 'pordes': 13928, 'fib': 8135, 'paper': 1449, 'sea': 1225, \"they'd\": 2922, 'carry': 591, '50k': 4003, '3x': 2146, 'justwantmybed': 12840, \"6'2\": 12115, 'themenofbusiness': 8988, '89gkyuf1qh': 9489, '36': 1535, 'wah': 9111, 'rear': 4927, 'billed': 12841, 'ref': 2913, 'trusted': 4276, 'extension': 2396, 'terrifyingly': 13464, 'unlucky': 11322, 'fiancé': 5075, 'sincere': 3011, 'projects': 4370, 'hypocrisy': 3874, 'lifeneedsfrosting': 12321, '12': 643, 'swipe': 7209, 'pvd': 1487, 'x5jena7nye': 9881, 'twelve': 4819, 'comments': 3190, 'scm1133': 13875, \"wow'd\": 5893, 'chging': 10761, 'clincher': 5984, 'whom': 8329, 'special': 1127, 'tefhpuwmdj': 10413, 'luckily': 2049, 'chase': 2530, 'dullestostatecollege': 8092, 'national': 2792, 'dev': 6280, 'upgrading': 3691, 'newspaper': 10980, 'sarita': 12474, 'zippers': 9459, '30pm': 1731, 'do': 46, 'clicking': 2837, 'comforting': 13870, 'smm': 12164, '00am': 13144, 'atl': 668, 'john': 3124, '4h2m': 7617, 'xfwxsrwkha': 12865, 'peterpiatetsky': 12834, 'after2': 9636, 'laguardia': 1980, 'genuinely': 9157, \"let's\": 828, '636': 5220, 'government': 10317, 'sorta': 4993, 'auckland': 8448, 'temp': 3219, 'aren’t': 8486, 'nippon': 7079, 'defcon': 9831, 'measles': 10569, 'ay1gidcfa4': 9139, 'screenings': 13811, 'mention': 1440, 'nostalgic': 13709, '4297': 13418, \"abcnetwork's\": 12851, '630a': 8371, 'fl': 1118, 'alan': 5825, 'on': 9, 'goodenufmother': 6587, 'forevercold': 11154, 'jacket': 3394, \"how's\": 2222, 'connolly': 6427, 'retire': 9954, 'sunglasses': 3569, 'something': 394, 'thks': 13584, 'schooler': 12543, 'observe': 4713, 'have': 22, 'betch': 9751, 'sodone': 11422, '😊😊😊✈️✈️✈️': 11900, 'traveling': 546, 'reinstating': 8779, 'readded': 12668, 'jsom': 9581, 'mosiac': 11857, 'newburg': 11292, 'billing': 5805, 'poisoning': 7537, 'gettingimpatient': 9020, 'popped': 9812, 'custexp': 4746, 'courtsey': 12495, 'enjoy': 1264, 'p7skxzve1a': 12157, 'earning': 7673, 'particular': 9619, 'notmadeofmoney': 9426, 'guide': 2278, 'easier': 1563, 'besty': 5320, 'cbsphilly': 12944, 'certificate': 1547, 'wallet': 2579, 'vs': 2067, 'hopetogetanswersoon': 8374, \"night's\": 6354, 'nobody': 1379, 'boise': 3029, 'unexplained': 13964, 'stories': 9872, 'mcdonnell': 6610, 'signing': 10634, 'nut': 9293, 'vhp2gtdwpk': 5881, 'chl': 13216, 'alcohol': 5528, 'wantmymoneyback': 6329, 'bluemanity': 2801, 'luke': 6489, 'fs4ve7': 10367, 'found': 425, 'warm': 1272, 'lostrevenue': 11944, '4478': 13057, 'jindalcmc': 9578, 'mastercard': 13704, 'ipad': 1231, 'everybody': 4836, '314505529': 9938, 'building': 6857, '503': 10069, 'having': 320, 'united': 4, 'raving': 10125, 'transition': 6518, 'marketing': 1629, 'economy': 1370, 'comparison': 7046, 'reopen': 7667, 'circulation': 8641, 'fastest': 4026, 'manage': 1766, 'froschtravel': 7679, 'opinions': 12108, 'brent': 10287, 'justify': 5521, \"today's\": 1902, 'clu5pdprhp”': 10667, 'bitch': 3850, 'tory': 13016, 'profitbeforepeople': 10448, '5077': 12686, 'tremendously': 9687, 'hubs': 8883, 'gear': 1994, '30th': 2902, 'x4tdy84dbh': 9209, 'chicago': 440, 'ricardo': 11750, 'ont': 4885, 'q4amiw7fsw': 12371, 'msy': 1677, 'handles': 11301, 'lile': 11933, 'senior': 4451, 'albuquer': 9765, 'unnoticed': 13213, '🙅🙅🙅': 7078, 'franchise02': 5804, 'math': 3832, '9za6xb1h89': 12588, 'false': 1818, 'batteries': 9712, 'barbados': 10764, 'hostel': 13158, '330': 5285, 'pandora': 11624, 'ji7xks2jkk': 12064, 'mommy': 11565, 'profits': 2805, 'dgruber1700': 11370, 'definitive': 4264, 'awesomeness': 4827, 'acted': 7778, 'vincesviews': 12575, 'longday': 14013, 'released': 2330, 'fidifamilies': 5946, 'lucky': 1851, 'roxydigital': 4099, 'fehqne': 9587, 'rehman': 13990, \"virgin's\": 6266, 'attempting': 3012, 'inconveniently': 6485, 'against': 2695, 'ann': 5140, 'forgive': 3115, 'disneyprincesshalfmarathon': 10171, 'avoiding': 7790, 'aus': 1182, 'reactive': 8914, 'oc': 5080, 'qxww1p09a0': 9861, 'friend': 583, '❄️❄️': 6615, 'trips': 1294, 'pp': 12245, '5721': 7163, 'hearts': 8712, 'looped': 9308, 'flightcancelled': 13287, 'amybruni': 4052, 'comenity': 6177, 'redreserve': 11500, 'tia': 12749, 'ideas': 2354, 'stellar': 2557, '407': 6057, 'discounts': 2445, 'offload': 5744, '80s': 3554, 'theres': 2753, 'jax': 2162, 'rarely': 2954, 'copilot': 4595, 'orl': 5223, '2046': 12528, 'couldn’t': 4964, '7c': 6116, 'carryons': 3604, 'letsworktogether': 8669, 'weathers': 11438, 'swzm2fx3nu': 12302, \"'missing\": 7194, \"chicago's\": 8766, 'spam': 2685, 'goodgenes': 11455, 'mp3': 13723, 'antigua': 4925, 'slowest': 5610, 'position': 1532, \"'the\": 5013, 'freaking': 1971, 'established': 5715, 'depends”': 12141, 'elmira': 12875, 'sue': 4963, 'staticy': 11962, 'deplorable': 5448, 'wet': 1482, 'improving': 9165, 'kevinswan': 9059, 'twice': 505, 'regains': 8337, 'discrimination': 2952, 'ehsanismpowered': 7505, 'boost': 6157, 'solar': 10387, 'height': 12711, 'lied': 1954, '🙉': 5994, 'flightdelay': 8088, 'emerg': 10414, 'opposed': 5205, 'practice': 2181, 'ha…': 6803, 'executives': 6302, 'advis': 13493, 'quit': 4808, 'thingsyoucantmakeup': 11904, 'ebhset': 13184, 'taped': 11041, 'affiliated': 8555, '2hr30': 9572, 'notmyfault': 5845, 'farms': 8624, 'mentioned': 2861, 'blasting': 2840, 'productivity': 9188, 'badcustomerservice': 1302, 'insufficient': 3837, 'nkafbjyari': 9842, 'difficulty': 4753, 'oscars2016': 4510, 'lastflightwithyouever': 6887, '1007': 3789, '3336': 9550, '8e': 8181, 'medal': 4442, 'automatically': 1414, 'or': 90, 'alleviate': 10581, 'michele': 10455, 'rcd': 12970, 'populate': 7356, 'cakairport': 10380, 'cld': 8909, 'stl': 1475, 'api': 13572, 'ineedabeer': 13387, 'moodlight': 5876, 'cold': 803, 'greg': 10664, 'guns': 11644, 'jim': 4860, 'amazed': 5199, 'despicable': 4978, 'replacing': 2610, 'tiredofwaiting': 6301, 'ua1266': 7103, 'membership': 2573, 'gettin': 4559, 'tribute': 5890, '😳': 5460, 'nvr': 4089, \"daughter's\": 2941, 'office': 1001, 'aerojobmarket': 5577, 'swanky': 6167, 'hang': 1162, 'stay': 577, 'impact': 2305, 'sandra': 7459, 'nix': 11538, 'expowest': 11673, 'ua63': 6537, '728': 1166, 'hangs': 2674, 'writing': 2920, '16c9ex79rk': 10240, 'bagsflyfree': 9088, 'research': 8939, 'customs': 2733, 'countingdown': 11755, 'caring': 2885, 'c7tpdkqulm': 11582, 'possiable': 8272, 'residing': 10320, 'diversions': 5639, 'sledge': 9031, 'deaf': 4424, 'service': 43, 'eri': 3415, 'ijustwanttosleep': 8912, 'us5235': 5765, 'respect': 1589, 'faced': 12665, 'readers': 5442, 'butnot': 11591, 'jm8gq1kgrf': 10165, 'memphis': 1595, 'italy': 4090, 'baked': 13867, 'worsttraveldayever': 13963, 'ffl': 3896, 'paxex': 8052, '13': 1259, 'figure': 760, 'visualclubconcepts': 7902, 'landonschott': 12801, 'flighting': 706, 'bbhtlzgh2c”': 11029, '37': 11226, 'reseated': 7193, 'r7ibqr4cyd': 13839, '2of2': 8397, '430': 12167, '454': 5552, 'supervisors': 4779, \"flight's\": 2599, 'socialtantrum': 12522, 'input': 5068, 'sfo2lax': 5926, 't4gcks2bh5': 8214, 'gooutofbusiness': 13958, '😈': 8841, 'vu5lbzxtrx': 12973, 'omg😍😍': 6193, 'gal': 9856, '606': 4639, 'luvintheair': 10057, 'penalty': 2264, 'tinderchamp': 6213, 'roe': 12144, 'lin': 9298, '5imdckodfx': 8877, 'competes': 6234, 'pending': 2653, 'condom': 4986, 'delayforwhat': 11531, 'adam': 4872, 'regular': 3277, 'makingthingseasy': 11556, '3867': 9696, 'dept': 1374, '😭😭😭': 10297, 'atd2sm8hf4': 10748, 'vulnerable': 12262, 'dildo': 7808, 'sham': 11947, 'significant': 2804, 'parent': 3806, 'wages': 7047, 'circumstances': 3013, '8tjuum22dd': 12731, 'compassionate': 9520, 'patiently': 3752, 'bangkok': 4663, '✈️😃👍': 10036, 'sav': 5746, 'niagara': 11320, 'ruins': 11858, '10min': 5058, 'hiltonworldwide': 8173, 'thu': 10543, '1ateafnc6r': 8576, 'isn’t': 3723, 'heathrow': 1778, '1205': 6922, 'lifeisgood': 11511, 'certs': 8612, 'natural': 11609, 'forecasts': 4204, 'ig2dgctt2m': 7817, 'ers': 4564, 'sing': 5389, 'leave': 343, '324': 8703, '🔵🔵🔵': 10864, 'saddening': 7800, 'threw': 7438, 'whole': 771, \"a's\": 6204, 'posted': 1515, 'mellie': 13087, 'worst': 164, 'purchase': 755, 'trap': 11104, 'dns': 13915, 'cstsvc': 12968, 'quoting': 5680, 'syastem': 8309, 'prompts': 5839, 'yuck': 7700, '👏👏👏': 5135, 'wishing': 13498, 'reports': 3475, 'accrue': 8499, 'folding': 5564, 'takingthistothetop': 13021, 'dubai': 11368, 'silverstatus': 6140, 'uld0hwfkfo': 12511, 'huntsville': 3935, 'months': 689, 'graded': 10582, 'strange': 2918, 'mrrenevendez': 13027, '374': 8757, 'tumitravel': 6482, 'beatsmusic': 5381, 'pura': 11550, 'albeit': 8848, 'avrtowtyzk': 7075, 'ox4w6ktsgi': 11990, 'female': 4198, 'md': 5195, 'scott': 2980, 'survey': 2692, \"in'\": 5958, 'reativation': 13396, 'kindle': 2937, 'kept': 1016, 'said': 230, '4llwi5oxvo”': 10847, '👎✈️': 13933, 'handicapped': 9418, '10tmthvfdc': 9051, '1of': 8183, 'kurt': 7533, '4454': 12985, 'shut': 2979, 'zdkxn4ktou': 11716, 'you😊': 6890, 'supervisor': 732, 'behavior': 5400, '9a': 11294, 'logo': 10157, 'sept': 2718, 'rain': 2817, '810': 13763, 'ikqbdza7tn': 12186, 'lease': 9318, 'availab': 6307, 'adjustment': 10558, 'err': 4952, 'customerservices': 8120, '878': 12907, 'jenniferdawnpro': 6284, 'moveup': 12590, 'pa7dcjxlzl”': 10867, 'nght': 13296, 'nerdbird': 4253, 'receive': 1094, 'daycare': 10594, 'stewart': 8749, 'transported': 5747, 'dad': 1368, 'nigga': 5578, 'disastrous': 7005, 'lister': 5980, 'cruise': 3107, 'w8mtmsp2ry': 12385, 'helping': 715, 'lbc': 10646, 'v8pvphmtzc': 8299, 'icloud': 6637, 'latter': 8617, 'nelson': 10196, 'waivethefee': 4137, 'exercise': 5780, 'seriously': 441, 'hrs': 189, 'monitoring': 7377, 'passed': 1596, 'contact': 386, 'brush': 13040, '1618': 8880, 'unhelpfulness': 7725, 'remembering': 6436, 'gimme': 9378, 'according': 1776, 'yelling': 3483, 'shaking': 4404, 'bouncer': 6867, '0jutcdrljl': 13330, 'stressful': 2914, 'amypoehler': 8462, 'melaniespring': 6461, 'immediately': 2667, '8544484': 8310, 'deltapoints': 10368, 'showing': 947, 'bebetter': 9994, 'ranting': 8403, 'cannot': 719, '129': 7992, 'tailfin': 12331, 'engagement': 12337, 'tonight': 244, 'xxsaombdgs': 9899, 'be4': 13858, 'baitandswitch': 8998, 'flite': 5553, '8fmzzoltv9': 8491, \"'promotions'\": 13479, 'defibrillator': 6308, 'ladygaga': 1430, 'sits': 3063, 'tear': 9456, 'unsympathetic': 8098, 'slowing': 5202, '1106': 11182, 'vusa': 8432, '918j': 10264, 'pittsburgh': 1844, '18': 1100, '79wajk7eyt': 13925, 'point': 517, 'aircrft': 7359, 'pillows': 2499, 'tjdzamhpew': 10610, 'bellagio': 5152, 'sd': 4319, 'communist': 12793, 'qranzimhtr': 12273, 'guys': 108, 'talked': 1079, 'vyuanh4iqr': 11948, 'addair': 7733, 'nobaggagefees': 10609, 'you’re': 4940, 'rushed': 3814, 'venetia': 9023, '1427': 7582, 'tokyo': 3747, 'interferes': 9824, 'cute': 2592, 'routed': 5427, 'innovation': 2814, 'priority': 927, 'hubbys': 13319, 'agency': 2467, 'rj': 8628, 'rebooked': 377, 'indeed': 2434, '4035': 12971, 'fly2ohare': 2555, 'market': 2829, 'trivialize': 12792, 'september': 2531, 'rainy': 10632, 'ua4689': 7990, 'intel': 12556, 'carolinas': 12417, 'ending': 7360, 'sucking': 8027, 'jetblue👌☺️': 11985, 'charge': 455, '140': 2287, 'q9n6nzyspk': 11218, 'spotting': 10222, 'reserved': 2008, '37d': 8394, 'embed': 10137, '3709': 6759, 'upstate': 5542, 'overpriced': 4997, 'handling': 1496, \"out'\": 12777, 'comically': 6546, \"weren't\": 1140, 'disorganized': 5095, 'bloated': 7983, 'branson': 6650, 'mx': 8994, '🐩': 10105, '3fq3xelbon': 2868, 'saver': 6612, 'maybeijustlost': 10269, 'program': 1086, 'monsoon': 11117, 'outofbusiness': 12458, 'bunch': 2081, '153': 13907, 'outage': 5087, 'suit': 2130, '3qyezhjgsb': 11643, 'feature': 1995, 'acc': 6998, \"mary's\": 13560, 'oui': 5679, 'heading': 1410, 'competing': 7755, '4471': 9082, 'rx': 8220, 'instructions': 5745, 'seanvrose': 13375, 'courtesy': 1466, 'swaculture': 5343, 'ramada': 4946, 'whatcustomerservice': 12852, 'app': 326, 'asks': 5081, 'speaking': 1256, 'tus': 9103, 'healthbenefitsofplants': 9189, 'cruel': 7424, '20l': 4721, 'scolding': 6262, '1m': 4489, 'sal': 6740, 'datingrev': 10739, 'minutes': 126, 'dirty': 1858, 'jose': 2259, '0162389030167': 6765, 'affiliates': 6224, 'ipodtouch': 9898, 'flightd': 1104, '130': 2022, 'throw': 3625, 'foodallergies': 12105, 'lofty': 6139, '2hrs35minonhold': 13035, 'cats': 8564, 'disney': 2460, 'restructured': 8717, \"'ya\": 6973, 'dub': 4766, 'recheck': 4279, '4781': 8045, 'resent': 6393, \"john's\": 8295, 'urged': 9621, '611': 5494, 'snagging': 8947, 'plain': 2483, '😒👺': 11771, 'runs': 3900, 'revenue': 1866, 'us4551': 12434, '5am': 4329, 'af': 13256, 'sounds': 1356, 'streamline': 10574, 'playsoon': 11736, '250': 3945, 'kphl': 3314, 'mcgraw': 12353, 'safari': 2836, 'fifth': 10710, 'equipped': 8866, '46am1bsi2g”': 10934, 'soft': 3391, 'e190': 2794, '😤🐴': 9805, 'ri': 9247, 'gently': 7962, '5559': 7985, 'noah': 10258, 'requires': 2536, 'lies': 1601, '694': 12846, 'aa1061': 13300, 'away': 430, 'village': 9014, 'pulled': 3059, 'regardless': 3661, 'jetbluehatesbtv': 10675, '1632': 7586, 'trash': 3682, '7z3gqebfk2': 7300, 'tzzjhuibch': 5932, 'es': 3362, 'triple': 5178, 'uniform': 3172, 'litter': 7895, 'airways': 397, 'disrespected': 7593, '6': 264, 'winter': 967, 'unanticipated': 4830, 'inquiry': 7214, 'side': 1344, 'justwrong': 11171, 'evansville': 8065, 'exists': 4092, 'umosaicmecrazy': 5534, 'rubber': 8028, 'speedy': 2754, 'inclement': 2780, 'dl': 5583, 'topping': 10067, 'unload': 12975, 'stretching': 6801, 'melissaafrancis': 6724, 'eventprof': 12821, 'toddler': 2189, '1791': 14020, '59': 1751, 'british': 4988, 'jewel': 13539, 'tanpa': 14048, '46min': 13634, 'uncomfortable': 2221, 'rmoug15': 8826, 'wheresmyrefund': 13382, 'assuage': 10922, 'mislead': 7313, 'ua484': 7011, 'q4': 6059, 'fouty': 8952, 'decent': 2677, 'painless': 3374, 'reachable': 10431, 'details': 772, 'condition': 5284, 'noodles': 8528, 'overfilled': 13646, '3345': 7196, '4jdvk8tcqx': 7179, 'irmafromdallas': 5954, 'bicycle': 10391, 'sacintlairport': 9795, '1incncav4n”': 10878, 'wu3lbcncr9': 6023, 'observation': 8520, 'msnbc': 7475, 'insulting': 3129, 'happy': 406, 'comedian': 8246, 'ua1543': 6927, 'trade': 8592, 'abq': 2244, '955': 10076, 'repeatedly': 3422, 'psp': 2831, 'casleah': 8902, 'competent': 4727, \"glassdoor's\": 8946, 'theft': 5132, 'gary': 2782, 'technical': 2391, 'cuz': 1918, 'xx': 9946, 'holder': 2965, '2022': 12984, 'detective': 9203, 'raeann': 5929, 'notnice': 13462, 'brokenpromises': 5752, \"must've\": 10029, 'discusses': 10373, 'milwaukee': 10139, 'oil': 5176, 'exclusively': 4669, 'unaccompanied': 4307, 'thetroubadour': 9839, 'dorns': 6581, 'hurt': 2349, 'deplanes': 12640, 'biceps': 13294, 'fc': 2882, 'guitars': 2893, 'hour': 82, 'liqwoblfbt': 9728, 'encountered': 3454, 'sunscreen': 11662, 'ordered': 4199, 'jeff': 2711, '3359': 8855, 'interupt': 11389, 'needlessly': 13211, 'oldseatnocushion': 13588, 'inchecking': 8293, 'g3uy6w28qh': 13152, 'some': 214, 'golds': 6627, 'ua1150': 7561, 'fritz': 4460, 'alway': 9827, 'bae': 2446, 'limbo': 6908, 'valley': 6018, 'jumped': 5272, 'harbor': 3243, 'cobedien': 6894, '704': 10944, 'fairly': 10038, '10hrs': 5616, 'portsmouth': 12074, 'breast': 4101, 'nyt': 7706, '631': 11532, 'wait': 134, 'wens': 10926, 'mama': 5685, 'sld': 5167, 'bru': 6818, 'scavenger': 1996, 'obsolete': 8360, 'toward': 2263, 'mkpognntyc': 8275, \"wait'\": 13803, '1316': 10805, 'write': 1402, 'wjyas2d94n”': 10952, 'ou': 8130, 'ua6255': 8657, 'businessmodel': 10398, '5084773604': 13128, 'bruh': 2863, '462': 5439, 'chaotic': 9415, 'designated': 5970, 'cha': 5766, 'mvyoizrpde': 6714, 'cheapslogannotmotto': 13077, 'styling': 6133, \"bible'\": 9035, 'peas': 8529, 'heaven': 4242, 'unresolved': 7980, '000ft': 11227, 'efficient': 2995, 'ua768': 8478, 'republican': 1854, 'plains': 12878, '1h40m': 12900, '2k': 9608, 'e0c9bi09cf': 7622, '206': 9145, 'reinstated': 3478, 'weappreciateyou': 10688, 'biztravel': 6109, 'iraiq': 12078, 'mdt': 7058, 'servicefail': 3545, 'dj': 8579, 'spoil': 6508, 'terrybrokebad': 10638, 'mess': 973, 'bila': 7957, '1614': 9025, 'storm': 814, 'designs': 9678, 'schedules': 5608, \"'trained'\": 7295, 'fwiw': 4802, 'ray': 6480, 'crappy': 1707, 'caution': 10232, '70min': 6911, 'yourock”': 11357, 'y7o0unxtqp': 5877, 'teamnkh': 10665, 'n8325d': 10459, 'bums': 7623, 'pool': 10780, 'paytontaylor129': 10545, '50pm': 2477, 'discovered': 4037, 'departed': 2113, '21st': 4756, 'tryna': 4524, 'n775jb': 11803, 'till': 1401, '1802': 10479, 'mrandyep': 8847, 'spook': 8164, 'supported': 8341, '🎀': 6240, 'irony': 13698, 'vile': 13832, 'wrap': 3855, 'xdjzkc34gb': 11708, 'deserve': 2103, 'ua3785': 7016, 'nogearnotraining': 11618, 'b5ttno68xu”': 10649, 'jack': 2874, 'been': 50, 'connectfor': 7419, 'neurosurgery': 6334, 'csfail': 8762, 'cool': 523, 'selves': 13395, '😂😂😂😂': 4041, 'c19': 5671, 'black': 1649, 'perth': 3780, '1016': 6570, 'motions': 9248, 'airline': 101, '4007': 10006, 'possessions': 6654, '455': 10093, 'miscounting': 7152, 'redirects': 9479, '35': 1014, 'havoc': 13071, 'geography': 7171, 'xatoxbnsfa': 6994, 'promotion': 1849, '834': 5581, 'irreplaceable': 7750, 'cities': 1278, 'fromthefrontseat': 11790, 'noworstairline': 13458, 'priced': 3862, '375': 11890, 'fridge…that': 12019, '1447': 10701, 'johnnosta': 11426, 'bootbag': 7723, 'reply': 478, 'amiltx3': 10014, 'stupidity': 12863, 'dining': 5055, 'novel': 11068, 'suicide': 2812, 'lots': 882, 'old': 399, 'haul': 2878, 'my': 12, 'accompaniments': 8865, 'longing': 10656, 'taping': 12690, 'reqs': 12536, '667': 13356, 'extending': 9927, 'michaelbcoleman': 5327, 'smoothflight': 9113, 'prechk': 11166, 'ufbdr5axeo': 11275, 'bulb': 11193, '4473': 5737, 'acnewsguy': 12726, 'acoustic': 10170, 'unapologetic': 9462, 'ment': 12314, 'overweight': 2964, 'unless': 1789, 'nny': 11753, 'agreement': 6859, 'x2': 6792, 'swair': 10547, 'movie': 2055, 'pnr': 3758, 'specialolympics': 9335, '16th': 8112, 'absurdly': 6638, 'countless': 11733, '618': 8756, 'homeless': 5203, 'flightlanding': 11661, '2b4bdtldx2': 6679, 'more👺': 10618, 'kek5pdmgif': 5906, 'continued': 2903, 'lmfaooooo': 10848, 'asshole': 5222, '1623': 8086, 'hosting': 2969, 'aviv': 2551, 'fill': 1258, '681': 9496, 'elsewhere': 1889, 'allan': 6294, 'ybmbgs0dhn': 6051, 'apart': 1905, 'mi': 3010, 'ase24766m': 6456, 'van': 3170, 'exp': 2223, 'karen': 2089, '94': 13249, 'admiral': 8222, 'ua3466': 8540, 'fuk': 5824, 'bumping': 2519, 'disgraceful': 4502, 'entering': 3795, 'goal': 3074, 'dpx3yogtej': 11285, 'haiti': 2800, 'sjveelween': 12125, '000lbs': 13647, 'scl': 6810, 'commission': 7769, 'kp': 2710, 'road': 2870, 'rkwugmanm9”': 10986, '619': 4895, '😁😁😁': 6112, 'frontier': 3725, 'vip': 9048, 'inconsiderate': 12802, 'retook': 7221, 'dancing': 2492, '4461': 6992, 'srq': 4062, 'dreadful': 8637, 'earth': 2431, 'keepingit100': 7781, 'solved': 2986, 'retrain': 3520, 'abused': 4930, 'escaping': 9162, 'installation': 11574, 'destination': 527, '01': 8997, 'come': 316, \"space's\": 11430, 'svllindia': 13948, '3am': 1899, 'flyyow': 4358, 'delta': 379, 'ppl': 816, 'southwest': 317, 'fresh': 2735, 'no“': 10873, 'shrug': 8050, 'tix': 831, '21feb15': 9588, 'virgin': 801, 'astounding': 4579, 'beatstheothers': 6002, 'valentine': 5432, 'timezones': 7619, 'strongly': 3606, '1576': 8654, 'sw': 600, 'utmost': 7993, 'inserted': 11304, 'lynn': 3905, '211': 6726, 'ineligible': 10072, 'bizness': 13097, 'deep': 2300, 'dress': 6074, 'greyed': 5963, 'overbooked': 1193, 'has': 88, 'miracles': 10011, 'hez4jk4zsk”': 10995, 'fuking': 13680, 'ritz': 8357, 'traveloneworld': 13206, 'unfollow': 8962, '2202': 11397, 'zabsonre': 8892, 'bzwgp7adve': 11710, 'refused': 1159, 'marieharf': 12079, 'vrqdpqepfw': 8740, 'locations': 2704, '723': 5545, '✈️anywhere': 10466, 'jetways': 12895, 'sep': 7186, 'b777': 4478, 'preferably': 6817, '11': 492, 'inquiring': 11834, 'tongue': 10881, 'public': 1571, 'plows': 13231, 'ans': 7137, 'youcouldntmakethis': 6421, 'hollow': 6375, 'helpless': 5027, 'pretty': 678, 'antitrust': 13920, 'scenarios': 10435, 'respond': 714, 'bitty': 8874, 'pqd': 2951, 'progress': 2409, 'maysvillenyc': 8175, 'kickin': 6274, 'cometoaustin': 12076, 'zurich': 3535, 'teamusa': 7732, \"they'll\": 2117, 'short': 833, 'padresst': 9878, 'fd4snvkiem': 10460, '17pm': 13303, '445pm': 11579, 'maintained': 4607, 'weights': 13402, 'xc6jq70r7b': 6487, 'taxiing': 11699, 'bur': 9399, 'ua1159': 8825, 'blade': 10837, 'jetbluecheeps': 5446, '86': 8851, '72rmpkogwu': 3851, 'statement': 2577, 'wills': 9571, 'unitedhatesusall': 7307, 'improved': 3713, 'fancy': 11934, 'photo': 1911, 'can': 36, 'blatimore': 9820, 'covered': 5413, 'bathrooms': 10037, 'jannasaurusrex': 10686, 'far': 426, '3960': 13120, 'ji2pg4gom9': 11140, 'utdallas': 9582, 'heads': 1799, 'thebachelor': 9110, '19': 966, 'revisiting': 6506, 'easter': 12140, 'ua5396': 4445, 'championship': 7760, 'dmed': 1884, 'constantly': 2558, 'event': 1358, 'superiors': 12991, 'appealing': 12996, 'register': 4171, 'completing': 11573, 'grand': 2029, 'albertbreer': 13721, '5yrs': 10518, 'aww': 4002, 'flgjt': 13111, 'unite': 8441, 'b15': 5355, '457': 12782, 'disappoint': 2385, 'zone': 2065, 'va370': 5943, 'wentook3': 9409, '4914': 12739, 'docs': 13761, 'disabled': 3431, 'briefings': 6476, 'ewr': 315, 'ua1459': 7452, 'brother': 1483, 'bahamas': 2699, 'lj2larive0': 11198, '13th': 2701, 'pro': 3778, '333': 7583, 'hve': 13265, 'room': 570, 'cnxns': 6689, 'franks105': 9854, 'commute': 10575, 'dividendmiles': 5713, 'kmdw': 9758, 'qygxgmd3sn': 11052, 'officially': 1322, 'mn”': 8106, 'gopatriots': 11080, 'ua3787': 8795, 'alaskaair': 5066, 'magically': 8996, 'benadryl': 12026, 'tryng': 12947, 'dividends': 4125, 'tiks': 10191, 'changed': 494, 'ohare': 6589, 'concourse': 2357, 'dmv': 13334, 'warehouse': 12251, 'tatianaking': 4036, 'endless': 4061, 'swimsuits': 8700, 'anyway': 955, 'getconnected': 9962, '❤️from': 6001, 'theyareallbetter': 12610, 'rumors': 5754, 'delivery': 1192, 'sarah': 7974, 'mthm9waobu': 11580, 'sittingonthetarmac': 11536, 'potential': 4853, 'saved': 1978, 'digg': 11032, '👀': 5474, '616': 10736, 'frozentoilet': 13593, '1943': 13918, 'defiantly': 6261, 'stole': 2461, 'iimtjxcvlg': 10696, 'lostmybusiness': 7591, 'usage': 13725, 'high': 886, '2707': 9401, 'woeful': 6944, '901hlngbtx': 8635, 'sr': 8943, 'driving': 1438, 'ua1151': 8752, 'elevator': 10525, 'employeerelations': 8926, 'winds': 3385, 'boardingpass': 8069, '2324': 5486, 'selection': 4959, \"fastcompany's\": 6022, 'smoking': 5050, 'sxu': 12358, 'screensand': 8039, 'enxv64rkbu': 10768, 'management': 1478, 'btw': 1049, 'rated': 4687, 'carrie': 4157, 'rozana': 6352, '529557': 7879, 'normally': 3100, 'seattle': 1226, 'customerservice': 786, 'gjqx6j': 7907, 'bc': 460, 'frown': 11613, 'girls': 2842, 'corybronze': 13031, 'thestarter': 6252, \"'perks'\": 11133, 'fine': 711, 'flyknoxville': 12544, 'badbadbad': 7288, 'shelleyandmarcrock': 11707, 'ia': 6387, '684': 11427, 'desparately': 10528, '‘select': 6034, '2yo': 13406, 'susan': 12135, 'filmjobnoequipment': 5134, 'email': 181, 'cranky': 3066, 'ey': 3440, 'itis': 13342, '5hrs': 1399, 'glasgow': 4269, '7e5bxwg16t': 11774, 'rpdbpx3wnd': 5933, 'outdated': 3887, 'qavvlaxlkl”': 10978, 'uy28d1uegx': 12294, 'leanin': 9041, 'whyyounoloveme': 10270, 'horrendous': 4764, 'persistence': 10711, 'accessing': 12257, 'begins': 4652, 'coldly': 9453, 'happening': 984, 'mites': 7666, 'dividend': 904, 'xaizw2isml': 7641, 'inquire': 8324, 'assets': 4209, 'stbernard': 11991, 'newest': 7286, 'ua1121': 8698, 'flybetter': 11083, '🙅': 10777, 'receipts': 3904, 'complainers': 13577, 'gettingoffplane': 11805, 'arrive': 621, 'pr3oebc2n2”': 10845, 'zqutus7epw”': 10829, '2go': 13052, 'insanely': 8844, 'gave': 448, 'bringbacktheluvtordu': 10111, 'reimbursement': 1564, 'bench': 4308, 'bucketobolts': 10793, 'iqnvyfpg4p': 9192, 'sense': 820, 'north': 2387, 'doubled': 11833, 'netneutrality': 9216, 'cookjaycook123': 11269, 'frghglmkqf': 9513, 'prepares': 6409, 'americanairlnes': 12750, '419': 12778, 'negotiate': 2904, 'driven': 2586, 'istead': 12884, '1657': 6585, 'fm': 5770, 'wut': 5459, 'ad': 3599, 'erieairport': 7104, 'mins': 284, 'westpalmbeachbound': 11513, 'among': 2007, \"southwestair's\": 3979, 'legitimately': 12796, 'field': 2020, 'grounded': 2544, 'handlers': 2642, 'trbl': 13235, 'dont': 777, 'arriving': 913, 'gs': 12966, 'cushions': 4980, 'disneyland': 9841, 'ric': 2190, 'locating': 12912, 'ahoy': 11855, 'k': 2286, 'raised': 4708, 'queries': 12596, '1153': 6840, 'learn': 892, 'zrh': 4477, '479': 7229, 'easiest': 3067, 'okcprofessionals': 9709, 'tailwinds': 12584, 'lovesongfriday': 4077, '120': 3351, 'privilege': 7967, 'annnnnd': 12035, 'breastfeeding': 12533, 'customersfirst': 10180, 'mardigras': 5418, 'firevan': 13014, 'thier': 8398, '53': 4981, 'wylie': 11687, '😭': 2601, 'stopping': 4961, '604': 14037, 'ideserveareward': 9254, 'pleasantly': 3797, 'volumes': 3859, 'xrdtov7nl8': 6282, 'bff': 4258, 'mwpg7grezp': 5853, 'cbsbaltimore': 10051, 'entry': 3770, 'seasonal': 10084, 'dmsc': 12503, 'mwsoguc33p': 8217, 'overflight': 3594, 'counting…just': 9674, 'cutest': 6062, 'hnl': 2148, 'ctg': 11257, 'reaches': 4407, 'wires': 12311, 'sc': 3283, 'astounded': 10350, 'lowdown': 11473, 'located': 2729, 'israel': 12442, 'firstworldproblems': 4691, 'though': 403, '3lpvfhky2f': 13046, '38a': 8179, 'drivers': 5962, 'kinder': 13554, 'toplay': 11553, 'approximate': 9719, 'embarrassment': 13613, 'bbm6pabort”': 10742, '4110': 10372, 'intentional': 6851, 'waspaid': 8656, 'harf': 12077, 'nathankillam': 7580, 'lga': 587, 'clob5qwmxr': 13009, 'crashing': 3036, 'valentinesday': 12201, 'xmas': 6483, 'felt': 1485, 'saianel': 10065, 'brag': 9593, 'shutting': 12608, 'february': 1431, 'birds': 12011, 'thewayoftheid”haa': 10719, 'tv': 629, '21mbps': 10130, '501': 3584, '1xzrk66wvq': 8993, 'vyil1xklrog24fs': 10263, 'remorse': 4311, 'alive': 2690, 'adore': 6144, 'dare': 11590, 'redemption': 10763, \"a320's\": 5470, 'jail': 12773, 'necessary': 3754, 'genius': 5164, '17a': 12433, 'further': 1405, 'monika': 9320, 'swapped': 7446, 'restrm': 7481, 'stock': 3102, 'barrel': 7146, '3883': 4643, 'mooks': 12892, 'never': 116, '2rent': 12613, 'lick': 11854, 'slobodin': 10651, 'standard': 2368, 'vague': 6984, 'internationally': 3673, 'departures': 2366, 'floor': 1387, 'mynzitcovn': 13460, 'significantly': 4811, '25m': 11081, 'stating': 13392, '9': 421, 'ping': 4073, 'painted': 12325, 'classes': 11690, 'danger': 7322, 'iux94rgc83”': 10840, 'downs': 9272, 'flwmgdahxu': 5979, 'stahp': 10972, '🌞✈': 5936, 'the': 2, '300s': 9783, 'qualification': 10183, 'lpdstock': 7083, \"is'\": 13795, 'jhamilton2007': 9038, 'fu': 4977, 'iol': 6068, 'samsonite': 13865, 'immensely': 7456, '317': 10025, 'plug': 5406, 'context': 7520, 'unmet': 8059, 'thinner': 8055, 'pastor': 12208, 'nervous': 2239, 'ketr': 5981, 'djhxvjt201': 8210, 'trouble': 1047, 'fraqdpkyga”': 10969, 'factor': 13955, 'children': 1416, 'nite': 6822, 'cab': 1409, 'keepitclassy': 8131, 'melissa': 9175, 'greed': 7228, \"america's\": 5126, 'southwestrocks': 9884, 'doesntfeellikestatusyet': 8604, '44zhmfdiw6': 8704, 'plat': 3279, '4': 112, 'uygew2nosr': 7095, 'gramp': 13900, 'missingtheoscars': 11150, 'qdxft9qqt9': 7922, 'wasting': 1602, '703': 2955, 'paid': 362, 'miss': 238, 'messaged': 3168, 'memory': 4823, 'dontchangeathing': 10565, '70oz': 7551, 'resources': 4518, '9shhtvioti': 11025, 'breathing': 12679, \"should've\": 1975, 'roanoke': 8198, 'ranked': 3008, 'jbmvvha63a': 6214, 'apple': 1903, 'assuming': 3487, 'reevaluate': 11813, 'homosexual': 10144, 'ebxc94kfjd': 11528, 'renoairport': 6567, 'rich': 10175, 'insanity': 5697, '21p': 13617, 'sharp': 6819, '5102newflight': 8046, 'smoothoperation': 13784, 'possible': 568, 'fete': 7145, 'awhile': 4282, 'lobstermac': 11937, 'rcvd': 4542, 'vpqem31xuq': 6013, 'determination': 13263, 'undetermined': 8765, 'ripoffs': 7632, 'bars': 8215, 'girl': 1681, 'weighing': 12759, 'promise': 1309, 'notifications': 2094, '145s': 8629, 'frm': 1678, 'rez': 8370, 'hopeless': 3550, 'army': 5704, 'august': 1506, 'reference': 2086, 'colombian': 11467, 'stone': 8687, '71': 8331, 'strandusindenver': 6985, 'straighten': 7806, 'tv4u': 8614, 'osox9h7fwy': 10276, 'loweredexpectations': 11260, 'voicemail': 3581, 'denairport': 4499, 'whatajoke': 13896, \"tonight's\": 3644, 'min': 199, \"corp'\": 6499, 'todays': 3366, 'guesstimate': 13404, 'nationalairpor': 13518, 'angryairtravel': 12921, 'draft': 7516, 'ua507': 4969, 'middleeast': 3401, '820pm': 8438, 'bashing': 12753, 'they’re': 8325, '🙌✈️': 11237, 'dressed': 11144, 'tan': 10619, 'addtl': 4349, 'redirect': 10727, 'moving': 991, 'msgs': 5209, 'wheeze': 11441, 'letter': 1271, '1130': 6949, '01pm': 12497, '20min': 2386, 'tulsa': 10519, 'occur': 7216, 'president': 3505, 'fw3cy8hgdj': 10820, 'jbyvmsod29': 10747, 'flighted': 201, 'sev': 9607, 'single': 1072, 'nj5ga1gds5”': 10897, 'forum': 6674, 'stowaway': 9448, 'skateboards': 8689, '2k424j0': 13884, 'vocab': 8261, 'pullin': 13232, 'singing': 5345, 'passengersarepeople': 10733, 'muchas': 9330, 'jwa': 13465, 'northeast': 2772, 'perfect': 1296, 'manually': 3464, 'laurasbrown5': 5039, 'returning': 1669, 'muzak': 13864, 'latte': 11848, 'bedofroses': 11641, 'greenfield': 12398, 'um': 5458, 'row': 526, 'valuables': 12932, 'groupa': 9003, 'fwhei6': 9779, 'better': 217, 'peace': 3556, 'leah': 8476, 'themed': 11922, 'livery': 2005, 'itself': 4570, 'dwese7xidr': 11483, 'respectful': 13271, 'luxury': 9964, 'plow': 9278, '742': 13313, 'mcintosh68': 6490, 'conference': 1955, 'simply': 1926, 'luvagent': 9894, '1161': 6681, 'sohappy': 8961, 'outsource': 2595, 'ignores': 5175, '8465981': 6767, 'staring': 5462, 'wht': 8369, 'confirm': 897, 'aircanada': 2110, \"dm'd\": 1354, 'undrstnd': 11190, 'adjacent': 6547, 'alstdi': 9060, '3744': 9309, 'tinaisback': 10393, 'robbogart': 8134, 'dead': 1667, 'rum': 5550, 'whats': 1689, 'ass': 1950, 'follow': 267, 'lo': 4850, 'theend': 14038, 'ashleykatherton': 12419, 'dtv': 7827, 'flight5182': 12861, '285': 8361, 'qantas': 4670, 'dani': 9446, 'snow': 408, 'maui': 6970, \"don's\": 9246, 'usairwaysfail': 874, 'cattle2slaughter': 10631, 'station': 5161, 'recourse': 2469, 'voucher': 338, 'baggages': 5761, 'starbucks': 6343, 'assignment': 2683, 'weird': 2378, 'skiing': 3451, 'disheartening': 10421, 'sba0aricyq': 9240, 'delightful': 13439, 'hit': 1702, 'dullessucks': 8063, 'ages': 3097, 'foodnetwork': 10671, 'contingencies': 9352, '1373': 10713, 'reassign': 4835, 'ua3364': 8814, 'sigh': 2397, 'us626': 13527, 'claudoakeshott': 5764, 'candice': 13730, 'ua1157': 7825, 'reaccommodation': 13944, 'qro': 8238, 'bite': 8400, 'pandu': 12437, \"didn't…but\": 5854, '880': 13242, 'job': 434, 'agents…no': 13067, 'kvxs1lcqlp”': 11034, 'brd': 10008, 'cri': 11997, 'awaiting': 2009, 'waved': 11302, 'tbd': 6731, '5141': 13814, 'psa': 13807, 'stellarservice': 10002, 'proceed': 3901, 'wating': 8100, 't6fyybhjhl': 9659, '😂😂': 2783, 'walked': 1901, 'conditioning': 13054, \"'b'\": 9902, \"ual's\": 8391, 'earlybirdmeansnothing': 9483, 'entrusted': 12073, 'e1mex0t6q5': 12190, 'thor': 8537, 'pigs': 12551, '603': 12707, 'pref': 2736, 'melting': 13065, 'tough': 1452, 'abroad': 4955, 'hour20delay': 6972, '130am': 13772, 'sprinted': 8457, 'airbus': 1967, 'ubergizmo': 10280, 'approaching': 4614, 'dispatch': 4371, \"we'e\": 9739, 'makingloveoutofnothingatall': 11697, '👏👏👏✈️': 7247, 'boy': 2482, 'judas': 10145, 'scalpel': 9033, '2ir7ynmbdu': 9629, 'aa2924': 12934, 'bonuses': 6277, 'award': 849, 'boson': 9108, 'gross': 2576, 'drunks': 5749, 'members': 866, 'approvals': 8981, 'uhumaskldv”': 10990, 'geez': 11907, 'dzg99jfiik': 12181, 'wervirgin': 6269, 'clarence': 5278, 'unacceptable': 407, 'view': 1168, 'ua304': 8526, 'jetscrew': 11887, 'fran': 2553, '29': 3110, '425pm': 7150, 'several': 858, 'xhlc30mtff': 7851, 'tedious': 13645, 'ua475': 7961, 'goods': 4957, 'joined': 5794, 'retracted': 8553, '1am': 8938, 'expansion': 6217, 'fucked': 2583, 'seau': 7115, 'packing': 4556, 'urgently': 3903, 'bkk': 3517, 'tke': 11681, 'bankruptcy': 10960, 'vuelo24': 13652, 'appropriation': 10932, 'unmonitored': 12567, 'n284wn': 9310, 'wyoming': 7130, 'nevertakeno': 12045, 'avp': 13489, 'fwzclbvug4': 11652, 'fsz4yo': 9602, 'nklozcntto': 10420, 'lio6ocpteq': 8345, 'rayja9': 7156, '5097': 12732, 'etfjqiwuvt': 5826, 'scenes': 12577, 'overkill': 7999, 'scandal': 11797, 'g4o6yx7tmj': 10885, 'carryon': 1879, 'buffaloairport': 11806, 'equally': 3809, 'compliments': 5748, 'despite': 857, 'cosmetic': 8500, 'whatever': 2591, 'xzmscw': 13379, 'stndby': 4434, 'bumper': 5546, 'invite': 3827, 'hotline': 3352, 'reminded': 3091, 'aunties': 9683, 'freedrinkcoupons': 10338, \"shouldn't\": 812, 'belt': 2174, 'fransisco': 9393, \"'direct\": 13894, 'sine': 12513, 'mdbdyomrs7': 9202, '489': 5536, 'desires': 11309, 'views': 3360, 'labor': 9874, '👏👍': 12343, '359': 8132, 'guaranteed': 3831, 'abassinet': 11060, 'row7': 7482, 'badcustomersrvice': 13340, 'bbaonx9txd”': 10833, 'lindsey': 3214, \"passenger's\": 8908, 'aal': 13364, 'z': 8178, 'lhrt2': 8465, 'pen': 3095, 'pin': 4635, '6yo': 10598, 'owed': 6435, 'buddy': 7469, 'coasts': 6383, 'father': 1979, 'weds': 13568, 'oscarnight': 7041, 'bethonors': 9116, 'mae': 9053, 'njv4bp': 8889, 'jkf': 4220, '1242': 4976, '😩rt': 10843, 'youve': 9345, 'split': 2079, 'midterm': 13181, 'tok': 9282, \"f'd\": 14042, 'kdepetro313': 9690, 'wed': 3064, 'relations': 1007, 'formula': 5443, 'notfair': 6652, 'lovesouthwestair': 10562, 'terminology': 12591, 'sop': 3159, 'jwl26g6lrw': 11623, '8yr': 6303, 'dry': 2605, 'xmaqcucwzl': 8934, 'flyunited': 3201, 'thank': 65, 'usaireays': 12972, 'bass': 6678, 'ozs': 11988, 'airlinegeeks': 3709, 'phew': 11439, 'communication': 693, 'twtr': 7235, 'h11jglw74l”ayyy': 11010, \"we've\": 579, 'herself': 11749, 'gxdqortss0': 6384, 'columbia': 3703, 'brisk': 6186, 'time😡😡😡': 12812, 'trains': 5004, 'amazings': 6272, 'gregwallace66': 12870, 'yasss': 11016, 'neverchange': 9887, 'screakjmf': 10327, 'fallow': 3828, 'typical': 2585, \"guy's\": 5998, 'flyeia': 6680, 'ack': 9407, '1142': 4592, 'weigh': 8501, 'cushy': 11385, 'poker': 7101, \"bf's\": 9531, 'chairmans': 5719, 'caching': 6090, 'us2218': 13841, 'fong': 7116, 'notourfaultyoudontuseyourgatesright': 12620, 'separating': 11108, 'overhead': 834, 'waiving': 7896, 'hanging': 2346, '1629': 9487, 'jj': 4480, 'deliberate': 13471, 'fgrbpazsix': 6256, 'dal': 924, 'terrific': 2933, \"'improvement'\": 6414, 'upgd': 5029, 'incident': 1768, '94lxa62': 12693, 'secret': 13927, 'pty': 8497, 'tfjfmsha2k': 7203, 'understand': 422, 'devaluation': 9953, 'jgor0vdi3s': 11688, 'behalf': 6574, 'roadtrip': 10303, 'flat': 2247, 'embarrassed': 3721, '9ragncw2bk': 12284, 'holla': 6121, 'vvzksmfkvw': 11569, 'sjqemdtqma': 8054, 'buffalo': 1423, 'tbt': 13732, 'afternoon': 887, '559': 6425, 'extremely': 918, 'gml7ot3imh': 9181, 'links': 6092, 'flyingwithus': 7172, 'a3zz0f': 8007, 'evolved': 9073, 'screaming': 3601, 'difficult': 1460, 'wgyztnjcxm': 11020, '6asuwx3kv0': 7906, 'livvyports16': 10041, 'legit': 3653, 'agcommunity': 9186, 'finally': 291, 'thankjesus': 13316, 'powder': 10623, 'scanned': 3344, 'even': 145, 'load': 969, 'flightlation': 810, 'schools': 9817, 'typing': 9087, 'shade': 13466, 'denied': 1153, 'current': 1043, 'shittydeal': 9159, '3739': 5777, 'get2': 9403, \"americanair's\": 11702, 'piggy': 7704, 'pa': 1771, 'cots': 13134, 'properly': 1552, 'c7kzbvf8h8': 11953, 'faceless': 7270, 'produced': 12184, 'zakkohane': 11124, '1h45m': 6742, 'updating': 2359, 'stacey': 8507, 'appeared': 4951, 'ishouldhavedriven': 11219, 'jennifer': 10507, 'capel': 9230, 'montego': 8665, 'ruined': 994, 'wasnt': 3079, '8x7xvm': 9991, 'trained': 5329, 'keeps': 851, 'exhibited': 13075, 'assuring': 9895, 'claiming': 3491, 'x9blwgwa68': 9150, 'wanna': 1289, 'messaging': 10261, 'ser': 8745, 'forwarding': 12309, 'diminishes': 8611, 'sw✈❗': 9785, 'investigated': 6623, '8602947': 6699, 'clear': 1111, 'swallowed': 12501, 'safely': 1597, 'derrick': 4109, 'synergy': 13199, 'loyal': 599, 'attendant': 373, 'ofw4a8b5ws': 12050, 'versace': 13293, 'gj': 2734, 'songs': 9822, 'homewardbound': 9979, 'wonderful': 860, 'results': 2245, 'kgonzales89': 11796, 'eco': 3620, 'medical': 2062, '60th': 13261, 'earned': 1645, 'inconsistent': 5193, 'leaving': 450, 'illogical': 7726, 'dilemma': 9530, 'panamerican': 4786, 'noexcuses': 5214, 'value': 1705, 'liza': 13094, 'insurance': 8009, 'calgary': 3082, 'sounded': 11744, 'pressed': 8542, 'version': 4165, '❄️❄️❄️': 6005, 'republic': 10617, '8473573': 8141, 'favoriteairline': 10101, 'nights': 2776, 'us1799': 12525, 'hahahahaha': 6861, 'telephones': 11879, 'fec4i3vwq7': 7810, 'dlewis2412': 11539, 'medically': 10005, 'bucket': 5601, '11th': 3551, 'analystdoc': 12255, 'oust': 11176, 'hotlanta': 9432, 'clowns': 6846, 'flightations': 2080, 'redcarpet': 2231, 'rest': 1831, 'chosen': 12723, 'yyzua70435': 8466, 'idlovetoask': 11284, 'huclxluv5h': 9005, 'greeting': 2510, 'oldpolicieswaybetter': 10089, '1712': 4910, '6475': 7642, 'expected': 980, 'bingo': 10257, 'ua1566': 7710, '10am': 3552, 'turnaround': 3674, 'tarmac': 389, 'firing': 8809, 'cae': 3049, 'blank': 4040, 'fedex': 8277, 'drenched': 9486, '3870': 7071, '🌴': 5519, 'oscars2015': 2818, 'letsgohome': 6278, '4841': 8208, 'appointments': 3346, 'relying': 11909, 'rescheduling': 1758, 'ellahenderson': 4095, '561': 4060, 'dark': 3024, 'warriors': 5651, 'cgroup': 10472, 'tom': 4418, 'locals': 3916, 'hacked': 12217, 'blanket': 8405, 'mardi': 10493, 'subterfuge': 10023, 'reagan': 1580, 'flexes': 11571, 'lift': 12169, 'same': 256, 'pack': 3453, 'responsiveness': 9161, 'bna': 778, 'wernicke': 9835, 'in…': 13860, 'geneva': 7643, 'intelligence': 13349, 'au1066': 6286, 'profile': 3915, '635': 7754, 'hooking': 5159, 'surprised': 1484, 'restless': 11416, 'robyn': 13578, 'worried': 2015, '43rd': 10541, 'stopover': 13280, 'births': 13633, 'octavia': 10382, '5237': 8897, 'btw😏': 11999, 'collection': 3094, 'dsdebodmel': 10770, 'dxb': 8711, 'marry': 9807, 'quadruples': 7939, 'purifier': 9736, 'kats': 9935, 'ey”': 2943, 'overbk': 10009, 'balancing': 6522, 'nick': 13312, 'finder': 5597, 'wsj': 1622, 'ync2zut4zz': 9135, '18fmr06mn6': 13137, 'kidding': 1161, '162': 11519, 'okayyyy': 12367, 'waitinginphilly': 12979, 'contingency': 5771, '307': 7936, '705': 5670, 'thick': 4906, 'whatfrozenpipes': 11629, 'consistency': 7212, 'atwonline': 6078, '645': 3307, '4x': 3073, '4972': 6693, '8': 313, 'restroom': 3960, 'crying': 2126, 'patricia': 9323, 'argentina': 8252, 'ons': 4490, '6zj6l2ztua': 9507, 'meoalcipdd': 13890, 'troubadour': 5280, 'broken': 482, 'use': 254, 'shanghai': 4458, 'hunt': 1735, 'listing': 6598, 'lost': 160, 'clearvision': 8613, 'caused': 1032, 'understaffed': 2977, 'icu': 6335, '12thman': 7430, 'minors': 12733, 'folder': 2708, 'archaic': 10097, 'iiiii': 10478, 'sardine': 7023, 'insensitive': 12104, 'idols': 9614, 'bike': 4020, 'ua1731': 6960, 'communicationiskey': 11233, 'stpatricksfoundation': 12344, 'problematic': 13506, 'dependable': 7243, 'tucson': 3040, '28mar': 6833, '135': 12282, '15minutes': 5256, 'loaned': 8810, 'ineedcoffee': 11911, 'ohno': 12252, 'impaired': 12455, 'violation': 7180, 'bretharold': 5637, 'sisters': 7102, 'friends': 802, 'meal': 1117, 'turkish': 4968, 'srsly': 3981, 'iceland': 4328, 'n559jb': 12285, 'navigate': 13514, 'u6duw27mde': 6565, '1172': 10201, 'carrier': 2159, 'tied': 10612, '2xdaily': 5171, 'whereismybag': 13341, 'reeks': 3729, 'because': 129, 'cju102xp2k': 8597, 'transpacific': 8901, 'dude': 3354, 'involuntarily': 7285, '4199': 9534, '€202': 8145, 'kci': 4539, 'hide': 4896, 'wn4287': 10149, 'help': 49, 'config': 11766, 'spvsr': 9869, 'irrops': 4705, 'fallen': 13830, 'preflight': 4698, 'standing': 1144, 'bracket': 12683, 'shouldhaveflownjetblue': 9410, 'nothing': 266, 'cargo': 4113, 'mary': 5895, 'kristy': 13282, 'thereisafirstforeverything': 13793, 'firstlove': 10657, 'alwayslate': 4571, 'inflation': 11135, 'lugging': 8187, 'offer': 515, 'smalls': 9029, 'cbarrows': 12299, 'undefined': 10471, 'emergencies': 13893, 'citi': 12264, '👎': 2140, 'mrfbjtepef': 8970, 'julie': 3337, 'deborah': 9924, '154': 10428, 'chi': 1823, 'ukdjjijrow': 6110, '360': 7294, 'qgtcao1j2u': 11214, 'paigeworthy': 7742, 'cvg': 2367, 'dial': 3774, 'mejia': 6980, 'civilized': 10738, 'holton': 10354, 'xaspqdsqhe”': 10956, 'ruth': 3812, 'mpls': 7602, 'insist': 5253, 'choices': 4085, 'freeflight': 12757, 'being': 194, 'musicians': 3503, 'thansk': 12695, '6373': 4854, 'drvrugby': 13845, 'prepare': 13410, 'explained': 1719, '3min': 13143, 'counting': 609, \"cap'n\": 9859, 'usairwayscenter': 12922, '413gial0yl': 10987, 'donneiiy': 8645, 'ua3530': 8550, 'distance': 8876, 'professor': 8450, 'suuuuper': 11761, 'pregnant': 5105, 'realizing': 13674, 'spiced': 12223, 'thanksjetblue': 11691, 'siting': 3596, 'target': 12053, 'lsybglf59j”': 10816, 'asgmnt': 12480, 'acquire': 8875, 'texted': 3087, 'totally': 883, 'startups': 8452, 'love': 146, 'knowing': 1591, 'strike': 3663, 'allergies': 5650, 'ft1892': 13857, '1875': 13310, '6600': 6962, 'unnerving': 7921, 'displaced': 6866, 'whereabouts': 7363, 'allows': 3216, 'makeovertime': 13909, '2601': 11181, 'jms2802': 3518, 'serving': 2466, 'spin': 7829, '3hr30min': 13220, 'facebook': 2617, 'c68ld9': 14017, 'go…': 8753, 'newlifetimecustomer': 10408, '65': 2746, 'time2switch': 7213, 'signs': 3232, 'distributor': 11407, 'nantucket': 2206, 'hime': 8307, '150': 1377, 'bussey': 4110, 'kwuek1ukbc”': 10756, \"world's\": 5495, 'impossibly': 12409, 'published': 7381, 'situation': 872, 'overall': 2696, '7min': 10512, '906': 11338, 'stuffing': 13025, 'wrestle': 12052, 'umm': 3411, 'bk': 4646, 'frauds': 6947, 'travelfail': 13483, 'liveatfirefly': 9829, 'platter': 6437, 'steve': 4325, 'curbside': 4771, 'beneficial': 5005, 'motion': 8510, '27d': 6553, 'otfz7cyguq': 7612, '4487': 5079, 'doors': 1783, 'guests': 3872, 'soc': 13399, \"skymall's\": 10202, 'however': 943, '1798': 12553, 'ruiningmy': 12459, 'jetbluebos': 5440, 'compete': 10322, \"'various\": 5548, 'prescreen': 7454, 'blackmailed': 6364, 'wide': 2789, 'aaaand': 6921, 'i9s86kihge': 7012, 'fault': 841, 'coded': 13766, '1020': 8365, 'ridiculousness': 6395, 'lea': 7779, 'ploughs': 3398, 'kelly': 2455, 'prn': 13500, '3574': 10587, 'filthy': 4728, 'potus': 8508, '1b': 4440, 'birder': 11103, 'slaycancerwithdragons': 9505, 'nearly': 1341, 'planning': 1554, 'poorform': 8266, 'ind43728m': 7347, '05am': 3288, 'ilookyoung': 11456, 'teeming': 7931, 'recent': 1518, 'origami': 10088, 'tanked': 11170, 'onboad': 6510, 'tip': 9072, 'rachelle': 6836, 'carseat': 2938, 'q6xedzvhh9': 13688, 'sighed': 9295, 'usa': 1359, 'routing': 1961, '4567': 2437, 'fusturated': 10584, '2pujvcelng': 6104, 'chkout': 7351, \"fleet's\": 226, '💘': 10654, '👿': 4426, 'ua57': 7445, 'mans': 9662, 'burst': 7256, 'sweepstakes': 5141, 'sucks': 576, 'fend4urself': 12737, 'completed': 3449, 'jorge': 11996, '5xweekly': 6227, 'manual': 12945, 'arguing': 7775, 'avatars': 5914, 'peeps': 3347, 'bgr': 5758, 'involve': 12671, 'meals': 2112, 'isabelle': 13899, 'onhxhco6bk': 6625, 'karinslee': 6175, '717': 13269, '☀️': 5364, '😂😂😂': 5464, 'memo': 5321, 'stall': 3457, 'lynchburg': 13166, 'eternally': 9819, 'nrhodes85': 5811, 'lmaooo': 13714, 'interrogated': 8265, 'stl2atl': 9778, 'disunited': 7855, 'wayne': 4798, 'bureau': 11822, 'increase': 3654, 'transaction': 2985, 'hp9rppcvhx': 10876, 'unmanned': 9631, 'hi6fl1ax9e': 10966, 'exist': 3403, 'sw900001': 10262, 'lh7631': 8556, 'blog': 2105, '547': 8490, 'shares': 3377, 'qf0oc2hqez': 6935, 'kosher': 8780, 'ethics': 7937, 'anna': 8139, 'adopted': 4619, 'horror': 5275, 'slash': 12336, 'worstflightever': 3328, 'gloves': 12762, '395': 7960, 'shrugging': 7242, 'breezy': 7821, 'heel': 13974, 'graphics': 5855, 'onholdwith': 4118, 'youdidit': 9106, 'voted': 7926, 'exceed': 4203, '42': 1584, 'temperature': 2855, 'returned': 1644, 'toughtomakeplans': 9231, 'legally': 7462, 'breach': 4972, 'worded': 7164, 'measurements': 12748, 'pounding': 7458, 'pgashow': 11437, 'cheatcustomers': 9089, 'renttherunway': 6073, 'circles': 13616, 'snacks': 1504, 'unprofessional': 1465, 'neglect': 4314, 'funny': 1097, 'finding': 1437, 'sweethearts': 9374, 'screencap': 10544, 'timbit': 13877, 'us3645': 8155, 'requested': 1054, '👏': 2026, '2017': 12215, 'shady': 8764, 'hangar': 3762, 'inner': 8582, 'p': 1513, 'tsvgbrl15f': 7549, 'carpet': 3937, 'intelligent': 5359, 'docmvotwti': 12203, 'towns': 9120, 'vu7xswjkiy': 12080, 'quickie': 11276, 'whatstatus': 8160, 'select': 1345, 'dultch97': 5288, 'cavs': 11546, 'bngpli8jt6': 7707, 'nh2i9zlzmk': 11549, 'sous': 8199, 'aqzwecokk2': 5975, 'brcsjbxg2s': 13024, 'flyfi': 1621, 'handedly': 7464, 'grkbj7bxlk': 9266, 'transfer': 1026, 'boarded': 644, 'heidimacey': 11960, 'loluwfci11': 8512, 'em': 3185, 'shits': 4528, '275': 5797, 'phlairport': 1119, 'concerning': 11394, 'makeup': 4754, 'petty': 11009, '70f': 9628, 'listed': 1610, 'loveisintheair': 12202, 'noooo': 5467, 'p8vcz4xthm': 10113, 'etailwest': 6159, 'officer': 3111, 'rockstar': 4221, 'us2146': 12933, '😑': 4001, 'strandedattheairport': 13685, 'seatback': 6837, '5547': 13641, 'travellers': 4953, '1g9rnmyuqe”': 10920, '😡😡😡😡😤😤😤': 8963, 'bnflhpxtmw': 7640, 'virginamerica': 61, \"sen't\": 10223, '300rt': 12454, '1220': 7489, 'fudgers': 12843, 'ih5w9nfkz2': 9730, \"you've\": 610, 'tweeting': 1109, 'kindness': 3507, 'dontmakemebeg': 9380, 'commercial': 1542, '3367': 7799, 'doke': 5630, '2023': 13260, 'suppose': 1544, 'ttinac11': 5986, 'ghjbp5gg67”': 10904, 's3esw5agum': 10305, 'pricy': 10752, 'spf': 5842, 'gameboy': 9413, 'liable': 4793, 'disrespectfully': 7374, 'lavatory': 3740, 'text': 1434, 'oversold': 3154, '1814': 10588, 'jezziegoldz': 4257, 'buddies': 3435, 'stunned': 4216, \"eqm's\": 7094, 'hardcase': 10063, \"would've\": 2454, 'dissemination': 12560, \"i'm\": 56, 'wireless': 7703, 'nov': 11524, 'fl382': 11101, 'ua3659': 6407, 'stood': 2313, 'grandmothers': 9645, 'talk': 497, 'partner': 1658, 'rejecting': 10620, '2x': 1603, 't2qbgamfpc”': 10975, 'systems': 1424, '41cgqueen': 13148, 'jm4geyxby5”lol': 10939, '6170': 12704, 'garage': 11242, 'denisejtaylor': 11070, 'reboarding': 9045, 'sbehi46bmk': 10182, 'virginmedia': 5858, 'monica': 8379, 'sugafly': 6179, 'horrible': 416, 'becomes': 12258, 'vote': 5282, 'attitudy': 7087, 'isolate': 8737, 'me😭😭😭': 9873, 'airbusintheus': 11825, 'grk13575m': 6548, 'cramped': 4768, 'stillnotonmyflight': 13551, 'q16xvwg0l6”': 10888, 'remove': 1861, 'takers': 13619, 'automated': 1164, '2034': 11541, 'missin': 8431, 'team': 342, 'ua1534': 7055, '1715': 5729, 'vegas': 348, 'aumilo1': 13413, 'nit': 7405, \"ua's\": 8634, 'mech': 2123, '6hjucp694l': 7672, 'strong': 2518, 'ua23': 6705, 'inexcusable': 2369, 'nelsjeff': 9296, 'flawed': 4272, 'yxswfq9tgp”': 10807, 'weekends': 3988, 'hhoxqpsuba': 13106, 'chose': 3657, 'sarcasm': 2018, 'anni': 10284, 'xijyrpslzk': 8270, 'ftlauderdale': 9267, 'facing': 2252, 'hourandtenminutedelay': 6986, 'hqdtk6atue': 8723, 'check': 131, 'rly': 11293, 'inbound': 1556, 'arrangements': 3228, 'situations': 4790, 'outrage': 7315, 'modelodenegocio': 10396, 'businesstrip': 9234, 'pushed': 2390, 'falling': 2564, 'lv9hwqdk9a”': 11005, 'givethemraises': 9212, '27th': 10614, 'entirely': 5082, 'occasion': 10685, '😍': 9849, 'burger': 5589, 'business': 282, 'satisfaction': 8788, 'describing': 4561, 'third': 1371, 'polite': 13676, 'stable': 6899, 'canthurtasking': 9146, 'specific': 1505, 'qdebyahqfm': 6618, 'passengerslose': 13956, 'browser': 2485, '9c': 8022, 'antonio': 3926, 'dangerous': 12110, 'flightedflight': 13573, 'gaincustomers': 9122, 'inquiries': 6464, 'int': 2886, 'mex': 4447, 'lightbulb': 7987, 'rude': 296, 'peanut': 3910, 'multimedia': 10988, '52': 3944, 'craftbeer': 10226, 'crw': 14034, 'recycle': 13581, 'sympathize': 13008, 'buzzkill': 7248, 'personable': 12117, 'woulda': 5540, 'ever': 170, 'disgusted': 2657, '4524': 5846, '3111': 10450, 'yyc': 7986, \"uncle's\": 13816, 'psngrs': 7655, \"girl's\": 6614, 'govt': 7135, 'emirates': 5974, 'uctraveladvisor': 6322, 'cr': 13433, 'max': 4415, '5137': 13640, 'couldnt': 2157, 'tripping': 4164, 'housing': 4124, 'amazingly': 4145, 'initiated': 12514, \"'cuz\": 8693, 'robotweeting': 7373, 'expense': 4283, '633': 11616, 'tense': 13068, 'shortly': 1990, 'steering': 12541, 'reckless': 12109, '90s': 6031, 'stewardess': 1537, 'incurred': 12989, 'kits': 6560, 'emer': 9764, 'montereyregionalairport': 13694, 'sanitizer': 9556, 'voided': 4400, 'repartee': 10247, 'roger': 3434, 'ah': 1531, '35x': 5812, 'lax': 274, 'facts': 7780, 'bestplanesever': 11967, 'nas': 5351, '3387': 7275, '5hpsqvrjk8': 6593, 'enforcement': 6363, 'selected👎': 6066, 'mpwnc2': 7160, 'stats': 13311, 'which': 358, 'coffeeneeded': 11908, '1415': 11252, 'ua863': 7823, 'bagage': 3017, 'whiny': 9976, '909': 8264, 'igkogywksr': 11335, 'oxsa8btvtb': 11023, \"plane'\": 7342, \"hour's\": 10355, 'x': 1232, 'conveniently': 4435, 'kailua': 6719, '11a': 5533, 'badge': 5658, 'receipt': 1020, 'i1sfmi7zat': 13254, 'steep': 6287, 'maintenece': 7042, 'sean': 5803, '2ikbp8gxwi': 7271, 'toddlers': 4588, 'manch': 5819, 'fiction': 7265, 'ord': 337, 'burgundy': 6552, 'cyberattack': 6523, \"'em\": 5586, 'beqotlnugc': 7298, 'aegeanairlines': 6306, 'drinking': 8513, 'spent': 653, 'farce': 6704, '190': 5472, '32': 1651, 'replies': 4441, 'lasalle': 9299, 'tul': 5425, 'classiq': 6027, 'cheek': 10882, 'hostile': 12941, 'below': 3050, 'oscarscountdown': 6055, 'work': 188, 'ggqzqd': 7354, 'success': 2438, 'emb145': 7729, 'explaining': 7518, 'delyd': 6584, 'cincy': 4114, 'bait': 4514, '44stocker': 7973, 'sharktank': 11552, 'windy': 9627, '8hr': 5255, 'relevant': 4945, 'lqjt2jvoys”': 10997, \"disney's\": 11872, 'reminder': 1907, 'theflight': 9170, 'bookable': 6953, 'emerging': 10328, '1384': 11241, 'jb': 1339, 'spanish': 2347, 'wakes': 7649, 'budweiserduels': 9997, '1769': 13474, '2012': 3542, 'farelock': 6768, '1796': 13215, 'claims': 1898, 'ps9q9rpsil': 12809, '0011': 6452, 'vhfjgneozo': 10892, '🌞✈️👸': 11514, '305': 12306, 'deal😉': 9923, 'mkwlkr': 8643, 'dqjl8vz2h2': 6957, 'guys…see': 13615, 'sleeping': 1413, 'dustyob': 6602, 'betsy': 5319, 'qjkl4abprg”': 9383, 'battierccipuppy': 4820, 'skys': 13742, 'qxv45mv0ug': 12332, 'refuel': 4809, 'transports': 10230, 'nashville': 623, 'fold': 11493, 'grandkids': 9723, 'kitty': 5915, '1838': 13604, 'ilm': 13844, '😜😎': 10166, 'shin': 8424, 'books': 2775, 'ichangedyourdiaper': 9346, 'interpreting': 12976, 'qefkfwzo7d': 10452, 'div': 3300, '0638': 7867, 'across': 1526, 'tea': 1648, 'quiet': 4367, 'blocking': 7546, 'premium': 1279, 'thatthis': 9351, 'inform': 2798, \"life's\": 12415, 'flysouthwest': 4016, 'xmz3tf9ix8': 9398, 'pedophile': 6677, 'morons': 7932, '😷': 11608, 'essence': 13238, 'shit': 931, 'sentinel': 4195, 'colors': 13612, 'sanfrancisco': 3370, 'pv': 10331, 'poorcustumerservice': 13343, 'faithful': 5822, '1032': 6536, 'istanbul': 8503, '1786': 13585, 'grandma': 2042, 'ju9rhz4rqc': 10511, 'kcvubuyexc': 7176, 'caller': 10535, 'grant': 10443, '4pm': 3245, 'delays': 247, 'jperhi': 5918, 'merging': 3313, 'april': 1283, 'lwotkiekgu': 8229, 'gate4': 13284, 'legal': 2627, 'keepem2': 9123, '🚶🚶🚶🚶': 10850, 'ivgpzsjtkw': 8858, 'sad': 807, 'compton': 8008, 'gastoncounty': 13707, 'watched': 1704, 'coke': 4068, 'coworkers': 3847, 'brooding': 9149, 'eczhcmm5vi': 9743, 'bgm': 4776, 'called': 328, '1217': 13740, 'mistakefurious': 10597, 'helacohlc': 4984, '8qsqmm7kf2': 5969, '😃': 3353, 'lifesaver': 8412, 'parents': 1846, 'courier': 4641, '5siczx1oez': 9675, 'retweet': 8815, 'unitedfail': 1959, 'thanksunited': 8015, 'pop': 6394, 'wronganswer': 13212, 'boys': 4971, 'bestairlineever': 5298, 'labeled': 13750, 'gas': 4893, '20th': 5304, '1907': 13605, 'flt1088': 7802, 'hoom': 9823, 'negativedegrees': 11620, 'seattlebound': 12149, 'ripped': 2301, 'tgsljjn6g0': 10228, 'cspkcats': 9688, 'removes': 9655, 'medicine': 11489, 'n659sw': 9354, 'stretch': 9761, '23rd': 7109, 'pple': 13838, 'donna': 8262, 'craft': 4880, 'ccndjp': 11730, 'useable': 9990, 'lungs': 7070, 'golf': 1840, '12h': 7350, '😖': 3951, 'coworker': 3510, 'remind': 3089, 'travelportland': 10436, 'wth': 2180, 'toilet': 3839, 'soooooo': 10714, '79': 3235, 'nixchangefees': 11484, 'catching': 4501, 'l': 2475, 'bully': 8922, 'bros': 9412, 'pkfi9bttzf': 8679, 'summit': 11231, 'grandmother': 11723, 'refuse': 1453, 'directed': 2186, 'personal': 1255, 'sl6bdrxfn8': 13759, 'furryfiesta': 9281, 'interested': 2821, 'accelerate': 6180, 'rebuilding': 11471, '3312': 12268, 'genious': 13299, 'jersey': 6852, 'tinder': 6211, 'chairmanlove': 13889, 'granny': 10851, 'relayed': 7717, 'lax29108m': 7767, 'transferable': 5636, 'skateboard': 10505, 'zira2z3udc': 12928, 'epic': 2114, '493': 11739, 'caf2cx3gfi': 8283, '3860': 13773, 'television': 5155, \"bag's\": 6613, '6166': 6897, '2066': 13515, 'would': 76, 'sympathy': 4100, '✈️💺': 10483, 'thingsishouldknow': 10299, '21': 1077, '14': 1175, 'button': 2487, '3104': 5235, 'consult': 12124, '1222': 11366, 'landing': 542, '2011': 8972, 'saddens': 13534, 'golfbags': 10064, 'fantasy': 7205, 'tickets': 263, 'consequence': 7334, 'expired': 1173, 'cleaned': 1946, 'long': 219, 'plants': 9187, 'waldorf': 11092, 'fabulous': 2212, 'ua5025': 8896, '1750': 4674, 'eerekdf9fq': 8249, 'actions': 2426, 'coupon': 2542, 'qkquraggoo': 7904, 'neverflyunited': 7054, '3933': 10244, 'irene': 8051, 'helpmeplease': 6590, 'yxu': 7486, 'international': 578, 'c12': 11411, 'fjkvqmbmas': 8484, 'deaffriendly': 8301, 'southwestfail': 9568, 'upon': 2270, 'crfrwpc1sx”😂😂😂': 10870, 'sato': 7920, 'performs': 10146, 'czamkoff': 7227, 'stepped': 4679, 'park': 3261, 'kjkuvj6cmo': 9396, 'lo6lghpcdu': 9977, 'jax2bna': 10340, 'cho': 3321, 'interns': 12128, 'andrewbiga': 11958, 'als': 9057, 'a…': 8228, 'rsrv': 12948, 'obey': 9929, 'early': 325, \"didn't\": 207, 'lolol': 10879, 'mybday': 10335, 'league': 5529, '75': 875, 'blames': 5224, 'olds': 8411, '8hh4p2': 10024, 'roadmap': 10136, '55': 1558, 'zfqmpgxvs6': 6471, 'cpzb285o71': 10940, 'muc': 7355, 'been3hours': 9624, 'gotta': 1569, 'cousins': 6929, '1997': 4822, 'bushleague': 10498, 'discontinue': 11603, 'flustered': 13281, 'sgckbopata”': 11575, 'sunburn': 7798, 'segway': 6259, 'gladly': 4048, 'doctor': 6072, 'v015pk7dsi': 11560, 'dreaming': 6226, 'likingyoulessandless': 5950, 't3': 6156, 'feed': 3857, 'tori': 10591, 'medusafridays': 8984, 'mht': 3786, 'listens': 6388, 'purchasing': 3621, 'pissed': 1710, 'annettenaif': 5831, 'amazing': 339, 'guacamole': 11512, 'patrick': 12800, 'wont': 1661, 'thrower': 9022, 'herded': 10630, \"airline's\": 10814, '0185': 6115, '47': 3039, 'sobbing': 8633, 'vo3eqsepqh': 10790, 'travelers': 1064, '877': 8817, 'boarding': 200, 'intro': 4248, '4420': 4134, 'formal': 2684, 'tailwind…': 12563, 'bish': 7343, 'afraid': 4767, '1491': 6686, 'yc7v2s0iod”': 9140, 'g9b6e0a2sz': 9553, 'shipping': 8886, 'state': 1953, 'passbook': 854, 'minimum': 11375, 'inaccurate': 3582, '3x9nruovts': 11139, 'idaho': 8138, 'zfroinpszi': 9770, 'são': 7008, 'boeingairplanes': 7678, 'movies': 3845, '428': 3317, 'exceptionalservice': 11466, 'operational': 2546, \"'out\": 14004, 'terrible': 361, 'went': 493, 'outrageous': 3602, '5012': 8044, 'explorer': 2616, 'dismissive': 5820, 'attitude': 902, 'lsusoftball': 7161, 'carta': 11314, 'bf': 2997, 'seek': 8189, '45minutes': 12939, 'tucking': 7852, \"correct—i've\": 6533, 'loudly': 8107, 'expedited': 3151, 'accts': 13748, '3thparty': 5042, 'alt': 5192, '1318': 11941, 'acquired': 11924, 'snowing': 2002, 'leaves': 1499, 'neverflyusairways': 13972, 'weepysweetmonty': 10799, 'online': 227, 'greatcustomerservice✈☺': 11403, 'popping': 10308, 'stand': 1695, '👉🚪rt': 10769, 'empathize': 10033, 'figured': 1330, 'runners': 7261, '😩😩😩“': 11028, 'bcuz': 10043, '30000ft': 9797, '26th': 4274, 'marketwatch': 11769, 'pointless': 3524, 'mint': 1218, 'unitedworstever': 7064, 'recruiting': 5244, 'cowboy': 8436, 'navigating': 10749, '1687': 5147, 'coffeemaker': 13856, 'cellphone': 3918, 'websites': 5177, 'pit': 1489, 'claim': 368, 'happyfriday': 13574, '5182': 12867, 'identical': 5046, 'occasions': 13849, 'nc': 1422, 'duecto': 8250, 'wheresthepilot': 7801, 'winning': 2478, 'convey': 12565, 'cldnt': 4730, 'interchangeably': 13722, 'depot': 12661, 'malfunctioning': 10094, 'beautifully': 5940, 'daddy': 11566, 'ambivalence': 9322, 'stqy9v8256': 11966, 'coast': 1820, 'charleston': 1993, 'else': 645, 'grt': 13174, 'portrayed': 10143, 'annnnddddd': 8588, 'airpt': 9769, 'incubator': 6021, 'legs': 2099, 'sundown': 10020, 'presentation': 12436, 'gz9gqdt7jj': 8933, '1254': 4419, 'wake': 4494, 'education': 4873, 'landed': 405, 'dealing': 1002, \"monday's\": 6097, 'amsterdam': 5071, '4569': 9891, 'eb': 5328, 'traps': 10365, 'smisek': 3759, 'soooo': 3381, 'foolish': 5572, 'browsers': 3359, 'fresno': 5809, 'hdoxim6nz2': 11212, 'inspiring': 12360, 'setting': 5340, 'thirty': 3181, 'duffle': 3390, 'stuckonaplane': 11383, 'vx363': 6188, 'fyvrfn': 6780, 'exact': 1561, 'struggling': 12715, 'qualify': 4082, '826': 13389, 'hugeeeee': 9168, 'fargoairport': 6271, '4th': 2115, '666': 13700, 'coathanging': 13591, 'too': 165, 'frrfxccw7z': 12377, 'store': 10516, 'seemed': 3120, 'yep': 1459, 'utilize': 13001, 'flu': 10751, 'achieve': 13512, 'mbltalr4bs': 12479, 'paulo': 4540, \"sittin'\": 11102, 'apy3zlsquu': 11823, '💺✈️': 13834, 'whrsthecoach': 11840, 'conection': 4826, 'checkers': 7998, '✈': 12880, 'isitsummeryet': 11686, \"certificate'\": 6507, 'ahold': 3042, 'conversational': 7545, \"'error'\": 6913, 'usairway': 14032, 'xgfs6tjtmo': 11331, '18th': 10224, 'irixaifjjx': 10792, 'us733': 13289, 'nftyconvention': 10514, '5db9esbnzg': 11290, 'greatjob': 13063, 'oylgeao7y8': 12859, '1818': 11545, 'sugar': 11283, 'want': 153, '0pdntgbxc6': 9430, 'multipledooropeningandclosing': 6988, 'fashion': 8443, 'ua1516': 4378, 'bid': 5884, 'a319': 4250, 'inop': 6320, '🙏❤️': 12000, 'accomidating': 8236, 'know': 109, '5163': 12813, 'seriousness': 6969, 'equals': 6466, '68': 9754, 'fred': 7501, 'employees✌️': 13023, '1ker': 6519, 'platinum': 964, 'repping': 11881, 'sadie4406': 9204, 'g8dka3edhf': 7431, 'andrewfallis': 13550, 'erie': 11343, 'free': 260, 'publicity': 12649, 'aboard': 3101, 'hoping': 613, 'ap': 4586, 'realtime': 12362, 'warmer': 11443, 'jsumiyasu': 8903, 'explains': 8515, '214i0rtih4': 12930, 'showsomerespect': 8140, 'ton': 2102, '7': 321, 'breath': 12955, 'priorities': 5226, '1553': 11852, 'cantlogoutofunitedwifi': 8290, 'ua26': 7694, 'redsox': 11085, 'atleast': 5026, 'monetary': 13891, 'girlfriend’s': 10527, 'connection': 248, 'ems': 5482, 'sneaky': 4163, 'colder': 11638, 'happily': 2925, '1601': 12322, 'crabby': 9213, 'list': 635, 'entertainment': 905, 'postsecret': 8824, 'staduim': 11390, 'ionlyflyblue': 11955, 'advertise': 2598, 'decided': 1836, 'usexpress': 13806, 'approved': 3186, 'recognized': 9789, '740': 12439, \"flight'\": 13895, 'ensured': 10092, 'excited': 845, 'a330': 13672, 'unfortunate': 2276, 'fist': 10060, 'servers': 12925, 'wndceo5qlk': 8137, 'friendlysky': 6946, 'inspiration': 8925, 'why“': 10865, 'phf': 13745, '250k': 13424, 'volt': 6511, 'telleveryone': 11942, 'italian': 12194, 'yourairlinesucks': 13476, 'dakota': 5569, 'switchingboth': 12539, 'amin': 9813, 'ieg2obcepp': 11341, 'mco': 549, 'rights': 2336, 'misplaced': 3760, 'professionals': 5145, '3040': 5169, 'eqp': 10583, 'i9kcgaxxfa': 11654, 'revive': 13737, 'influx': 12998, 'vacatinn': 6579, '26min': 13126, '5th': 4573, 'bevies': 11268, 'flt1727': 13081, '2031': 12936, \"over'\": 8562, 'marinadomine': 10705, '226': 5531, 'indenial': 11628, 'gripeo': 12008, 'sally': 5274, 'timing': 3576, 'breakfast': 2340, '9xkiy0kq2j': 10601, 'legalizes': 9473, 'ouch': 4596, 'xfinity': 7624, 'snobby': 7099, 'ua3417': 6408, 'runways': 5422, 'pky7zhnnrh': 13586, 'garcia4chicago': 7091, 'intact': 4315, '2gether': 11476, 'pricediscrimination': 7633, 'recharging': 13452, 'represents': 4166, '2daysofunitedfailures': 8230, 'mike': 4555, 'vgqoihtrkh': 11378, 'lake': 2584, 'apologizing': 5157, 'crappiest': 9416, 'rapidly': 7204, 'jan': 1774, '691': 11598, '9nivw9ftzw': 11448, 'midght': 5783, 'weyburn': 12365, 'goodday': 14039, 'expens': 13472, 'esuu0hiajm': 12028, 'lights': 3772, 'findurgrip': 13492, \"child's\": 3540, 'heartbroken': 5101, 'hubby': 2316, 'brand': 1745, 'hoo': 8255, 'djimpact': 9803, 'descent': 11918, 'stressors': 6982, 'xm': 11743, 'tricities': 13524, '1202': 11635, 'outbreak': 10570, 'name': 352, 'bloody': 4008, 'unforeseeable': 6446, 'pac': 8430, \"cessna's\": 3427, 'lastly': 10342, 'downgrading': 4914, 'florida': 1257, 'inability': 4030, 'ysqbvq6mgb': 9875, '20x15': 8838, 'deadhead': 4138, 'shannon': 3192, 'char': 4886, 'ac6zwmuoon”': 10912, 'sent': 205, '00pm': 2624, 'vent': 10091, 'ive': 1816, 'replied': 8282, 'vc6keulg2j': 6065, 'flyer': 880, 'comfort': 3356, 'cowgirl': 8434, 'up': 55, 'lmuschel': 7185, '879': 12467, 'strandednyc': 9419, 'strips': 11734, 'awgjkjiiac': 13043, 'steamed': 11717, 'wine': 2488, '29daystogo': 5861, 'idnumber8569822': 8373, 'arrivals': 9845, 'injury': 3914, 'sprinkled': 4660, 'specialist': 12877, 'sell': 1314, '2min': 12496, 'off😂😂😂': 12915, '🌴🌴': 7390, 'quintana': 12764, 'sooooo': 9615, 'southworst': 10526, 'taxes': 6147, '2uaicfjrms”': 11021, 'ridic': 8620, 'abounds': 13118, 'decency': 8828, 'wlcm': 11191, '362': 12701, 'permanently': 4146, 'based': 1530, 'thefutureisweird': 12090, 'wheresthecustomerserviceat': 14025, 'snowbound': 11201, 'bigger': 5410, 'worthy': 9049, '😂👌👌👌': 11012, 'pairings': 5966, '1776': 5790, 'dontdothistome': 6153, 'volleyball': 9908, 'ptfo': 7142, 'backing': 7543, 'not': 24, 'girlsweekend': 10172, 'water': 877, 'loose': 3250, 'sold': 1443, 'southwestoliver': 9686, \"cx'ed\": 9493, 'springs': 1638, '1584': 6426, 'superior': 2507, '7stktjxan1': 13876, 'atx': 4234, 'vein': 6467, '😷😱': 9737, 'excellence': 4538, 'hopethegearmakesitintact': 7954, 'alright': 1962, 'mobility': 6340, 'suitcases': 5225, 'happens': 712, 'holidays': 4357, '630': 2781, '2133': 13552, 'wrong': 480, 'buck': 9901, 'rick': 8122, 'ws': 6149, 'unmissable': 8031, 'qjlzrywfj2': 13576, 'mandarinjourney': 6556, 'b44': 6794, \"rocky's\": 11875, 'asleep': 3297, '863': 7361, 'period': 2082, '💔': 11597, 'ahead': 1248, 'luxclark': 10160, 'offering': 869, 'mile': 2101, 'gee': 3421, 'velourlive': 1998, 'engagements': 11372, 'changer': 10389, 'amarillo': 8025, 'waking': 6472, 'fri': 9275, '4helped': 12148, 'submitting': 3678, 'w1aakjumxa': 6909, 'yogurt': 8531, 'sxsw': 10626, 'julgood1': 9810, 'complimentarybeveragesneeded': 9482, 'society': 7845, 'xxy2d2imnp': 10402, 'multiplier': 8719, 'represent': 5802, 'handy': 7844, 'bailey': 12790, 'feedback': 898, 'permission': 4386, 'ends': 3471, 'acy': 11336, '💕✈️💺': 12129, 'chk': 6881, '75yo': 9480, 'refreshes': 7923, 'held': 867, 'mines': 9389, \"air's\": 12836, 'shoe': 4455, 'expiring': 3733, '31daysofoscar': 7119, 'cdn': 9119, 'byod': 8280, 'kentuckymbb': 5799, '2020': 10449, 'canx': 9363, 'operator': 4668, 'taylormdowns': 10273, 'flyingitforward': 1510, 'virus': 12747, 'lug4mfvwsa': 8618, 'louis': 2290, 'enoughisenough': 7749, 'ric2dfw': 12729, 'out✈️📱': 9558, 'nyjets': 11079, \"sunday's\": 8085, 'zzps5ywve2': 8856, 'miscalculation': 6663, 'r': 852, 'fixthis': 11930, 'rhw78ktqfo': 9745, 'misspelled': 11074, 'mraw3qdw4d': 9205, '7pm': 4974, 'roads': 2694, 'trappedhouston': 7065, 'paradise': 9220, 'p6eef1zwzc': 10791, 'bullshit': 2076, 'slog': 12162, 'itineraries': 4609, 'news': 804, 'n5o43svl8i': 10595, 'drop': 1105, 'obviously': 1594, 'board': 308, 'light': 1763, 'uhuh': 7886, 'things': 602, '36min': 13842, 'peak': 10905, 'solate': 12888, 'fortunately': 3194, 'lsuquinlanduhon': 7162, 'embarrassing': 2411, 'owe': 2728, 'inclusion': 10307, 'trumping': 13767, 'dhhomg2kix': 10903, 'member': 567, 'outdoor': 6754, \"travelers'\": 7181, 'takeoff': 949, '6hrs': 3658, 'characterize': 7230, '218': 8978, 'live': 739, 'm8': 8163, '223': 12548, 'grumpykim': 7073, 'freaky': 13789, 'concerts': 9826, 'secure': 2484, 'devotedyyours': 10369, 'disgusting': 1406, '✈️': 1915, 'noticed': 2000, 'downnnnn': 10384, '3999': 9522, 'bttr': 5815, 'accommodation': 4664, 'visors': 6254, 'compliant': 4446, 'miles': 231, 'a18': 12817, 'lodge': 5426, 'expedient': 4937, 'disappointments': 10371, '389': 6676, 'cnn': 3083, 'workout': 12706, 'b1': 6479, 'sales': 3103, 'caren': 12523, 'ondemand': 10658, '8dqzlrjo9p': 9529, 'scheme': 11348, 'paul': 6253, 'rad': 8070, 'inaccessibility': 13357, 'cxld': 9720, '33': 5526, 'fields': 5047, 'blew': 3334, 'characters': 2068, 'shift': 4193, 'hotl': 6470, 'horrific': 4544, '2078': 10343, 'curtesy': 7076, 'occupy': 13751, 'sherocks': 6129, 'midway': 1734, 'backwards': 13705, 'informed': 1507, '26pm': 7217, 'suggestion': 2603, 'ta': 3419, '4klfywwmq1': 12734, 'mpi4yuo9jr”': 10808, 'lusaka': 4332, '3458': 9937, '4c': 4237, 'flyswa': 5212, 'func': 8276, 'dunkin': 11901, \"'request'\": 7043, 'santo': 11158, 'iata': 11509, 'tests': 9173, 'geg4nghmie': 7747, 'trys': 13222, 'misunderstood': 12617, 'scream': 7346, 'dming': 3615, 'lightning': 12714, 'holders': 2358, \"'please\": 13802, 'unitedappeals': 4883, 'hook': 1965, 'wasteoftime': 5806, 'consumermarketing': 9490, 'getmeouttahere': 9503, 'eaten': 13322, 'swapic': 10047, 'kneee': 7946, 'tuesday': 873, 'incorrectly': 8349, 'rescued': 12815, 'selfie': 1999, 'tkvmhbkec3': 6601, 'afford': 1524, 'frhuxib8ii': 12122, 'mass': 3474, 'preregistration': 9972, 'ua1023': 7917, 'comeonpeople': 7716, 'announcing': 5393, 'gma': 3393, '1mnth': 12676, 'issued': 1318, 'citizen': 5699, 'major': 1000, '714': 5931, 'ids': 8999, 'got': 93, 'snowstorm': 3555, 'peq90pqmpp': 10899, 'thehipmunk': 6561, '1170': 10621, 'dontflythem': 11631, 'contract': 2630, 'bestdressed': 11453, 'usually': 1146, 'onboard': 1075, 'intended': 4473, '1857': 13624, 'neveragain': 996, 'giennyqn22': 13005, 'payton': 10546, 'true': 903, 'problemsolvers': 7989, '😩😭': 5987, 'ucvnilmb4x': 9665, '24hrs': 2495, 'indianapolis': 3967, '1917': 4136, 'reschedulemyflight': 13188, 'tkt': 2388, 'will': 51, 'enemy': 9417, 'sexually': 12874, 'back': 89, 'drift': 13253, '2522': 10501, 'throwback': 8973, 'vuxf4r4unu': 12475, \"momma's\": 12534, 'desition': 12625, 'et': 13541, 'they': 58, '14a': 7344, 'upocmmulun': 7794, 'tropic': 7605, 'heinekenusacorp': 11406, 'aggressive': 3326, 'eqepkkpsxm': 12868, \"a'dam\": 7683, 'turbulence': 2035, 'without': 365, 'hug': 4871, 'legacy': 11866, '2218': 13840, 'letdown': 9595, \"0xjared's\": 12136, 'kirkwoodtiger': 10309, 'doesn’t': 2966, 'baejet': 10636, 'columbian': 10797, 'bankrupt': 3125, 'cyndi': 8772, 'morn': 7578, 'm': 1828, 'o3srl1hfho': 9830, 'us4485': 13833, '96apr35qan': 7444, 'flcnnn2usd': 7402, 'cert': 3848, 'gets': 821, 'whatstheholdup': 7929, 'salem': 12623, 'dest': 3781, 'he': 245, 'thnk': 12638, '2npxb6obmr': 6093, 'weak': 2268, 'rhkamx9vf5': 5990, 'stopped': 1562, 'vacations': 5638, 'purse': 10352, 'convinced': 8804, 'splits': 8425, 'par': 4999, 'whenitsnowsitpours': 9639, 'arrived': 548, 'adult': 4277, 'directflights': 10112, 'run': 690, 'unfriendly': 2317, 'sooner': 1350, 'mha3xxaed5': 9648, '4467': 10068, 'tlh': 12602, 'praise': 5555, 'ontario': 13259, '6pm': 2139, 'unrealistic': 6290, 'captain': 968, 'affecting': 5738, 'logistics': 13950, '918': 12388, '25yrs': 7461, 'we’ve': 11647, 'hello': 822, 'unlikely': 4696, 'availability': 2352, 'leastthebeverageswillbecold': 12254, 'brotha': 8718, 'okay': 722, 'eservice': 6457, 'concentrate😭😭': 10446, 'additionally': 7484, 'kathryn': 8002, '518': 12853, 'nonprofits': 9109, 'c9p2iosphm': 9562, 'snack': 1741, 'registered': 4958, \"'mile\": 11072, 'callbacks': 10532, 'mdw': 1217, 'journey': 2661, 'willie': 10195, 'clean': 1498, 'general': 1928, 'swa1004': 9080, 'spelling': 5695, 'watch': 953, 'overcharged': 4909, \"737's\": 6465, 'find': 239, 'surname': 6209, 'draw': 7389, '❤️✨': 11824, \"feb's\": 8887, '5cwh1yfoow': 12423, 'worn': 7748, 'americanair': 176, 'breaks': 3430, '5639': 7097, 'newly': 3423, 'san': 420, 'rip': 5295, 'shared': 3341, 'disappoints': 5627, 'attdt': 13078, 'things…': 12372, 'fiousairways': 13189, 'rtqyjcvtq3': 12366, 'kp”': 2309, 'best': 197, 'apology': 692, '1966': 13873, 'epicfail': 1698, 'ricky': 12491, '05': 2324, 'informs': 11145, 'white': 2021, 'us5268': 12653, 'nooooo': 11547, 'onbrd': 11192, 'policies': 1261, 'terminal': 547, 'ressie': 5924, 'ravioli': 7813, 'fave': 3147, 'given': 529, 'indicated': 3731, 'outlets': 1468, 'shifts': 5129, 'demonstration': 8226, 'ths10ldy2a': 7234, 'freakin': 7409, 'again': 103, 'livethelegend': 11408, \"'s\": 1883, 'infuriated': 11954, 'devices': 2930, 'brizzyberg27': 13112, 'ibvvtzls4e': 12236, '3472': 9752, 'sivi': 8748, 'edinburgh': 4638, 'foot': 2597, 'lm3opxkxch': 12400, 'n598jb': 4034, 'speak': 469, 'cannedtweet': 11299, 'closer': 2680, \"dm'ing\": 6673, 'hops': 7589, '1401': 12160, 'naming': 4844, \"martha's\": 12004, 'estellevw': 8308, '😞😡': 9596, 'expects': 6936, 'faulty': 13217, 'charm': 3563, 'seatmate': 7848, 'singapore': 4522, 'halfway': 3086, 'ase': 2527, 'bosnia': 7839, 'gesture': 4235, '1sywlmtzek': 10603, 'hpsieaokwh': 10699, 'aprzspxige': 10567, 'rkvczbpdce': 13338, 'compensated': 2408, \"'ing\": 9297, 'freddieawards': 5880, 'engadget': 10409, 'a3ycflalxv': 9699, 'act': 1408, '2rsw': 12494, 'fits': 2950, 'emotional': 12988, 'spelled': 7211, 'lgbt': 9474, 'rectify': 3470, 'interiors': 7496, 'neverontime': 13502, 'locator': 13883, 'ventilation': 11236, 'great': 110, 'pointed': 4629, 'abbreve': 6321, '😢😢😢': 12060, 'childish': 5356, 'mmcwkqp2gy': 9324, 'ru': 4904, 'oi32uq2ttz': 10052, '01ldxn3qqq”': 10961, 'curiosity': 4634, 'behind': 982, 'honolulu': 3055, 'clue': 1385, 'auciello': 7305, '0kn7pjelzl': 10333, 'retards': 7441, 'transferred': 1553, 'emphasize': 13532, 'promises': 1916, 'lenaowfyvu': 11266, 'spring': 3242, 'cxp': 6904, 'minute': 553, 'mag': 10830, 'maybemange': 6940, 'always': 344, 'costa': 4012, 'reminds': 8289, 'knock': 11425, 'fair': 1495, 'anamarketers': 3212, 'fire': 2380, 'performance': 2860, 'profit': 2501, 'different': 431, 'perfectly': 5114, 'haven’t': 2044, 'norris': 9788, 'direct': 385, 'startingbloc': 8378, 'greater': 5099, 'it’ll': 5189, 'overchging': 10628, 'could': 180, 'ypu': 8522, 'markets': 11821, '277': 11680, '☺️👍': 5862, 'returns': 6222, 'simplify': 8464, 'ucf0b0bq8r': 11657, 'usatoday': 3406, 'explanations': 4794, 'jason': 5326, 'mom': 914, 'capable': 4908, 'professors': 13180, \"you'd\": 1228, '1089': 11444, 'calves': 9564, 'bape6rumne': 10285, 'settle': 4892, 'smitten': 12159, 'feet💤': 6275, 'partnered': 11648, 'lavoratories': 13648, 'equal': 3863, 'pile': 3137, 'yoga': 11249, 'concert': 3959, 'roberto': 5832, 'wererunning': 9172, 'hutchinsjim': 12705, 'usairwayssucks': 2811, \"doesn't\": 250, 'sensitive': 5660, 'underway': 11583, 'music': 1125, 'la': 680, 'flier': 2030, 'appear': 2069, 'wiser': 13969, \"'passenger\": 7174, 'yards': 5010, 'future': 729, 'southwestluv': 9369, 'probs': 3578, \"it's\": 85, 'thailand': 6968, 'touch': 1473, 'nominated': 6015, 'ramp': 2669, 'custserv': 3807, 'centers': 4347, 'whenever': 1859, 'flawless': 11667, 'mysteriously': 8053, 'bins': 2047, 'wk': 4576, 'freyasfund': 4215, 'flt1533': 11313, 'plate': 3410, 'sarahpompei': 13546, 'tkts': 8504, 'lead': 2788, 'jhughes1025': 12684, \"won't\": 270, 'bestinclass': 9796, 'certainly': 1930, 'openskies': 12444, 'nicest': 8590, 'yout': 13093, 'bumped': 1041, 'j': 1896, 'inappropriate': 2858, 'resched': 5262, 'greenville': 2769, '6344': 8653, 'wbhbljjks7': 12595, 'yzxfe7au22': 10901, 'usurious': 7517, 'humor': 2988, 'offered': 745, 'bayepzkmiz': 9421, 'jvmchat': 2807, 'h44uj63cjg': 9095, 'emily': 5030, 'ftw': 2927, 'foreverrrrrr': 11481, 'home': 137, 'ability': 2832, '4663': 5779, 'unpleasant': 5204, 'community': 4043, 'overcharging': 7613, 'chathes': 13702, 'smoothtransition': 13150, '😩': 3995, 'bestflightever': 5111, 'clown': 5741, '2pm': 2659, 'window': 958, 'paycheck': 8621, \"paypal's\": 13644, '184': 9304, 'numerous': 3025, 'chgd': 10169, 'moved': 725, 'nsjwvttjgo': 12173, 'newsvp': 6056, '😬': 9381, '2z3jv73ilw': 6639, 'laps': 9527, '202': 9472, 'teamtreehouse': 12014, 'mktg': 6902, 'singer': 4229, 'curt': 13563, 'misunderstanding': 11795, 'fcmostinnovative': 6020, 'course': 859, 'ahah😃💕🎵': 9784, '4016': 7878, 'request': 651, 'ballin': 10938, 'calamity': 7711, 'larger': 3909, 'u': 111, 'ferrissalameh': 11527, 'astoria': 11093, 'shout': 1726, 'kristie': 13283, 'fwd': 13160, '5b2agfd8c4': 6000, 'reality': 5588, 'uk': 1876, 'following': 762, 'sections': 12774, 'takr': 11337, 'blackish': 11578, '4438': 5829, 'smell': 11188, '3618': 7611, 'tweeter': 5476, 'fliers': 1974, 'pleasant': 1323, 'nzherald': 12370, 'tier': 13575, '😩😩😩': 10933, 'lung': 8459, 'cbsnews': 12599, 'ncguzdgdaq': 10993, 'backup': 2384, 'ialiceh2ft': 7696, 'prayer': 13192, 'married': 2888, 'consumer': 5041, 'abducted': 10784, 'capabilities': 7519, 'rookie': 6621, 'buyer': 3974, 'federal': 8726, 'wonder': 1145, 'followers': 5784, 'okcthunder': 12041, 'mortified': 7777, 'vacatime': 10482, 'understatement': 2963, 'c4': 7508, 'barclaycardus': 12992, 'york': 2023, '55pm': 3764, '7vee44macm': 11013, 'thy': 10758, 'starryeyes': 6279, '4geiger': 7255, 'deicing': 3414, 'record': 965, 'eyeglasses': 8221, 'animal': 11362, 'near': 1713, 'abuse': 7965, 'wondered': 8113, '4315': 9714, 'displays': 9287, 'waitingonapilot': 6785, 'sagerooski': 10336, 'fsd': 7039, 'interest': 1992, '1669': 7787, 'dsm': 2791, 'spread': 2513, 'pass': 350, 'flt1999': 13852, 'rotten': 7761, 'hirasmusbidragi': 13754, 'charles': 5558, 'okee': 13309, 'sweatshirt': 10225, 'summer': 1428, 'infrastructure': 13108, 'arena': 10376, 'get': 32, 'fattire': 9586, '653': 3927, 'flipping': 9975, '757s': 8927, 'originally': 1572, '9trvfncedl': 9989, 'hair': 6195, 'sbn': 8190, 'infant': 1280, 'speechless': 8602, 'nicely': 2241, 'hxsnv7fbbh': 12082, 'continentalair1': 7648, 'vx399': 4230, 'bought': 670, 'louder': 12512, 'efficencies': 12872, 'mb3ipgs8zq”': 10895, 'arrives': 1095, 'hatch': 11387, 'flintstone': 7502, 'stops': 3921, 'acknowledgment': 7392, 'frankly': 4338, 'att': 10177, 'windchill': 6096, 'beloved': 11478, 'chips': 5461, '2120': 12881, 'aurn07pwd4': 12569, 'bugging': 11830, 'marcnocwzn': 5927, '3xweekly': 5031, 'support': 710, 'answer': 387, 'olive201': 9704, '689': 8172, 'safetyfirst': 12265, 'wowxhpu5qv': 11492, 'cue': 6187, 'leader': 10329, 'octaviannightmare': 10579, 'ic': 12225, 'denverairport': 5213, 'meh': 4158, \"company's\": 4484, 'whatacluster': 7126, 'confusion': 2567, 'application': 2502, 'surf': 6695, 'noreply': 13912, '28apr': 6228, '3252': 9611, 'i6ep18': 7289, 'term': 1977, 'camp': 5611, 'passes': 1108, 'getaway': 2224, 'feelings': 12087, '25': 530, 'butt': 3350, '2000': 3498, 'sound': 1824, 'unaccpetable': 13155, 'kate': 12221, 'flgt': 3924, 'com': 1365, 'havin': 13421, 'jnqnbk7hut': 7604, 'bound': 3389, 'yest': 4063, 'cont…': 8235, 'mckinnie': 9543, 'walton': 10642, 'mhtt': 13034, '1sttimeflyer': 11746, 'jobfail': 13403, 'netherlands': 8294, 'metro': 3833, 'kids': 477, '🐳': 13384, 'crash': 2727, '930': 9936, '4720': 10593, 'mmm': 9914, 'by': 106, '54': 13044, 'affordable': 3902, 'rcdh183q1j': 9866, 'stamp': 6864, 'duh': 3071, 'yr': 832, 'thre': 11542, 'nightmare': 1138, 'raise': 1297, 'unbelievably': 4661, 'tock': 4613, '737': 1939, 'faundation': 6743, 'causing': 1822, 'once': 462, '4583': 7302, 'prolly': 6966, 'care': 269, 'steamboat': 2641, 'gf': 2535, 'spotify': 4155, 'boooo': 5210, 'udpq0fliqo”': 10930, 'strive': 7375, 'judeo': 6744, '3yr': 3290, 'displeased': 5403, 'n9vge2npib': 13662, 'member😒': 6053, '0162431184663': 8797, 'sub': 4998, 'europe': 2262, 'traveler': 956, 'mite': 7664, 'nanceebing': 13107, '0400': 13115, 'inbox': 5083, 'zip': 13430, 'tried': 299, 'disappearing': 13204, 'feck': 8899, '“ear': 5850, 'angriest': 7598, '1247': 6937, '😂': 2242, 'abysmal': 2673, 'athlete': 5188, 'rica': 4013, 'addressed': 3070, 'cp': 5197, 'operations': 2160, 'tryagain': 8791, 'continually': 6378, 'amnt': 8796, 'accurate': 2177, 'thisiscoach': 7372, 'eventually': 1418, 'wing': 3364, 'bettween': 6632, '5lbs': 11134, '1925': 12426, 'is9jx1': 7663, 'wouldve': 12373, '1800': 3173, 'cheese': 2875, 'boss': 2724, 'download': 2376, '1tfh2v0a7z': 7720, 'unitedairline': 8684, 'vw2v8gvngq”': 10945, 'amex': 3255, 'londonfashionweek': 8075, 'sentimental': 8935, 'countries': 7132, 'politely': 4326, 'rlwbj80ma5”': 10875, '23sep': 6826, 'than': 167, 'shouldnt': 3630, 'friendlyfriday': 7889, '2trgemtebz': 8245, 'norway': 7241, 'won’t': 2470, 'george': 10608, 'luvin': 10049, 'dimensions': 7900, 'lisapal': 12121, 'ec': 8300, 'greatest': 5662, 'humphrey': 10266, 'bestairline': 3263, 'yaffasolin': 11791, 'ystrdy': 12946, '4840': 3784, 'usatodaytravel': 11498, 'imo': 5415, 'hopes': 5624, 'pressurecooker': 6697, 'bots': 7084, 'dissatisfaction': 4888, 'rage': 4671, 'rats': 11105, 'gluten': 4778, \"women's\": 4920, 'evrytime': 10075, 'sector': 7169, 'emplid': 12993, 'virgin✨😱✈️': 6194, 'tips': 9510, \"'preciate\": 5508, 'palm': 1441, 'wasted': 1037, 'scarf': 7610, 'airplanes': 4004, 'funeral': 1266, 'chalk': 9450, 'range': 3973, 'tb': 4078, 'h': 2533, 'tiredandwanttogohome': 8097, 'zouowgv3q6': 8171, 'clicked': 4517, 'quarter': 13380, 'waive': 1857, 'vetr': 5570, 'andchexmix': 5872, 'fee': 499, 'tricks': 13611, 'rentals': 7427, 'nomoreaggravation': 11521, 'gives': 790, 'ok': 346, 'savings': 4498, 'a68d5fulmh': 10211, 'certain': 2119, 'expire': 3136, 'tortured': 10548, 'aspenbaggagefail': 6665, 'yponthebeat': 12185, 'surprise': 1706, 'pretend': 4933, 'integration': 3923, 'gains': 4420, 'tossed': 6004, 'itslaloca': 11458, 'conf': 895, 'pushy': 13542, 'pleased': 2319, 'assisting': 3502, 'con': 3068, 'cake': 2486, 'island': 4081, 'gguig3t28z”': 6983, 'shiver': 11153, 'ted': 7831, 'sol': 9068, 'pizza': 12139, 'arkansas': 9468, 'ps': 2237, 'mobay': 13373, 'distinguish': 8446, 'street': 1009, 'crosswords': 13587, '96sctomh29': 6185, 'creative': 5003, 'hormones': 13302, 'ranging': 9325, 'shld': 13988, 'naples': 12095, 'extend': 2331, 'nzdxrvszwv': 12352, 'carrying': 2274, 'bounce': 4238, 'sj': 5507, 'diet': 13096, 'smattering': 9078, 'reccewife': 6958, 'bringing': 1617, 'cycles': 13997, 'vw4p4t4tlh': 6192, 'sydney': 3822, 'but': 33, 'hassle': 2106, 'goodflight': 4512, '😑“': 10935, 'demolish': 10243, 'stephenrodrick': 5808, 'downright': 12940, '😆': 5323, '8am': 2124, 'vacate': 6996, 'buying': 2098, 'blatant': 3546, 'orthodoc': 8336, 'terriblecommunication': 13236, 'm13': 7834, 'outright': 13851, 'declaration': 12328, 'sandwich': 3469, 'a321': 5607, 'dissapointment': 6990, 'drawing': 11053, 'equipment': 1102, 'funnycaptain': 6576, 'tgsb1dfps3': 9850, 'shocked': 2054, 'nap': 4918, 'waitingsince': 11785, 'vn3jjia53o': 9455, 'danihampton': 9445, \"reply's\": 13868, 'lifetime': 2179, 'anything': 314, 'precheck': 2774, 'son': 1028, 'recommend': 2040, 'positive': 1764, 'quite': 2280, '10x': 13007, 'ugh': 1176, '5530': 13268, 'emerald': 13209, 'carriers': 1744, 'nustgpelsf': 9500, 'wouldt': 12482, 'urgent': 4213, 'gone': 906, 'thrown': 4181, 'disregard': 3092, 'searching': 2984, 'since': 242, 'save': 1185, 'etihad': 3495, 'silverairways': 2887, 'cafe': 11056, 'missed': 298, 'horribleattitudes': 10167, 'errors': 1642, 'original': 734, 'texts': 2656, 'nbd': 9328, 'admit': 3162, 'report': 888, 'maddening': 5485, 'lekvhg': 12166, 'pairs': 6687, 'sorted': 2243, 'outside': 1454, 'allegianttravel': 13792, 'glitchy': 12515, 'internjohnradio': 5376, 'model': 1873, '475': 3295, 'integrity': 12780, 'safetyconcerns': 11109, 'meanwhile': 7628, 'lets': 1686, 'isp': 5309, 'ctl': 2468, 'hail': 9085, '4595': 7494, '670': 11780, 'measured': 11122, 'phi': 10406, 'literally': 1036, 'posting': 8820, 'os': 4297, 'vrm': 13828, 'past': 491, 'forecast': 5506, 'flow': 4890, 'engine': 1317, '👎😬': 13934, 'hyperlinked': 9729, 'laugh': 3834, 'eat': 1748, 'bestinclasssocial': 11656, 'parody': 5852, 'iconography': 5857, '55am': 4380, 'thepoopqueen': 10401, 'tatiana': 11173, 'runaround': 4340, 'pr': 1263, '1820': 12493, 'advance': 1770, 'jane': 3877, 'ual212': 7069, 'stuckintampa': 9559, 'describe': 4535, '4rl0p5jchb': 9081, 'ga8pbamu0c': 6200, 'personally': 2761, 'oa2drfaoq2': 5888, 'flydeltanexttime': 7134, 'totes': 10723, 'webbernaturals': 8594, 'conditions': 1722, 'ute': 13323, '34': 3209, 'allergy': 5137, 'tryn': 7406, 'includes': 5002, 'paulbev1': 10530, 'article': 2321, 'day': 122, 'inconvenienced': 5732, 'hopeful': 3227, 'flightledflight': 7184, '574': 8482, 'traveller': 7394, 'unfortunately': 899, 'bridge': 2596, '1708': 9444, 'uneducated': 12107, '💪': 9222, 'lloyd': 7838, 'noc': 9806, '1970': 4059, 'places': 2441, 'byebyejetblue': 11195, 'language': 6932, 'bag': 83, 'vouchers…any': 13088, 'waltdisneyworld': 5955, 'lol': 571, 'followback': 7911, 'consistently': 2108, 'inflexible': 8605, '10a': 3841, 'snowfall': 10566, 'calling': 551, 'airfares': 9424, 'tvk0pyxqv5': 8794, 'desktop': 2823, 'lt': 656, 'advise': 1522, 'jpd7nsgrt7': 8030, 'weather…': 12457, '0167560070877': 8319, 'fare': 718, 'throughout': 2758, 'sight': 1948, 'imessage': 10245, 'nerves': 12397, 'prettyplease': 10079, 'employ': 12470, 'ory89eegek': 9643, 'hidden': 3879, 'jblu': 1340, 'fend4yourself': 12767, 'versus': 14029, 'aware': 1700, 'lastella': 7246, '581': 12477, 'froward': 10766, 'iqu0ppvq2s': 9879, 'diabetic': 5228, 'winwin': 7277, 'me': 19, 'ci5cfrlqbe': 12266, 'headaches': 5048, 'rsw': 1403, 'inconvience': 4568, 'xxppzo88j1': 10962, 'step': 1170, 'affiliate': 6872, 'numofpointsavailable': 6008, 'hates': 2318, 'relax': 3957, \"ma'am\": 12740, 'newark': 459, 'phantom': 7272, 'screening': 6350, 'gainesville': 4116, 'encourage': 6895, 'names': 1973, 'hangup': 5436, 'jedediahbila': 3735, 'reason': 457, 'discovergrenada': 10680, 'opposite': 4049, 'portlandjetport': 13835, 'hid': 12119, 'b36a': 7639, 'jetbluejfk': 12205, 'bonnie': 11289, 'gosh': 3983, 'ended': 1614, 'motto': 5007, 'planet': 3588, 'tasha': 7601, '❤️you': 9992, '2am': 4362, 'messages': 1534, \"high'\": 11073, 'pepperidge': 8623, 'we': 39, '1030pm': 13248, 'muh': 9524, 'yiwlhqhzgp': 13943, 'c16': 9567, 'validity': 7792, 'bank': 1059, 'paso': 5240, 'bliss': 11627, 'drinker': 6216, 'resolutions': 3439, '\\xa0298033455': 10427, 'uncalled': 14045, '❤': 9786, 'colombia': 4529, 'wsjplus': 11696, 'thankful': 2755, 'swindle': 8233, 'tiny': 2344, 'belfastairport': 8036, 'discuss': 1910, 'goldentickets': 7386, '300er': 6824, 'accommodate': 1369, '180': 2077, '174': 3531, 'conjunction': 11718, 'asap': 697, 'intuit': 9037, 'ty': 1481, 'three': 474, '550': 4217, 'before': 193, 'refresher': 12017, 'quirkiness': 9913, 'experiences': 1675, 'ignored': 2890, 'should': 128, 'bragged': 8133, 'oardjjgrrd': 6102, 'jimcramer': 5218, 'grandbabies': 13632, 'surprisingly': 13846, 'inferior': 5827, 'woman': 1479, '16hr': 7670, 'cocktails': 9885, 'mitchsunderland': 12557, 'weasel': 7401, '3751': 12814, 'player': 13724, 'whitterbug': 6573, 'page': 848, 'xw': 10007, 'seem': 733, 'unusable': 3368, 'luvswa': 3911, 'damionflight4223': 10238, 'die': 2407, 'herb': 10193, 'duhbj41jhx': 12389, 'b738': 9759, 'tysvm': 13980, '“it': 5663, 'lastnight': 13036, 'transportation': 3280, 'hint': 12324, 'ooookay': 11151, 'therealaviation': 8321, 'shulemstern': 8573, 'relatives': 12056, 'sang': 10198, 'proud': 3080, 'spite': 8061, 'mental': 7499, 'ios': 2261, 'invoices': 7468, 'kcqnwixucm': 8073, '74': 13195, 'inconvenience': 827, \"'call\": 6498, 'unitedsucks': 1714, 'danbury': 12924, 'rating': 5238, 'writes': 12280, 'stuck': 233, 'veggies': 13667, 'perform': 5330, 'attitudes': 4029, 'unitedairlines': 580, 'sliced': 12132, 'wanting': 3894, 'serves': 5052, 'overloads': 13039, 'existing': 1787, 'executive': 3683, '1999': 8971, 'passing': 3198, 'airway': 12597, '1665': 7719, 'ntgl2wnqvm': 12165, 'avalible': 6964, 'colleague': 3966, '415': 5619, 'jasonwhitely': 9762, 'worstairlineever': 1941, 'science': 5125, 'ca': 2027, '711': 8673, 'race': 2031, 'offices': 5191, 'bet': 1860, 'revers': 13139, 'misread': 11634, 'ua1750': 4703, '1572': 5593, 'system': 287, '6k': 13601, 'key': 4131, 'owen': 13376, 'million': 2370, \"ella's\": 2869, 'accessibility': 11148, 'contend': 9970, 'severe': 6411, 'obf9jbpc6a': 12102, 'stays': 5096, 'booo': 9210, 'payments': 6160, 'germs': 13274, 'lists': 12673, 'america': 1275, 'theverge': 10410, 'beautifull': 6291, 'untd': 7861, 'cartago': 11793, 'panynj': 7677, 'segment': 2982, 'buggy': 11058, 'likes': 5743, 'forcing': 2048, 'hits': 3197, 'truebluecolors': 11305, 'kylecomer': 12003, 'marriage': 9258, 'assisted': 10549, 'fail': 366, '1914': 11057, 'beware': 3718, 'mgmt': 9561, 'kidnapped': 8358, '2maro': 11808, 'a37n3ohokl': 8204, 'hipunis': 10660, 'wouldn’t': 11400, 'kkay8xaps1': 12333, 'sauce': 12829, 'n2fvelcygz': 7530, 'iadore': 11651, 'stealing': 10729, 'aa': 637, 'cowardly': 7581, 'tones': 9518, 'lx009': 7835, 'mintalicious': 11706, 'acknowledge': 2994, 'dragons': 1120, 'princess': 11692, 'warmweather': 11826, 'sammi': 5338, 'wway': 9868, 'wiil': 12520, 'redwineisbetter': 5967, 'lostluggage': 4327, 'busads': 8034, 'suggests': 8609, 'tone': 2622, 'nascar': 5325, 'c14': 14019, 'cut': 1299, 'assignments': 3884, 'cyoonzftdc': 10231, 'pleading': 13173, 'bqn': 5505, 'crackers': 3189, 'v8sb0rbicx': 11199, 'misinformation': 7811, 'spots': 4567, 'miscommunicated': 9811, 'redirected': 2822, 'unnecessary': 2308, 'advsry': 9654, 'yvonne': 5817, 'unloading': 12279, 'expenses': 4286, 'chill': 3140, 'wtop': 13011, '894': 5677, 'improves': 12920, 'lady': 951, 'blushing': 10720, '2210': 7766, 'missedconnection': 13121, 'tomrw': 13286, 'musical': 13752, 'utterly': 5701, 'mates': 5194, 'playing': 1855, 'gold': 885, 'engineer': 7328, 'trace': 4532, \"'crashing\": 8322, 'stacy': 9833, 'c38': 13526, 'stranding': 3037, '597': 5640, '55min': 12960, 'undergoing': 7763, 'capital': 3824, 'connecticut❄️': 12342, 'a320': 1471, 'exceptions': 4863, 'failingyourcustomer': 12546, 'installing': 13863, 'wtf': 716, 'panic': 4324, 'thoughts': 1976, 'fo': 4864, 'protected': 4990, '10pm': 2219, '6457': 6299, 'attached': 4381, \"we're\": 381, 'exec': 4107, 'lsxji0ouvr”': 10844, 'traveled': 1673, 'needtogethome': 9900, 'large': 1625, 'surfboard': 11161, 'besides': 2271, 'rockstars': 6131, '179': 8702, 'think': 246, 'morning': 262, 'atct': 10698, 'monitor': 2563, 'icyflight': 11783, 'essential': 10441, 'welcomed': 7072, 'creates': 4172, 'kindly': 10295, 'le2v9d': 8606, 'reissued': 4485, 'nehnsdckty': 13113, 'meds': 13686, '55558000': 6453, 'choice': 1130, 'c22': 9361, 'husband': 929, 'mac': 4188, 'ml”': 7188, 'answerthis': 8636, 'charter': 4047, \"'thanks'\": 9960, 'fiancée': 4323, 'american': 620, 'minneapolis': 3409, 'caterobbie': 13185, 'badwebsite': 12401, 'greeted': 12586, 'switching': 1812, 'merged': 2809, 'china': 3446, \"who'd\": 11713, \"month's\": 11229, 'ella': 5128, 'acting': 10429, 'disorganization': 11168, 'ringling': 12788, 'f': 948, 'bohol': 7028, 'winterweather': 9694, 'totalfail': 9594, 'trick': 4942, 'fa': 1809, 'towards': 2046, 'marriott': 5124, 'roasted': 3329, 'zoom': 9436, 'aboout': 13033, '9year': 8544, 'tonite': 3388, 'elevategold': 5887, 'beans': 6257, 'slogan': 13451, 'vglx6ykwqg': 7945, 'condolences': 11460, 'india': 5061, 'regional': 3745, 'refusing': 4187, 'build': 4654, 'aside': 5368, 'toll': 13295, 'thur': 12601, 'beer': 2156, 'logout': 8291, 'korea': 4648, 'web': 1018, 'selects': 6289, 'ks': 6386, 'vents': 5866, 'tmrw': 1210, 'pleaseeee': 9288, 'n3lrfo4uay': 9691, 'other': 192, 'iove': 6660, 'welcoming': 10942, 'fraud': 1620, 'germany': 12414, 'uncle': 7033, 'del': 2981, 'dublinairport': 13755, 'relate': 1419, 'welcome': 1281, 'etc': 1313, 'overhaul': 13022, 'charged': 747, 'movement': 4726, 'awwweesssooomee': 10487, 'floridavacation': 9112, \"shelf'\": 13671, 'gig': 7567, 'mor': 9981, 'providing': 1491, 'bcwckwtnle': 14018, 'survive': 5093, 'repeated': 4313, 'gin': 9225, 'ztrdwv0n4l': 11110, 'crummyservice': 12405, 'bachelorpartymishap': 11946, 'badges': 2506, 'siouxfalls': 6786, 'stickingtodelta': 8104, 'claimed': 2560, '63zaq2lt8f': 9093, 'discount': 1827, '👌': 3858, '823': 9241, 'premier': 1035, 'robbed': 3679, 'indian': 9682, 'flexible': 5700, 'communicated': 5412, 'nvlnglnmgn': 7744, 'dpt': 3149, 'weeks': 475, 'tvb5zbzvhg': 6079, 'maybe': 445, 'youth': 5649, \"'service'\": 9134, 'teach': 2702, 'cxrzhcdtvz': 9547, 'pittsburg': 8869, 'g97habyep5”': 10771, 'ugfckermrw”': 10874, 'ftv2nwwqf1”': 10765, '1000': 2296, 'i’m': 1015, 'rebooks': 10750, 'slightly': 3532, 'finest': 2934, 'fostering': 8924, 'fund': 4212, 'comped': 5216, 'itwasminttobe': 11655, '600117': 5762, 'geg': 5437, 'nightlife': 12310, '521': 12574, '9news': 8975, 'disapptment': 11468, 'fuyukaidesuyo': 9167, '2yr': 5059, 'appropriate': 2926, 'cave': 11405, 'worry': 1627, 'freq': 2613, 'messed': 1429, 'rito': 4987, 'bar': 2561, 'ua4232': 8493, 'guarantee': 1723, 'f8neqm': 9133, '3899': 9642, 'catered': 4731, 'interview': 1586, 'birth': 3213, 'fllairport': 11344, '3797': 13444, 'willing': 1303, 'jet': 545, 'connected': 1814, 'analysts': 11865, \"evening's\": 11684, 'wants': 1775, 'itfits': 12568, 'olavarria': 11751, 'failover': 12910, 'amazon': 5405, '2705': 12708, 'lly144': 8506, 'hotel': 271, 'loft': 5903, 'ithica': 8012, 'ngg3n0wiar': 9701, 'usairwaysfailscustomers': 12549, 'financial': 2848, '290': 11704, 'executiveplatinummeansnothing': 14009, 'sexy': 5643, 'floors': 4161, 'dualcam': 11499, 'pt': 6709, 'underserved': 8243, 'alternate': 1654, 'pedro': 4743, 'landings': 9971, \"part's\": 10786, '382': 12267, 'obnoxious': 4140, 'prime': 4141, 'awkward': 3112, 'advice': 2158, 'book': 221, '1899': 12709, 'roadwarrior': 4472, 'mclarren': 6345, 'bm2unraoni': 10974, 'ant': 4843, 'puts': 3521, 'vermont': 7690, 'this': 28, 'pid': 10717, '656': 9945, 'indignation': 10923, '297': 13703, 'ua381': 6727, 'jetbae': 3285, 'channels': 2257, 'volunteers': 4610, 'those😂': 12339, 'yep—used': 7558, 'willl': 8251, 'info': 276, 'wknd': 3266, 'kit': 3757, 'incomprehensible': 11789, 'wallstslumlord': 13800, 'verbally': 13937, 'culture': 3666, 'workin': 7959, 'cudtomers': 5985, 'bos': 318, 'j4cj0lrf2d': 7421, 'plastic': 2686, 'vskxyamnom': 13045, 'domestic': 988, 'alternatives': 3768, 'poc': 9098, 'stafford': 12054, 'wrwqrublps': 10279, 'customer': 53, 'caffeine': 4244, 'worstairlineinamerica': 13218, 'josephtreis': 5769, '486': 12216, 'forms': 3195, 'move': 920, 'finger': 5119, 'bcn': 8682, '644': 8732, 'vudwjm1lyb': 9284, 'atlantic': 2500, 'liars': 4526, 'stress': 1743, '8q6mfd': 9570, 'icy': 3870, '👎😡': 13935, 'un': 13275, 'manner': 2529, 'prevention': 4985, '6rlz0ebk2x': 6231, 'knows': 938, 'biz': 1631, 'earlybird': 5154, 'koa': 8395, 'evenmoreview': 11675, 'neverflyvirgin': 5912, 'partnership': 2785, 'vxn2j36m7v”': 10728, '40': 418, '5znmwxdi9u': 10135, 'notcomingback': 6882, 'unrelate': 3441, 'mzzfgqfhu2': 11216, 'discourteous': 13359, 'frequent': 981, '🇺🇸': 6239, 'moodlitmonday': 4149, 'gonmrwem6i': 6083, 'unsmiling': 7820, 'me💁': 9925, 'picking': 2343, 'daaa0rqbxw': 7758, 'shhhh': 9922, 'mismanagement': 6497, 'habitrails': 8456, 'stocking': 12394, '💩💩💩💩': 10467, 'bcs': 12677, 'pumps': 12431, 'fvudmh27pf': 6190, 'specifics': 5380, 'pick': 655, \"i'vebeen\": 12658, 'ilc0hp': 5025, 'cxttxv2lmp”': 10963, '8162': 11100, 'nonrefundable': 4270, 'in1st': 8399, '😘🙌': 11778, 'jgdu5us8dz': 10674, 'inspired': 1865, 'dbcvepn5qc': 5574, '686': 4108, 'mv': 12007, '1other': 6670, '👍👍👍': 12126, 'pulse': 5267, 'b8': 5221, 'told': 157, 'complex': 11091, 'madness': 3282, 'clifton': 8123, 'ftmyers': 9268, '😔': 2329, 'updates': 672, 'stupid': 2202, 'fired': 2765, 'vital': 4741, 'greatservice': 2752, 'aoeaeszdlx': 8630, '0372389047497': 14031, '8oz': 12025, 'upgrade😉': 12316, 'teeth': 7477, 'contactless': 11129, 'happend': 9514, 'tools': 13191, 'clog': 13257, 'vegecomgirl': 12361, 'doesnt': 2288, \"fixes'\": 7086, 'nasdaq': 3298, 'races': 10155, 'submitted': 962, 'qxnoaqtyn8': 6218, 'unused': 2215, 'maddie': 11379, 'counter': 774, 'counted': 4712, '456': 12664, 'dispatchalerts': 10114, 'nope': 838, 'clients': 2060, '2xjvun66zz': 9154, 'trublue': 10676, 'taken': 757, 'pd7r1ll6re': 13172, 'recovery': 3265, '3526665682': 10283, 'ben': 12795, 'tracing': 8696, 'suck': 640, 'specifically': 3177, 'hometown': 8767, 'dignity': 8995, 'teleportation': 8720, 'w9bqiw0aou”': 10835, '😜✈️': 10485, '1225': 11530, 'jailbreak': 3701, '1274': 10753, 'fairbanks': 8483, 'sandiego': 4252, 'rapids': 5020, 'exceptional': 3028, 'upset': 863, 'travelled': 6809, \"wouldn't\": 634, 'miscnx': 7262, 'iha': 6811, 'huffpostbiz': 8836, 'chillpill': 12703, 'maint': 3765, 'ua649': 7226, 'acarl4': 12727, 'hdsportsguy': 9235, 'year': 353, 'england': 10156, 'quietly': 9464, 'tny9uipha5': 11049, '0600': 7866, 'slow': 1099, 'unwilling': 11897, 'dumped': 5785, 'asus': 8111, '2851': 10012, 'swift': 12012, 'monterey': 13665, 'coffee': 1096, '3397': 10534, 'supporter': 10141, 'fat': 3397, 'wmcactionnews5': 4039, \"vacation's\": 4352, 'itsaaronchriz': 8488, 'laden': 8846, '58b7swrpmq”': 10832, 'tlgoihqkvs”': 10996, 'beat': 2218, 'eternal': 13564, '1person': 8666, '3837': 12473, '3ubcoasyws': 7282, 'snapped': 12838, '2646': 9589, 'sweaty': 8339, 'voice': 2759, 'disconnection': 13812, 'flaw': 5696, 'woke': 3508, 'rvcda2nnme': 8474, 'laughed': 6575, '1272': 11428, 'glowing': 10668, 'downtown': 3333, 'ea': 7327, 'douglas': 6611, 'ua49': 8074, 'shined': 12600, 'gate': 79, 'cos': 7036, 'fl1289sfo': 7412, 'frank': 5074, 'stolen': 2260, 'doom': 5907, 'hy0vrfhjht': 5904, 'spirit': 3955, 'secondly': 10359, 'bye': 4805, 'unsuitable': 12949, 'information': 616, 'goes…': 12583, 'damion': 10237, 'managed': 2122, 'qeada92mw6': 12286, 'charity': 2393, 'inquired': 5988, 'way': 118, 'unreasonable': 12618, 'snit': 7442, '😜😂': 9733, 'folk': 4301, 'adventure': 6432, \"6'4\": 10031, 'honesty': 5148, 'connects': 4704, 'hacks': 4667, 'male': 2091, 'between': 688, 'answers': 919, 'burlington': 7689, 'personalized': 5382, '99999999': 9251, '3rd': 891, 'tfanxbh1cf': 6163, 'whichever': 13182, 'removing': 12672, 'quick': 590, 'finds': 7368, 'careers': 9039, 'waitingforbags': 8168, 'desired': 13813, 'associated': 5045, '😐': 5475, '10voucherwhatajoke': 7539, 'vgn2x1ckg0': 6629, 'yorkshire2002': 12446, 'merger': 1154, 'f6copx1fvj': 12009, 'times': 223, 'films': 4162, 'killed': 4186, 'ual': 1581, 'smooth': 2038, 'ssal': 6111, 'ohk': 9422, 'received': 417, 'requesting': 2566, 'azltjhf7lv': 8802, 'anywhere': 1066, \"'til\": 7357, 'telling': 615, 'faint': 7797, '\\xa0fvf9yw': 10425, 'prize': 4470, 'amenity': 6559, 'alert': 1984, 'affairs': 13627, 'reliable': 2351, '30am': 1808, 'saving': 1765, \"apple's\": 9897, 'hold': 64, 'printers': 12297, 'bookofnegroes': 10217, 'bfpfw6eyku': 9948, 'cmh': 1131, 'flightfail': 4527, 'thanx': 4334, 'reactions': 5502, 'joanna': 11077, 'shoutout': 3308, 'tower': 11798, 'convo': 11929, 'ontarmac': 13245, 'v24qnp3doi': 12847, 'baggage': 174, 'vegetarianproblems': 13258, '3oq1t4ohjl': 11950, 'during': 565, 'wrongiswrong': 9091, 'anotherdisappointment': 8388, '5095': 13711, 'mechanics': 1546, 'message': 504, 'flts': 2381, 'accruing': 7951, 'attach': 12692, 'worker': 4525, 'skills': 3685, 'o5sifhp4rt': 11747, 'thoughtful': 7035, 'pita': 7714, 'happytweet': 11506, 'providence': 3061, 'sfjduahx9z': 6173, 'paris': 2032, 'throwing': 2275, 'flutter': 9114, \"relationships'\": 5549, 'evenmorespace': 11674, 'reverted': 9008, 'lucia': 5592, 'disgruntled': 3600, 'programming': 12013, \"'we'll\": 7341, 'npbhd0': 7656, 'pgh': 4574, 'seeks': 2210, 'drone': 6691, \"don'ts\": 9237, 'aypyaduy6a': 9685, 'las': 573, 'cement': 8079, 'glad': 598, 'sba': 6784, '947': 9763, 'bounces': 6843, 'tfgreenairport': 11353, 'ua1429': 6361, 'paymytab': 13503, 'constructive': 10109, 'indy': 2770, 'diamond': 12424, 'dog': 1754, 'complainer': 11719, 'air': 278, 'rings': 4098, 'inevitable': 3695, 'd1ergpdwsj': 11693, 'nburnside26': 5775, 'donthavehighhopes': 13911, 'ups': 4916, 'overheard': 5098, 'gents': 5073, 'filters': 13914, 'noapology': 8716, \"centric'\": 9028, 'livepersonplease': 13848, 'insult': 3221, 'essentially': 5509, '639': 5706, 'veg': 13344, 'blocked': 3500, 'easy': 698, 'gears': 12066, 'resolving': 3583, 'victim': 7976, 'diverted': 1676, 'shoulder': 3622, 'heels': 11067, 'copa': 7753, 'fgkxv5': 10555, 'haning': 11323, 'zv6cfpohl5': 7741, 'guess': 554, 'kdzqczlpyr': 9221, 'turn': 1058, 'arranged': 3628, '62': 10251, 'bored': 11928, 'pens': 3670, 'profitable': 9669, \"ask'\": 11995, 'pushing': 2648, 'nxt': 3782, '💩': 7317, 'ticket': 171, 'ua6016053916': 7236, 'tx': 2452, 'pulls': 13442, 'believing': 4877, 'uschamber': 11230, 'deter': 8616, 'kfuyyokufv': 11088, 'whyabcwhy': 11142, 'dollars': 1480, 'allready': 13205, 'apologize': 2421, 'cnctl7g1ef': 6132, 'classy': 2517, 'provides': 13949, 'forward': 569, 'promos': 10465, 'pnbajfkmhg': 6578, '790': 5554, 'pst': 5742, 'aka': 2767, 'cuts': 13223, 'agpb45v8wt': 7590, 'vibe': 4148, 'rather': 674, 'flightled': 98, \"hadn't\": 2292, 'erring': 11756, '1831': 10415, 'answered': 1198, 'makeitright': 9065, 'notpghtimothy': 10563, '919': 4496, 'airports': 1034, 'rock': 783, 'mundane': 12797, '😃👍': 6249, 'hfof33iyhi': 6775, 'cpap': 4359, 'incompetence': 1788, 'weight': 1599, 'ua1589': 6762, 'drunkpilots': 12927, 'huxleyesque': 12023, 'wbmhrl3bvl': 13720, 'fwa': 6735, 'classic': 8812, \"relative's\": 6976, 'ua': 472, 'sharing': 2051, '240': 8314, 'attended': 11097, 'ua80': 6475, 'onelove': 10099, 'connectin': 7770, 'travel': 159, 'baltimore': 2198, 'fattuesday': 10486, 'dumb': 2348, 'constitution': 12327, 'favorite': 1022, 'leigh': 7783, 'jets': 3750, 'snag': 10439, 'americanone': 7526, 'ruining': 1497, 'bil': 7325, 'zacks': 11516, 'impressed': 1197, 'attempted': 6912, '41': 13880, 'forfeited': 5307, 'winters': 8585, 'flight108': 10726, '261093929756': 9127, 'walking': 3704, 'earn': 1568, '0': 1060, 'sweeps': 9366, 'in🇺🇸2y': 6107, 'miserable': 1797, '8pm': 1940, 'statusmatchpaidoff': 6527, '43': 5692, 'a7nvbj8ipx”': 10900, 'digital': 2464, 'bro': 3715, 'are': 38, 'hope': 300, 'ruin': 7365, 'routinely': 7393, 'owes': 12622, 'played': 3749, 'mhtforlife': 10291, 'narayanan': 6459, 'eigajyzcw2': 12303, 'stevie': 11658, 'refuses': 3493, 'pulling': 2045, '🎀🌏🎀': 6137, 'mfps': 12298, 'pastmypatienceexpirationdate': 10306, 'ragandisney': 3264, 'radio': 3597, 'incur': 2949, 'sass': 5143, 'wedding”': 10148, 'familiar': 7953, 'admin': 13916, 'length': 9007, 'freberg15': 10842, 'unusual': 13084, 'negatively': 12779, 'volume': 2172, 'cng': 5332, 'rewards': 1338, 'close': 1425, 'avyqdmpi1y': 5923, 'tho': 1152, 'chantilly': 9016, 'provo': 5316, '20years': 12820, 'woo': 3793, 'rudeness': 5064, 'chartering': 11281, \"all's\": 5283, 'airspace': 10640, 'waaaaaaiting': 12866, 'newyork': 4780, 'flt5127': 13393, 'wifes': 12287, 'tiffany': 13105, 'carousel': 1383, 'carryonbagssloweverybodydown': 9907, '0530': 6617, 'whatgives': 8062, 'including': 1800, '4532': 5798, 'kqnrrp86a5': 6373, 'nt': 4649, 'nothanks': 3803, 'hardly': 3075, 'seatac': 3954, 'noting': 11893, 'leathery': 10163, 'callmestanley7': 9617, 'whichisworsedenordfw': 7068, '8aug': 2762, 'cleaning': 3530, 'fupf0uayir': 13320, '😍👌': 5894, 'joy': 10058, 'us755': 12961, 'qd2lyuxazg': 8284, 'dropped': 1093, 'it’s': 1759, 'dear': 2521, '1580': 4503, 'eternity': 11360, 'tcmparty': 7117, 'desperate': 9809, 'honalulu': 7237, 'students': 9815, 'n7osjz8a59': 6954, 'yea': 1672, 'ernie': 14040, 'empathizes': 6605, 'whilst': 12274, '150202': 6196, 'shot': 1312, 'airlineadviser': 11968, 'loaner': 4280, 'reclaim': 8115, 'unsolicited': 12106, 'dispatchissue': 13596, 'terry': 2447, 'chng': 6223, '806': 7138, 'invitational': 8969, '1028': 9280, 'stdby': 8747, 'main': 1450, 'retiring': 9359, 'added': 1010, 'long😒': 12785, 'mvp': 4006, 'smf': 5037, 'threehourslate': 7453, 'cty': 12063, '964078': 6504, 'wannaa': 9974, 'vacationfail': 9018, 'pgwukrpmox': 9695, 'additional': 1540, 'well': 236, 'reflect': 5160, 'leading': 2471, 'elevate': 1628, 'face': 2234, 'prompt': 1392, 'contempt': 10351, 'cdt': 8480, 'bd': 7697, 'sg7iqqfvso': 8917, 'sleep': 708, 'was': 21, 'flytpa': 2191, 'crossed': 1103, 'impression': 3950, '’s': 10606, 'grades': 5424, 'lauderdale': 1616, 'rs”': 10294, 'additonal': 10289, 'rapidrewards': 9001, '132': 7715, 'smiles1307': 8991, 'lulgnweffh': 7479, 'tynchoelac': 12220, 'assistance': 659, 'bdl': 1404, 'notafanofyourmerger': 12827, 'taylorlumsden': 9160, 'reinforcements': 13051, 'gentleman': 4144, 'ua1207': 8931, 'private': 1893, 'kaej9g0chd': 11827, 'ring': 3234, 'candy': 12571, 'mellani': 13085, 'potentially': 4267, 'superb': 10124, 'clothes': 759, 'uncourteous': 11589, 'prem': 3763, 'aesthetics': 6052, 'truly': 1660, 'their': 210, \"'blumanity'\": 5668, 'shades': 5028, 'eligible': 5373, 'reinstate': 4979, 'concentrate': 8056, 'joking': 4481, 'dmoukdarath': 12420, 'transformative': 6145, 'incl': 8919, 'brink': 10959, 'holdtime': 13930, '3781': 7788, 'jana': 6647, 'letitgo': 9438, 'jetbluefail': 5512, '30k': 4422, 'weighed': 8306, 'hopkins': 12555, 'doll': 12021, 'grouping': 4261, '400': 1659, 'strikes': 3021, 'type': 1839, 'flythefriendlyskies': 7063, 'paperwork': 2251, '2brt0athau': 8302, 'upholding': 12805, 'stairs': 5511, '0769': 5961, 'sides': 7471, 'zksx79itdn': 8754, 'xtra': 12412, 'excellent': 930, 'bham': 10553, 'jmercadomma': 6798, 'eliz': 5834, 'equality': 11149, '27a': 7330, 'outward': 7417, 'hence': 1779, '😊👏': 13936, '2416': 11838, 'expires': 1856, 'lemme': 5394, 'share': 784, 'pits': 13660, 'perk': 3647, '3xdaily': 8064, 'covering': 4740, '😭🙏': 9956, 'naelah': 5939, 'c26': 5556, 'outtage': 12935, 'curb': 5384, 'phx': 511, '30timesenough': 13434, 'include': 1755, '12am': 5525, 'cb': 3906, 'rdj1mwflg1': 7680, 'rylietolbert15': 13276, 'recording': 3135, 'captive': 3876, 'result': 1932, 'devalued': 9201, 'flightglobal': 13049, 'custservicehasnonumber': 13288, '769': 3336, 'usd': 6732, 'bday😏☺️': 11986, 'dislexia': 9307, 'extended': 1945, 'ethiopia': 3461, 'egaejtrglb': 8177, 'scheming': 13713, 'belize': 2681, 'saying': 607, 'guest': 3268, 'insane': 1611, '5hours': 5113, 'unhelpful': 1068, 'embraersa': 4878, 'kitchen': 13226, 'weather': 144, 'died': 2748, 'milehighselfieclub': 11876, 'route': 809, 'post': 998, 'runningonthreehoursofsleep': 8093, 'ymftw1uyhr': 8234, 'sxm': 2209, 'pays': 2916, 'closepwcs': 5646, 'r8p2zy3fe4': 5874, 'yday': 9484, 'disruption': 6019, '758': 12854, 'cabinfever': 13264, 'discouraging': 8393, 'ua6136': 7178, 'brandssayingbae': 5466, 'o”': 12770, 'sometimes': 3941, 'rajuchinthala': 8898, 'kung': 11601, 'headed': 1132, 'concern': 1067, 'treated': 922, 'pricing': 2439, 'gth239': 13764, 'vx9vbctdlf': 5960, 'ua22': 8541, '1552': 12196, 'sosmart': 10691, 'brings': 12592, 'police': 2604, 'usual': 1607, 'city': 669, 'scotch': 5821, '1691': 11256, 'crashed': 2279, 'reminding': 3732, 'accumulation': 10121, 'verizonwireless': 6348, 'allowances': 11432, 'content': 2743, 'disability': 4290, '2672': 9799, 'yeg': 8551, 'companion': 624, 'tourist': 3442, 'fuckinlame': 6883, 'oprah': 12730, 'managing': 12824, 'undignified': 10337, 'curious': 2070, '5pvg2hjxkp': 11664, 'customerserviceplease': 13910, 'oqukso3s2o': 5200, '1500': 12564, 'construction': 4296, 'substitute': 11871, 'austinairport': 4247, 'hotterandlongerthanhell': 12938, 'resort': 10016, 'joyadventuremom': 12532, '😣': 9349, 'darn': 3131, 'fit': 1682, 'bd5tvr3gcy': 9311, 'chart': 5349, 'commands': 13450, 'renhotels': 12832, '755vpym4mv': 6758, 'pull': 1657, 'transparency': 7972, '310': 4788, 'credits': 1821, 'uncaring': 3777, 'proper': 2578, 'jetblue…': 10893, 'cussed': 13938, '1640': 8472, 'shipped': 4926, 'ladan': 6316, 'corrected': 3820, 'bites': 7665, 'corporation': 2201, 'airliner': 10080, 'screen': 1360, 'ratings': 6955, 'hopin': 10062, 'dontflyusairways': 13400, 'pkg49': 13801, 'bwood': 8258, 'nade': 12626, 'shameonyou': 5757, 'thete': 12469, 'phones': 999, 'est': 2196, 'incredibly': 1251, 'matt': 10475, 'printed': 2784, '2hr30min': 7638, \"planet's\": 5723, 'hegshmeg': 12769, 'ferry': 3882, 'standbye': 4852, \"king'scollegelondon\": 3700, 'ffstatusdontmatter': 13630, 'very': 156, 'hurry': 7440, 'uh6uwuosc0': 13855, 'bogota': 2063, 'grief': 13114, 'wendell': 10353, 'kacy2awdbw': 6105, '07': 8516, 'auction': 8968, 'whining': 12443, 'scared': 2494, 'interviewed': 7615, \"'extra\": 13419, 'mke': 2425, 'rethink': 11386, 'mumbled': 13945, 'funflightattendants': 12885, 'functionality': 3873, 'congratulations': 3088, 'ticked': 4866, 'lbs': 2919, 'heyo': 9843, 'sister': 1209, 'ice': 921, 'sime': 8714, 'addition': 2894, 'manana': 9864, 'brain': 4293, 'believe': 667, 'flying': 115, 'barbara': 4493, 'p2hum7lxur': 11976, 'notification': 1285, 'welp': 10755, 'complaints': 1156, 'nothin': 3686, '400er': 3536, 'assed': 13332, 'overflowed': 5000, 'confirmation': 451, 'functioning': 3741, 'n33103': 7691, 'month': 649, '0985': 7416, 'elevateuser': 6007, 'solution': 1447, 'file': 1106, 'skyteam': 7244, 'eye': 2213, 'hands': 1750, 'debating': 5076, 'tinman2ironman': 12275, '10yr': 7828, '6cgfv02gzb': 13131, '403': 3612, 'misjudging': 13470, 'code': 881, 'responsive': 3256, '30a': 4065, 'badly': 1830, 'sleepy': 10715, 'minus': 6247, 'pepper': 6063, 'kim': 5722, 'contentmarketing': 10827, 'country': 907, 'attentive': 10249, 'eltboljul9': 6100, 'mistake': 1380, 'staffing': 5438, 'death': 1624, 'sjd': 5352, 'oh7cfv7dhr': 8911, 'odds': 4051, 'functional': 9917, 'offloading': 13606, 'noclothesnoinfo': 12545, 'ar': 4182, 'announce': 1790, 'useless': 1124, 'h2o': 13716, 'lmaoooo': 10916, '45pm': 4615, 'letsgoalready': 12983, 'straightend': 6873, 'sdfairport': 13940, 'protest': 13989, 'fucken': 4506, 'donut': 11036, 'hts': 14036, 'jetblue': 14, '0liwecasoe': 11649, 'duty': 4889, 'bird': 1305, 'richard': 2877, 'altonbrownlive': 8960, 'smfh': 13117, 'treats': 3817, 'innovacion': 10397, 'preemptive': 7887, 'checked': 289, 'jhau4k48yv': 13923, 'baggage…': 6616, 'empty': 664, 't5': 2003, 'eis9hcnpro': 7884, 'injured': 4471, '0510': 5501, 'beyond': 846, 'series': 3931, 'frigidfriday': 9947, 'cp”done': 7734, 'vjfv7ksgcq': 12295, 'maintain': 7865, 'seven': 4080, 'cdzhtyd0ak': 7034, 'truebluepoints': 12130, 'unproductive': 12754, 'negligence': 3436, 'headlines': 9846, 'stare': 12699, 'activate': 6694, 'matter': 916, '280': 8471, 'distress': 6410, 'hrvuktpvn1': 9905, 'nature': 3651, 'soiqrn19aj': 12235, '8h': 8380, 'social': 1005, 'pxdel1nq3l': 6014, \"friend's\": 2651, 'unreal': 1806, 'loyalrrmember': 10561, 'tuftsenergyconf': 11507, 'brendan': 10293, 'hxvvis0vww': 7565, 'mpower': 6045, 'spiritairlines': 2756, 'somebody': 1838, '4469': 12783, 'usairheads': 13136, 'misconnected': 6751, 'australia': 1512, 'goddamn': 7843, 'bounced': 4520, 'catfoodbeerglue': 10643, \"y'all\": 665, 'hawaii': 1223, 'deplane': 1825, '900s': 8566, 'slept': 3026, 'confrontational': 8099, '2771': 8954, 'getyourlife': 9609, 'msg': 1696, 'scroll': 9437, 'degree': 1966, 'four': 741, 'dcoadavon': 5237, 'galaxy': 9434, 'ftlauderdalesun': 8574, 'bked': 5873, 'intlcheckin': 9554, 'combat': 9379, '\\u200b': 6235, 'compare': 4552, '8wbzorrn3c': 4011, 'wallstreet': 12048, '304': 4831, 'conveyer': 4829, 'enuf': 4402, 'gla': 6288, 'shitting': 13325, 'allegiantair': 9340, 'worstflight': 13589, 'rifle': 5635, 'clubs': 3869, '💯': 10430, 'subtlety': 7080, 'megzezzo': 6806, 'wendi': 11891, '108639': 10001, 'optout': 9546, 'clutch': 4554, 'sick': 1112, \"100's\": 3650, 'substantial': 8225, 'student': 2016, 'hellobrittney': 10970, 'chicken': 2574, '38': 3062, '4097': 13056, 'by3vdiosua': 13549, 'killin': 12614, 'booze': 3130, '8hh0c63tie': 14035, '10th': 9373, 'actively': 7376, 'idontwannalivewithoutyourlove': 11653, '6may': 6825, 'miamore': 11650, 'mind': 1012, 'notifying': 7200, '2hrs': 1150, 'wasappreciated': 6300, 'refunds': 3205, '👍👍✈️✈️💗': 6070, 'talks': 4593, 'allergic': 5174, 'anyhelp': 13453, 'kn”': 4342, 'unimpressed': 7491, 'baby': 865, '1140': 9755, \"here's\": 1574, 'rebook': 330, 'imma': 5431, 'geeks': 4055, 'roundtrips': 9890, 'illiterate': 8213, 'fttfyfmvco': 11982, 'partners': 2253, 'loosing': 4075, 'possibilities': 10374, 'hated': 12261, 'fuselage': 7661, 'props': 3942, 'decision': 1972, 'wd': 13809, 'sir': 4839, 'global': 1300, 'might': 463, 'noted': 3698, 'complimentary': 1753, 'siblings': 11131, 'touchdown': 3332, 'unaware': 3818, '372': 9772, 'flights': 59, 'taller': 8840, '1001': 6440, '0wbjawx7xd': 10977, 'effect': 11561, '6uxwpadugs': 7894, '58tutgli0d': 6701, \"3x's\": 11926, \"that's\": 187, 'frustrating': 617, '6h5uezh4cv': 11007, '4553': 13628, 'ua514': 8721, 'eps': 5978, '16866853': 6766, 'yelled': 2193, 'moveaboutthecountry': 9942, 'robertfor39': 7089, 'tracks': 9516, 'hurts': 11819, 'jaskyplwt5': 13567, 'f6': 12908, 'unbelievable': 1334, 'highly': 2559, 'changes': 636, 'averted': 4468, 'skin': 7476, 'belligerent': 8402, 'treatment': 1290, '673': 13796, 'sitters': 8348, '💗🇬🇧💗🇺🇸💗': 6136, '5396': 6730, 'this🙏🙏❤️': 11998, '3403': 9661, 'tbuccherifrnc3e': 10188, 'sponsorship': 13687, 'rent': 2150, 'grp': 4291, 'hahaha': 3367, 'juice': 8915, '✈️🎉': 6237, 'hollywood': 5882, 'bostonbbb': 14046, 'picked': 1237, 'februaryfreezefox17': 9848, 'skyw': 11975, 'sinuses': 9969, '2jul': 6834, \"bet's\": 10216, 'ua1616': 7450, \"people's\": 2587, 'tremendous': 3072, 'dia': 1310, 'tore': 12118, 'crooked': 9131, 'designed': 2671, '8uxzj2': 5172, 'ua125': 7380, '964012': 6502, '4125': 10473, 'magazine': 3200, 'transport': 2709, 'hofmann': 11069, 'fantastic': 1215, 'fuck': 1174, 'avoidable': 7385, 'hungary': 14030, 'epipens': 12027, 'ua246': 6720, '😊🌴': 9988, 'colleagues': 13100, 'generated': 12323, 'headphone': 12038, 'iwas': 13529, \"gettin'\": 9978, 'briughy': 9183, 'pump': 5693, 'satisfactory': 4724, 'musician': 5243, 'failphone': 13110, 'pamgrout': 12348, 'hiring': 2019, 'directtv': 2383, 'cheapflights': 2825, 'point🙌': 6273, 'learned': 1981, 'problems': 196, 'typo': 4915, 'ywg': 4608, 'aircargo': 8680, 'flexibility': 3799, '3277': 7311, 'hearing': 1587, 'ads': 2998, '614': 12894, 'synonymous': 7139, 'anarchy': 13655, 'bt37kyrbyj': 8811, 'sand': 12029, 'youareonyourown': 4923, 'brussels': 4476, 'lbairport': 10744, '77': 10219, 'playlist': 11409, 'haqc7gdg7c': 6251, 'givethoseladiesraise': 7112, 'ua647': 7048, 'prince': 3345, 'username': 2892, \"we'll\": 724, 'spending': 1646, 'jetbluemess': 12172, '5903': 7232, 'aif2015': 9185, 'nwk': 6206, 'sotelo': 8003, 'expressing': 8650, 'usaiways': 13765, 'fitbit': 11570, 'threatening': 5378, 'matters': 3643, '2065': 7113, 'dn1if2cgwe': 8154, 'isdelayed': 9171, 'kk6eixifp5': 11065, 'overlooking': 7631, 'sign': 950, 'flyjetblue': 12609, 'enroll': 4266, 'jabevan221': 5782, 'dust': 9294, 'whydidntiflysouthwest': 12406, 'overseas': 3816, 'ran': 1525, 'voluntarily': 8192, 'ltwhmol1dr': 11412, 'dramatically': 5023, 'repeatably': 6550, 'till11': 8985, 'definition': 4492, 'amount': 1267, \"we'd\": 1784, \"she'd\": 4899, 'glxfwp6nqh': 5938, 'cal': 11559, 'blizzue': 11003, '9newsbusiness': 8976, 'personality': 13478, 'next': 178, 'ahhhhh': 9950, 'nose': 13048, 'hpn': 2004, 'house👋': 13251, 'expensive': 1167, 'pretending': 8694, 'connecting': 369, 'none': 1160, 'inexpensive': 9423, 'suggesting': 13101, 'twin': 8410, 'delinquent': 11114, 'terminals': 4278, 'fingers': 1031, 'thanked': 4382, 'bullying': 7635, 'educational': 7031, 'thislinehasntmovedforanhour': 13978, 'luvthem': 8949, 'wdaktmr7mj': 13018, 'runnin': 12612, 'particulars': 12959, 'uvf': 5449, 'droppeditoffyet': 6634, 'remedy': 4430, '15yr': 7081, 'dies': 7563, '150219': 6169, '5238': 5810, 'tries': 7056, 'jetblueforever': 11917, 'collect': 4450, 'leaking': 12421, '9skrlyrz1o': 8023, 'frankfurt': 2339, '152': 3999, 'troy': 8773, 'cabine': 8317, 'disgutedindenver': 6596, 'certificates': 3843, 'pilot': 376, 'l8': 10490, 'choosekind': 6353, 'isthisreal': 11931, '00': 1476, 'ntrustopen': 3043, 'comin': 13314, 'addresses': 4289, 'cyprhe5gok': 8218, 'nrt': 2971, 'anthony': 3053, 'volunteer': 2356, 'thng': 11163, 'refer': 5299, 'committed': 3494, 'signup': 8800, 'town': 4268, 'likeagirl': 12163, 'purchased': 1351, 'wishmyflightwaslonger': 12376, 'continentalairlines': 6651, 'airlinesecurity': 6934, 'justsayin': 9156, 'negative': 8453, 'sobbed': 7745, 'sleet': 5277, 'orphan': 11485, 'unpleased': 6657, 'pls': 525, 'jvstatus': 10573, 'shall': 2948, 'viraltech': 11461, 'choose': 1265, 'traffic': 1268, 'reroute': 1716, 'showed': 1474, 'moments': 3202, 'samartzis': 4428, 'provider': 2741, 'x6syw3mdvu': 11209, 'diane': 12633, 'f3kxb8': 7187, 'hectic': 13985, 'tag': 1070, 'computers': 1565, 'form': 632, 'players': 10168, 'minimal': 5856, 'comcast': 3105, 'misses': 4543, 'kleinerin': 12207, 'domingo': 11159, 'yellow': 12483, 'pipes': 13741, 'alwaysdelayedonunited': 6649, 'sti': 4335, 'cause': 844, 'drops': 3534, 'bbzijwfdl3': 9862, 'faith': 2911, 'bit': 1052, '5': 136, 'faa': 1493, 'misleading': 3744, 'remotely': 4982, 'dads': 5655, 'brancato': 8953, '7am': 1868, 'owning': 9544, 'note': 936, 'met': 1286, 'xz6qeg3nef': 6069, '530': 12051, 'workhard': 11735, 'crâpe': 8930, 'ttbty89ilo': 10515, 'n': 942, '82°': 11435, \"one's\": 5257, 'excitement': 10040, 'anchorage': 4989, '13ewr': 8751, 'detailed': 5718, 'insulted': 7592, '😤': 13939, 'grossedout': 13580, 'that': 26, 'g8cvwj': 6718, '☕✈👍': 11841, 'vallarta': 3898, 'kelsey': 9206, 'escape': 11626, 'inperson': 10234, 'regret': 2923, 'lawsuit': 5807, 'lanes': 10255, 'donaldaroberts1': 13247, 'kathrynsotelo': 8021, 'speaks': 4685, 'clusterfucks': 8920, 'capitalized': 10034, 'crib': 11494, 'enzo': 11261, 'checking': 663, 'jessicajaymes': 5956, 'bubbly': 6024, 'amend': 13207, '0016': 3460, 'exams': 8428, 'became': 10042, 'justdoit': 10652, 'departs': 1721, 'cltdouglas': 12631, 'texas': 1529, 'applied': 1346, 'i’ve': 2170, 'relief': 3739, 'emaleesugano': 11112, 'esd3xd5v1r': 10503, '45min': 2362, 'lack': 666, 'elected': 7606, 'malaysia': 6451, 'outbound': 1888, 'upwherewebelong': 11758, 'compatible': 4168, 'improper': 7049, 'aggiemensgolf': 7429, 'selections': 8268, '50am': 4206, 'regard': 8649, 'cmon': 3249, 'r44': 6684, 'pdw': 12340, 'shows': 1013, 'urcyfcp2lx': 11842, 'preboarding': 3514, '159': 10082, 'fl1289': 5983, '5491': 7190, 'suffered': 10709, 'yul': 6405, '587': 6423, 'cinnabon': 12153, 'reddit': 5409, 'carried': 3680, 'qrxz0bgbtq': 10788, \"2015'\": 10218, 'shaker': 6064, 'batman': 8843, 'steaming': 14024, 'crews': 1968, 'narrower': 7982, 'foodallergy': 12103, 'exchange': 2182, 'natca': 10697, '4505': 12468, 'hopefully': 677, 'ua748': 7507, '7gb0hgw51t': 11156, 'us': 60, 'csrs': 12879, 'dnstitrzwy': 6017, 'peer': 7478, 'active': 2896, 'alternatively': 11050, 'klxivnbcyh': 11984, '✌️out': 6367, 'truebluemember4life': 11919, 'inputted': 12666, 'issue': 272, 'awww': 4045, '2015': 743, 'karma': 8338, 'southwestair': 13, '850': 13362, 'poisonpill76': 10461, 'flyers': 1315, 'peggy': 12380, 'reclining': 4265, 'px8hqoks3r': 5913, 'campus': 6847, 'thankyou': 1367, 'aisle': 2639, 'miraculously': 11328, '1051': 3566, 'correctness': 6563, 'soulandinspiration': 11334, '2h30m': 13210, 'centricity': 4578, 'didnt': 1656, 'considerate': 13817, 'recovering': 4413, '😘': 4210, 'streaming': 3223, 'shes': 4459, 'invitation': 12239, 'him': 489, '3841': 12772, 'chatted': 11472, 'redeem': 1393, 'clientnothappy': 6711, 'mat': 11374, 'evenlate': 5833, 'savannah': 2458, 'duped': 4436, '1000cost': 6264, 'ontime': 3045, 'principle': 3908, 'ua4935': 8342, 'confuses': 8599, 'clvlhfguzw': 11213, 'nowhereland': 6736, 'ua5097': 7153, 'european': 7352, 'jurassic': 6763, 'stevelord212': 7521, 'philippines': 3020, 'gsp': 5420, 'rolling': 4847, 'recognize': 6848, 'gist': 8904, 'dangerofgettingsnowedin': 6989, 'loads': 2820, 'produce': 6390, 'dozen': 3000, 'mere': 4224, 'longbeachairport': 12845, 'tides': 6380, 'control—the': 6545, 'fluid': 12214, 'ingeniero': 8807, 'useful': 2687, 'aggravation': 8005, 'self': 2010, 'vouufrn4js”': 11015, 'obama': 13592, 'deplaning': 4461, '9abc': 8148, 'unitedflyerhd': 8383, 'hasty': 13228, 'stuckintheloop': 12929, 'bbbne': 6385, 'agent': 185, '830': 3262, 'oh': 400, 'unitedvusa': 8444, 'frontrunner': 4509, 'wifiless': 9781, 'left': 212, '👍': 1329, 'loanr': 13127, 'and': 10, 'knack': 6749, 'coupons': 3248, 'like': 96, 'celebrates': 5666, 'aeroport': 6305, 'hover': 9957, 'enforce': 7158, 'toilets': 3033, 'argument': 3488, 'taylor': 3897, 'accommodations': 2590, 'trend': 6541, 'lwwdac2khx': 5889, 'valuable': 3004, 'greetings': 3481, 'coach': 1247, 'asked': 535, 'sleekmoney': 5600, 'businessfirst': 4867, 'imaginedragons': 584, 'regulations': 4281, '795': 3705, 'consultant': 10119, 'inside': 1311, 'dosequis': 9585, 'turned': 1270, 'airserv': 7708, 'highest': 12068, 'offensive': 4684, 'ds22ceeenj': 11757, 'connect': 1101, 'tool': 4392, 'rollerboards': 6659, 'each': 605, 'disrespect': 2540, 'nm': 7029, '404': 2834, 'created': 2151, 'gbd5r1olsi': 10789, 'msscottwg': 13083, 'becuz': 10509, 'york…': 11051, 'marccopely': 13358, 'letters': 4018, 'sp': 4295, '5187': 7996, 'device': 1908, 'elaborate': 5739, '1137': 5363, '14th': 10132, 'shanese': 11720, 'qn5odugfqk': 10209, '89': 3330, 'versions': 8423, '105': 5652, 'nbpcjcpew9': 13718, 'customerservicenot': 11206, '7x8': 8839, 'kms': 8315, 'filled': 1186, 'proposal': 10613, 'opt': 5445, 'falseadvertising': 8706, 'luxurious': 5001, 'bec': 10013, \"isn't\": 384, 'comfortable': 2225, 'assume': 2306, 'meaning': 5681, 'accounts': 2166, 'unaccounted': 6653, '35k': 6645, 'gardening': 9190, 'intrusive': 9958, 'y39yzdpbvu': 10982, 'zvfmxnuelj': 11339, 'tickt': 6781, 'otis': 3577, 'hof': 11883, 'skies': 1514, 'food': 538, 'boots': 7596, 'robert': 5487, 'virginatlantic': 1762, 'egregious': 7513, 'governor': 9470, 'wellplayed': 8350, 'spaces': 6642, 'acceptable': 1208, 'wounded': 5250, 'pb': 6524, '2thc9rkurt”': 10644, 'iyuzm2puvs': 10585, 'ssuvwwkyhh': 5982, 'volkswagen': 7125, 'codycleverly': 11959, 'eatup': 11055, 'bluecarpet': 5515, 'jjdosfyibm': 13066, 'less': 496, 'monthly': 5372, 'customerloyalty': 9710, '1783': 13701, 'banned': 6033, 'coshared': 7786, 'competitor': 4589, 'courteous': 2716, 'customerservicefail': 3157, 'huston': 4734, 'rqstd': 11970, 'swing': 7629, '6377': 7436, 'comfortably': 10737, 'treacherous': 11423, 'spruce': 6025, 'sunrise': 4560, 'dirtiest': 6171, 'wvgpp3ymz1': 11853, 'redesign': 5922, 'screw': 1394, '964077': 6503, 'diufep8n2q': 7434, 'cancer': 3387, 'lucycat': 13874, 'f2lfulcbq7': 3339, \"'y'\": 13879, '😅': 9647, 'people': 142, 'oxm6cwgab7': 9931, 'biggest': 2389, 'pos': 2554, 'ua5282': 6791, 'worldwide': 13614, '49': 13441, 'lololololol': 10806, 'hizouse': 11004, 'witness': 7498, 'conflict': 8419, 'hp': 12296, 'shadier': 12606, 'nakedmeetings': 9290, 'duct': 11040, '1136': 7746, 'phl': 283, '5001': 8048, '495': 4775, 'nhlonnbcsports': 5551, 'flight7': 10107, 'grumpy': 11592, 'toyingwithouremotions': 9227, 'twitterz': 11600, '😂😂😭😭😭😭': 10973, 'bug': 2024, 'totaled': 13866, 'place': 751, 'mobil': 13497, 'ua688': 4870, 'wifey': 6118, 'dkyde6': 7301, 'smith': 11175, 'strategy': 3014, 'gjt': 6586, 'hindered': 12837, 'guinea': 12550, '30min': 2304, '994': 11738, 'tequila': 13277, 'demand': 6597, 'helped': 791, 'hunky': 11238, 'walkway': 6933, 'regarding': 1243, 'reboot': 7019, 'booking': 261, 'bio': 4398, 'keeping': 1148, 'obj': 4130, 'linesforever': 6756, \"fiancee'\": 10074, '4yr': 6782, 'disgrace': 3108, 'january': 2058, \"pj's\": 4375, 'ourguest': 9138, 'ua3774': 4601, 'match': 975, 'oct': 4028, '10x9x17': 8837, 'locked': 3191, 'rumor': 9440, '000114': 6170, 'saharasams': 11666, 'lacma': 9836, 'engaging': 12116, 'segments': 3015, '675': 7415, 'pancho': 10028, 'eh': 14011, '71a': 6633, 'wqzztiemx0': 9250, 'arab': 5973, 'sendambien': 5871, 'chgy5yrvka': 12422, 'referred': 12432, 'either': 764, 'electric': 10504, 'wrecked': 12445, 'idiotic': 13095, 'x1eqyahfvz': 9495, 'flyana': 8900, 'moneynotspentonunited': 7854, 'grasshopper': 11599, 'mypompanobeach': 12234, 'merge': 2154, 'lot': 534, 'records': 10924, 'hj5kq82chn': 4372, 'night': 275, 'visa': 2039, 'cares': 1837, 'client': 2291, 'co': 30, 'mytimeismoney': 9889, 'determined': 4996, '10d': 7860, 'awesomeee': 12313, 'complaint': 675, 'accepted': 2192, 'im': 595, 'separate': 1847, '⤵': 13897, 'wamo66': 7324, 'goodenoughmother': 4383, 'visit': 1078, 'restore': 3003, 'philly': 508, 'be0b4k1xbt': 9501, 'meggersrocks': 12276, 'gangway': 5622, 'resch': 13130, 'murdock': 11869, 'notimpressed': 3134, 'ua1565': 7059, 'insulin': 9532, 'backroads': 5264, '59pm': 8156, 't': 29, 'wanted': 641, 'poorcustomerservice': 3492, '2wks': 6491, 'myers': 3888, 'ms': 3501, 'cutting': 3076, 'promotethatgirl': 13285, 'corpgreed': 12044, 'nerd': 6236, 'efficiency': 2636, 'hate': 709, 'thanksdave': 12355, 'warmth': 3742, 'amounts': 8631, 'servicing': 9598, 'allowance': 4603, 'commercials': 2211, 'keepmy': 10491, 'throne': 14005, 'manilla': 7369, 'blow': 7465, 'getting': 168, '39': 1875, 'ffc13zygjs': 11510, 'neveryamind': 9454, 'insubstantial': 9575, 'v5qwkyxsw6”': 10936, 'resend': 4812, 'pilots': 597, 'iwantcoffee': 14010, 'hawaiianair': 11234, \"comp'd\": 11401, 'may❤❤❤😍🌏': 10470, 'boat': 3885, 'wandered': 8867, 'payed': 3866, 'add': 427, '50m': 7772, 'munich': 7579, 'second': 625, '5txu5tsfkj': 9144, 'fornpf69ky': 9074, 'brothers': 3118, 'gx7qbtckbr': 12582, 'lasted': 10152, 'thankgoodness': 12233, '87yearslate': 10268, 'n8661a': 10356, 'mentioning': 7776, 'bz': 10078, 'flyingretro': 7905, 'goose': 7223, 'nancy': 10178, 'izfofgjzui”': 10869, 'sunshine': 3293, 'reset': 2240, 'ummmm': 12835, 'albums': 9176, 'flight1407': 11593, 'fxnv618b1a': 9679, 'furnish': 9548, 'amp': 57, 'vm': 5711, 'inappropriately': 6318, 'bostongarden': 10941, '8o3scr5efw”': 10994, 'criteria': 10252, 'freaked': 6907, 'cluster': 3609, 'comes': 1943, 'buy': 671, 'oyllrzqu5m': 12113, 'considered': 3156, 'license': 2235, 'b3': 7832, 'a587cw': 7908, 'empathy': 3614, 'prove': 2582, 'cnnmoney': 4676, 'gates': 1071, 'counters': 8418, 'vday': 6119, 'loss': 3239, 'systemic': 13906, 'flavors': 8760, 'programs': 2125, 'n9hmcrjchb': 12231, 'cents': 12871, \"cxl'd\": 13047, 'redeye': 7383, 'costumerservice': 7432, 'bizarre': 5086, 'repeating': 5313, 'hrl': 3996, 'sweetheart': 5108, 'julian': 11870, 'unknown': 3065, '1826': 5735, '408': 9626, 'cutoff': 9673, 'per': 1204, '577': 11973, 'jetbluesucks': 12065, \"i'v\": 12450, 'd': 1220, 'awful': 563, 'priceless': 3619, 'a9': 13733, 'res': 1503, 'enjoying': 2664, 'secondary': 13810, 'mergers': 13697, '7im9rhivyr”': 10794, 'preboard': 2537, 'immediate': 3626, 'labrador': 7224, 'adding': 1122, 'prior': 1298, 'allow': 1084, 'aruba': 2766, 'baftz': 7010, '20feb15': 12995, 'vancouver': 6530, 'nexttime': 11136, 'fp9m6y': 10506, 'stream': 4681, 'disappeared': 2538, '2nite': 4758, '835': 13570, 'avis': 4233, 'tht': 11203, 'crucial': 8202, 'sombrons': 6877, '3768': 10500, '730a': 12521, 'absolutely': 959, 'gpu': 4680, 'dealt': 2790, 'vegan': 2815, 'theacademy': 5208, 'thrilled': 4423, 'regulation': 2849, 'sayin': 5233, '‘connect’': 9488, 'airport': 114, 'az': 3246, '1815': 13368, 'relay': 9932, 'piece': 1578, 'wat': 11315, 'brought': 1867, 'around': 507, 'oktukjy92o': 7614, 'signal': 3920, 'topnews': 5972, 'into': 240, '1729': 5594, 'simultaneously': 12375, 'redeemed': 3046, 'layout': 6888, '904am': 11340, '2009': 5334, \"'we've\": 8561, 'praised': 14002, 'loser': 9573, 'modify': 4159, 'deck': 2990, 'gent': 5211, 'https': 512, 'exper': 11187, 'clarkhoward': 8001, '2edgc6tbls': 13947, 'swb1gr57cc': 12312, 'oscars': 1017, 'clt': 331, 'area': 826, 'anderson': 9365, 'head': 1684, 'lh': 3697, 'test': 4023, 'pointing': 5084, '214': 5841, 'nyc…as': 8176, 'border': 3641, 'unitedfails': 8381, '5’': 7871, 'through': 198, '1748': 13905, 'completely': 727, 'bdng': 11469, 'mouse': 3761, 'gagent': 13543, 'kinda': 2515, 'christinebpc': 8422, 'remain': 5357, 'spot': 2087, 'smoothest': 4604, '1at': 11745, 'simonroesner': 6371, 'cflanagian': 11773, 'hand': 2233, '1534': 4519, 'f1yvaio9ul': 7944, 'incidentals': 11518, 'price': 717, '1086': 6862, '413': 2838, 'momsgoodeats': 6558, 'stage': 8247, 'ahlxhhkiyn': 5860, 'giggled': 11454, '3260': 9722, 'fi': 1472, 'letsgo': 3133, '⭐️': 9749, 'chicagomidway': 9560, 'anyonethere': 6591, 'nokidhungry': 10670, 'camera': 2418, '1600': 4597, 'caught': 2942, 'known': 1411, 'flying…': 11044, 'vary': 8805, 'sympathetic': 3579, 'auditorium': 9580, 'coles': 11319, 'jimmy': 4427, 'egkvfokogj': 8279, 'raps': 9069, 'law': 2267, 'evennotified': 9169, 'iidrblnoox': 11225, 'chrome': 2857, 'parizad': 12628, '2139': 12465, 'taxi': 1488, 'orlando': 673, 'case': 608, '1thingafteranother': 8231, 'ticketed': 2111, 'experience': 183, 'bruins': 11882, '❄️⛄️': 11504, 'homegirl': 9557, 'families': 2147, 'proficient': 8913, '4ojrsdwpkk': 5206, 'feelbetter': 11557, 'michelle': 6878, 'relative': 3580, 'saves': 6734, 'worrying': 6242, 'lastflightofthenight': 8152, 'ramps': 4644, '3rdtimethishashappened': 7621, 'aimed': 9075, 'god': 1115, 'earthquake': 5566, 'disturb': 11548, 'c25': 8186, '211pilot': 10523, 'yo': 1381, 'seg': 3595, 'sk6w9xqaqb': 12198, 'combined': 9386, 'rental': 1239, 'create': 4027, 'cash': 2203, 'iflyoakland': 7874, 'cable': 4748, 'extortion': 6241, 'thankyouforeverything': 13819, 'r4xjxqrx1z': 10838, 'amateurs': 8454, 'laughter': 12741, 'onfleek': 10818, 'groan': 13559, 'hou': 2074, 'asha': 12669, 'av': 3519, 'mia': 1343, 'deboards': 12404, 'maltese': 9163, 'valued': 12120, 'luggagegate': 11248, 'breathe': 8667, 'cxl': 3077, 'selecting': 6036, '4009': 13517, '3kvkd8yrxa”': 10957, 'dnt': 5166, 'mrn': 9995, 'borderline': 8668, 'pros': 4184, 'worstcustomerservice': 2337, 'mjkpgvxmpc': 6424, 'vía': 6640, 'world': 699, \"usa's\": 8442, 'jacked': 3557, 'concrete': 6372, 'flyin': 11614, 'somewhere': 1337, 'uso': 13002, 'vacationing': 13140, 'human': 696, 'rbn7stuij1': 8445, 'combo': 12538, 'existent': 1885, 'farmington': 8894, 'switched': 1188, 'nohelp': 12903, '747': 4256, 'nicer': 3893, 'divert': 3971, 'swamped': 10492, 'dislike': 4201, 'ew': 13346, 'fax': 4553, 'fares': 974, 'affect': 4605, 'alittlebetter': 6941, '45am': 5527, 'southwestverity': 5300, 'tues': 2619, '12pm': 4919, 'mark': 1963, 'flyus': 13747, '6hour': 7133, 'tomvh': 10521, 'jokesonus': 8351, '1002': 11451, '2morrw': 9793, '👠🇬🇧👠🇬🇧👠🇬🇧': 8077, 'portal': 9004, 'deplaned': 2652, 'workng': 13540, 'gun': 9725, 'contradictory': 7487, 'pregame': 13336, 'utdfqf5wpa': 10908, 'charac': 12518, 'cristian': 6745, '5h2m': 7618, 'girlfriend': 2345, 'faanews': 3372, '513mph': 6245, 'ptsbka4cdj': 11639, '6in': 8600, 'canada': 1913, 'knuvuovhub': 10928, 'troubleshoot': 8672, 'points': 514, 'anymore': 934, 'praying': 3153, 'integrating': 10138, 'stepping': 3773, 'idonotcare': 8538, \"'bluemanity'\": 4087, 'estimate': 2410, 'lovejetblue': 3304, 'forgiven': 5248, 'ch0nmjymgh': 12347, \"there's\": 528, 'bernhardtjh': 10557, 'jeokoo': 3648, 'readily': 9656, 'via': 345, '24h': 4594, 'mhhs9ruplv': 6868, 'items': 1769, 'cracker': 7634, '891': 11533, 'jacquie': 3977, 'asses': 8057, 'tray': 2712, 'formally': 3522, 'ua1059': 8659, 'skilled': 4623, 'yrs': 2315, 'tmobile': 9130, 'controllableirregularity': 12213, 'ppva4rch9f': 6529, '1874get': 13982, '240minute': 7379, '–': 6255, 'stressed': 3456, '24th': 2476, '5cdx2roae6': 12804, 'calming': 5878, '556': 4135, \"lady's\": 13318, 'angrytraveler': 12807, 'congratulation': 13516, 'lostsuitcase': 7712, 'faults': 8735, '358': 7924, '38e': 4622, 'bso': 10248, 'aaron': 8404, '72h': 7942, 'confusing': 3527, 'ajm3bhjvaa”': 10821, 'flyquiet': 8768, 'maimi😭': 11126, '15p': 4912, '1aavvoreph': 9757, 'bringin': 9980, 'library': 9641, 'djq': 9802, 'reopened': 13808, 'showexpert': 6869, 'tue': 9343, 'maarten': 11417, 'ericbradleypt': 10706, 'stylesheets': 6081, 'assumed': 8180, 'no': 27, 'loyalmosaicmember': 11804, 'goingforgreatnessfail': 4119, 'upgrade': 354, 'jon': 6700, 'untruthful': 8242, 'refreshed': 3357, 'pissing': 12898, 'portland': 1650, 'liveonfox17': 9847, 'badbussiness': 9092, '99': 1516, 'pacquiao': 11563, 'admirals': 2465, 'csr': 2121, 'daughters': 2644, '525': 9620, 'dkzl57upqi': 13167, '751': 11347, 'flt635': 12886, '150000': 13326, 'pyjaoaynx6': 12033, 'hemispheresmag': 8071, 'yhz': 7991, 'fioretti2ndward': 7090, '639p': 12923, 'dreampath': 5910, 'tkauygcpms': 6101, 'misplace': 13785, 'steered': 12123, 'bool': 10559, 'rim': 6549, 'gotcha': 3994, 'realized': 2419, 'campaign': 11495, 'awesome': 285, 'seating': 908, 'mix': 4815, 'usairways': 11, 'any1': 5532, 'march': 890, \"what'd\": 9314, 'handshake': 7988, 'lruns4cupcakes': 8000, 'cond': 7699, 'mobileboarding': 10186, 'unnecessarily': 4444, 'define': 2379, '505': 9867, 'weekday': 10695, 'connections': 815, 'nonexistent': 3836, 'attend': 2138, 'beingsuckontarmacsucks': 7916, 'de': 1201, \"'paperwork'\": 12982, 'refueled': 7439, 'flight': 8, 'i’ll': 2050, 'correlate': 13753, 'becoming': 3117, 'pricey': 2665, 'annricord': 2722, 'deteriorating': 12635, 'contribution': 10779, 'quickly': 1679, 'video': 1048, 'generally': 7724, 'axpn28xiqb': 8648, 'pockets': 9959, 'there': 73, 'accomplished': 4967, 'table': 2713, 'rechecked': 8352, 'mega': 11683, 'welldone': 4511, 'edge': 7391, '2100': 7349, 'pho': 5690, 'security': 1065, 'eastern': 2043, 'child': 1021, 'triflight': 2456, '3056': 9863, 'decide': 2802, 'drinks': 1643, 'procedure': 2167, 'wastedtime': 4377, 'avoided': 6337, 'compared': 3516, '610': 12700, '3875': 8775, 'static': 11820, 'ito': 8808, 'wipe': 7569, 'looking': 310, 'q': 3342, \"'more\": 7085, '2': 47, 'arizona': 3229, 'school': 1528, 'london': 1395, 'responsible': 2401, 'moar': 8921, 'agnt': 6582, 'revision': 12462, 'kravitz': 11925, '͡°': 3254, 'time': 48, 'guilty': 8043, 'vlci2kv1ip': 9637, 'dick': 5411, 'representative': 1361, '816': 13391, 'previous': 1462, 'unitedairlinessucks': 4656, 'agents': 280, \"can't\": 87, '676': 13531, 'limits': 6391, 'boeing': 3187, 'firststari': 12031, 'emergency': 1304, 'departing': 1194, 'yxe': 7177, 'unloaded': 5408, '7f': 13769, 'ua6002': 8548, 'rgywjbbhm4': 6061, '40th': 5787, 'read': 758, '1625': 5123, 'abcletjetbluestreamfeed': 11543, 'change': 147, 'upgrd': 4865, 'qw2ebeemvg': 11501, 'flysfo': 3646, 'pd3nbaakxh': 8006, 'oneworld': 12681, 'dr': 2991, 'notion': 13292, 'dca48810m': 6906, 'mrjustyn': 10801, '4465': 8067, '😭😭😭😭': 11333, 'nonprofit': 5133, 'hitting': 3890, 'five': 1412, 'specials': 9478, 'unhappycustomer': 9888, 'lvirtdtqly”': 10913, 'harris': 8640, 'bright': 3452, 'belongings': 3637, 'controller': 12150, 'ashes': 12094, 'eyes': 2163, 'asarco': 5993, \"anyone's\": 13496, 'pleasehelp': 9638, 'oops': 2602, 'kylejudah': 3309, 'thanksdc': 11392, 'numbered': 8607, 'alsonodrinkcartcomingaround': 12418, 'refunding': 2847, 'taxing': 3632, 'argued': 4106, 'p3n2w8jfps': 7532, 'cling': 11731, 'exasperating': 7762, \"comfort'\": 7175, 'vomited': 10345, 'dragon': 2161, 'rough': 1881, 'tsk': 6644, 'americanisbetter': 7124, 'tpa': 2168, 'pics': 5514, 'restr': 4180, 'missedflight': 9965, 'iest': 7600, 'july': 2908, 'spoiled': 3355, 'saturdays': 10070, '700': 1426, 'authors': 7264, 'en': 2740, 'wkrb': 5606, 'caravannyc': 8174, 'segs': 7435, 'while': 395, 'ela7tntcir': 10760, 'network': 2879, 'happycamper': 9052, 'dale': 5268, 'behave': 5760, 'outline': 10434, 'gracious': 11295, 'case—nothing': 7540, 'make': 130, '1898': 4127, '9eueyxawcv': 9182, 'backpacks': 10423, 'hella': 11363, '1zt2kee8up': 9851, 'mintyfresh': 11254, 'sweat': 13026, 'linking': 5173, 'double': 1319, 'kmquly9g5e': 6891, '787': 2620, 'furrow': 3400, 'pumped': 10440, 'gap': 10151, 'teaching': 5102, 'sill': 13805, 'ufyxxkisa3': 11436, 'cheap': 1205, 'wired': 10411, 'equalizer': 11369, 'ukm4e99dz0”': 10915, 'his': 390, 'cups': 14023, 'approx': 4686, 'extinct': 12787, 'clarifying': 3753, 'bwi': 498, 'b4xhirugzv': 13347, 'packed': 2739, 'penguin': 9056, 'postpone': 12075, '6sep': 11076, 'burley11': 11393, 'allright': 8823, 'maryjo': 6540, '441': 4298, '9148445695': 5033, 'pulp4i0w96”': 11022, 'tall': 6667, 'devs': 13804, 'beating': 8367, 'louisville': 5273, '494': 4720, 'paste': 2909, 'flight2149': 9223, \"yesterday's\": 3167, 'myself': 840, 'continuous': 4585, 'circling': 11307, 'falls': 8200, 'apps': 2899, '729': 12904, 'miler': 3058, 'planned': 976, '👸': 6106, 'rinzysk6ki': 10877, 'becuase': 13203, 'barnum': 12789, 'logged': 3618, 'wxowzhpgfl': 13491, 'classics': 5897, 'nlzs1ehnee”': 10866, 'm81rv0blxs': 8511, '30mins': 3529, 'upinairclaire': 13536, '2a': 3331, 'branding': 6903, 'vuelos24': 13653, 'sfo': 258, 'shuffle': 8589, 'strollers': 5481, 'qxteqzm3yz': 9439, '450': 5215, 'tallahassee': 12784, 'guessing': 3684, 'tabs': 13739, 'hugely': 3416, 'swag': 5097, 'dca': 303, 'moon': 3792, 'larkc8vc4s': 6620, 'philadelphia': 1023, 'misbehavior': 11367, 'bulkhead': 4439, 'nvk3irg4kp': 13726, 'checks': 5117, 'silly': 2900, \"ceo's\": 10796, '2hr': 2973, 'verbiage': 12593, '2days': 3748, 'giant': 5386, 'predict': 10476, 'humour': 4742, 'resulting': 4884, 'credibility': 7812, 'chaching': 10159, 'mbr': 7278, 'idontwanttocallback': 13202, 'plitt': 3978, 'smells': 4772, 'overselling': 6728, 'interim': 6326, '1tzz0vbmbs': 10539, 't3e4sh5xng': 10377, 'crazy': 900, 'resolve': 1451, 'tn5cxcld6m': 9909, 'canld': 13129, 'jumping': 11459, 'waited': 541, 'midland': 3184, 'destinationdragons': 356, 'custs': 7525, 'lifevests': 6918, 'disciplined': 12429, 'freezing': 1396, 'y5qe9hcqzt”': 10917, 'manchester': 2556, 'earliest': 4631, 'already': 220, 'bnasnow': 10349, 'difference': 1195, 'eyw': 4112, '3466': 6419, 'suspended': 9339, 'commitments': 13164, 'rock😎': 9877, 'annoyed': 2075, 'condescending': 6876, 'heart💕': 10085, 'login': 2698, 'allowing': 2155, 'mario': 9411, 'affected': 1653, 'unsure': 4581, 'worm”': 5851, 'painful': 2173, 'protection': 5544, 'ua1619': 6850, 'ilqzmmjiyq': 10325, 'patience': 1262, 'dedicated': 13367, 'yi4wguk5tr': 11770, 'kn': 4855, 'surveys': 9746, 'interrupted': 8328, '715': 4717, 'robcnyc': 8223, 'chronicleherald': 5687, 'attendants': 592, 'flyfrontier': 8966, 'weary': 5707, 'airplane': 1038, 'pwm': 3259, 'mp': 8936, 'gassing': 13597, 'pri': 8675, '2168': 5587, '1581': 12873, 'don’t': 2520, 'k66srfnw77”': 10955, 'wznp5q1m0h': 8303, 'increasing': 5015, 'courteroy': 10999, 'prevented': 6534, 'wiyh': 11271, 'section': 2856, 'jrbzlhrw7y': 12212, 'nfjauw16vz': 10971, 'wednesday': 1730, 'comp': 2132, 'vp': 4745, 'blueheros”': 11668, 'ath': 5656, '1408': 12179, 'unempathetic': 8674, 'kmanldqbh4”': 11033, 'ghettofab': 13520, 'clearly': 1502, 'jacksonville': 3895, 'deployment': 7603, 'respects': 8692, 'stonewalled': 8728, 'narrow': 12529, 'zkatcher': 4086, 'wife': 470, 'nothings': 13825, 'frd0cay6da': 13757, 'corevalues': 5575, 'youcandobetter': 13558, 'shavon': 13508, 'omaha': 2745, 'negroni': 11605, 'happyflight': 7597, 'rollaboard': 7552, \"what's\": 252, 'ld”': 10311, 'ua4727': 8468, 'phonedied': 10537, 'donotflyusair': 12413, 'unlike': 3274, 'interviews': 10432, 'sorry': 357, 'demanding': 11896, 'friendly': 766, 'putting': 2497, 'i’d': 12559, 'crumbs': 11740, 'flatiron': 12246, 'impersonator': 10197, 'bay': 2127, 'flight16': 11306, 'ua992': 4500, 'waters': 12034, 'alynewton': 11035, 'subpar': 3180, 'carmen': 8990, 'junk': 4707, 'wd40': 5731, 'c9': 9196, 'ua6357': 7933, 'turquoise': 8697, '584': 11247, 'comms': 13566, 'robotic': 3543, 'gottogetbetter': 6948, 'pointy': 13778, 'joe': 5337, 'smarter': 12891, 'lunchtime': 13548, '605': 6839, 'ssbaujtouw': 12307, '299': 8671, 'amateur': 13798, 'vieques': 2793, 'block': 4710, 'infinity': 9402, 'we7pf5ll1y”': 10856, 'q5a7jtki5k”': 10914, '😔😔😔': 9658, 'operated': 2609, 'tellyourstory': 13463, 'rise': 6058, 'noooooooooooooooooo': 10824, 'core': 11765, 'st': 1139, '8mwitri9kf': 11602, 'serenitynow': 10578, 'flite454': 11388, 'updateyourwebsite': 11308, 'igiveup': 8799, 'cattle': 9999, 'madrid': 6538, 'mfmnkmvotr”rt': 13715, 'g12sn5qsqz”': 10815, 'extraordinaire': 7114, 'destroyed': 3358, 'allyoucanjetpass': 11856, 'l7lwjazioa': 13993, 'oyu': 9026, 'number': 182, 'getmeoffthisbird': 9697, 'werenotincalianymore': 11505, 'ua4646': 6805, '💔😪': 9327, 'getmeontop': 6342, 'followed': 1191, \"'customer\": 5122, 'analyst': 11482, 'xx2m2jxqep': 10704, 'wantcharge': 9926, 'paint': 5669, 'rate': 1089, '49pv3kchnr': 6914, 'milan': 6830, 'until': 323, 'ua1481': 4582, '5fmipw9dhi': 11874, 'phn': 4353, 'vdfdodqvgx': 6682, 'vipswagbags': 6049, 'mrerickv': 5377, 'ua2066': 7259, 'baggagefail': 9538, 'offensively': 12958, 'p8xfhq4kps': 13201, 'cache': 10081, '3935': 13618, '😡': 1747, 'perfectomobile': 3161, 'bafore': 8463, 'mon': 1863, 'fuchzrzjg5': 8798, \"'kewl'\": 6202, 'crewmembers': 4094, 'unwise': 13229, 'conveyor': 8502, 'informative': 4303, '4223': 10236, 'sfotobos': 5869, 'whoever': 2541, 'wreck': 3548, 'stoked': 5150, 'pushback': 13230, 'confused': 2413, 'most': 419, 'mideast': 5579, 'damage': 2580, 'game': 1088, 'solves': 12502, 'telaviv': 6330, 'windows': 3854, 'wise': 8786, 'tomorro': 9590, '651': 9239, 'meet': 1632, 'disallows': 13908, '1hour': 13992, \"someone's\": 2959, 'ua994': 7283, 'thanks': 37, '1562': 5522, 'cabins': 8545, 'celebrate': 4757, 'execution': 5333, 'clarita': 6978, 'over': 102, '1881': 13246, 'ua1665': 7701, 'communicationfail': 4406, 'ifeeldumb': 10300, 'rfxlv1kgdh': 2843, 'seems': 575, '04': 12158, 'skip': 5251, 'enrolled': 9141, 'bleed': 12386, 'nytimes': 2851, 'abundance': 6438, 'moves': 10909, 'midnight': 1436, '✈️tampa': 10863, 'nolove': 3240, 'sis': 11682, '890': 13621, 'reuniting': 4411, '20mins': 6892, 'gum': 12230, 'sprinting': 8426, 'delongerry': 6923, '3494': 7189, 'satisfactorily': 9155, 'dented': 6038, 'elpaso': 7730, 'registers': 12081, 'eve': 9732, 'bohnjai': 13932, 'ifc': 12228, \"wasn't\": 444, 'braved': 8885, 'doc': 8539, 'wld': 3956, 'emptied': 7252, 'firstclass': 3145, 'megelizabeth631': 9347, '😀': 3220, '5xgnyhgafz”': 10967, 'vtqe8m1l3i': 8194, 'webs': 13654, '10mins': 5390, 'sheila': 12092, '1esmmnizek': 10115, 'luvsw': 10256, 'texting': 5139, 'n26902': 8384, 'tmm': 6089, '7ujt8vtcpa': 9871, 'badservice': 1073, 'stahhppp': 10891, 'pound': 3710, '20minutes': 6571, 'spoke': 769, 'after': 86, 'dot': 3549, 'kkwiwi97a4': 7316, 'filing': 5371, 'd9': 13569, 'monkey': 9151, 'costumer': 1934, 'partly': 4834, 'pgoeuxnspi': 11491, 'worse': 559, 'vr9k180lai': 9063, 'pleasent': 8577, '25th': 4376, '3818': 12986, '787s': 8523, \"grandpa's\": 12093, 'vv8cfyhkvb': 11479, 'guiltypleasures': 5892, '381': 6772, 'onhold': 5800, 'eatgregeat': 10663, 'jilted': 8789, 'suspect': 3473, 'angering': 9405, 'yesterday': 433, 'hartford': 2424, '4ktk2hsmgy': 11246, 'resting': 7846, 'dobetterjetblue': 11311, 'ana': 3027, 'dissaponted': 9332, 'premiers': 8642, 'divider': 10624, 'churn': 13017, 'marsha': 13818, '04sdytt7zd': 13365, 'inches': 3113, 'cheapoairchat': 12411, 'vhgkitzsaw': 5180, 'replying': 2433, 'process': 682, 'chuckhole': 13361, 'educate': 7027, '51': 2200, 'specified': 11116, 'matthewebel': 9262, 'winston': 4417, 'kbhym5gkap': 12145, 'reno': 4379, 'cking': 4504, 'finals': 5019, 'disrupted': 6439, 'drive': 756, 'expiration': 5116, '813': 13388, 'iy': 6855, 'clouds': 4970, 'site': 413, 'ph8qjzapkx': 7981, '1533': 5530, 'publicly': 4350, 'sided': 12621, 'victoria': 6875, 'doruxbqla1': 11867, 'applies': 12504, 'studying': 10802, 'aircrafts': 7183, 'exactly': 1477, 'natprodexpo': 11672, '08': 4306, 'december': 2285, 'da': 10853, 'whacked': 8638, 'flex': 3432, 'mugged': 9090, '587701925count': 10556, 'brian': 4792, 'txhyj40llg': 10214, 'p6ucbvlv5e': 11837, 'crowd': 3980, 'passive': 5182, 'moneyelsewhere': 8790, '2littlebirds': 5523, '2hxsdp0ha4': 11220, 'processed': 7154, 'a4': 13098, '445': 5733, 'sobewff': 3771, 'brutal': 2443, 'disloyal': 8834, 'jp”': 2940, 'sportsbiz': 10379, 'fistfights': 9178, 'notify': 1826, 'damages': 4801, 'string': 8517, 'alot': 3158, 'u5hxri6crx': 12199, 'dadboner': 8758, 'lightyears': 8662, 'lingo': 10803, 'y3sahvx3zk': 10438, 'greatcustomerservice': 13394, 'rocks': 1618, 'open': 349, 'cultural': 10931, 'ow': 13208, 'united13': 8333, 'band': 1997, 'intern': 4170, 'disputed': 6429, 'powers': 12517, 'piss': 3525, 'locate': 1944, 'chairman': 1511, 'ua3388': 6871, 'frequentflyerappreciates': 10692, 'glitch': 2957, 'limited': 2338, 'stuff': 1050, 'pia': 3714, 'happytohelp': 11125, 'website': 249, 'registration': 5688, 'presidential': 9600, 'jam': 4875, 'let': 213, 'bone': 9756, 'goodnight': 4393, 'thinks': 2931, 'theworstairline': 12810, 'conversion': 6158, 'data': 2757, 'vacation': 484, 'keepusguessing': 8312, 'huge': 776, 'disabledtraveler': 11669, 'artisanal': 6243, 'wmo6tkqhxp': 11497, 'two': 195, 'aur': 9814, 'okcdirects': 9708, '0162424965446': 6554, 'mons': 11059, 'kbb0b5fxmk': 8987, 'chitocle': 7930, 'attndt': 13069, 'que': 5259, \"wife's\": 2415, 'hosp': 13221, 'prioritize': 5156, 'defines': 4339, 'tmw': 5263, '4011': 12452, 'hemisphere': 4625, '12”h': 13482, 'bless': 5293, 'speed': 1573, 'yall': 740, 'sche': 13298, 'surrounding': 5072, 'themagicalstranger': 13429, 'accommodating': 3982, 't78k7abtwf': 7267, '118': 3961, 'fe': 7123, '4500': 12864, '1146': 6492, '✈️✈️': 10017, 'property': 2912, 'vt': 12395, 'swooped': 12099, 'danahajek': 4783, 'mltple': 10339, 'smugsmirk': 13072, 'thetakeover': 12183, 'qwfmoq0dql': 8986, 'fustrated': 10861, '5431': 8570, 'findanothergate': 6997, 'sparkled': 10669, '1l9scwphph': 8595, 'contd': 4840, 'dissapointed': 5503, 'spoken': 3251, '5129': 13929, '165': 4992, 'insta': 6389, 't1rypzebc8': 11111, 'fefhpmfple': 12016, 'realistically': 6656, 'showup': 13179, 'atc': 3030, 'preciation': 10862, 'sac': 9750, 'areyounew': 8354, 'beginning': 2528, 'deserved': 2512, '917': 4346, 'surely': 5484, 'jtrexsocial': 4129, 'suprlfoi8t': 6712, 'yell': 5835, 'complain': 1570, 'yer': 10645, 'workforces': 13250, 'bg': 10629, 'murdering': 3669, 'closet': 4678, 'bostonlogan': 2450, 'interfering': 9565, '☺️': 4025, 'companions': 9375, '👍👌': 9148, 'loans': 13116, '“thank': 7559, 'storms': 3802, 'btwn': 8928, 'alerts': 2429, '😃cool': 11815, 'prebooked': 8126, 'satisfied': 4773, 'everyones': 9382, 'retain': 7052, 'saga': 4443, 'western': 4624, 'snowwillnevermelt': 11621, 'unavailable': 1890, 'waterbury': 1853, 'frequentflyer': 4765, 'lostinlove': 11709, 'chatting': 8746, 'desks': 4921, 'audience': 9481, 'kat': 8016, 'distribution': 3343, 'mine': 836, 'chain': 7950, 'protocol': 4000, 'nw': 13267, 'trials': 7940, 'ff': 2675, 'itproblems': 8691, 'christmas': 3479, 'services': 793, '1449': 8004, 'pascucci': 13942, 'crewmember': 4079, 'service✌️': 5768, 'eagle': 4390, 'differently': 12775, 'us2118': 13837, 'department': 1213, 'emv': 5498, 'empl': 13062, \"int'l\": 3143, 'parker': 13831, 'waiting': 117, 'vbuxfpckfa': 9857, 'representatives': 3349, 'mercy': 5559, 'dumps': 12180, 'frustration': 1688, 'header': 6006, '♥️🙏': 10027, '🆘🆘🆘🆘🆘🆘🆘🆘🆘🆘🆘🆘🆘🆘': 11433, 'backyard': 6233, 'adopting': 3462, 'bs': 1069, 'yzh4zrqm0i”': 11008, 'heyyyy': 5899, 'gopuregrenada': 10679, 'rqbpmwettq': 10021, 'supposedly': 3163, 'periods': 12645, 'miserably': 13133, 'ua7985': 7785, 'vice': 3485, 'pivotalcf': 6543, 'health': 3829, 'accused': 12249, 'daysinn': 9317, 'flysw': 9618, 'y’all': 7819, 'angrycustomer': 8362, 'wonderfully': 10403, 'obtain': 9390, '15am': 12481, 'forgets': 12490, 'thinking': 1342, 'pooch': 11263, 'stillnobags': 4432, 'therofo': 10050, 'difficulties': 3690, 'title': 7927, 'snaps': 14022, 'moderate': 7168, \"family's\": 13308, 'unprofessionalism': 13921, 'fight': 1640, 'dispute': 5014, 'virtually': 7426, 'scratching': 5016, 'ua1270': 6702, 'walk': 1792, 'invited': 5260, 'verbal': 4462, 'royally': 4737, 'whether': 2188, 'only': 120, 'incidentally': 12091, 'ba': 4495, 'tick': 4612, 'blowing': 4810, 'ua5029': 8407, '50minssss': 13145, 'stranded': 423, 'cabaret': 6168, \"o'hare\": 1566, 'njairports': 5085, 'feeling': 1720, 'platinummember': 7816, 'ryxbplgmnk': 10366, 'appalling': 8655, 'hotelliving': 6965, 'obqiro1buj': 11291, 'unaccomidating': 8470, '337': 7949, 'notcool': 1906, 'tail': 2634, '🆖': 7263, 'iowa': 5691, 'computer': 642, 'feces': 4659, 'keambleam': 6692, 'colored': 11642, 'sxvagbrtli': 9360, 'etiquette': 10883, 'built': 5942, '3zpjr7kwbk': 8209, 'reimburse': 1636, 'ind': 2693, 'fab': 5089, 'growing': 7669, 'flightly': 1870, 'firefox': 8957, 'leverage': 8950, 'c47': 9143, \"agents'\": 4876, 'comeon': 10474, 'photography': 5229, 'miami': 861, 'soul': 5294, 'mileageplus': 1143, 'hoped': 3853, 'opsec': 8676, 'm2wsg2olgo”': 10767, 'norm': 2932, 'hotels': 1557, 'patienceiswearingthin': 11700, '🎉🎉🎉': 4911, 'jieycat1ek': 12464, 'aspen': 2320, 'highhopes': 9599, 'agree': 2013, '40mins': 5070, 'conversations': 4642, 'burningman': 5006, 'etd': 9079, 'unveils': 3928, 'mainline': 7919, 'zsuztnaijq': 6085, 'sju': 1739, 'overloaded': 13892, 'normal': 1756, 'avon': 5236, 'austin': 713, 'causes': 2284, 'rollers': 4507, 'qrxvzfrd1z': 9408, 'worked': 933, 'irritating': 4949, 'both': 532, 'rockers': 11424, 'omgee': 10817, 'marie': 4091, 'response': 224, 'honest': 1327, 'mosaicmecrazy': 11324, 'asking': 707, 'isis': 3496, 'thought': 619, 'everything': 594, 'alreadyrebookedonce': 8084, 'cc': 1155, 'icecream': 13089, 'luv': 650, '3ddqq0gqni': 13603, \"couldn't\": 411, 'percentage': 13092, 'nowhere': 3587, '😱❤️im': 10192, 'supposed': 436, 'sht': 10324, 'is': 15, 'circle': 5541, 'unscheduled': 3467, 'inflght': 11540, 'jx4s2t': 6853, '2nd': 612, 'geekandahalf': 12335, 'rapid': 1729, '9vtfm7knad': 12326, 'cheated': 3875, \"cx'd\": 12451, 'awol': 13820, 'rescheduled': 1019, 'fla': 10392, 'ohioprobz': 10087, 'why': 71, 'handled': 1492, 'fleek': 209, '600': 2350, 'claudia': 7057, 'loner': 6555, 'reboard': 8248, 'idiots': 2134, 'aarp': 3948, 'probablynot': 8376, 'clarify': 3636, 'groups': 4491, 'jmnkj6bmc2”': 11002, 'ashley': 4587, 'dan': 4273, 'squashed': 13510, 'expect': 703, 'tonysimsmma': 6799, 'ua1118': 7032, 'dime': 3206, 'uphold': 6146, 'gdzadxzbya”': 11030, 'anotherfail': 13146, 'hungry': 2364, 'feels': 1470, 'wmx12f33zc': 11310, 'chs': 4070, 'syr': 5453, 'faq': 10254, 'grateful': 3226, 'omg': 1363, 'sites': 3917, 'bravo': 5245, 'anxiety': 4173, '😁🎉': 11419, 'adams': 7515, 'mod': 13219, 'chg': 5162, 'toes': 12570, '87': 10540, 'excuses': 2283, 'reluctant': 5930, '512': 8713, 'nyfw': 7771, 'rtb': 4405, 'imagined': 13743, 'overbook': 3458, 'ua6076': 6521, '1836': 9844, 'disconnected': 799, 'iah': 562, 'prom': 4718, 'flight4592': 13780, 'rachel': 12579, 'search': 2272, 'galley': 3144, 'belief': 7024, 'treasure': 9828, '26': 1545, 'lag': 10740, '1way': 5473, 'written': 2974, 'emailed': 1222, 'aug': 3991, 'sllyibe2vq': 6037, 'forgot': 1147, 'thats': 1862, 'mountains': 4154, 'itenary': 11480, 'inebriated': 11273, 'standby': 631, 'apollochplayers': 6583, 'decline': 4562, 'dajwzhlvyu': 6856, 'massivefail': 13109, 'phd': 5684, 'investment': 9391, 'grace': 4103, 'oversize': 3998, 'cbcnews': 8627, 'how': 66, 'bergstrom': 4343, '5957': 4857, 'no800number': 8355, 'brands': 5469, 'flown': 767, '8088': 11399, 'squeaks': 12662, 'conn': 14007, 'philpete': 12175, 'aptzpurop4': 5917, 'whch': 9653, 'yh1kzkyzrr': 11496, 'nfl': 7686, '837': 4121, '7dm2j8h97m': 9511, '35a': 6444, 'nonsense': 3486, 'blegh': 8884, 'wheelchairs': 4711, 'currently': 618, '45hrs': 7447, 'dresparkles': 10048, 'jetbluesofly': 4031, 'valid': 2548, 'travelbank': 6400, 'meat': 9273, 'vomit': 3730, 'alicia': 11465, 'stacycrossb6': 11665, 'goes': 915, 'universalorl': 11048, '😢': 1749, 'connectns': 6469, 'rejected': 13881, 'utfdhxa8pu': 13345, 'precioustime': 6777, '70plus': 10288, 'pqds': 6821, 'hammer': 9032, 'murraysawchuck': 9918, 'wore': 11354, 'instructed': 3424, 'kumtbger03': 9452, 'nocustomerservice': 4881, 'finishes': 6515, 'lumpur': 6455, 'lzfgutxiyn': 12111, '1285': 7668, 'fitz': 12237, 'knowledge': 5186, 'apostrophe': 6208, \"united's\": 1922, 'south': 1332, 'olives': 13668, 'shuttle': 1712, 'silverairwsys': 8554, 'noplacelikehome': 5450, 'fhk2te': 10568, 'net': 6077, 'slide': 11703, 'miaa': 6885, '1125': 7448, '4001': 9491, 'montreal': 6406, 'headache': 4973, 'unhappytraveler': 4845, 'of7pfvqpoy': 11725, 'sydneyairport': 7824, 'heartlanta': 10059, 'explore': 7060, 'imdetermined': 9930, 'testing': 4053, 'solutions': 3553, 'yxn00pnoav': 11724, 'unreliable': 2760, 'opened': 2096, 'forecasted': 5399, 'review': 2726, 'kiosks': 2618, 'sloppy': 7541, 'cooler': 12338, 'toolittletoolate': 11776, 'mean': 564, 'preparations': 8413, 'ooh': 5062, 'contacted': 1641, 'trqlpeinzw': 7362, 'f623': 5772, 'apologies': 1284, 'vmsg': 11064, 'recovered': 4611, '48hrs': 13788, 'myrtle': 5836, 'family': 382, 'deodorant': 4715, 'descending': 6703, 'peaches275': 11851, '1589': 4454, 'kauai': 7239, '24hr': 5165, 'legitimate': 4317, 'detectors': 12876, '😩😫😢': 9289, 'timbennettg3': 13331, 'spade': 12222, 'won': 1709, 'ua1510': 7013, 'serviced': 11729, '😠😠': 10468, 'backpack': 12281, '1101': 8387, '1800iflyswa': 9523, 'juan': 1598, 'bhooiyt6zq': 9724, 'iatanbul': 8608, 'suntoshi': 7348, 'bloombergnews': 12191, 'uncool': 9094, '💙': 2205, \"when's\": 5287, '4827': 12906, 'howhardcanthatreallybe': 11617, 'off': 139, 'aye': 12680, 'commit': 10418, '0prgysvurm': 6865, 'pssgrs': 7654, 'copay': 7480, 'al': 5625, '5612': 12552, 'snacks😉': 11611, 'ua343': 7662, 'expressed': 5517, 'blamed': 2682, 'aired': 10215, 'withheld': 8495, 'surliness': 8601, 'arose': 7296, 'discomfort': 6788, 'ua3426': 6800, 'hanger': 2989, 'barking': 13699, 'blown': 3846, 'grossed': 7903, 'advantage': 1761, 'working': 302, 'professionalism': 13440, 'developers': 4733, 'restriction': 7340, 'selected': 3687, 'lisa': 3538, 'seductive': 5859, 'reduction': 8565, 'smoothly': 3116, 'nabisco': 8622, 'pxexilsjbs': 6265, 'jedediah': 7928, 'theworst': 2960, 'uaywrr45as': 8831, 'blood': 7891, 'tyvm': 13984, '2302': 5615, '57am': 12743, 'straightened': 7566, 'waitlisted': 4859, 'delayua53': 7238, 'iced': 3371, 'ua3645': 8158, 'ebola': 7564, 'sat': 628, 'nc0es6e4lf': 11978, 'smashed': 5207, 'forsyth': 13954, '555phltoslc': 12913, 'niggaz': 10560, 'promised': 1235, 'dhepburn': 5847, '👠👠👠': 13973, 'sunday': 676, 'fights': 10887, 'folks': 926, 'pax': 1671, 'fro': 6539, '😭😭': 4017, 'fb': 1892, 'brilliant': 2256, 'employees': 446, 'blows': 9870, 'vino': 11862, 'mechanic': 7037, \"husband's\": 5795, 'announced': 1364, 'threatens': 4385, 'ktn': 2614, 'reissue': 6313, 'lovely': 1291, 'lindaswc': 6447, 'persisting': 5995, 'reposted': 11886, 'contain': 11748, 'ua1260': 6838, 'worstflightexperienceever': 13123, 'pocket': 2302, 'fairfax': 9837, 'staff': 225, 'diehardvirgin': 6010, 'say': 319, 'acct': 1936, 'aerocivilcol': 7182, 'requests': 4331, 'youretheworst': 7774, 'monopoly': 8603, \"i've\": 135, 'reschedule': 808, 'vqtyza6mzu': 10106, 'henrikwagner73': 11359, 'freecomedyshow': 10407, 'ohboy': 11042, 'taking': 424, 'official': 1593, 'albany': 2372, '1735': 13053, 'packingayak': 10361, 'southwestsmoothie': 9062, 'joke': 704, 'proactively': 5734, 'suuperg': 6130, 'mcsi0dzpnz”': 12334, 'baggageissues': 5976, 'sms': 7684, 'vincenzolandino': 4096, 'freeneversucks': 6248, '1079871763': 10550, 'women': 3312, '02': 3106, 'forever😃💕😍⤴⤴': 10118, 'holding': 779, 'innp0kkyby': 12356, 'saddened': 8292, 'smoooothest': 9061, 'flt803': 7645, 'grown': 5008, 'burbank': 8297, '💜✈': 5879, 'carts': 12818, \"son's\": 3671, \"open's\": 11282, 'higher': 1708, 'jetgreen': 11659, 'mysterious': 6619, 'trending': 11223, 'initiative': 12674, 'positions': 9180, '6cpypgfnd6': 9760, '3hrdelay': 11732, 'secured': 3480, 'dorm': 12020, 'shopping': 2326, 'c11': 9414, 'biscuits': 8932, 'cruz': 6042, '2bestfriends': 5312, 'sometime': 2649, 'just': 41, 'dallas': 539, 'tos': 9993, 'contest': 1508, 'lay': 11640, 'fun': 749, 'rearrange': 6496, 'shirts': 4548, 'reebok': 6599, 'payment': 1871, 'shots': 3779, 'hovuaisg16”': 10839, 'braving': 6993, 'recently': 2697, 'rethinking': 5183, '622': 5543, 'vx358': 5867, 'its': 281, 'tsanightmare': 11923, 'entertaining': 3335, '4016688561': 7527, 'comclassic': 9184, 'samchampion': 11767, 'leads': 13970, 'massages': 11818, 'connetion': 8937, 'passport': 2141, 'youknowyouwantto': 10653, 'iamtedking': 4931, 'banning': 9292, 'n747uw': 13369, 'rockinwellness': 6600, '1971': 5430, 'slowly': 4425, 'dewithpew2': 6956, 'sends': 7314, '2ndary': 7131, 'watching': 1178, '5015': 5830, 'marks': 2707, 'btvpxtzju0': 11317, \"else's\": 3122, 'mardigras2015': 10296, 'regretting': 12937, 'narita': 4848, '669': 3302, 'plumber': 8514, 'hall': 12036, 'donation': 3142, 'cancelled': 45, 'weblink': 7789, 'poorly': 2116, '4603': 6901, 'granting': 7053, 'declined': 12248, 'snoop': 11689, \"baggage's\": 6624, 'partnerships': 9099, 'pgfryz': 10611, 'albanyairport': 6641, 'dplq3mhqgd': 6690, 'precious': 5035, 'fake': 3526, 'training': 1372, 'paseengers': 11157, 'tails': 10811, 'daiber': 7281, 'maine': 4602, 'she': 184, 'brittany': 11259, '5a': 12086, 'sil': 12247, 'kkedjnrtwo”': 7608, 'upfare': 8782, 'lagos': 8128, 'f4tp0dawbd': 6141, 'functionally': 9377, 'thread': 4621, '😊✈️': 11816, 'd7pqouatdf': 9537, 'exacerbates': 7722, 'abc': 2052, 'absoulutely': 9911, 'lmao': 2747, 'bill': 2479, 'advisory': 993, 'missedwork': 6710, 'bucks': 2232, 'loganairports': 8461, 'aviation': 1533, 'hhagerty': 12598, 'flights😔': 10469, 'confirmations': 4463, 'mosiacfail': 11810, 'e2kvm4': 12694, 'spaghetti': 7644, 'scotthroth': 6813, '4994': 7129, 'lostbags': 9104, '14hrs': 7822, 'hospitality': 3623, 'tsvibtvt8h': 6258, '8vnckgzxl1': 7250, '😑😩': 13351, 'fn2qxybt9k': 11486, 'loses': 2143, 'insider': 11567, 'much': 173, 'qp6aw3nlip': 7627, '100': 588, 'releasing': 9966, 'jeanette': 7026, 'vets': 9610, 'careyon': 8475, 'united\\u200b': 7107, 'look': 371, 'reputation': 4167, 'mr': 2524, 'disconnects': 4120, 'directly': 1914, 'sarcastic': 12977, 'wow': 695, 'draws': 5302, 'layovers': 3634, 'pig': 5560, 'multiple': 839, 'transfers': 3716, 'shoulders': 5094, 'diverting': 5590, '27l': 4719, '24': 521, 'cost': 603, 'bkmfey7qol': 12318, '5979': 8237, 'wks': 4789, 'sure': 228, 'ensure': 2939, 'upsetting': 13853, 'surveying': 8259, 'cantblametheweather': 10290, 'poorservice': 1927, 'kicking': 10181, 'ua3882': 7257, 'vx413': 6011, 'xcvqxykg49': 6232, 'b13': 13734, 'basketball': 13381, 'enh1keuutd': 9358, 'dishonest': 13608, '07p': 13783, 'isthisyourfirsttry': 8313, 'ridiculous': 396, 'mediocre': 12537, 'nonworking': 6607, 'accurately': 11178, 'veryloyalcustomer': 9986, 'honorable': 9117, 'gong': 6362, 'vouchers': 990, 'mandatory': 6722, 'count': 1134, '750': 4846, 'kkwhb': 9302, \"nader's\": 8390, 'congrats': 1169, 'lapse': 13132, 'nm4vnnf8kb': 9218, 'venezuela': 6828, 'bestcrew': 6128, 'bg0kwm': 6458, 'compassion': 2187, 'speeds': 5078, '759': 5751, 'zombie': 10754, 'heart': 1850, '6500': 7512, 'phi2ifnjit': 14026, 'nightmarish': 13485, 'maxabrahms': 7366, 'chaos': 3273, 'aw': 4862, 'heck': 2453, 'battling': 4214, '“we': 13571, '↔️': 9706, 'usairsucks': 3319, '6491': 7323, 'kdhruf54sw': 11698, 'unitedwithivy': 8705, '😞': 2523, 'reunited': 11113, 'remaining': 4797, '912': 8095, 'skebqktxvx': 10896, 'html5': 6512, 'newamericanstinks': 7358, 'e36': 13243, 'will1531': 6807, 'clearance': 13643, 'wikipearl': 11671, 'org': 5441, 'hashtag': 3861, 'understands': 5366, 'oqz7wc4lla': 9777, 'honor': 1249, 'images': 7651, \"ya'll\": 3276, 'prchase': 10488, 'suggest': 1692, 'searched': 4394, 'uczzp9yphk': 8340, 'yvr': 2090, 'give': 235, 'mccaren': 12524, 'hfjyn2vtvj': 13004, 'google': 3126, 'qs': 12798, 'bougth': 4104, 'subscribe': 5201, 'beg': 3722, 'schedule': 781, 'emrubu4wzd': 13304, 'ua6': 7735, 'gatwick': 5727, 'simple': 1456, 'guyana': 10662, 'disclose': 11836, 'david': 2057, 'we’ll': 2806, 'compensating': 4714, '6”': 7872, '💕💕': 5928, 'sunkist': 8593, '4q': 6067, 'maneuver': 4147, 'dividendsmember': 12647, 'dep': 4941, 'acknowledgement': 9883, 'dialup': 5354, 'deemed': 10834, 'rep': 392, 'heartless': 8326, 'plundering': 6760, 'i❤usair': 13327, '5000': 6790, 'marcus': 7818, 'cared': 4384, 'gnight': 11992, 'orphanage': 11490, 'phillip': 12226, 'avail': 1444, '98': 11165, 'handicap': 12819, 'ailing': 4934, 'bora': 5736, 'royal': 7768, '1041': 10602, 'ft': 2428, 'lying': 3738, 'foh': 10822, 'wheelsup': 3964, 'jlittle100': 10128, '648': 10554, 'b11': 3933, 'tfw1': 5217, 'southwestairlines': 2444, 'budapest': 6054, 'pictures': 11772, 'prefundia': 12211, 'cavan': 12953, '336': 9128, 'la😄flying': 10194, 'class': 304, 'l2n0eghdgn': 12396, 'newarkliberty': 6309, 'lowstandards': 8583, 'steel': 4259, 'brendanpshannon': 10292, 'challemann': 10572, 'troubles': 2176, 'gn30p75kqb': 13028, 'gov': 9469, 'ireland': 10260, 'phxskyharbor': 3932, 'weekend': 795, 'applicable': 5657, 'millions': 7510, 'mwbk68k0a3': 6747, 'retweets': 13366, 'therefore': 3727, 'ua6194': 7260, 'gso': 4122, 'uplink': 6928, 'nonstops': 10129, 'travelpulse': 11981, 'boggling': 13064, 'divident': 13902, '871': 6250, 'tech': 1520, 'oaj5mnucha': 10855, 'ua51': 6889, '5203': 12476, 'z5znfwkkwp': 10316, 'hilo': 7637, 'trapped': 3591, 'devalue': 6580, 'oscars2105': 6048, '417': 7955, 'lieflat': 11935, 'n351jb': 10702, 'bottles': 3305, 'mailing': 5022, 'rdu': 946, 'reachingnewlows': 13467, 'cgjase': 6900, '348': 11535, 'gfc': 4782, 'middle': 765, 'also': 290, 'transactional': 6178, 'resending': 8832, 'crap': 1538, 'paws': 7890, 'needtocatchmynextflight': 8083, '✔️': 7388, 'q5sb0davuy': 13898, '5653': 8335, 'wi': 2085, 'sum1': 13000, 'costumers': 11167, 'fsqthg': 8320, 'investigate': 4673, '136': 2208, 'shaquille': 13979, 'moms': 2975, \"'just\": 11994, 'appt': 7892, 'personnel': 1958, 'brittanyobx11': 10095, '8441639': 6399, 'justifythissupport': 11943, 'means': 870, 'staffed': 3052, '4028': 10004, 'uncontrollably': 7529, 'habitually': 13677, 'scope': 12049, 'lands': 1897, 'shouldhaveflowndelta': 3633, '2792125083854': 12059, '103': 5468, 'alas': 5249, 'memgrizz': 12039, '683': 3537, '23oct': 6827, 'incapable': 13405, 'gonnabealongnight': 6473, 'nm4agoodlife': 13198, 'chasing': 11084, 'estelle': 8437, 'departments': 12822, 'yousuck': 13499, 'ua1416': 8439, 'fashioned': 12256, 'startling': 7254, 'protect': 5077, 'wall': 780, '6232': 2944, '1856': 5447, '2day': 1909, 'funds': 1458, 'investigation': 11296, 'salad': 13679, 'luvforsw': 10102, 'vida': 11551, 'poorlyhandled': 13135, 'design': 2227, 'skkewqhssg': 10272, 'w5nl0ay9bl”': 10661, 'package': 5024, 'flypbi': 8958, 'ua5037': 7266, 'measly': 6325, 'destin': 10641, 'noaccountability': 12578, 'jua': 11993, 'airside': 8481, 'phoneeeee': 13055, 'capture': 5617, 'itsthelittlethings': 12170, 'csm': 12509, 'tryin': 5407, 't9s68korsn': 10910, '96ftlzwtvo': 7287, 'screwed': 1076, 'keepingtraditionsalive': 8014, 'poles': 7659, 'reopens': 5417, 'touched': 2891, 'layover': 805, 'ellen': 9825, 'malcome': 13059, 'alerted': 4650, 'msn': 8219, '6am': 2071, 'dinosaur': 6764, 'ourprincess': 4222, 'us728': 12655, '55mins': 7671, 'last': 125, 'onechildfourbags': 9477, '64kn6geep8': 11728, 'rented': 8047, 'mechanical': 481, 'cvba4olcbl': 9903, '6kpyhcka9l': 7155, 'round': 754, 'battery': 3949, 'svc': 1295, 'isit': 10762, 'outfit': 11094, 'alone': 1128, 'sarcastically': 6488, 'teens': 2813, 'didn’t': 3169, 'rotary': 12345, 'cream': 4851, 'addr': 8709, 'axryeiwzh0': 13651, 'measure': 4414, 'needs': 437, '50th': 9372, '😐😑': 10946, 'fend': 6450, 'wilco': 10018, 'organizations': 9100, 'vows': 13149, 'bull': 4523, 'deleted': 3051, 'skiplagged': 8451, 'ua938': 3465, 'cavalli': 9563, 'ai0yzwt8za': 8386, 'enquires': 2962, 'came': 789, 'fay': 8552, 'at😳': 12957, 'fly': 100, 'nklw9ssvrq': 12378, 'direction': 5538, 'lilly': 13727, 'accountable': 6379, 'jamaica': 3238, '⛄️☀️': 13583, 'guidance': 10552, '90min': 9485, 'transit': 3664, 'scramble': 8967, 'mr”': 10259, 'n8winfu6c5': 7881, 'meetings': 2289, 'othr': 11788, \"hasn't\": 1083, 'everyone': 439, 'recordings': 12744, 'ripme': 9840, 'six': 1833, 'recap': 4956, 'incls': 6327, 'real': 556, 'offline': 12724, 'dread': 9744, 'navy': 12330, 'eta': 2335, 'n813ma': 12857, 'cheapoair': 13781, 'attendees': 12006, 'deals': 1045, '1st': 340, 'angryandsober': 11945, 'lived': 12096, 'hotter': 5665, 'jetblueanyone': 12456, 'dealings': 11894, 'evry': 3783, '17': 992, 'emailmailto': 12566, 'forcedovernight': 13122, 'alistpreferred': 10538, 'fedup': 7004, 'deedee': 5689, 'pay': 297, 'bagawim': 9983, 'tamara': 13339, '112': 6099, 'gnv': 3586, 'click': 2135, 'tgif': 13490, 'w3xs6tvpzg': 13082, 'blaming': 2550, 'garywerk': 13690, 'loc': 4954, 'humiliating': 5051, 'screws': 4344, '1861': 13278, '500': 1582, 'colo': 4288, 'redeeming': 10153, 'highbuddyyy': 6297, 'ritacomo': 8741, 'dh2rfuijyp': 13995, '4urzvbpjko': 9279, 'colliding': 8731, 'preventing': 12950, 'feelingtheluv': 10447, 'kangaroos': 10831, 'alsoyayforsnacks': 10693, '3970': 9680, 'tighter': 12350, 'usairwaysssuck': 13869, 'feltthelove': 9215, 'tightconnection': 8660, 'transactions': 5837, 'in': 16, 'debbie': 6123, 'excellentcustomerservice': 12978, '88': 4179, 'alwayshappensthere': 12806, 'reservations': 654, '4ki6xr67nk': 7225, 'nh': 3270, 'patriarc': 12070, 'andthewinneris': 11137, 'healing': 9613, 'poorplanning': 12849, 'prof': 5801, 'pre': 825, 'shucks': 11371, 'basic': 3127, '175': 11235, 'mojave': 6696, '3pm': 2133, 'oahu': 12305, '5302': 14021, 'jac': 2575, '4oje523ptw': 8330, '826pkiq5hi': 10991, 'pasengers': 5971, 'eyyyy': 13252, 'rare': 4781, 'placing': 4399, 'french': 6382, 'tolerable': 8151, 'broad': 9243, 'whatsoever': 8683, 'king': 6943, '3hourdelay': 8149, 'ecom': 8417, 'portion': 3965, \"okay'd\": 10927, '5644': 7191, 'just…': 10894, 'refresh': 6721, 'divadapouch': 10400, 'combine': 7883, 'dtlguq1kak': 7422, '51pm': 5591, \"who's\": 1662, \"tomorrow's\": 3038, 'approximately': 12990, '€67': 8195, 'wigs': 10454, 'applauded': 9775, 'pleasecomeback': 5937, '9hrs': 5504, 'cx': 2992, 'skytrax': 5653, 'required': 2072, '15': 311, 'rklqxxawhc': 9738, 'sale': 1619, 'las2buf': 9604, 'alarm': 11632, 'integrate': 4241, 'technically': 2436, '80sweresomuchfun': 11637, 'us558': 13971, 'villages': 11487, 'pacificbiznews': 5875, 'spirits': 9195, 'lagging': 7451, '3511': 6858, 'sooo': 4014, 'rocked': 4024, 'retroactively': 9545, 'northern': 9217, 'cockpit': 5261, 'replacement': 1924, 'n3suiip0vw': 11768, 'phishing': 10122, 'ua3462': 7804, 'compartments': 10800, 'jbdkxd6efz': 6931, 'helpfulness': 7245, 'terribleservice': 3544, 'birmingham': 2442, 'spends': 8366, 'problemss': 3148, 'rwg': 12516, 'low': 1448, 'bin': 1633, 'uh': 2660, '😥': 4223, 'kevin': 4401, 'owner': 3707, 'neverfails': 13412, 'nine': 11345, 'margo': 8557, 'lhr': 1541, 'progressed': 7414, 'purely': 5286, '💁': 13190, 'golfunited': 8269, 'realistic': 12963, 'wonked': 5968, 'appropriately': 7594, 'uncharacteristic': 10213, '672': 5580, 'txting': 8868, '4649': 5109, 'gt': 341, 'unserved': 10104, 'queue': 2230, 'today': 97, 'vape': 13533, 'betting': 8144, '1472': 3490, 'barclays': 13799, 'kaneshow': 10239, 'kind': 763, 'oveur': 11868, 'ansleyhutson': 8644, 'soon': 522, 'inept': 3560, 'thing': 473, 't5mrj5yw6i': 6860, 'tandoori': 8863, 'keyrpflhil”': 9886, 'extreme': 2678, 'desert': 4429, 'blindsided': 12243, '915': 5491, 'mci': 2334, 'fml': 8982, 'z1': 13522, 'tailwind': 6246, 'ndtlj15zpu': 8081, 'lj2ydkor8q': 9356, 'filling': 3558, 'oakland': 2449, 'glenn': 11318, 'fees': 730, 'consolation': 6477, 'harass': 10596, 'drunk': 2131, 'honoring': 3883, \"passengers'\": 8870, 'loved': 1233, 'fabrice': 7353, 'leatherseats': 10659, 'workaround': 9329, 'ethan': 13736, 'e9': 5941, 'stillwaiting': 3813, 'directs': 9707, 'nonstop': 1092, 'pattern': 6376, 'incase': 11404, 'booked': 232, 'pet': 3160, 'bonsinthesky': 12155, 'ph': 3561, 'understood': 1935, 'roll': 5633, 'maiden': 3247, 'us651621': 8166, 'tour': 4658, 'body': 9271, 'orig': 3081, 'airplanemodewason': 6030, 'easily': 1446, 'upp41abxrq': 13931, 'done': 295, 'nationwide': 9753, 'bagsflyfreebutnotwithme': 9539, 'forth': 2956, 'included': 2310, 'arc': 10781, \"pattonoswalt's\": 12022, 'skywest': 4825, 'sweet': 1357, '601': 12951, 'cmfat35000feet': 5905, '3ticketsforjax': 9703, 'discontinued': 5196, 'definitely': 977, 'crook': 9024, 'herman': 4770, 'askamex': 10639, 'dividendrewards': 5712, 'credited': 2451, \"keepitmovin'\": 9721, 'competition': 3384, 'toothpaste': 7550, 'aha': 11174, 'cs': 1390, 'strandedinnashville': 13847, 'sole': 6896, 'grounds': 12909, 'pointer': 12042, 'boycott': 3947, 'we’re': 2751, 'fulfill': 6967, 'location': 2093, 'hardworking': 3823, 'unable': 940, 'escorted': 8125, 'bad': 234, 'ocean': 12197, 'irina': 11054, '203': 5674, 'conversed': 7702, 'gratitude': 6044, 'hours': 69, 'qw1til96ya': 9664, 'cap': 12460, 'waa': 12659, 'jetbluebruins': 11884, 'luxuries': 4196, '🙏': 2543, 'salisbury': 6566, '5ammisery': 11361, 'plans': 746, 'traditionally': 9030, 'nba': 12043, 'charges': 1900, 'doubt': 1895, '12h30am': 8316, 'scare': 8165, 'super': 661, 'city’': 6035, '😜': 3775, 'offers': 1848, 'belfast': 4403, 'nmaryland': 9792, 'sjc': 1757, 'delayedl': 12290, 'av2rffhmcv': 13234, 'trueblue': 1165, \"hughes'\": 8533, 'cqmm7nue9m': 6181, 'averaging': 7378, '730pm': 13431, 'delayed': 72, 'portcolumbuscmh': 5269, 'physical': 5632, 'feb': 847, 'fuccc': 10854, 'http': 31, 'verify': 4800, 'likelihood': 4074, 'und': 8127, 'v': 2895, '101': 8591, 'nicole': 7290, 'p6r5rt5ow5': 10381, 'ops': 4749, '1758': 6995, 'highlight': 3203, 'nano': 9077, 'donkey': 4240, 'try': 483, 'should’ve': 7219, 'within': 1670, 'ownership': 12678, '2063': 12484, 'previously': 5044, 'honestly': 1947, 'slower': 4907, 'contains': 4759, 'mouth': 9660, 'odd': 2744, 'cfi1e3kxa9': 10304, \"nature's\": 10456, 'ccicanine': 6358, \"guests'\": 5849, 'staffer': 8543, 'bom': 4395, 'mayweather': 11562, 'peanutsonaplatter': 9442, 'newburgh': 5524, 'clothing': 3476, 'cardholder': 5714, 'my8yb4': 6977, 'print': 1577, '1585': 6402, 'pleaseeeeee': 10054, 'expedite': 10282, 'towed': 12269, 'alavera': 7849, 'scheduled': 558, 'finalizing': 6443, 'startled': 11286, 'stepup': 9064, 'stocker': 7975, 'foreign': 4665, 'kisses': 10419, 'hmmm': 3099, 'downgraded': 4497, '1839': 13602, 'janna': 10687, 'blacklist': 11128, '1038': 6952, 'interesting': 2017, 'looks': 540, 'savethediagonals': 5056, 'airfare': 1665, '3659': 6404, 'ourselves': 2298, 'doublestandards': 8816, 'getmorehands': 9681, 'ua1758': 7002, 'switch2sbux': 11905, '210': 5121, 'maintenance': 582, 'cramming': 12288, 'confirmed': 702, 'reward': 1733, 'burg': 6445, '25mins': 6815, 'zero': 818, 'flysaa': 4397, 'nottrue': 11949, 'separately': 5421, 'salted': 5281, 'tons': 8708, 'cus': 4263, 'enough': 510, '2boh2mh3cb': 10383, 'enter': 1348, 'touching': 7764, 'reimbursed': 1805, 'wedontcarebecauseyoupaidalready': 12630, 'garbage': 1810, 'sink': 9555, '46n9kdcsxu': 8103, 'reassess': 13878, '0cevy3p42b': 8835, 'u1vieuidf5': 7807, 'patient': 1336, 'nofg0tqhyn': 9367, 'worsttripofmylife': 8382, 'daydreaming': 10086, 'resolved': 937, 'intentionally': 3565, '1848': 13058, 'prev': 5104, 'notsatisfied': 9244, 'srvc': 5788, '1xdlbibclp': 12604, 'wilmington': 12670, '6x': 12848, 'behaves': 7836, 'may': 486, 'tracking': 1123, \"on's\": 10360, 'film': 4021, 'bobbi': 9498, 'popular': 2525, 'invalid': 3925, 'powered': 14012, 'ua1568': 6926, '4146': 5297, 'inadequate': 2946, 'cont': 2715, 'smusportmgt': 10378, 'uncvsduke': 8353, 'georgia': 9245, 'here': 148, 'ua1641': 8485, 'sundayfunday': 12887, 'vftuyjh45x': 8193, '695': 5759, 'numbers': 1461, 'wdw': 11914, 'pivxean3jy': 10477, 'maatkare67': 5452, 'peanuts': 1724, 'e5naxbue4s': 5642, 'develop': 2872, 'quirky': 10096, 'dispatcher': 4939, 'reliability': 12024, \"bene's\": 13710, '3500pts': 9070, 'nd': 11189, 'nosupport': 11952, 'commented': 7460, '8jcediky9u': 12156, 'supp': 5908, 'submit': 2375, 'flip': 4651, 'beach': 1740, 'bottle': 4088, 'receives': 11864, 'witty': 10246, 'loooooong': 5103, '2b': 3987, 'tripitpro': 7971, 'another': 158, 'perspective': 5516, 'getmartyhome': 6441, 'disrespectful': 3968, '😕': 2422, '1528': 8263, 'fx9bijlxat': 8956, 'vendor': 5965, 'bearable': 11714, 'bestemployees': 5342, 'peopleon': 6774, 'hmm': 6351, 'erw': 10416, 'passenger': 750, 'rag': 3702, 'chairs': 2463, 'cockroaches': 10363, 'avgeek': 1062, 'thewayoftheid”': 10981, 'lopezlaymari': 11817, 'follows': 3178, '20hrs': 8274, 'compounded': 12171, 'thismosaicnothappy': 11450, 'jackson': 4590, 'snowstorms': 9768, '138': 12808, 'loud': 5018, 'uno': 10055, '50lbs': 4947, '3121': 13981, 'zsdgzydnde': 11762, 'weaktea': 7782, 'm67wnbglxq': 8584, 'aiyc9wv5oq”': 11031, 'lexington': 5750, 'choppy': 6094, \"swa's\": 9551, '1008': 7249, 'taxis': 3450, 'from': 34, 'subsequently': 8286, 'y': 1366, 'callers': 13321, 'vitaminwater': 9583, 'fwwe7f': 9591, '1503': 11782, '😊☕📲✈': 10576, 'coat': 2626, 'tks': 3640, 'mccarran': 9566, 'staying': 8776, 'dvt': 6486, 'a1choxkpjp': 11877, 'surprises': 11365, 'whoot': 10150, 'airlinegave': 7457, 'svcs': 6622, 'complained': 4294, 'shv': 7108, 'aurorabiz': 12919, 'annual': 2714, 'customerappreciation': 9121, 'senses': 8102, 'firefighters': 11829, 'srv': 12416, 'ua5525': 4537, 'tel': 2299, 'cleared': 4894, 'nexus': 1991, 'walls': 7500, 'access': 701, 'horriblecustomerservice': 5793, 'lkfh9hyhw8': 11215, 'deceptive': 7051, 'feel': 572, 'internship': 11679, 'generic': 2088, 'jump': 2236, 'multi': 3787, 'w': 162, 'erj145': 3767, 'deltaassist': 4487, 'entire': 686, 'right': 190, 'sort': 1288, 'wiedersehen': 12643, 'dpted': 8157, 'afterward': 12652, 'penalized': 12277, 'accommodated': 5318, 'apnea': 11316, 'ml1jacpmch': 11164, 'unitedagainstunited': 7331, 'choosechicago': 6403, 'truth': 2958, 'structure': 8610, 'suggested': 2417, 'youragentshavenoclue': 8203, '1707': 13556, '25min': 13530, '4050': 12654, 'mli': 8549, 'bloodymary': 11938, 'stollen': 13495, '70': 1668, 'kieranmahan': 13170, 'tnkixxrxhb”': 10795, 'wpg': 7857, 'roo': 12765, 'requirement': 4239, '1050': 9341, 'majority': 10444, 'rnp': 5919, 'auto': 1245, 'authorize': 13423, 'qgmfcb7yt4': 13237, 'ua1673': 6368, 'bm9o2k5x5j': 8278, '11pm': 4868, 'werenot': 9650, 'retailbagholder': 6761, 'incedentals': 13457, 'redo': 11449, 'amid': 8750, 'delivering': 5675, 'ua1037': 8147, 'cheesy': 5595, 'made': 203, 'mde': 11351, 'patterns': 4360, 'unprecedented': 9499, 'boo': 2846, 'untz': 4056, 'ua1088': 7805, 'impossible': 1378, 'operating': 2164, 'knoxville': 5370, \"'footrest'\": 13670, 'heathrowairport': 4948, 'punished': 8498, 'rant': 3791, 'jameskraw': 10890, 'mot': 8918, 'rid': 5336, 'project': 3943, 'spreadtheword': 13999, 'americanairlines': 3361, 'tys': 13762, 'alb': 8182, '54pm': 8159, '558': 13227, 'cust': 560, 'metal': 3559, 'microsecond': 9634, 'scareways': 13411, 'lighting': 3395, 'calendar': 4618, 'had': 78, '4kh92mkotz': 10948, 'comps': 4208, 'dadeland': 13425, 'awfulcustomerservice': 11888, 'afterall': 4814, 'flight2031': 12931, 'u69fafqhsf': 8196, 'restrooms': 12663, 'lipstick': 11414, 'jloiblnair': 6122, 'hire': 1163, 'eul6sdurbu': 10776, 'sos': 2503, 'ignorant': 13829, 'uneventful': 10433, 'b787fans': 8385, 'airborne': 4666, 'triage': 13477, 'cocktail': 5112, 'dw5nf0ibtr': 5883, 'ua795': 7111, 'casual': 12463, 'frame': 7329, 'reuters': 6087, 'massive': 3146, 'anyone': 367, 'pink': 4227, 'selfies': 5492, 'invoice': 6816, 'appalled': 3041, '72': 3182, '781': 12466, 'spotty': 4530, \"everyone's\": 2679, '40min': 5667, 'unfair': 7140, 'blackhistorymonth': 5242, 'distances': 11197, 'focus': 11183, 'norfolk': 3607, '300': 1543, 'beauty': 3509, 'nofood': 12901, 'seats': 191, 'competitors': 5265, '18hrs': 6398, 'for': 7, 'ridiculously': 11577, 'ill': 2097, 'airbus321seat14fproblems': 13407, '3075': 9242, 'monday': 630, 'goodness': 4183, 'pistol': 11921, 'ago': 279, 'push': 2394, 'epitimeoffail': 9541, 'supvsr': 9726, 'verification': 12763, '992': 6916, '2007': 11832, 'lil': 4066, 'often': 1494, 'vibrant': 8455, '😏': 5266, 'dim': 10718, 'aback': 8906, 'yyz': 1693, \"jetblue's\": 800, 'mask': 13675, 'mid': 1960, '150am': 13432, 'assaulted': 2841, 'depression': 7952, 'dre': 5598, 'hlm2oks6xl': 8878, 'ralph': 8389, 'fraction': 6870, 'ua5168': 7110, 'apologizes': 5510, '2spooky': 8161, '1613': 10497, 'almost': 383, 'thrombosis': 6468, '31': 3009, 'flowers': 5628, 'rn': 3975, 'wailing': 11523, 'necessities': 10517, '👋': 6304, 'zgoqoxjbqy': 8783, 'horribleservice': 4689, '1558': 8019, 'accident': 3418, 'customary': 8364, 'css': 4177, 'holiday': 4337, 'beought': 8415, 'dphqrgkdoa': 13998, 'smh': 1229, 'norfolk…': 10227, '634': 3539, \"jetblue'\": 12359, \"assistant's\": 6285, 'fairs': 3477, 'slc': 1335, 'u390czplhl': 8854, 'bwahahaha': 12826, 'saw': 893, 'chance': 429, 'taiwan': 4467, 'fron': 9291, 'imagine': 1126, '00p': 13782, 'ua469': 4580, 'category': 6346, 'comment': 1782, '4040': 9605, 'tsa': 639, 'greedy': 3696, 'stingiest': 7141, 'den': 531, 'frozen': 1813, 'brochure': 13770, 'tlpbaupik5': 7336, 'pts': 1801, 'justifiable': 6713, 'directing': 11265, 'lap': 2254, 'ny': 811, 'sw”': 10394, 'pants': 3613, 'pathetic': 1663, 'refund': 268, 'waste': 1240, 'thanku': 12722, 'wjiigztiwg': 13456, 'tweak': 9632, \"g'ma's\": 13255, 'xedeckgmw5': 9512, 'go': 123, 'enertainment': 7320, 'managers': 4044, 'color': 3236, 'attention': 1929, 'dedication': 6671, 'cmjriwop7o': 11555, 'apostrophefail': 6210, 'journal': 1219, 'ua922': 4653, '110': 4356, 'costs': 1683, 'delacy': 9519, 'changing': 901, 'so': 44, 'nyc': 447, 'cherry': 5786, 'messing': 4747, 'themselves': 3736, 'tk3aopdtsq': 8893, \"athlete's\": 13409, 'premier1k': 4584, 'expecting': 1817, 'hn': 8026, 'onlyinamerica': 8119, 'uncertainty': 13681, 'reserv': 3482, 'cheduled': 8827, 'investors': 5465, 'bothered': 2901, 'disappear': 5069, 'blankets': 4799, 'safer': 7025, 'product': 4225, '👎👎': 8806, 'tiredofthis': 6323, 'travelhelp': 5886, 'bryant': 11721, 'badcustomerexperience': 13728, 'jaramillo': 6979, 'mbas': 11251, 'cdg': 7062, 'saysorrychris': 10312, 'ur60un86gy': 11670, 'ua1532': 6808, 'breakdown': 4700, '4y78byackc”': 6283, 'comping': 7407, 'condo': 6668, 'controlled': 6347, '⤵for': 13903, 'ua6366': 6685, 'waitin': 5270, 'kansas': 7001, 'dcobokn7ee': 6191, 'us628': 13545, 'fell': 3218, 'relieved': 10812, 'f5ixyw8xyb': 10911, 'visibly': 7918, 'thursday': 1432, 'assurances': 12636, 'dis': 6971, 'woven': 3668, 'proof': 2655, 'quotations': 6733, 'sentiment': 3743, 'vindictive': 9940, 'seconds': 2588, '545': 5728, 'vaca': 9987, 'flt': 265, 'lord': 4042, '♥': 6292, 'nailed': 12605, 'processes': 5781, 'terra': 11564, 'truck': 3002, 'whyjeff': 7497, 'meagan': 8951, '1326': 12238, 'passengers': 206, 'enters': 12634, '96': 9525, 'wewillsee': 9066, 'praises': 11278, 'shambles': 6706, 'pseudo': 9316, 'thus': 4566, 'whose': 1931, 'erickofiejones': 13996, \"cases'\": 7449, 'ua5': 7538, '3866': 6814, 'timely': 1655, 'superben': 8774, 'tide': 6381, 'lounge': 896, '730': 12178, 'zf5wjgtxzt': 11940, 'her': 208, '779': 6675, 'pgatour': 5040, \"she's\": 785, '9v8tmusjvu': 6324, '1531': 7335, 'levi': 6920, 'grandparents': 12471, 'treenut': 12291, 'pins': 7572, 'defend': 4600, 'liberty': 7695, 'zkoe6clgiu': 13408, 'whiskey': 8406, '🙌🙌': 7038, 'qqlzk2jkzr': 10872, 'now': 40, 'vision': 6357, 'combination': 5138, 'cinci': 13637, 'warnings': 5043, 'nomorecheckedbags': 7106, 'ab': 13650, '3113': 9606, 'responded': 2294, 'nolo': 7420, '354': 7404, 'westjet': 8560, 'btv': 2606, 'alittle': 12364, 'responding': 997, '1547': 4636, 'f38ish': 14001, 'momma': 4218, 'control': 945, '4565': 12997, 'considerably': 8785, 'activity': 12250, 'mission': 3179, 'pleads': 12716, 'overwhelmed': 4388, 'passngr': 10204, 'ua3782': 7492, 'along': 1133, 'nearby': 3258, 'notahappytraveler': 9928, '9rx5homm25': 12965, 'justdippin': 12182, '3937': 12698, 'hr': 518, 'confidence': 3506, 'everytime': 2360, 'must': 694, 'deferring': 12956, 'bein': 5582, '😭😁😆😵': 10819, 'partnerrewards': 9071, 'reiterate': 12616, 'holdon': 11726, 'connectors': 8784, 'pacific': 4374, \"it'd\": 5324, 'epicfailunited': 4416, 'historical': 4813, 'designer': 11037, 'c': 501, 'pressurization': 3624, '2275': 12244, 'tlc': 11047, 'lxwbsfxfj0': 11537, 'yours': 3121, 'weighs': 5686, 'greatly': 6723, \"don't\": 91, '952': 5374, 'unhappy': 1033, 'caribbejan': 10682, 'pages': 5629, 'orleans': 2688, 'rubs': 10453, 'stayed': 4515, 'dependents': 10233, 'skis': 2910, 'herbal': 6215, 'storage': 3849, 'exit': 1211, 'rncahill': 9253, 'impress': 4355, 'hayes': 4058, 'bday': 1293, 'wo': 13494, 'agencies': 10787, 'thousands': 3204, 'pleeeeeeeease': 13443, '800iflyswa': 9731, 'resell': 7897, 'sticker': 5725, 'bobwesson': 7935, 'spend': 853, 'crashes': 4929, '480': 12967, 'semester': 12478, '1946': 12487, 'qdljhsloi5': 5935, 'm9nywr5kbs': 7840, 'disneyworld': 11964, 'awfulness': 7082, 'served': 4363, 'vinylvegas': 5392, '437': 13649, 'physically': 4007, 'losing': 972, 'resolution': 1236, 'fixed': 871, 'dream': 2012, '8477733': 6532, 'clues': 9198, 'outcome': 6333, 'brazil': 5641, 'rett': 12952, 'jetsetter': 11939, 'idra8kenoh': 9716, 'unbelieavle': 13154, 'borrow': 14000, '2hr15min': 13241, 'japan': 7208, 'professional': 1600, 'c8mqezxvdh': 9860, '4439': 13976, 'attire': 10442, 'truebluelove': 5599, 'moines': 13163, 'indicates': 4174, 'rivets': 5767, 'hgeronemus': 11572, 'jt”': 8525, 'flailing': 13886, 'sdq': 11155, \"he's\": 889, 'refreshments': 7882, 'portfolio': 4219, '“only”': 11861, 'francisco': 1752, '5534': 5844, 'become': 1442, 'b2xi4yg5t8': 5934, 'beta': 7339, '46mins': 9233, '1159': 11240, 'laws': 5303, 'flierfriendly': 4474, 'consoled': 8652, 'happybirthday': 9667, 'states': 1794, 'ya': 2269, 'forever': 1325, 'gis2015': 9312, 'sailor': 13445, \"doctor's\": 12500, 'screens': 3188, '1951': 5644, 'appease': 1085, 'tattoo': 11989, 'missing': 324, \"boston'\": 11701, 'were': 140, 'earphone': 6229, 'thenewaa': 13631, 'dismissed': 6842, 'hi76boavxy': 7321, 'perhaps': 1415, 'display': 4015, '1agr9kncpf': 6046, 'defective': 9449, 'serious': 1244, 'beefjerky': 11610, 'kewl': 6319, 'bourbon': 5053, '28th': 8347, 'as': 84, 'lone': 3399, 'ttxrsynlxr': 9821, 'heard': 586, 'zcbjyo6lsn': 6603, 'flew': 626, 'frustrated': 488, 'tomoro': 10445, 'lines': 1114, 'illness': 12498, '90': 932, \"screw'\": 7195, 'fifty': 7326, '25a': 12161, 'excuse': 1113, 'dlh9138hbg': 11264, 'justsaying': 9466, 'peter': 11969, 'hb799cco0t': 12771, 'kfkjf1ztgi': 11185, \"mother's\": 5090, 'chances': 1407, 'predictable': 11781, 'misguided': 13824, 'scary': 7395, 'allgood': 9252, 'planing': 9397, 'fuel': 1433, 'fr1': 8942, 'leinenkugels': 5246, 'whipped': 7963, 'comparing': 11899, 'soda': 7850, 'structures': 12260, 'going': 132, 'ball': 1869, 'independence': 12329, 'pennypincher': 6420, 'coincidence': 2898, 'shouldwearmasks': 9132, 'reveal': 6631, 'tissues': 8852, 'r9zsvzurlw': 11045, 'id': 819, 'contacting': 2311, 'longbeachcity': 10745, 'flyerfriendly': 4722, 'investigated—my': 6531, 'blah': 3842, 'partnering': 9256, \"investor's\": 4178, 'together': 550, '883': 4197, 'reaching': 1807, '👍👍': 3989, 'kay': 9676, 'closed': 909, 'entered': 2816, 'martysg': 5471, '€600': 8117, 'listen': 1951, 'poteettj': 5231, 'possession': 9283, 'amtrak': 13337, 'lasttweetaboutthis': 9002, 'noltnancy': 13994, 'gregm528': 12576, 'l7hsnlgie2': 9255, 'sittingontheplane': 12667, 'german': 12639, 'carrieunderwood': 1347, 'l0i8fnz3ku”': 10858, 'earnings': 7198, 'precipitation': 4185, '💗': 2839, 'barriers': 11508, 'hbsj2sf17h': 8185, 'wrecking': 13070, 'scene': 9259, 'ricoh': 5493, 'benefit': 2750, 'transparent': 8121, 'ocqk0jfxua': 13511, '1591': 8879, '19b': 13917, 'mdn5ed58ze': 10321, 'aligned': 13371, 'mel': 5724, '117': 5444, 'chrysichrysic': 5949, 'diego': 1184, 'delighted': 4169, 'attempts': 9096, 'opportunities': 5814, 'learncustomerservice': 6396, 'inline': 6595, 'sylvie75015': 11355, 'evacuated': 7128, 'montana': 7880, '30': 222, '80th': 2509, 'hesitant': 11381, '❤️❤️❤️“': 10989, 'giants': 6205, 'inc': 5571, 'kul': 4341, 'decorum': 6505, 'barclay': 13487, 'ask': 614, '22': 1030, 'land': 855, '1627': 8664, '1pm': 2880, '😠': 5435, 'skyscanner': 12527, 'thatisall': 8267, 'notes': 2607, 'yeniettelswood': 11957, 'club': 647, 'streets': 11794, 'east': 1841, '3d': 2865, 'maverick': 9766, 'lend': 9475, 'doo': 4657, 'gay': 7201, '2692': 5791, '266': 11558, 'slopes': 8895, 'ut5grrwaaa': 5864, 'gmail': 2787, 'sauna': 9083, 'lostacustomer': 7173, '2qjbcv5jzq': 9042, 'flightst': 2970, 'astounds': 7652, 'workforce': 7636, '276': 5947, 'gng': 5331, 'ua6465': 8651, 'guardia': 12721, 'shocking': 2907, '27…': 6199, 'ua978': 7007, 'whispering': 8873, 'ijustwanttobeinboston': 11391, 'frustrations': 5708, 'wannagohome': 5740, 'prevent': 2266, 'abt': 2581, 'jesus': 10142, 'flyfi…': 11326, 'ua895': 7345, 'group': 606, 'lolz': 11000, 'bundleup': 12253, 'wiped': 4421, 'pant': 11440, 'expeditious': 9476, 'needcoffee': 11910, 'lbb': 9967, 'everywhere': 3881, 'listened': 7687, 'perceived': 8881, 'ua761': 7337, 'darrel': 9193, 'bands': 9985, 'tweeted': 2041, 'knew': 864, 'theellenshow': 3969, 'whereby': 7170, 'ithelpsabit': 11963, '9h': 8853, 'effort': 1795, 'bach': 7859, 'debacle': 2884, 'aweful': 8167, 'vabeatsjblue': 5944, '1': 113, 'router': 7660, 'regularly': 5565, 'clinicpolly': 9269, 'phenomenal': 7587, 'honeymoon': 1938, 'fool': 12085, 'elm': 5753, 'approach': 2403, '200er': 4479, 'incorrect': 3800, 'boundless': 10616, 'nutsaboutsouthwest': 9147, 'role': 9009, 'repaid': 7752, '2086': 6688, 'magical': 11873, 'usaw': 12531, 'fvyzjldton”': 10849, 'fargo': 6270, \"continental's\": 6568, 'flythroughs': 10206, 'mga': 7528, 'proceeded': 13523, 'guitar': 2169, '3913': 9533, 'reviewed': 4354, 'customerexperience': 8572, 'ais': 12137, \"'0'\": 6009, 'repair': 2095, 'thankme': 13317, '464': 10586, 'lf69waf5ad': 9748, 'usdelay': 12981, 'sucked': 3405, '1703': 10348, 'dawn': 8101, 'allowabl': 9933, 'launder': 9717, '1299': 7833, 'dms': 3447, 'displayed': 4373, 'postcode': 5385, '💙💙': 11807, 'waivers': 3724, 'operation': 2473, 'finish': 2778, 'onto': 1308, 'ua1550': 7382, 'lt1pykfvrq': 11475, 'frequentflyers': 13360, 'thnx': 1375, 'bluetiful': 12320, 'disupdates': 9996, 'amt': 8240, '20k': 8078, 'parts': 12756, 'failed': 971, 'sonyasloanmd': 8244, 'stink': 5997, 'employee': 737, 'asia': 4647, 'gras': 10494, 'ilovejetblue': 12341, '😃😃😃': 6662, 'hazard': 11903, 'phoenix': 939, 'if': 67, '898': 9441, 'vodkatonics': 6040, 'wrongfully': 5705, 'v4zvugmkjw': 9300, 'hunting': 11920, 'trvl': 3642, 'selling': 4905, \"lookin'\": 8435, 'el': 3878, \"they've\": 2312, '1945': 10462, 'iflyalot': 7873, 'good': 138, 'fewer': 3593, 'court': 3860, 'b767': 2987, 'scheduling': 2281, 'flashlight': 8715, 'consider': 1467, 'call': 105, 'mt': 4022, 'resulted': 4369, 'newamericanairline': 13076, 'west': 1732, 'scooby': 7367, '1684': 11835, 'timieyancey': 10207, 'bozos': 12890, 'at': 25, 'central': 2828, 'dicks': 6203, 'holz': 13749, 'letting': 941, 'california': 1551, 'verifies': 8639, '882': 5945, 'suite': 8311, '440': 4928, 'loading': 2593, 'ui9m8ypzh2': 10757, 'keep': 307, 'teams': 7759, 'smile': 2691, 'mentality': 8923, 'wondering': 1181, '…': 2999, 'extractions': 10783, 'husbands': 9101, 'thieves': 12263, 'thehaileytate': 13032, '2600': 8686, 'ncb2oncs9i': 11121, 'strip': 5149, 'princesshalf': 4175, 'although': 1727, \"'noooo\": 6103, 'universally': 7215, 'restored': 12100, '……': 10953, 'aay5avg99b': 10310, 'problem': 309, 'weathered': 9832, 'sock': 6757, 'disappointed': 335, 'endlessly': 5726, 'rkorhvr9z1': 10826, 'undermines': 13348, 'bed': 3468, 'lmfao': 3090, 'career': 12193, 'vanished': 8136, 'neworleans': 5032, 'winner': 5404, 'nocompensation': 8089, '—': 4824, 'handler': 3523, 'hah': 7400, 'substandard': 6750, 'entertain': 3913, 'versa': 10655, '2702': 13692, \"rec'd\": 5996, 'explain': 835, '☺️✈️': 11243, 'donuts': 11902, \"it'll\": 2572, 'gracias': 3257, 'deltanews': 10326, 'creating': 13826, '”': 910, 'wjoc9f14su”': 10590, 'kid': 2440, '💜“': 6572, 'homeandreadyfornexttrip': 9153, 'irons': 12368, 'prepared': 2412, 'flightling': 1306, 'o4zr27qpcr': 9006, '0jjt4x3yxg': 12428, '502': 5539, \"'missing'\": 13484, 'convenient': 6434, '☀️🌴✈️🍸🎲': 12289, 'plus': 520, 'tammy': 5720, 'clo': 6741, 'rikrik': 3592, 'jfk': 215, 'lb': 11457, 'backtowinter': 5959, 'helps': 2562, 'itin': 13924, 'medium': 11169, 'grinding': 12067, 'cockup': 8910, 'solve': 2635, 'deny': 4038, 'estimated': 1845, 'ua862': 6841, 'howisthatpossible': 6942, 'williams': 8518, 'giannilee': 6164, 'm4uwcpxtxj”': 10774, 'reconsidering': 5478, 'shirt': 8013, 'tmadcle': 5234, 'i7ut2zvhco': 11018, 'fortunemagazine': 1509, 'soured': 10542, '😉': 1238, 'cana': 3175, 'pricewise': 11445, 'yup': 2184, 'dumping': 13435, 'cbv7f3kbkx': 7573, 'lchvjolidg': 10775, 'addressing': 5344, 'occurred': 3047, 'ua3576': 6478, 'us643': 13279, 'forfeits': 12499, 'sitting': 211, 'sabre': 5755, 'return': 449, 'pray': 4464, 'feelsgood': 11663, 'resource': 9043, '3745': 6874, 'aging': 6664, 'mths': 3638, 'correspondence': 8685, 'gala': 10615, 'ams': 4922, '5hr': 2327, 'badairline': 11349, 'graduation': 9910, 'supply': 7650, '😂💁': 9429, '62godfaknb”': 10983, 'put': 293, 'underweight': 7795, 'employer': 4935, 'decisions': 2571, '623': 5773, 'ua1002': 7535, '£130': 6365, 'continue': 1362, 'take': 155, 'meantime': 3891, 'crawling': 10364, 'anxious': 3252, 'nogate': 6938, 'snowboard': 3054, 'baldordash': 7681, 'companionpasses': 10319, 'lednocdqee': 10301, 'servicedog': 6359, 'n366sw': 9249, 'qualified': 9387, 'lfw15': 8076, '6redd3vc73': 12192, 'flylaxairport': 2852, 'then': 127, 'destinations': 2258, 'pg96ys9asw': 10798, 'socket': 7338, 'achieves': 6084, 'available': 332, 'lovedflyingwiththem': 9125, 'j6hb4jdver': 10707, 'aa67': 12994, 'eager': 6356, 'annebevi': 10529, '57': 10580, 'chipper': 8744, 'abigailedge': 8060, 'cebu': 7030, 'mad': 1612, '10p': 8257, 'havent': 3296, 'guy': 633, 'opens': 2876, '1071': 4572, 'm7mmq2f5fa': 13790, 'supv': 12526, 'surly': 4300, 'costing': 4858, 'logically': 8959, 'ua6doua34l': 13333, 'ambassador': 8096, 'poughkeepsie': 5605, 'ski': 2631, 'wtvd': 7411, 'irregularity': 12393, 'leggieri': 10592, 'coachgs': 9263, 'seulpvfn95': 11321, 'average': 3150, '48': 2194, '329': 6114, 'huh': 2282, 'sb5551': 5776, 'mllovelace': 6564, 'reported': 3835, 'baldwin': 6124, 'cnx': 4630, 'glitches': 5358, 'shrinerack': 6117, 'fails': 1777, 'pain': 3660, 'brushing': 12200, '05pm': 3711, 'battle': 6230, 'pilyoc': 12089, 'embody': 12354, 'ua1127': 8707, 'practices': 3589, '👍😊': 9124, 'starting': 1183, 'lj2zxzn8kg': 11802, 'imjustsaying': 9657, 'ypo7nyprzl': 6108, 'failing': 2228, 'status': 347, 'rolled': 10077, 'iusedtoloveu': 10412, 'santa': 2844, 'laughing': 9528, 'edition': 8888, '👀👀': 10951, 'compensation': 797, 'buybacks': 7575, 'week': 305, 'goodluckamericanair': 12407, 'expedia': 2165, 'horrid': 2545, 'ports': 8929, '😔😓😤': 12152, 'exhorbitantfees': 8567, 'getmeoutofhere': 9552, 'understandably': 8742, 'downgrade': 2719, 'ordeal': 4795, 'feet': 1630, 'notokay': 10341, 'courtsnod': 10385, 'qll48r57ep': 8940, 'xvbjczlmda': 11763, 'logan': 1352, 'eventhoughits2degreesathome': 10716, 'heavy': 2720, 'delay': 124, 'cosmopolitan': 11127, 'broadway': 5603, 'hitch': 10731, '5sep': 8647, 'mailbox': 12308, '778aztdaer': 6143, 'necessity': 6293, 'sponsor': 6945, '1706': 4777, \"i'd\": 479, 'anyways': 11520, 'playa': 8989, 'still': 74, 'thanking': 6991, '“gay': 10147, 'evening': 985, 'facilities': 10746, 'stop': 351, 'seated': 2053, 'ua1022': 7815, \"where's\": 1912, 'peuc0bmij9': 11814, '1098': 5563, 'hdn': 3023, '2070': 11177, 'prices': 1212, 'altitude': 3533, 'supertzar85': 12272, 'ua1130': 6829, 'jetbridge': 8821, 'durango': 3889, 'va': 1742, '0hmmqczkcf': 10522, '😊😀😃😄': 6075, 'x7ilzqdwe2': 10846, 'noexcusesaccepted': 13168, 'directv': 8722, 'be': 35, 'katie': 9142, 'batting': 3819, 'highway': 12219, 'nhl': 10375, '738': 4975, 'areas': 10127, 'satellite': 12283, 'puppy': 4821, 'charger': 10388, 'packages': 3210, 'operate': 2668, 'okaaaaay': 9853, 'art': 4409, 'assurance': 7279, 'flies': 2505, 'empathetic': 9319, '496': 13225, 'dontmakemegooutside': 13455, 'savethoseseats': 11595, \"that'd\": 4032, '776': 9944, 'cinnabons': 12154, 'lining': 7943, 'def': 2663, 'establish': 5456, 'kigfkvxxdq': 13639, 'flightr': 241, 'mystery': 12449, 'announces': 4246, 'mtgs': 7017, 'sized': 11382, 'lightly': 12278, 'xx5qscjll1”': 10841, 'bummer': 2129, 'rang': 5964, 'energy': 4994, 'aqjn4hwnac': 3438, 'works': 917, 'l8r': 4466, 'blast': 4139, 'ottawa': 4655, 'updated': 1107, 'costarica': 10480, 'ntuix5dbyr': 7066, 'twitter': 458, 'center': 1177, 'a60': 10108, 'acts': 8024, 'nomorevirgin': 5920, 'serv': 2522, 'soaked': 3946, 'tixs': 12403, 'booster': 13768, 'plane': 62, '10': 204, 'ada': 11395, '1109': 4628, 'standbys': 4791, 'soundofmusic': 5891, '28': 1697, 'jeanine': 4133, 'gouzrdt7zf': 11517, 'bastards': 7143, 're': 519, 'milageplus': 8763, 'documentation': 12736, 'apt': 3348, 'daytona': 3231, 'grr': 2341, 'damper': 6854, 'door': 1004, 'festivities': 4750, 'spreading': 10513, 'dissatisfied': 3287, 'largest': 9034, 'compensate': 1202, '2119': 12696, 'tampa': 1320, 'gruber': 10564, '4053': 9693, 'nines': 12607, 'our': 52, 'xmrvr4lgeg': 10589, 'aussie': 8433, '2014': 2217, 'delayedovernight': 8094, '411': 5350, '3825': 9535, 'help😍': 6135, 'sourhwest': 9742, 'rely': 10782, 'sabe': 6500, 'carol': 5120, 'container': 10721, 'sweetingr': 4132, '1yln1gx4qx”': 11017, 'ga': 5369, 'forces': 2600, 'your': 20, 'launched': 7875, 'incompetent': 1490, 'pressure': 2833, 'hot': 1180, 'exception': 2629, 'ttlwzgiyag': 13370, 'toss': 10949, 'lawyerup': 13427, 'mistaken': 7609, 'lizaapproved': 11434, '599': 3289, 'dynamite': 9463, 't3gnk2n7ld': 8724, 'thin': 2924, 'soreback': 6003, 'box': 3141, 'cbssoxfan': 10536, 'comparable': 9158, 'fasten': 9394, 'tummy': 10672, 'mightmismybrosgraduation': 9919, '436': 9404, '3415': 9741, 'date': 773, 'teyana': 8983, 'no2jetblue': 12369, 'realize': 1711, 'where': 218, 'buttons': 5322, 'annnndddd': 10666, '157': 7803, 'june': 2404, '7xmav13g2w”': 10759, 'mini': 13535, 'rudest': 3183, 'neither': 2737, 'longer': 524, 'scenario': 11775, 'writers': 6707, '6mbvjflpbm': 12046, 'increments': 11224, 'seam': 9457, 'sudden': 5239, 'life': 589, 'inflight': 1046, 'nassau': 3284}\n"
     ]
    }
   ],
   "source": [
    "print(token.word_index)"
   ]
  },
  {
   "cell_type": "code",
   "execution_count": 286,
   "metadata": {
    "collapsed": true
   },
   "outputs": [],
   "source": [
    "x_train_seq = token.texts_to_sequences(train_feature)\n",
    "x_test_seq  = token.texts_to_sequences(test_feature)"
   ]
  },
  {
   "cell_type": "code",
   "execution_count": 287,
   "metadata": {
    "collapsed": true
   },
   "outputs": [],
   "source": [
    "#由於ML的矩陣都是要長一樣的才能運算，所以取最多字20\n",
    "#如果超過20字從前面開始砍掉，如果少於20字從前面開始補0\n",
    "x_train = sequence.pad_sequences(x_train_seq, maxlen=100)\n",
    "x_test  = sequence.pad_sequences(x_test_seq,  maxlen=100)"
   ]
  },
  {
   "cell_type": "code",
   "execution_count": 288,
   "metadata": {
    "collapsed": false
   },
   "outputs": [
    {
     "data": {
      "text/plain": [
       "(11712, 100)"
      ]
     },
     "execution_count": 288,
     "metadata": {},
     "output_type": "execute_result"
    }
   ],
   "source": [
    "x_train.shape"
   ]
  },
  {
   "cell_type": "code",
   "execution_count": 289,
   "metadata": {
    "collapsed": false
   },
   "outputs": [
    {
     "data": {
      "text/plain": [
       "(11712, 3)"
      ]
     },
     "execution_count": 289,
     "metadata": {},
     "output_type": "execute_result"
    }
   ],
   "source": [
    "train_label_onehot.shape"
   ]
  },
  {
   "cell_type": "code",
   "execution_count": 290,
   "metadata": {
    "collapsed": false
   },
   "outputs": [
    {
     "data": {
      "text/plain": [
       "(2928, 100)"
      ]
     },
     "execution_count": 290,
     "metadata": {},
     "output_type": "execute_result"
    }
   ],
   "source": [
    "x_test.shape"
   ]
  },
  {
   "cell_type": "code",
   "execution_count": 291,
   "metadata": {
    "collapsed": false
   },
   "outputs": [
    {
     "data": {
      "text/plain": [
       "(2928, 3)"
      ]
     },
     "execution_count": 291,
     "metadata": {},
     "output_type": "execute_result"
    }
   ],
   "source": [
    "test_label_onehot.shape"
   ]
  },
  {
   "cell_type": "markdown",
   "metadata": {},
   "source": [
    "## 單純MLP訓練慢，但多步之後效果ok"
   ]
  },
  {
   "cell_type": "code",
   "execution_count": 252,
   "metadata": {
    "collapsed": false
   },
   "outputs": [
    {
     "name": "stdout",
     "output_type": "stream",
     "text": [
      "_________________________________________________________________\n",
      "Layer (type)                 Output Shape              Param #   \n",
      "=================================================================\n",
      "embedding_22 (Embedding)     (None, 100, 50)           585600    \n",
      "_________________________________________________________________\n",
      "dropout_59 (Dropout)         (None, 100, 50)           0         \n",
      "_________________________________________________________________\n",
      "flatten_17 (Flatten)         (None, 5000)              0         \n",
      "_________________________________________________________________\n",
      "dense_59 (Dense)             (None, 20)                100020    \n",
      "_________________________________________________________________\n",
      "dropout_60 (Dropout)         (None, 20)                0         \n",
      "_________________________________________________________________\n",
      "dense_60 (Dense)             (None, 3)                 63        \n",
      "=================================================================\n",
      "Total params: 685,683\n",
      "Trainable params: 685,683\n",
      "Non-trainable params: 0\n",
      "_________________________________________________________________\n",
      "None\n",
      "Train on 9369 samples, validate on 2343 samples\n",
      "Epoch 1/200\n",
      "4s - loss: 1.0746 - acc: 0.5028 - val_loss: 0.9147 - val_acc: 0.7875\n",
      "Epoch 2/200\n",
      "2s - loss: 1.0113 - acc: 0.5596 - val_loss: 0.7752 - val_acc: 0.7875\n",
      "Epoch 3/200\n",
      "2s - loss: 0.9947 - acc: 0.5595 - val_loss: 0.7189 - val_acc: 0.7875\n",
      "Epoch 4/200\n",
      "2s - loss: 0.9991 - acc: 0.5592 - val_loss: 0.7214 - val_acc: 0.7875\n",
      "Epoch 5/200\n",
      "2s - loss: 0.9820 - acc: 0.5597 - val_loss: 0.7533 - val_acc: 0.7875\n",
      "Epoch 6/200\n",
      "2s - loss: 0.9680 - acc: 0.5598 - val_loss: 0.7902 - val_acc: 0.7875\n",
      "Epoch 7/200\n",
      "2s - loss: 0.9586 - acc: 0.5598 - val_loss: 0.8066 - val_acc: 0.7875\n",
      "Epoch 8/200\n",
      "2s - loss: 0.9535 - acc: 0.5606 - val_loss: 0.7918 - val_acc: 0.7875\n",
      "Epoch 9/200\n",
      "3s - loss: 0.9403 - acc: 0.5612 - val_loss: 0.7567 - val_acc: 0.7875\n",
      "Epoch 10/200\n",
      "2s - loss: 0.9257 - acc: 0.5611 - val_loss: 0.7185 - val_acc: 0.7875\n",
      "Epoch 11/200\n",
      "3s - loss: 0.9164 - acc: 0.5598 - val_loss: 0.6897 - val_acc: 0.7875\n",
      "Epoch 12/200\n",
      "2s - loss: 0.9065 - acc: 0.5611 - val_loss: 0.6775 - val_acc: 0.7875\n",
      "Epoch 13/200\n",
      "2s - loss: 0.8970 - acc: 0.5615 - val_loss: 0.6772 - val_acc: 0.7875\n",
      "Epoch 14/200\n",
      "2s - loss: 0.8828 - acc: 0.5652 - val_loss: 0.6792 - val_acc: 0.7875\n",
      "Epoch 15/200\n",
      "2s - loss: 0.8699 - acc: 0.5722 - val_loss: 0.6734 - val_acc: 0.7870\n",
      "Epoch 16/200\n",
      "2s - loss: 0.8623 - acc: 0.5845 - val_loss: 0.6614 - val_acc: 0.7819\n",
      "Epoch 17/200\n",
      "2s - loss: 0.8527 - acc: 0.5968 - val_loss: 0.6453 - val_acc: 0.7746\n",
      "Epoch 18/200\n",
      "2s - loss: 0.8445 - acc: 0.6041 - val_loss: 0.6307 - val_acc: 0.7742\n",
      "Epoch 19/200\n",
      "2s - loss: 0.8325 - acc: 0.6066 - val_loss: 0.6194 - val_acc: 0.7738\n",
      "Epoch 20/200\n",
      "2s - loss: 0.8221 - acc: 0.6142 - val_loss: 0.6116 - val_acc: 0.7798\n",
      "Epoch 21/200\n",
      "3s - loss: 0.8119 - acc: 0.6179 - val_loss: 0.6052 - val_acc: 0.7798\n",
      "Epoch 22/200\n",
      "3s - loss: 0.8007 - acc: 0.6249 - val_loss: 0.5976 - val_acc: 0.7764\n",
      "Epoch 23/200\n",
      "3s - loss: 0.7890 - acc: 0.6281 - val_loss: 0.5877 - val_acc: 0.7772\n",
      "Epoch 24/200\n",
      "2s - loss: 0.7776 - acc: 0.6327 - val_loss: 0.5752 - val_acc: 0.7793\n",
      "Epoch 25/200\n",
      "2s - loss: 0.7618 - acc: 0.6323 - val_loss: 0.5609 - val_acc: 0.7853\n",
      "Epoch 26/200\n",
      "2s - loss: 0.7520 - acc: 0.6419 - val_loss: 0.5481 - val_acc: 0.7875\n",
      "Epoch 27/200\n",
      "2s - loss: 0.7405 - acc: 0.6459 - val_loss: 0.5378 - val_acc: 0.7939\n",
      "Epoch 28/200\n",
      "2s - loss: 0.7269 - acc: 0.6496 - val_loss: 0.5294 - val_acc: 0.7968\n",
      "Epoch 29/200\n",
      "2s - loss: 0.7187 - acc: 0.6568 - val_loss: 0.5215 - val_acc: 0.8015\n",
      "Epoch 30/200\n",
      "3s - loss: 0.7045 - acc: 0.6672 - val_loss: 0.5133 - val_acc: 0.8050\n",
      "Epoch 31/200\n",
      "3s - loss: 0.6965 - acc: 0.6786 - val_loss: 0.5049 - val_acc: 0.8062\n",
      "Epoch 32/200\n",
      "3s - loss: 0.6848 - acc: 0.6869 - val_loss: 0.4964 - val_acc: 0.8092\n",
      "Epoch 33/200\n",
      "3s - loss: 0.6706 - acc: 0.6948 - val_loss: 0.4884 - val_acc: 0.8105\n",
      "Epoch 34/200\n",
      "3s - loss: 0.6644 - acc: 0.6993 - val_loss: 0.4821 - val_acc: 0.8122\n",
      "Epoch 35/200\n",
      "2s - loss: 0.6508 - acc: 0.7132 - val_loss: 0.4767 - val_acc: 0.8152\n",
      "Epoch 36/200\n",
      "2s - loss: 0.6424 - acc: 0.7189 - val_loss: 0.4717 - val_acc: 0.8160\n",
      "Epoch 37/200\n",
      "3s - loss: 0.6316 - acc: 0.7257 - val_loss: 0.4661 - val_acc: 0.8169\n",
      "Epoch 38/200\n",
      "3s - loss: 0.6215 - acc: 0.7278 - val_loss: 0.4609 - val_acc: 0.8165\n",
      "Epoch 39/200\n",
      "3s - loss: 0.6122 - acc: 0.7335 - val_loss: 0.4568 - val_acc: 0.8195\n",
      "Epoch 40/200\n",
      "2s - loss: 0.5990 - acc: 0.7435 - val_loss: 0.4532 - val_acc: 0.8229\n",
      "Epoch 41/200\n",
      "4s - loss: 0.5907 - acc: 0.7542 - val_loss: 0.4495 - val_acc: 0.8254\n",
      "Epoch 42/200\n",
      "4s - loss: 0.5801 - acc: 0.7646 - val_loss: 0.4456 - val_acc: 0.8293\n",
      "Epoch 43/200\n",
      "3s - loss: 0.5715 - acc: 0.7752 - val_loss: 0.4423 - val_acc: 0.8301\n",
      "Epoch 44/200\n",
      "3s - loss: 0.5571 - acc: 0.7788 - val_loss: 0.4393 - val_acc: 0.8301\n",
      "Epoch 45/200\n",
      "3s - loss: 0.5504 - acc: 0.7813 - val_loss: 0.4362 - val_acc: 0.8331\n",
      "Epoch 46/200\n",
      "2s - loss: 0.5454 - acc: 0.7845 - val_loss: 0.4334 - val_acc: 0.8357\n",
      "Epoch 47/200\n",
      "2s - loss: 0.5340 - acc: 0.7969 - val_loss: 0.4307 - val_acc: 0.8353\n",
      "Epoch 48/200\n",
      "2s - loss: 0.5202 - acc: 0.8012 - val_loss: 0.4282 - val_acc: 0.8348\n",
      "Epoch 49/200\n",
      "2s - loss: 0.5121 - acc: 0.8008 - val_loss: 0.4259 - val_acc: 0.8357\n",
      "Epoch 50/200\n",
      "2s - loss: 0.5019 - acc: 0.8088 - val_loss: 0.4237 - val_acc: 0.8395\n",
      "Epoch 51/200\n",
      "2s - loss: 0.4919 - acc: 0.8129 - val_loss: 0.4214 - val_acc: 0.8412\n",
      "Epoch 52/200\n",
      "2s - loss: 0.4819 - acc: 0.8213 - val_loss: 0.4193 - val_acc: 0.8438\n",
      "Epoch 53/200\n",
      "2s - loss: 0.4798 - acc: 0.8190 - val_loss: 0.4178 - val_acc: 0.8446\n",
      "Epoch 54/200\n",
      "2s - loss: 0.4685 - acc: 0.8228 - val_loss: 0.4168 - val_acc: 0.8446\n",
      "Epoch 55/200\n",
      "2s - loss: 0.4563 - acc: 0.8295 - val_loss: 0.4162 - val_acc: 0.8442\n",
      "Epoch 56/200\n",
      "2s - loss: 0.4526 - acc: 0.8287 - val_loss: 0.4152 - val_acc: 0.8481\n",
      "Epoch 57/200\n",
      "2s - loss: 0.4434 - acc: 0.8343 - val_loss: 0.4141 - val_acc: 0.8493\n",
      "Epoch 58/200\n",
      "2s - loss: 0.4327 - acc: 0.8426 - val_loss: 0.4132 - val_acc: 0.8493\n",
      "Epoch 59/200\n",
      "3s - loss: 0.4294 - acc: 0.8426 - val_loss: 0.4126 - val_acc: 0.8502\n",
      "Epoch 60/200\n",
      "3s - loss: 0.4188 - acc: 0.8493 - val_loss: 0.4122 - val_acc: 0.8506\n",
      "Epoch 61/200\n",
      "3s - loss: 0.4118 - acc: 0.8481 - val_loss: 0.4121 - val_acc: 0.8489\n",
      "Epoch 62/200\n",
      "2s - loss: 0.4023 - acc: 0.8557 - val_loss: 0.4117 - val_acc: 0.8498\n",
      "Epoch 63/200\n",
      "2s - loss: 0.4011 - acc: 0.8516 - val_loss: 0.4111 - val_acc: 0.8506\n",
      "Epoch 64/200\n",
      "2s - loss: 0.3846 - acc: 0.8616 - val_loss: 0.4112 - val_acc: 0.8493\n",
      "Epoch 65/200\n",
      "2s - loss: 0.3829 - acc: 0.8612 - val_loss: 0.4118 - val_acc: 0.8493\n",
      "Epoch 66/200\n",
      "2s - loss: 0.3754 - acc: 0.8627 - val_loss: 0.4127 - val_acc: 0.8502\n",
      "Epoch 67/200\n",
      "2s - loss: 0.3705 - acc: 0.8631 - val_loss: 0.4131 - val_acc: 0.8502\n",
      "Epoch 68/200\n",
      "2s - loss: 0.3633 - acc: 0.8734 - val_loss: 0.4129 - val_acc: 0.8476\n",
      "Epoch 69/200\n",
      "3s - loss: 0.3542 - acc: 0.8750 - val_loss: 0.4127 - val_acc: 0.8481\n",
      "Epoch 70/200\n",
      "3s - loss: 0.3527 - acc: 0.8752 - val_loss: 0.4133 - val_acc: 0.8502\n",
      "Epoch 71/200\n",
      "3s - loss: 0.3430 - acc: 0.8775 - val_loss: 0.4156 - val_acc: 0.8502\n",
      "Epoch 72/200\n",
      "3s - loss: 0.3384 - acc: 0.8790 - val_loss: 0.4172 - val_acc: 0.8498\n",
      "Epoch 73/200\n",
      "2s - loss: 0.3407 - acc: 0.8761 - val_loss: 0.4181 - val_acc: 0.8498\n",
      "Epoch 74/200\n",
      "3s - loss: 0.3268 - acc: 0.8864 - val_loss: 0.4183 - val_acc: 0.8498\n",
      "Epoch 75/200\n",
      "3s - loss: 0.3243 - acc: 0.8841 - val_loss: 0.4195 - val_acc: 0.8502\n",
      "Epoch 76/200\n",
      "3s - loss: 0.3189 - acc: 0.8840 - val_loss: 0.4218 - val_acc: 0.8502\n",
      "Epoch 77/200\n",
      "2s - loss: 0.3143 - acc: 0.8832 - val_loss: 0.4241 - val_acc: 0.8502\n",
      "Epoch 78/200\n",
      "2s - loss: 0.3111 - acc: 0.8871 - val_loss: 0.4246 - val_acc: 0.8510\n",
      "Epoch 79/200\n",
      "3s - loss: 0.3042 - acc: 0.8928 - val_loss: 0.4247 - val_acc: 0.8506\n",
      "Epoch 80/200\n",
      "3s - loss: 0.3024 - acc: 0.8921 - val_loss: 0.4257 - val_acc: 0.8506\n",
      "Epoch 81/200\n",
      "3s - loss: 0.2969 - acc: 0.8931 - val_loss: 0.4271 - val_acc: 0.8515\n",
      "Epoch 82/200\n",
      "2s - loss: 0.2930 - acc: 0.8959 - val_loss: 0.4295 - val_acc: 0.8519\n",
      "Epoch 83/200\n",
      "2s - loss: 0.2903 - acc: 0.8958 - val_loss: 0.4323 - val_acc: 0.8523\n",
      "Epoch 84/200\n",
      "2s - loss: 0.2826 - acc: 0.8999 - val_loss: 0.4347 - val_acc: 0.8523\n",
      "Epoch 85/200\n",
      "2s - loss: 0.2783 - acc: 0.9026 - val_loss: 0.4359 - val_acc: 0.8523\n",
      "Epoch 86/200\n",
      "2s - loss: 0.2754 - acc: 0.9053 - val_loss: 0.4370 - val_acc: 0.8523\n",
      "Epoch 87/200\n",
      "3s - loss: 0.2760 - acc: 0.8998 - val_loss: 0.4393 - val_acc: 0.8519\n",
      "Epoch 88/200\n",
      "2s - loss: 0.2687 - acc: 0.9021 - val_loss: 0.4408 - val_acc: 0.8528\n",
      "Epoch 89/200\n",
      "3s - loss: 0.2627 - acc: 0.9059 - val_loss: 0.4424 - val_acc: 0.8532\n",
      "Epoch 90/200\n",
      "3s - loss: 0.2622 - acc: 0.9094 - val_loss: 0.4444 - val_acc: 0.8523\n",
      "Epoch 91/200\n",
      "3s - loss: 0.2615 - acc: 0.9053 - val_loss: 0.4476 - val_acc: 0.8523\n",
      "Epoch 92/200\n",
      "2s - loss: 0.2567 - acc: 0.9116 - val_loss: 0.4494 - val_acc: 0.8528\n",
      "Epoch 93/200\n",
      "2s - loss: 0.2491 - acc: 0.9090 - val_loss: 0.4491 - val_acc: 0.8498\n",
      "Epoch 94/200\n",
      "2s - loss: 0.2442 - acc: 0.9032 - val_loss: 0.4509 - val_acc: 0.8515\n",
      "Epoch 95/200\n",
      "2s - loss: 0.2462 - acc: 0.9052 - val_loss: 0.4538 - val_acc: 0.8532\n",
      "Epoch 96/200\n",
      "2s - loss: 0.2376 - acc: 0.9064 - val_loss: 0.4589 - val_acc: 0.8532\n",
      "Epoch 97/200\n",
      "2s - loss: 0.2315 - acc: 0.9133 - val_loss: 0.4598 - val_acc: 0.8528\n",
      "Epoch 98/200\n",
      "2s - loss: 0.2266 - acc: 0.9110 - val_loss: 0.4614 - val_acc: 0.8532\n",
      "Epoch 99/200\n",
      "2s - loss: 0.2203 - acc: 0.9158 - val_loss: 0.4640 - val_acc: 0.8515\n",
      "Epoch 100/200\n",
      "2s - loss: 0.2220 - acc: 0.9135 - val_loss: 0.4675 - val_acc: 0.8515\n",
      "Epoch 101/200\n",
      "2s - loss: 0.2207 - acc: 0.9158 - val_loss: 0.4683 - val_acc: 0.8519\n",
      "Epoch 102/200\n",
      "2s - loss: 0.2161 - acc: 0.9218 - val_loss: 0.4701 - val_acc: 0.8528\n",
      "Epoch 103/200\n",
      "2s - loss: 0.2125 - acc: 0.9252 - val_loss: 0.4724 - val_acc: 0.8532\n",
      "Epoch 104/200\n",
      "2s - loss: 0.2096 - acc: 0.9282 - val_loss: 0.4748 - val_acc: 0.8523\n",
      "Epoch 105/200\n",
      "2s - loss: 0.2055 - acc: 0.9291 - val_loss: 0.4773 - val_acc: 0.8523\n",
      "Epoch 106/200\n",
      "2s - loss: 0.2064 - acc: 0.9294 - val_loss: 0.4789 - val_acc: 0.8506\n",
      "Epoch 107/200\n",
      "2s - loss: 0.2102 - acc: 0.9251 - val_loss: 0.4797 - val_acc: 0.8519\n",
      "Epoch 108/200\n",
      "2s - loss: 0.1998 - acc: 0.9305 - val_loss: 0.4827 - val_acc: 0.8515\n",
      "Epoch 109/200\n",
      "2s - loss: 0.2007 - acc: 0.9334 - val_loss: 0.4863 - val_acc: 0.8515\n",
      "Epoch 110/200\n",
      "2s - loss: 0.1925 - acc: 0.9343 - val_loss: 0.4912 - val_acc: 0.8523\n",
      "Epoch 111/200\n",
      "2s - loss: 0.1857 - acc: 0.9456 - val_loss: 0.4946 - val_acc: 0.8536\n",
      "Epoch 112/200\n",
      "2s - loss: 0.1849 - acc: 0.9456 - val_loss: 0.4967 - val_acc: 0.8532\n",
      "Epoch 113/200\n",
      "2s - loss: 0.1764 - acc: 0.9475 - val_loss: 0.4980 - val_acc: 0.8532\n",
      "Epoch 114/200\n",
      "3s - loss: 0.1752 - acc: 0.9464 - val_loss: 0.4959 - val_acc: 0.8519\n",
      "Epoch 115/200\n",
      "2s - loss: 0.1702 - acc: 0.9491 - val_loss: 0.4964 - val_acc: 0.8510\n",
      "Epoch 116/200\n",
      "2s - loss: 0.1647 - acc: 0.9507 - val_loss: 0.5010 - val_acc: 0.8515\n",
      "Epoch 117/200\n",
      "2s - loss: 0.1633 - acc: 0.9539 - val_loss: 0.5086 - val_acc: 0.8506\n",
      "Epoch 118/200\n",
      "2s - loss: 0.1571 - acc: 0.9538 - val_loss: 0.5141 - val_acc: 0.8502\n",
      "Epoch 119/200\n",
      "2s - loss: 0.1596 - acc: 0.9537 - val_loss: 0.5166 - val_acc: 0.8498\n",
      "Epoch 120/200\n",
      "2s - loss: 0.1550 - acc: 0.9533 - val_loss: 0.5164 - val_acc: 0.8510\n",
      "Epoch 121/200\n",
      "2s - loss: 0.1573 - acc: 0.9539 - val_loss: 0.5178 - val_acc: 0.8510\n",
      "Epoch 122/200\n",
      "2s - loss: 0.1459 - acc: 0.9602 - val_loss: 0.5212 - val_acc: 0.8506\n",
      "Epoch 123/200\n",
      "3s - loss: 0.1446 - acc: 0.9575 - val_loss: 0.5255 - val_acc: 0.8506\n",
      "Epoch 124/200\n",
      "2s - loss: 0.1420 - acc: 0.9603 - val_loss: 0.5292 - val_acc: 0.8510\n",
      "Epoch 125/200\n",
      "2s - loss: 0.1407 - acc: 0.9594 - val_loss: 0.5292 - val_acc: 0.8502\n",
      "Epoch 126/200\n",
      "2s - loss: 0.1383 - acc: 0.9602 - val_loss: 0.5273 - val_acc: 0.8481\n",
      "Epoch 127/200\n",
      "3s - loss: 0.1391 - acc: 0.9607 - val_loss: 0.5241 - val_acc: 0.8493\n",
      "Epoch 128/200\n",
      "3s - loss: 0.1369 - acc: 0.9605 - val_loss: 0.5236 - val_acc: 0.8502\n",
      "Epoch 129/200\n",
      "2s - loss: 0.1382 - acc: 0.9617 - val_loss: 0.5265 - val_acc: 0.8506\n",
      "Epoch 130/200\n",
      "2s - loss: 0.1272 - acc: 0.9681 - val_loss: 0.5301 - val_acc: 0.8502\n",
      "Epoch 131/200\n",
      "2s - loss: 0.1278 - acc: 0.9687 - val_loss: 0.5340 - val_acc: 0.8502\n",
      "Epoch 132/200\n",
      "2s - loss: 0.1270 - acc: 0.9658 - val_loss: 0.5402 - val_acc: 0.8493\n",
      "Epoch 133/200\n",
      "2s - loss: 0.1212 - acc: 0.9658 - val_loss: 0.5471 - val_acc: 0.8493\n",
      "Epoch 134/200\n",
      "2s - loss: 0.1167 - acc: 0.9652 - val_loss: 0.5522 - val_acc: 0.8485\n",
      "Epoch 135/200\n",
      "2s - loss: 0.1195 - acc: 0.9598 - val_loss: 0.5556 - val_acc: 0.8489\n",
      "Epoch 136/200\n",
      "2s - loss: 0.1145 - acc: 0.9609 - val_loss: 0.5574 - val_acc: 0.8481\n",
      "Epoch 137/200\n",
      "2s - loss: 0.1126 - acc: 0.9619 - val_loss: 0.5580 - val_acc: 0.8489\n",
      "Epoch 138/200\n",
      "2s - loss: 0.1103 - acc: 0.9613 - val_loss: 0.5610 - val_acc: 0.8489\n",
      "Epoch 139/200\n",
      "3s - loss: 0.1027 - acc: 0.9683 - val_loss: 0.5673 - val_acc: 0.8481\n",
      "Epoch 140/200\n",
      "3s - loss: 0.1016 - acc: 0.9666 - val_loss: 0.5734 - val_acc: 0.8481\n",
      "Epoch 141/200\n",
      "2s - loss: 0.0991 - acc: 0.9715 - val_loss: 0.5777 - val_acc: 0.8476\n",
      "Epoch 142/200\n",
      "2s - loss: 0.0997 - acc: 0.9717 - val_loss: 0.5799 - val_acc: 0.8481\n",
      "Epoch 143/200\n",
      "2s - loss: 0.0975 - acc: 0.9719 - val_loss: 0.5821 - val_acc: 0.8476\n",
      "Epoch 144/200\n",
      "2s - loss: 0.0919 - acc: 0.9783 - val_loss: 0.5851 - val_acc: 0.8485\n",
      "Epoch 145/200\n",
      "2s - loss: 0.0916 - acc: 0.9761 - val_loss: 0.5911 - val_acc: 0.8485\n",
      "Epoch 146/200\n",
      "2s - loss: 0.0946 - acc: 0.9745 - val_loss: 0.5982 - val_acc: 0.8472\n",
      "Epoch 147/200\n",
      "2s - loss: 0.0901 - acc: 0.9780 - val_loss: 0.6029 - val_acc: 0.8468\n",
      "Epoch 148/200\n",
      "2s - loss: 0.0881 - acc: 0.9781 - val_loss: 0.6049 - val_acc: 0.8485\n",
      "Epoch 149/200\n",
      "2s - loss: 0.0855 - acc: 0.9804 - val_loss: 0.6076 - val_acc: 0.8476\n",
      "Epoch 150/200\n",
      "2s - loss: 0.0853 - acc: 0.9805 - val_loss: 0.6118 - val_acc: 0.8476\n",
      "Epoch 151/200\n",
      "2s - loss: 0.0816 - acc: 0.9801 - val_loss: 0.6163 - val_acc: 0.8485\n",
      "Epoch 152/200\n",
      "2s - loss: 0.0822 - acc: 0.9791 - val_loss: 0.6214 - val_acc: 0.8489\n",
      "Epoch 153/200\n",
      "2s - loss: 0.0790 - acc: 0.9814 - val_loss: 0.6240 - val_acc: 0.8472\n",
      "Epoch 154/200\n",
      "2s - loss: 0.0779 - acc: 0.9806 - val_loss: 0.6276 - val_acc: 0.8472\n",
      "Epoch 155/200\n",
      "2s - loss: 0.0735 - acc: 0.9810 - val_loss: 0.6284 - val_acc: 0.8464\n",
      "Epoch 156/200\n",
      "2s - loss: 0.0703 - acc: 0.9827 - val_loss: 0.6298 - val_acc: 0.8455\n",
      "Epoch 157/200\n",
      "2s - loss: 0.0730 - acc: 0.9832 - val_loss: 0.6335 - val_acc: 0.8468\n",
      "Epoch 158/200\n",
      "2s - loss: 0.0671 - acc: 0.9838 - val_loss: 0.6392 - val_acc: 0.8455\n",
      "Epoch 159/200\n",
      "2s - loss: 0.0643 - acc: 0.9837 - val_loss: 0.6451 - val_acc: 0.8455\n",
      "Epoch 160/200\n",
      "2s - loss: 0.0626 - acc: 0.9836 - val_loss: 0.6498 - val_acc: 0.8481\n",
      "Epoch 161/200\n",
      "2s - loss: 0.0587 - acc: 0.9855 - val_loss: 0.6554 - val_acc: 0.8485\n",
      "Epoch 162/200\n",
      "2s - loss: 0.0589 - acc: 0.9851 - val_loss: 0.6587 - val_acc: 0.8481\n",
      "Epoch 163/200\n",
      "2s - loss: 0.0594 - acc: 0.9848 - val_loss: 0.6609 - val_acc: 0.8468\n",
      "Epoch 164/200\n",
      "2s - loss: 0.0552 - acc: 0.9864 - val_loss: 0.6640 - val_acc: 0.8464\n",
      "Epoch 165/200\n",
      "2s - loss: 0.0548 - acc: 0.9860 - val_loss: 0.6672 - val_acc: 0.8481\n",
      "Epoch 166/200\n",
      "2s - loss: 0.0525 - acc: 0.9869 - val_loss: 0.6705 - val_acc: 0.8485\n",
      "Epoch 167/200\n",
      "2s - loss: 0.0488 - acc: 0.9888 - val_loss: 0.6739 - val_acc: 0.8481\n",
      "Epoch 168/200\n",
      "2s - loss: 0.0506 - acc: 0.9867 - val_loss: 0.6777 - val_acc: 0.8472\n",
      "Epoch 169/200\n",
      "2s - loss: 0.0499 - acc: 0.9869 - val_loss: 0.6817 - val_acc: 0.8468\n",
      "Epoch 170/200\n",
      "2s - loss: 0.0491 - acc: 0.9877 - val_loss: 0.6873 - val_acc: 0.8481\n",
      "Epoch 171/200\n",
      "2s - loss: 0.0461 - acc: 0.9877 - val_loss: 0.6919 - val_acc: 0.8485\n",
      "Epoch 172/200\n",
      "2s - loss: 0.0463 - acc: 0.9874 - val_loss: 0.6946 - val_acc: 0.8476\n",
      "Epoch 173/200\n",
      "2s - loss: 0.0486 - acc: 0.9873 - val_loss: 0.6950 - val_acc: 0.8472\n",
      "Epoch 174/200\n",
      "2s - loss: 0.0459 - acc: 0.9878 - val_loss: 0.6965 - val_acc: 0.8472\n",
      "Epoch 175/200\n",
      "2s - loss: 0.0454 - acc: 0.9876 - val_loss: 0.7011 - val_acc: 0.8472\n",
      "Epoch 176/200\n",
      "2s - loss: 0.0448 - acc: 0.9884 - val_loss: 0.7054 - val_acc: 0.8468\n",
      "Epoch 177/200\n",
      "2s - loss: 0.0440 - acc: 0.9883 - val_loss: 0.7087 - val_acc: 0.8468\n",
      "Epoch 178/200\n",
      "2s - loss: 0.0414 - acc: 0.9895 - val_loss: 0.7115 - val_acc: 0.8468\n",
      "Epoch 179/200\n",
      "2s - loss: 0.0400 - acc: 0.9899 - val_loss: 0.7136 - val_acc: 0.8481\n",
      "Epoch 180/200\n",
      "2s - loss: 0.0405 - acc: 0.9903 - val_loss: 0.7166 - val_acc: 0.8472\n",
      "Epoch 181/200\n",
      "2s - loss: 0.0408 - acc: 0.9903 - val_loss: 0.7204 - val_acc: 0.8468\n",
      "Epoch 182/200\n",
      "2s - loss: 0.0389 - acc: 0.9896 - val_loss: 0.7252 - val_acc: 0.8472\n",
      "Epoch 183/200\n",
      "2s - loss: 0.0402 - acc: 0.9902 - val_loss: 0.7269 - val_acc: 0.8472\n",
      "Epoch 184/200\n",
      "2s - loss: 0.0374 - acc: 0.9906 - val_loss: 0.7278 - val_acc: 0.8476\n",
      "Epoch 185/200\n",
      "2s - loss: 0.0385 - acc: 0.9901 - val_loss: 0.7300 - val_acc: 0.8476\n",
      "Epoch 186/200\n",
      "3s - loss: 0.0360 - acc: 0.9909 - val_loss: 0.7338 - val_acc: 0.8489\n",
      "Epoch 187/200\n",
      "2s - loss: 0.0388 - acc: 0.9905 - val_loss: 0.7376 - val_acc: 0.8489\n",
      "Epoch 188/200\n",
      "2s - loss: 0.0386 - acc: 0.9887 - val_loss: 0.7416 - val_acc: 0.8489\n",
      "Epoch 189/200\n",
      "2s - loss: 0.0375 - acc: 0.9903 - val_loss: 0.7459 - val_acc: 0.8481\n",
      "Epoch 190/200\n",
      "2s - loss: 0.0369 - acc: 0.9896 - val_loss: 0.7483 - val_acc: 0.8472\n",
      "Epoch 191/200\n",
      "2s - loss: 0.0372 - acc: 0.9896 - val_loss: 0.7510 - val_acc: 0.8464\n",
      "Epoch 192/200\n",
      "2s - loss: 0.0352 - acc: 0.9909 - val_loss: 0.7552 - val_acc: 0.8459\n",
      "Epoch 193/200\n",
      "2s - loss: 0.0345 - acc: 0.9909 - val_loss: 0.7582 - val_acc: 0.8451\n",
      "Epoch 194/200\n",
      "2s - loss: 0.0332 - acc: 0.9919 - val_loss: 0.7602 - val_acc: 0.8455\n",
      "Epoch 195/200\n",
      "2s - loss: 0.0328 - acc: 0.9922 - val_loss: 0.7612 - val_acc: 0.8464\n",
      "Epoch 196/200\n",
      "2s - loss: 0.0334 - acc: 0.9907 - val_loss: 0.7637 - val_acc: 0.8468\n",
      "Epoch 197/200\n",
      "2s - loss: 0.0338 - acc: 0.9917 - val_loss: 0.7657 - val_acc: 0.8472\n",
      "Epoch 198/200\n",
      "2s - loss: 0.0325 - acc: 0.9925 - val_loss: 0.7683 - val_acc: 0.8464\n",
      "Epoch 199/200\n",
      "2s - loss: 0.0347 - acc: 0.9901 - val_loss: 0.7719 - val_acc: 0.8472\n",
      "Epoch 200/200\n",
      "2s - loss: 0.0335 - acc: 0.9912 - val_loss: 0.7758 - val_acc: 0.8455\n"
     ]
    },
    {
     "data": {
      "image/png": "[encoded data removed]",
      "text/plain": [
       "<matplotlib.figure.Figure at 0x12b337d30>"
      ]
     },
     "metadata": {},
     "output_type": "display_data"
    },
    {
     "data": {
      "image/png": "[encoded data removed]",
      "text/plain": [
       "<matplotlib.figure.Figure at 0x13626cc50>"
      ]
     },
     "metadata": {},
     "output_type": "display_data"
    },
    {
     "name": "stdout",
     "output_type": "stream",
     "text": [
      "2528/2928 [========================>.....] - ETA: 0s\n",
      "\n",
      "accuracy= 0.790642076503\n",
      "2752/2928 [===========================>..] - ETA: 0s"
     ]
    }
   ],
   "source": [
    "import matplotlib.pyplot as plt\n",
    "def show_train_history(train_history,train,validation):\n",
    "    plt.plot(train_history.history[train])\n",
    "    plt.plot(train_history.history[validation])\n",
    "    plt.title('Train History')\n",
    "    plt.ylabel(train)\n",
    "    plt.xlabel('Epoch')\n",
    "    plt.legend(['train', 'validation'], loc='upper left')\n",
    "    plt.show()\n",
    "\n",
    "from keras.models import Sequential\n",
    "from keras.layers.core import Dense, Dropout, Activation, Flatten\n",
    "from keras.layers.embeddings import Embedding\n",
    "\n",
    "#設計模型\n",
    "model = Sequential()\n",
    "\n",
    "#Embedding，把文字向量投影到多維度向量（語意），否則數字之間無關聯，沒能體現出語言之間有「語意」\n",
    "#在此投影成32維度\n",
    "model.add(Embedding(output_dim = 50,\n",
    "                    input_dim = 11712,\n",
    "                    input_length = 100))\n",
    "model.add(Dropout(0.35))\n",
    "\n",
    "model.add(Flatten())\n",
    "\n",
    "model.add(Dense(units=20, activation='relu'))\n",
    "model.add(Dropout(0.35))\n",
    "\n",
    "model.add(Dense(units=3, activation='softmax'))\n",
    "\n",
    "print(model.summary())\n",
    "\n",
    "\n",
    "#訓練模型\n",
    "model.compile(loss='categorical_crossentropy',\n",
    "              optimizer = 'adam',\n",
    "              metrics=['accuracy'])\n",
    "\n",
    "train_history = model.fit(x_train, train_label_onehot,\n",
    "                          validation_split=0.2, batch_size=5000, epochs=200, verbose=2)\n",
    "\n",
    "show_train_history(train_history,'acc','val_acc')\n",
    "show_train_history(train_history,'loss','val_loss')\n",
    "\n",
    "\n",
    "######################### 實際測驗得分\n",
    "scores = model.evaluate(x_test, test_label_onehot)\n",
    "print('\\n')\n",
    "print('accuracy=',scores[1])\n",
    "\n",
    "######################### 紀錄模型預測情形（答案卷）\n",
    "prediction = model.predict_classes(x_test)\n",
    "\n",
    "#儲存訓練結果\n",
    "#model.save_weights(\"Savemodel_Keras/Sentiment_MLP.h5\")\n",
    "#print('\\n model saved to disk')"
   ]
  },
  {
   "cell_type": "code",
   "execution_count": 254,
   "metadata": {
    "collapsed": false
   },
   "outputs": [
    {
     "name": "stdout",
     "output_type": "stream",
     "text": [
      "\n",
      " model saved to disk\n"
     ]
    }
   ],
   "source": [
    "model.save_weights(\"Savemodels/Airline_Sentiment_MLP.h5\")\n",
    "print('\\n model saved to disk')"
   ]
  },
  {
   "cell_type": "code",
   "execution_count": 261,
   "metadata": {
    "collapsed": false
   },
   "outputs": [
    {
     "data": {
      "text/plain": [
       "1"
      ]
     },
     "execution_count": 261,
     "metadata": {},
     "output_type": "execute_result"
    }
   ],
   "source": [
    "prediction[2]"
   ]
  },
  {
   "cell_type": "code",
   "execution_count": 282,
   "metadata": {
    "collapsed": false
   },
   "outputs": [
    {
     "name": "stdout",
     "output_type": "stream",
     "text": [
      "20/20 [==============================] - 0s\n"
     ]
    },
    {
     "data": {
      "text/plain": [
       "array([0, 2, 2, 1, 2, 0, 1, 0, 2, 0, 0, 2, 0, 2, 0, 0, 1, 1, 1, 1])"
      ]
     },
     "execution_count": 282,
     "metadata": {},
     "output_type": "execute_result"
    }
   ],
   "source": [
    "string = ['I hate waiting. fuck you airline. They only want to take my money.', #0\n",
    "          'I fucking love this airline', #2\n",
    "          'I love this airline', #2\n",
    "          'It rains a lot here', #1\n",
    "          'Good job', #2\n",
    "          'Be Aware, Delayed Flights', #0\n",
    "          'Room for improvement is needed', #0~1\n",
    "          'There is something really wrong with this airline how can the government condone big delays?', #0\n",
    "          'Great Flight on a Budget Airline', #2\n",
    "          'More than I expected', #2\n",
    "          'This is what I wanted', #2\n",
    "          'Hope my trip be smooth', #1\n",
    "          'Delayed without any notification by more than 3 hours', #0\n",
    "          'Everything in time. Good personal. Fine food onboard', #2\n",
    "          'united','USAirways','AmericanAir','SouthwestAir','Delta','VirginAmerica'\n",
    "         ]\n",
    "\n",
    "str_token = token.texts_to_sequences(string)\n",
    "str_token_seq_pad = sequence.pad_sequences(str_token, maxlen=100)\n",
    "\n",
    "ans = model.predict_classes(str_token_seq_pad)\n",
    "ans #0:negative, 1:neutral, 2:positive"
   ]
  },
  {
   "cell_type": "markdown",
   "metadata": {},
   "source": [
    "## RNN: 較快又強"
   ]
  },
  {
   "cell_type": "code",
   "execution_count": 300,
   "metadata": {
    "collapsed": false
   },
   "outputs": [
    {
     "name": "stdout",
     "output_type": "stream",
     "text": [
      "_________________________________________________________________\n",
      "Layer (type)                 Output Shape              Param #   \n",
      "=================================================================\n",
      "embedding_30 (Embedding)     (None, 100, 100)          1171200   \n",
      "_________________________________________________________________\n",
      "dropout_75 (Dropout)         (None, 100, 100)          0         \n",
      "_________________________________________________________________\n",
      "simple_rnn_7 (SimpleRNN)     (None, 20)                2420      \n",
      "_________________________________________________________________\n",
      "dense_75 (Dense)             (None, 100)               2100      \n",
      "_________________________________________________________________\n",
      "dropout_76 (Dropout)         (None, 100)               0         \n",
      "_________________________________________________________________\n",
      "dense_76 (Dense)             (None, 3)                 303       \n",
      "=================================================================\n",
      "Total params: 1,176,023\n",
      "Trainable params: 1,176,023\n",
      "Non-trainable params: 0\n",
      "_________________________________________________________________\n",
      "None\n",
      "Train on 9369 samples, validate on 2343 samples\n",
      "Epoch 1/20\n",
      "7s - loss: 1.0748 - acc: 0.4279 - val_loss: 0.9621 - val_acc: 0.7870\n",
      "Epoch 2/20\n",
      "5s - loss: 1.0168 - acc: 0.5501 - val_loss: 0.8117 - val_acc: 0.7875\n",
      "Epoch 3/20\n",
      "6s - loss: 0.9796 - acc: 0.5606 - val_loss: 0.7268 - val_acc: 0.7875\n",
      "Epoch 4/20\n",
      "6s - loss: 0.9654 - acc: 0.5603 - val_loss: 0.7283 - val_acc: 0.7875\n",
      "Epoch 5/20\n",
      "6s - loss: 0.9232 - acc: 0.5767 - val_loss: 0.7694 - val_acc: 0.7892\n",
      "Epoch 6/20\n",
      "7s - loss: 0.8928 - acc: 0.5976 - val_loss: 0.6804 - val_acc: 0.7904\n",
      "Epoch 7/20\n",
      "8s - loss: 0.8506 - acc: 0.6015 - val_loss: 0.6288 - val_acc: 0.7904\n",
      "Epoch 8/20\n",
      "8s - loss: 0.8071 - acc: 0.6385 - val_loss: 0.6017 - val_acc: 0.7985\n",
      "Epoch 9/20\n",
      "7s - loss: 0.7615 - acc: 0.6662 - val_loss: 0.5594 - val_acc: 0.8054\n",
      "Epoch 10/20\n",
      "8s - loss: 0.7140 - acc: 0.7000 - val_loss: 0.5204 - val_acc: 0.7964\n",
      "Epoch 11/20\n",
      "7s - loss: 0.6849 - acc: 0.7201 - val_loss: 0.4969 - val_acc: 0.8122\n",
      "Epoch 12/20\n",
      "7s - loss: 0.6334 - acc: 0.7350 - val_loss: 0.5017 - val_acc: 0.8160\n",
      "Epoch 13/20\n",
      "7s - loss: 0.5943 - acc: 0.7786 - val_loss: 0.4768 - val_acc: 0.8246\n",
      "Epoch 14/20\n",
      "7s - loss: 0.5558 - acc: 0.7875 - val_loss: 0.4619 - val_acc: 0.8267\n",
      "Epoch 15/20\n",
      "7s - loss: 0.5154 - acc: 0.8109 - val_loss: 0.4541 - val_acc: 0.8250\n",
      "Epoch 16/20\n",
      "7s - loss: 0.4816 - acc: 0.8288 - val_loss: 0.4493 - val_acc: 0.8276\n",
      "Epoch 17/20\n",
      "7s - loss: 0.4469 - acc: 0.8424 - val_loss: 0.4519 - val_acc: 0.8263\n",
      "Epoch 18/20\n",
      "7s - loss: 0.4172 - acc: 0.8514 - val_loss: 0.4514 - val_acc: 0.8207\n",
      "Epoch 19/20\n",
      "7s - loss: 0.3880 - acc: 0.8713 - val_loss: 0.4530 - val_acc: 0.8220\n",
      "Epoch 20/20\n",
      "7s - loss: 0.3555 - acc: 0.8873 - val_loss: 0.4570 - val_acc: 0.8224\n"
     ]
    },
    {
     "data": {
      "image/png": "[encoded data removed]",
      "text/plain": [
       "<matplotlib.figure.Figure at 0x15316a908>"
      ]
     },
     "metadata": {},
     "output_type": "display_data"
    },
    {
     "data": {
      "image/png": "[encoded data removed]",
      "text/plain": [
       "<matplotlib.figure.Figure at 0x1570900b8>"
      ]
     },
     "metadata": {},
     "output_type": "display_data"
    },
    {
     "name": "stdout",
     "output_type": "stream",
     "text": [
      "2912/2928 [============================>.] - ETA: 0s\n",
      "\n",
      "accuracy= 0.781079234973\n",
      "2928/2928 [==============================] - 4s     \n",
      "\n",
      " model saved to disk\n"
     ]
    }
   ],
   "source": [
    "import matplotlib.pyplot as plt\n",
    "def show_train_history(train_history,train,validation):\n",
    "    plt.plot(train_history.history[train])\n",
    "    plt.plot(train_history.history[validation])\n",
    "    plt.title('Train History')\n",
    "    plt.ylabel(train)\n",
    "    plt.xlabel('Epoch')\n",
    "    plt.legend(['train', 'validation'], loc='upper left')\n",
    "    plt.show()\n",
    "\n",
    "    \n",
    "from keras.models import Sequential\n",
    "from keras.layers.core import Dense, Dropout, Activation\n",
    "from keras.layers.embeddings import Embedding\n",
    "from keras.layers.recurrent import SimpleRNN #改SimpleRNN\n",
    "\n",
    "model = Sequential()\n",
    "\n",
    "model.add(Embedding(output_dim=100,\n",
    "                    input_dim=11712, \n",
    "                    input_length=100))\n",
    "model.add(Dropout(0.35))\n",
    "\n",
    "model.add(SimpleRNN(units=20)) ##改SimpleRNN\n",
    "\n",
    "model.add(Dense(units=100,activation='relu'))\n",
    "model.add(Dropout(0.35))\n",
    "\n",
    "model.add(Dense(units=3,activation='softmax'))\n",
    "\n",
    "print(model.summary())\n",
    "\n",
    "model.compile(loss='categorical_crossentropy',\n",
    "              optimizer = 'adam',\n",
    "              metrics=['accuracy'])\n",
    "\n",
    "train_history =model.fit(x_train, train_label_onehot, batch_size=3000, \n",
    "                         epochs=20,verbose=2, validation_split=0.2) #epoch=40其實loss就最低了\n",
    "\n",
    "show_train_history(train_history,'acc','val_acc')\n",
    "show_train_history(train_history,'loss','val_loss')\n",
    "\n",
    "\n",
    "######################### 實際測驗得分\n",
    "scores = model.evaluate(x_test, test_label_onehot)\n",
    "print('\\n')\n",
    "print('accuracy=',scores[1])\n",
    "\n",
    "######################### 紀錄模型預測情形（答案卷）\n",
    "prediction = model.predict_classes(x_test)\n",
    "\n",
    "#儲存訓練結果\n",
    "model.save_weights(\"Savemodels/Airline_Sentiment_RNN.h5\")\n",
    "print('\\n model saved to disk')"
   ]
  },
  {
   "cell_type": "code",
   "execution_count": 301,
   "metadata": {
    "collapsed": false
   },
   "outputs": [
    {
     "name": "stdout",
     "output_type": "stream",
     "text": [
      "20/20 [==============================] - 0s\n"
     ]
    },
    {
     "data": {
      "text/plain": [
       "array([0, 1, 2, 1, 2, 0, 1, 0, 2, 1, 1, 1, 0, 1, 1, 1, 1, 1, 0, 1])"
      ]
     },
     "execution_count": 301,
     "metadata": {},
     "output_type": "execute_result"
    }
   ],
   "source": [
    "string = ['I hate waiting. fuck you airline. They only want to take my money.', #0\n",
    "          'I fucking love this airline', #2\n",
    "          'I love this airline', #2\n",
    "          'It rains a lot here', #1\n",
    "          'Good job', #2\n",
    "          'Be Aware, Delayed Flights', #0\n",
    "          'Room for improvement is needed', #0~1\n",
    "          'There is something really wrong with this airline how can the government condone big delays?', #0\n",
    "          'Great Flight on a Budget Airline', #2\n",
    "          'More than I expected', #2\n",
    "          'This is what I wanted', #2\n",
    "          'Hope my trip be smooth', #1\n",
    "          'Delayed without any notification by more than 3 hours', #0\n",
    "          'Everything in time. Good personal. Fine food onboard', #2\n",
    "          'united','USAirways','AmericanAir','SouthwestAir','Delta','VirginAmerica'\n",
    "         ]\n",
    "\n",
    "str_token = token.texts_to_sequences(string)\n",
    "str_token_seq_pad = sequence.pad_sequences(str_token, maxlen=100)\n",
    "\n",
    "ans = model.predict_classes(str_token_seq_pad)\n",
    "ans #0: negative, 1:neutral, 2:positive"
   ]
  },
  {
   "cell_type": "markdown",
   "metadata": {},
   "source": [
    "## LSTM: 訓練慢，但效果最好！！"
   ]
  },
  {
   "cell_type": "code",
   "execution_count": 302,
   "metadata": {
    "collapsed": false
   },
   "outputs": [
    {
     "name": "stdout",
     "output_type": "stream",
     "text": [
      "_________________________________________________________________\n",
      "Layer (type)                 Output Shape              Param #   \n",
      "=================================================================\n",
      "embedding_31 (Embedding)     (None, 100, 100)          1171200   \n",
      "_________________________________________________________________\n",
      "dropout_77 (Dropout)         (None, 100, 100)          0         \n",
      "_________________________________________________________________\n",
      "lstm_7 (LSTM)                (None, 20)                9680      \n",
      "_________________________________________________________________\n",
      "dense_77 (Dense)             (None, 100)               2100      \n",
      "_________________________________________________________________\n",
      "dropout_78 (Dropout)         (None, 100)               0         \n",
      "_________________________________________________________________\n",
      "dense_78 (Dense)             (None, 3)                 303       \n",
      "=================================================================\n",
      "Total params: 1,183,283\n",
      "Trainable params: 1,183,283\n",
      "Non-trainable params: 0\n",
      "_________________________________________________________________\n",
      "None\n",
      "Train on 9369 samples, validate on 2343 samples\n",
      "Epoch 1/20\n",
      "23s - loss: 1.0955 - acc: 0.4495 - val_loss: 1.0730 - val_acc: 0.7875\n",
      "Epoch 2/20\n",
      "19s - loss: 1.0801 - acc: 0.5607 - val_loss: 1.0392 - val_acc: 0.7875\n",
      "Epoch 3/20\n",
      "20s - loss: 1.0597 - acc: 0.5599 - val_loss: 0.9918 - val_acc: 0.7875\n",
      "Epoch 4/20\n",
      "21s - loss: 1.0310 - acc: 0.5600 - val_loss: 0.9243 - val_acc: 0.7875\n",
      "Epoch 5/20\n",
      "21s - loss: 0.9923 - acc: 0.5604 - val_loss: 0.8300 - val_acc: 0.7875\n",
      "Epoch 6/20\n",
      "21s - loss: 0.9417 - acc: 0.5620 - val_loss: 0.7147 - val_acc: 0.7875\n",
      "Epoch 7/20\n",
      "20s - loss: 0.8919 - acc: 0.5731 - val_loss: 0.6201 - val_acc: 0.7977\n",
      "Epoch 8/20\n",
      "20s - loss: 0.8642 - acc: 0.5946 - val_loss: 0.5838 - val_acc: 0.7990\n",
      "Epoch 9/20\n",
      "20s - loss: 0.8361 - acc: 0.6229 - val_loss: 0.5762 - val_acc: 0.8020\n",
      "Epoch 10/20\n",
      "21s - loss: 0.7989 - acc: 0.6476 - val_loss: 0.5748 - val_acc: 0.7943\n",
      "Epoch 11/20\n",
      "21s - loss: 0.7632 - acc: 0.6704 - val_loss: 0.5639 - val_acc: 0.7930\n",
      "Epoch 12/20\n",
      "21s - loss: 0.7303 - acc: 0.6961 - val_loss: 0.5339 - val_acc: 0.7977\n",
      "Epoch 13/20\n",
      "21s - loss: 0.6904 - acc: 0.7191 - val_loss: 0.5029 - val_acc: 0.8041\n",
      "Epoch 14/20\n",
      "22s - loss: 0.6533 - acc: 0.7405 - val_loss: 0.4824 - val_acc: 0.8139\n",
      "Epoch 15/20\n",
      "22s - loss: 0.6169 - acc: 0.7553 - val_loss: 0.4674 - val_acc: 0.8250\n",
      "Epoch 16/20\n",
      "22s - loss: 0.5850 - acc: 0.7720 - val_loss: 0.4534 - val_acc: 0.8267\n",
      "Epoch 17/20\n",
      "24s - loss: 0.5490 - acc: 0.7929 - val_loss: 0.4389 - val_acc: 0.8344\n",
      "Epoch 18/20\n",
      "22s - loss: 0.5154 - acc: 0.8076 - val_loss: 0.4299 - val_acc: 0.8357\n",
      "Epoch 19/20\n",
      "24s - loss: 0.4830 - acc: 0.8212 - val_loss: 0.4228 - val_acc: 0.8408\n",
      "Epoch 20/20\n",
      "22s - loss: 0.4427 - acc: 0.8334 - val_loss: 0.4187 - val_acc: 0.8481\n"
     ]
    },
    {
     "data": {
      "image/png": "[encoded data removed]",
      "text/plain": [
       "<matplotlib.figure.Figure at 0x120842278>"
      ]
     },
     "metadata": {},
     "output_type": "display_data"
    },
    {
     "data": {
      "image/png": "[encoded data removed]",
      "text/plain": [
       "<matplotlib.figure.Figure at 0x1547adef0>"
      ]
     },
     "metadata": {},
     "output_type": "display_data"
    },
    {
     "name": "stdout",
     "output_type": "stream",
     "text": [
      "2928/2928 [==============================] - 10s    \n",
      "\n",
      "\n",
      "accuracy= 0.782445355191\n",
      "2928/2928 [==============================] - 13s    \n",
      "\n",
      " model saved to disk\n"
     ]
    }
   ],
   "source": [
    "import matplotlib.pyplot as plt\n",
    "def show_train_history(train_history,train,validation):\n",
    "    plt.plot(train_history.history[train])\n",
    "    plt.plot(train_history.history[validation])\n",
    "    plt.title('Train History')\n",
    "    plt.ylabel(train)\n",
    "    plt.xlabel('Epoch')\n",
    "    plt.legend(['train', 'validation'], loc='upper left')\n",
    "    plt.show()\n",
    "\n",
    "    \n",
    "from keras.models import Sequential\n",
    "from keras.layers.core import Dense, Dropout, Activation\n",
    "from keras.layers.embeddings import Embedding\n",
    "from keras.layers.recurrent import LSTM #改成LSTM\n",
    "\n",
    "model = Sequential()\n",
    "\n",
    "model.add(Embedding(output_dim=100,\n",
    "                    input_dim=11712, \n",
    "                    input_length=100))\n",
    "model.add(Dropout(0.35))\n",
    "\n",
    "model.add(LSTM(units=20)) #改LSTM\n",
    "\n",
    "model.add(Dense(units=100,activation='relu'))\n",
    "model.add(Dropout(0.35))\n",
    "\n",
    "model.add(Dense(units=3,activation='softmax'))\n",
    "\n",
    "print(model.summary())\n",
    "\n",
    "model.compile(loss='categorical_crossentropy',\n",
    "              optimizer = 'adam',\n",
    "              metrics=['accuracy'])\n",
    "\n",
    "train_history =model.fit(x_train, train_label_onehot, batch_size=3000, \n",
    "                         epochs=20,verbose=2,\n",
    "                         validation_split=0.2)\n",
    "\n",
    "show_train_history(train_history,'acc','val_acc')\n",
    "show_train_history(train_history,'loss','val_loss')\n",
    "\n",
    "\n",
    "######################### 實際測驗得分\n",
    "scores = model.evaluate(x_test, test_label_onehot)\n",
    "print('\\n')\n",
    "print('accuracy=',scores[1])\n",
    "\n",
    "######################### 紀錄模型預測情形（答案卷）\n",
    "prediction = model.predict_classes(x_test)\n",
    "\n",
    "#儲存訓練結果\n",
    "model.save_weights(\"Savemodels/Airline_Sentiment_LSTM.h5\")\n",
    "print('\\n model saved to disk')"
   ]
  },
  {
   "cell_type": "code",
   "execution_count": 303,
   "metadata": {
    "collapsed": false
   },
   "outputs": [
    {
     "name": "stdout",
     "output_type": "stream",
     "text": [
      "20/20 [==============================] - 0s\n"
     ]
    },
    {
     "data": {
      "text/plain": [
       "array([0, 2, 2, 1, 2, 0, 1, 0, 2, 1, 1, 2, 0, 2, 1, 1, 1, 1, 1, 1])"
      ]
     },
     "execution_count": 303,
     "metadata": {},
     "output_type": "execute_result"
    }
   ],
   "source": [
    "string = ['I hate waiting. fuck you airline. They only want to take my money.', #0\n",
    "          'I fucking love this airline', #2\n",
    "          'I love this airline', #2\n",
    "          'It rains a lot here', #1\n",
    "          'Good job', #2\n",
    "          'Be Aware, Delayed Flights', #0\n",
    "          'Room for improvement is needed', #0~1\n",
    "          'There is something really wrong with this airline how can the government condone big delays?', #0\n",
    "          'Great Flight on a Budget Airline', #2\n",
    "          'More than I expected', #2\n",
    "          'This is what I wanted', #2\n",
    "          'Hope my trip be smooth', #1\n",
    "          'Delayed without any notification by more than 3 hours', #0\n",
    "          'Everything in time. Good personal. Fine food onboard', #2\n",
    "          'united','USAirways','AmericanAir','SouthwestAir','Delta','VirginAmerica'\n",
    "         ]\n",
    "\n",
    "str_token = token.texts_to_sequences(string)\n",
    "str_token_seq_pad = sequence.pad_sequences(str_token, maxlen=100)\n",
    "\n",
    "ans = model.predict_classes(str_token_seq_pad)\n",
    "ans #0: negative, 1:neutral, 2:positive"
   ]
  },
  {
   "cell_type": "code",
   "execution_count": null,
   "metadata": {
    "collapsed": true
   },
   "outputs": [],
   "source": []
  }
 ],
 "metadata": {
  "kernelspec": {
   "display_name": "Python [conda root]",
   "language": "python",
   "name": "conda-root-py"
  },
  "language_info": {
   "codemirror_mode": {
    "name": "ipython",
    "version": 3
   },
   "file_extension": ".py",
   "mimetype": "text/x-python",
   "name": "python",
   "nbconvert_exporter": "python",
   "pygments_lexer": "ipython3",
   "version": "3.5.2"
  }
 },
 "nbformat": 4,
 "nbformat_minor": 1
}
