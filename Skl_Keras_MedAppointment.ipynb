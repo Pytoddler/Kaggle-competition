{
 "cells": [
  {
   "cell_type": "code",
   "execution_count": 1,
   "metadata": {
    "collapsed": false
   },
   "outputs": [
    {
     "name": "stderr",
     "output_type": "stream",
     "text": [
      "//anaconda/lib/python3.5/site-packages/sklearn/cross_validation.py:41: DeprecationWarning: This module was deprecated in version 0.18 in favor of the model_selection module into which all the refactored classes and functions are moved. Also note that the interface of the new CV iterators are different from that of this module. This module will be removed in 0.20.\n",
      "  \"This module will be removed in 0.20.\", DeprecationWarning)\n"
     ]
    }
   ],
   "source": [
    "# import common APIs\n",
    "import numpy as np\n",
    "import pandas as pd\n",
    "import matplotlib.pyplot as plt\n",
    "from mpl_toolkits.mplot3d import Axes3D\n",
    "import seaborn as sns\n",
    "import os\n",
    "from sklearn.preprocessing import MinMaxScaler, StandardScaler, LabelEncoder, OneHotEncoder\n",
    "from sklearn.decomposition import PCA\n",
    "from sklearn import cross_validation, naive_bayes, tree, svm, ensemble\n",
    "from sklearn.metrics import classification_report,confusion_matrix,precision_recall_curve,auc,roc_auc_score,roc_curve\n",
    "from xgboost import XGBClassifier"
   ]
  },
  {
   "cell_type": "markdown",
   "metadata": {},
   "source": [
    "# Data observation"
   ]
  },
  {
   "cell_type": "code",
   "execution_count": 2,
   "metadata": {
    "collapsed": false
   },
   "outputs": [
    {
     "data": {
      "text/html": [
       "<div>\n",
       "<table border=\"1\" class=\"dataframe\">\n",
       "  <thead>\n",
       "    <tr style=\"text-align: right;\">\n",
       "      <th></th>\n",
       "      <th>PatientId</th>\n",
       "      <th>AppointmentID</th>\n",
       "      <th>Gender</th>\n",
       "      <th>ScheduledDay</th>\n",
       "      <th>AppointmentDay</th>\n",
       "      <th>Age</th>\n",
       "      <th>Neighbourhood</th>\n",
       "      <th>Scholarship</th>\n",
       "      <th>Hipertension</th>\n",
       "      <th>Diabetes</th>\n",
       "      <th>Alcoholism</th>\n",
       "      <th>Handcap</th>\n",
       "      <th>SMS_received</th>\n",
       "      <th>No-show</th>\n",
       "    </tr>\n",
       "  </thead>\n",
       "  <tbody>\n",
       "    <tr>\n",
       "      <th>0</th>\n",
       "      <td>2.987250e+13</td>\n",
       "      <td>5642903</td>\n",
       "      <td>F</td>\n",
       "      <td>2016-04-29T18:38:08Z</td>\n",
       "      <td>2016-04-29T00:00:00Z</td>\n",
       "      <td>62</td>\n",
       "      <td>JARDIM DA PENHA</td>\n",
       "      <td>0</td>\n",
       "      <td>1</td>\n",
       "      <td>0</td>\n",
       "      <td>0</td>\n",
       "      <td>0</td>\n",
       "      <td>0</td>\n",
       "      <td>No</td>\n",
       "    </tr>\n",
       "    <tr>\n",
       "      <th>1</th>\n",
       "      <td>5.589978e+14</td>\n",
       "      <td>5642503</td>\n",
       "      <td>M</td>\n",
       "      <td>2016-04-29T16:08:27Z</td>\n",
       "      <td>2016-04-29T00:00:00Z</td>\n",
       "      <td>56</td>\n",
       "      <td>JARDIM DA PENHA</td>\n",
       "      <td>0</td>\n",
       "      <td>0</td>\n",
       "      <td>0</td>\n",
       "      <td>0</td>\n",
       "      <td>0</td>\n",
       "      <td>0</td>\n",
       "      <td>No</td>\n",
       "    </tr>\n",
       "    <tr>\n",
       "      <th>2</th>\n",
       "      <td>4.262962e+12</td>\n",
       "      <td>5642549</td>\n",
       "      <td>F</td>\n",
       "      <td>2016-04-29T16:19:04Z</td>\n",
       "      <td>2016-04-29T00:00:00Z</td>\n",
       "      <td>62</td>\n",
       "      <td>MATA DA PRAIA</td>\n",
       "      <td>0</td>\n",
       "      <td>0</td>\n",
       "      <td>0</td>\n",
       "      <td>0</td>\n",
       "      <td>0</td>\n",
       "      <td>0</td>\n",
       "      <td>No</td>\n",
       "    </tr>\n",
       "    <tr>\n",
       "      <th>3</th>\n",
       "      <td>8.679512e+11</td>\n",
       "      <td>5642828</td>\n",
       "      <td>F</td>\n",
       "      <td>2016-04-29T17:29:31Z</td>\n",
       "      <td>2016-04-29T00:00:00Z</td>\n",
       "      <td>8</td>\n",
       "      <td>PONTAL DE CAMBURI</td>\n",
       "      <td>0</td>\n",
       "      <td>0</td>\n",
       "      <td>0</td>\n",
       "      <td>0</td>\n",
       "      <td>0</td>\n",
       "      <td>0</td>\n",
       "      <td>No</td>\n",
       "    </tr>\n",
       "    <tr>\n",
       "      <th>4</th>\n",
       "      <td>8.841186e+12</td>\n",
       "      <td>5642494</td>\n",
       "      <td>F</td>\n",
       "      <td>2016-04-29T16:07:23Z</td>\n",
       "      <td>2016-04-29T00:00:00Z</td>\n",
       "      <td>56</td>\n",
       "      <td>JARDIM DA PENHA</td>\n",
       "      <td>0</td>\n",
       "      <td>1</td>\n",
       "      <td>1</td>\n",
       "      <td>0</td>\n",
       "      <td>0</td>\n",
       "      <td>0</td>\n",
       "      <td>No</td>\n",
       "    </tr>\n",
       "  </tbody>\n",
       "</table>\n",
       "</div>"
      ],
      "text/plain": [
       "      PatientId  AppointmentID Gender          ScheduledDay  \\\n",
       "0  2.987250e+13        5642903      F  2016-04-29T18:38:08Z   \n",
       "1  5.589978e+14        5642503      M  2016-04-29T16:08:27Z   \n",
       "2  4.262962e+12        5642549      F  2016-04-29T16:19:04Z   \n",
       "3  8.679512e+11        5642828      F  2016-04-29T17:29:31Z   \n",
       "4  8.841186e+12        5642494      F  2016-04-29T16:07:23Z   \n",
       "\n",
       "         AppointmentDay  Age      Neighbourhood  Scholarship  Hipertension  \\\n",
       "0  2016-04-29T00:00:00Z   62    JARDIM DA PENHA            0             1   \n",
       "1  2016-04-29T00:00:00Z   56    JARDIM DA PENHA            0             0   \n",
       "2  2016-04-29T00:00:00Z   62      MATA DA PRAIA            0             0   \n",
       "3  2016-04-29T00:00:00Z    8  PONTAL DE CAMBURI            0             0   \n",
       "4  2016-04-29T00:00:00Z   56    JARDIM DA PENHA            0             1   \n",
       "\n",
       "   Diabetes  Alcoholism  Handcap  SMS_received No-show  \n",
       "0         0           0        0             0      No  \n",
       "1         0           0        0             0      No  \n",
       "2         0           0        0             0      No  \n",
       "3         0           0        0             0      No  \n",
       "4         1           0        0             0      No  "
      ]
     },
     "execution_count": 2,
     "metadata": {},
     "output_type": "execute_result"
    }
   ],
   "source": [
    "# Data observation\n",
    "filepath = '/Users/mac/Desktop/Kaggle_datasets/Med_Appointment/'\n",
    "filename01 = 'KaggleV2-052016.csv'\n",
    "\n",
    "df_full = pd.read_csv(os.path.join(filepath, filename01))\n",
    "df_full.head()"
   ]
  },
  {
   "cell_type": "code",
   "execution_count": 3,
   "metadata": {
    "collapsed": false
   },
   "outputs": [
    {
     "name": "stdout",
     "output_type": "stream",
     "text": [
      "<class 'pandas.core.frame.DataFrame'>\n",
      "RangeIndex: 110527 entries, 0 to 110526\n",
      "Data columns (total 14 columns):\n",
      "PatientId         110527 non-null float64\n",
      "AppointmentID     110527 non-null int64\n",
      "Gender            110527 non-null object\n",
      "ScheduledDay      110527 non-null object\n",
      "AppointmentDay    110527 non-null object\n",
      "Age               110527 non-null int64\n",
      "Neighbourhood     110527 non-null object\n",
      "Scholarship       110527 non-null int64\n",
      "Hipertension      110527 non-null int64\n",
      "Diabetes          110527 non-null int64\n",
      "Alcoholism        110527 non-null int64\n",
      "Handcap           110527 non-null int64\n",
      "SMS_received      110527 non-null int64\n",
      "No-show           110527 non-null object\n",
      "dtypes: float64(1), int64(8), object(5)\n",
      "memory usage: 11.8+ MB\n"
     ]
    }
   ],
   "source": [
    "df_full.info()"
   ]
  },
  {
   "cell_type": "code",
   "execution_count": 4,
   "metadata": {
    "collapsed": false
   },
   "outputs": [
    {
     "data": {
      "text/plain": [
       "Index(['PatientId', 'AppointmentID', 'Gender', 'ScheduledDay',\n",
       "       'AppointmentDay', 'Age', 'Neighbourhood', 'Scholarship', 'Hipertension',\n",
       "       'Diabetes', 'Alcoholism', 'Handcap', 'SMS_received', 'No-show'],\n",
       "      dtype='object')"
      ]
     },
     "execution_count": 4,
     "metadata": {},
     "output_type": "execute_result"
    }
   ],
   "source": [
    "df_full.columns"
   ]
  },
  {
   "cell_type": "code",
   "execution_count": 5,
   "metadata": {
    "collapsed": false
   },
   "outputs": [
    {
     "data": {
      "text/plain": [
       "0    108286\n",
       "1      2042\n",
       "2       183\n",
       "3        13\n",
       "4         3\n",
       "Name: Handcap, dtype: int64"
      ]
     },
     "execution_count": 5,
     "metadata": {},
     "output_type": "execute_result"
    }
   ],
   "source": [
    "df_full.Handcap.value_counts()"
   ]
  },
  {
   "cell_type": "code",
   "execution_count": null,
   "metadata": {
    "collapsed": false
   },
   "outputs": [],
   "source": [
    "##太久了...\n",
    "df_dum = pd.get_dummies(df_full[['Gender', 'ScheduledDay','AppointmentDay', 'Age', \n",
    "                                'Neighbourhood', 'Scholarship', 'Hipertension','Diabetes', \n",
    "                                'Alcoholism', 'Handcap', 'SMS_received', 'No-show']])\n",
    "\n",
    "# Corr heatmap：直接看一排相關係數高低\n",
    "k = 20 #number of variables for heatmap\n",
    "corrmat = df_dum.corr()\n",
    "cols = corrmat.nlargest(k, 'No-show')['No-show'].index\n",
    "cm = np.corrcoef(df_dum[cols].values.T)\n",
    "\n",
    "plt.figure(figsize=(15,15)) #可以調整大小\n",
    "sns.set(font_scale=1.25)\n",
    "hm = sns.heatmap(cm, cbar=True, annot=True, square=True, fmt='.2f', annot_kws={'size': 10},\n",
    "                 yticklabels = cols.values, xticklabels = cols.values, cmap='rainbow')\n",
    "hm.xaxis.set_ticks_position('top')\n",
    "plt.show()"
   ]
  },
  {
   "cell_type": "code",
   "execution_count": 38,
   "metadata": {
    "collapsed": false
   },
   "outputs": [
    {
     "data": {
      "image/png": "[encoded data removed]",
      "text/plain": [
       "<matplotlib.figure.Figure at 0x113478828>"
      ]
     },
     "metadata": {},
     "output_type": "display_data"
    }
   ],
   "source": [
    "fig, ([axis1,axis2],[axis3,axis4]) = plt.subplots(2,2,figsize=(10,10))\n",
    "sns.countplot(x='Gender', data=df_num, ax=axis1)\n",
    "sns.countplot(x='No-show', data=df_num, ax=axis2)\n",
    "sns.stripplot(x='No-show', y='Gender', data=df_num, ax=axis3, jitter=True)\n",
    "sns.barplot(x='Gender', y='No-show', data=df_num, ax=axis4)\n",
    "plt.show()"
   ]
  },
  {
   "cell_type": "code",
   "execution_count": 39,
   "metadata": {
    "collapsed": false
   },
   "outputs": [
    {
     "data": {
      "image/png": "[encoded data removed]",
      "text/plain": [
       "<matplotlib.figure.Figure at 0x11349e860>"
      ]
     },
     "metadata": {},
     "output_type": "display_data"
    }
   ],
   "source": [
    "fig, ([axis1,axis2],[axis3,axis4]) = plt.subplots(2,2,figsize=(10,10))\n",
    "sns.countplot(x='Handcap', data=df_num, ax=axis1)\n",
    "sns.countplot(x='No-show', data=df_num, ax=axis2)\n",
    "sns.stripplot(x='No-show', y='Handcap', data=df_num, ax=axis3, jitter=True)\n",
    "sns.barplot(x='Handcap', y='No-show', data=df_num, ax=axis4)\n",
    "plt.show()"
   ]
  },
  {
   "cell_type": "code",
   "execution_count": 6,
   "metadata": {
    "collapsed": false
   },
   "outputs": [
    {
     "data": {
      "image/png": "[encoded data removed]",
      "text/plain": [
       "<matplotlib.figure.Figure at 0x10495f860>"
      ]
     },
     "metadata": {},
     "output_type": "display_data"
    }
   ],
   "source": [
    "sns.distplot(df_full['Age'], kde=False, bins=15)\n",
    "plt.show()"
   ]
  },
  {
   "cell_type": "code",
   "execution_count": 11,
   "metadata": {
    "collapsed": false
   },
   "outputs": [
    {
     "data": {
      "image/png": "[encoded data removed]",
      "text/plain": [
       "<matplotlib.figure.Figure at 0x1108f4358>"
      ]
     },
     "metadata": {},
     "output_type": "display_data"
    }
   ],
   "source": [
    "g = sns.FacetGrid(df_full, col='No-show', row='Gender')\n",
    "g.map(plt.hist, 'Age') #使用年齡的分佈做圖兩個變項\n",
    "plt.show()"
   ]
  },
  {
   "cell_type": "code",
   "execution_count": 12,
   "metadata": {
    "collapsed": false
   },
   "outputs": [
    {
     "data": {
      "image/png": "[encoded data removed]",
      "text/plain": [
       "<matplotlib.figure.Figure at 0x110e2cd68>"
      ]
     },
     "metadata": {},
     "output_type": "display_data"
    }
   ],
   "source": [
    "g = sns.FacetGrid(df_full, col='No-show', row='Handcap')\n",
    "g.map(plt.hist, 'Age') #使用年齡的分佈做圖兩個變項\n",
    "plt.show() #由此可見Handcap是重要因子"
   ]
  },
  {
   "cell_type": "code",
   "execution_count": 13,
   "metadata": {
    "collapsed": false
   },
   "outputs": [
    {
     "data": {
      "image/png": "[encoded data removed]",
      "text/plain": [
       "<matplotlib.figure.Figure at 0x110d56908>"
      ]
     },
     "metadata": {},
     "output_type": "display_data"
    }
   ],
   "source": [
    "# graph distribution of sms reminders\n",
    "sns.countplot(x='SMS_received', hue='No-show', data=df_full)\n",
    "plt.show()"
   ]
  },
  {
   "cell_type": "code",
   "execution_count": 16,
   "metadata": {
    "collapsed": false
   },
   "outputs": [
    {
     "data": {
      "image/png": "[encoded data removed]",
      "text/plain": [
       "<matplotlib.figure.Figure at 0x111730400>"
      ]
     },
     "metadata": {},
     "output_type": "display_data"
    }
   ],
   "source": [
    "sns.stripplot(x='No-show', y='Age', data=df_full, \n",
    "              hue='SMS_received', jitter=True)\n",
    "plt.show()"
   ]
  },
  {
   "cell_type": "markdown",
   "metadata": {},
   "source": [
    "# Data preprocessing"
   ]
  },
  {
   "cell_type": "code",
   "execution_count": 33,
   "metadata": {
    "collapsed": false
   },
   "outputs": [
    {
     "data": {
      "text/html": [
       "<div>\n",
       "<table border=\"1\" class=\"dataframe\">\n",
       "  <thead>\n",
       "    <tr style=\"text-align: right;\">\n",
       "      <th></th>\n",
       "      <th>Gender</th>\n",
       "      <th>Age</th>\n",
       "      <th>Neighbourhood</th>\n",
       "      <th>Scholarship</th>\n",
       "      <th>Hipertension</th>\n",
       "      <th>Diabetes</th>\n",
       "      <th>Alcoholism</th>\n",
       "      <th>Handcap</th>\n",
       "      <th>SMS_received</th>\n",
       "      <th>No-show</th>\n",
       "    </tr>\n",
       "  </thead>\n",
       "  <tbody>\n",
       "    <tr>\n",
       "      <th>0</th>\n",
       "      <td>0</td>\n",
       "      <td>63</td>\n",
       "      <td>39</td>\n",
       "      <td>0</td>\n",
       "      <td>1</td>\n",
       "      <td>0</td>\n",
       "      <td>0</td>\n",
       "      <td>0</td>\n",
       "      <td>0</td>\n",
       "      <td>0</td>\n",
       "    </tr>\n",
       "    <tr>\n",
       "      <th>1</th>\n",
       "      <td>1</td>\n",
       "      <td>57</td>\n",
       "      <td>39</td>\n",
       "      <td>0</td>\n",
       "      <td>0</td>\n",
       "      <td>0</td>\n",
       "      <td>0</td>\n",
       "      <td>0</td>\n",
       "      <td>0</td>\n",
       "      <td>0</td>\n",
       "    </tr>\n",
       "    <tr>\n",
       "      <th>2</th>\n",
       "      <td>0</td>\n",
       "      <td>63</td>\n",
       "      <td>45</td>\n",
       "      <td>0</td>\n",
       "      <td>0</td>\n",
       "      <td>0</td>\n",
       "      <td>0</td>\n",
       "      <td>0</td>\n",
       "      <td>0</td>\n",
       "      <td>0</td>\n",
       "    </tr>\n",
       "    <tr>\n",
       "      <th>3</th>\n",
       "      <td>0</td>\n",
       "      <td>9</td>\n",
       "      <td>54</td>\n",
       "      <td>0</td>\n",
       "      <td>0</td>\n",
       "      <td>0</td>\n",
       "      <td>0</td>\n",
       "      <td>0</td>\n",
       "      <td>0</td>\n",
       "      <td>0</td>\n",
       "    </tr>\n",
       "    <tr>\n",
       "      <th>4</th>\n",
       "      <td>0</td>\n",
       "      <td>57</td>\n",
       "      <td>39</td>\n",
       "      <td>0</td>\n",
       "      <td>1</td>\n",
       "      <td>1</td>\n",
       "      <td>0</td>\n",
       "      <td>0</td>\n",
       "      <td>0</td>\n",
       "      <td>0</td>\n",
       "    </tr>\n",
       "  </tbody>\n",
       "</table>\n",
       "</div>"
      ],
      "text/plain": [
       "   Gender  Age  Neighbourhood  Scholarship  Hipertension  Diabetes  \\\n",
       "0       0   63             39            0             1         0   \n",
       "1       1   57             39            0             0         0   \n",
       "2       0   63             45            0             0         0   \n",
       "3       0    9             54            0             0         0   \n",
       "4       0   57             39            0             1         1   \n",
       "\n",
       "   Alcoholism  Handcap  SMS_received  No-show  \n",
       "0           0        0             0        0  \n",
       "1           0        0             0        0  \n",
       "2           0        0             0        0  \n",
       "3           0        0             0        0  \n",
       "4           0        0             0        0  "
      ]
     },
     "execution_count": 33,
     "metadata": {},
     "output_type": "execute_result"
    }
   ],
   "source": [
    "cols = ['Gender','Age', 'Neighbourhood', 'Scholarship', 'Hipertension',\n",
    "        'Diabetes', 'Alcoholism', 'Handcap', 'SMS_received', 'No-show']\n",
    "\n",
    "df_num = df_full[cols].apply(LabelEncoder().fit_transform)\n",
    "df_num.head() #F:0/M:1, No:0/Yes:1"
   ]
  },
  {
   "cell_type": "code",
   "execution_count": 34,
   "metadata": {
    "collapsed": false
   },
   "outputs": [
    {
     "name": "stderr",
     "output_type": "stream",
     "text": [
      "//anaconda/lib/python3.5/site-packages/sklearn/utils/validation.py:444: DataConversionWarning: Data with input dtype int64 was converted to float64 by MinMaxScaler.\n",
      "  warnings.warn(msg, DataConversionWarning)\n"
     ]
    }
   ],
   "source": [
    "#可是效果並沒有變好\n",
    "scaler = MinMaxScaler()\n",
    "scaler.fit(df_num.Age.values.reshape(-1, 1))\n",
    "df_num['Age'] = scaler.transform(df_num.Age.values.reshape(-1, 1))"
   ]
  },
  {
   "cell_type": "code",
   "execution_count": 35,
   "metadata": {
    "collapsed": false
   },
   "outputs": [],
   "source": [
    "df_num = pd.get_dummies(df_num, columns=['Neighbourhood'])"
   ]
  },
  {
   "cell_type": "code",
   "execution_count": 41,
   "metadata": {
    "collapsed": false
   },
   "outputs": [
    {
     "data": {
      "text/html": [
       "<div>\n",
       "<table border=\"1\" class=\"dataframe\">\n",
       "  <thead>\n",
       "    <tr style=\"text-align: right;\">\n",
       "      <th></th>\n",
       "      <th>Gender</th>\n",
       "      <th>Age</th>\n",
       "      <th>Scholarship</th>\n",
       "      <th>Hipertension</th>\n",
       "      <th>Diabetes</th>\n",
       "      <th>Alcoholism</th>\n",
       "      <th>Handcap</th>\n",
       "      <th>SMS_received</th>\n",
       "      <th>No-show</th>\n",
       "      <th>Neighbourhood_0</th>\n",
       "      <th>...</th>\n",
       "      <th>Neighbourhood_71</th>\n",
       "      <th>Neighbourhood_72</th>\n",
       "      <th>Neighbourhood_73</th>\n",
       "      <th>Neighbourhood_74</th>\n",
       "      <th>Neighbourhood_75</th>\n",
       "      <th>Neighbourhood_76</th>\n",
       "      <th>Neighbourhood_77</th>\n",
       "      <th>Neighbourhood_78</th>\n",
       "      <th>Neighbourhood_79</th>\n",
       "      <th>Neighbourhood_80</th>\n",
       "    </tr>\n",
       "  </thead>\n",
       "  <tbody>\n",
       "    <tr>\n",
       "      <th>0</th>\n",
       "      <td>0</td>\n",
       "      <td>0.611650</td>\n",
       "      <td>0</td>\n",
       "      <td>1</td>\n",
       "      <td>0</td>\n",
       "      <td>0</td>\n",
       "      <td>0</td>\n",
       "      <td>0</td>\n",
       "      <td>0</td>\n",
       "      <td>0</td>\n",
       "      <td>...</td>\n",
       "      <td>0</td>\n",
       "      <td>0</td>\n",
       "      <td>0</td>\n",
       "      <td>0</td>\n",
       "      <td>0</td>\n",
       "      <td>0</td>\n",
       "      <td>0</td>\n",
       "      <td>0</td>\n",
       "      <td>0</td>\n",
       "      <td>0</td>\n",
       "    </tr>\n",
       "    <tr>\n",
       "      <th>1</th>\n",
       "      <td>1</td>\n",
       "      <td>0.553398</td>\n",
       "      <td>0</td>\n",
       "      <td>0</td>\n",
       "      <td>0</td>\n",
       "      <td>0</td>\n",
       "      <td>0</td>\n",
       "      <td>0</td>\n",
       "      <td>0</td>\n",
       "      <td>0</td>\n",
       "      <td>...</td>\n",
       "      <td>0</td>\n",
       "      <td>0</td>\n",
       "      <td>0</td>\n",
       "      <td>0</td>\n",
       "      <td>0</td>\n",
       "      <td>0</td>\n",
       "      <td>0</td>\n",
       "      <td>0</td>\n",
       "      <td>0</td>\n",
       "      <td>0</td>\n",
       "    </tr>\n",
       "    <tr>\n",
       "      <th>2</th>\n",
       "      <td>0</td>\n",
       "      <td>0.611650</td>\n",
       "      <td>0</td>\n",
       "      <td>0</td>\n",
       "      <td>0</td>\n",
       "      <td>0</td>\n",
       "      <td>0</td>\n",
       "      <td>0</td>\n",
       "      <td>0</td>\n",
       "      <td>0</td>\n",
       "      <td>...</td>\n",
       "      <td>0</td>\n",
       "      <td>0</td>\n",
       "      <td>0</td>\n",
       "      <td>0</td>\n",
       "      <td>0</td>\n",
       "      <td>0</td>\n",
       "      <td>0</td>\n",
       "      <td>0</td>\n",
       "      <td>0</td>\n",
       "      <td>0</td>\n",
       "    </tr>\n",
       "    <tr>\n",
       "      <th>3</th>\n",
       "      <td>0</td>\n",
       "      <td>0.087379</td>\n",
       "      <td>0</td>\n",
       "      <td>0</td>\n",
       "      <td>0</td>\n",
       "      <td>0</td>\n",
       "      <td>0</td>\n",
       "      <td>0</td>\n",
       "      <td>0</td>\n",
       "      <td>0</td>\n",
       "      <td>...</td>\n",
       "      <td>0</td>\n",
       "      <td>0</td>\n",
       "      <td>0</td>\n",
       "      <td>0</td>\n",
       "      <td>0</td>\n",
       "      <td>0</td>\n",
       "      <td>0</td>\n",
       "      <td>0</td>\n",
       "      <td>0</td>\n",
       "      <td>0</td>\n",
       "    </tr>\n",
       "    <tr>\n",
       "      <th>4</th>\n",
       "      <td>0</td>\n",
       "      <td>0.553398</td>\n",
       "      <td>0</td>\n",
       "      <td>1</td>\n",
       "      <td>1</td>\n",
       "      <td>0</td>\n",
       "      <td>0</td>\n",
       "      <td>0</td>\n",
       "      <td>0</td>\n",
       "      <td>0</td>\n",
       "      <td>...</td>\n",
       "      <td>0</td>\n",
       "      <td>0</td>\n",
       "      <td>0</td>\n",
       "      <td>0</td>\n",
       "      <td>0</td>\n",
       "      <td>0</td>\n",
       "      <td>0</td>\n",
       "      <td>0</td>\n",
       "      <td>0</td>\n",
       "      <td>0</td>\n",
       "    </tr>\n",
       "  </tbody>\n",
       "</table>\n",
       "<p>5 rows × 90 columns</p>\n",
       "</div>"
      ],
      "text/plain": [
       "   Gender       Age  Scholarship  Hipertension  Diabetes  Alcoholism  Handcap  \\\n",
       "0       0  0.611650            0             1         0           0        0   \n",
       "1       1  0.553398            0             0         0           0        0   \n",
       "2       0  0.611650            0             0         0           0        0   \n",
       "3       0  0.087379            0             0         0           0        0   \n",
       "4       0  0.553398            0             1         1           0        0   \n",
       "\n",
       "   SMS_received  No-show  Neighbourhood_0        ...         Neighbourhood_71  \\\n",
       "0             0        0                0        ...                        0   \n",
       "1             0        0                0        ...                        0   \n",
       "2             0        0                0        ...                        0   \n",
       "3             0        0                0        ...                        0   \n",
       "4             0        0                0        ...                        0   \n",
       "\n",
       "   Neighbourhood_72  Neighbourhood_73  Neighbourhood_74  Neighbourhood_75  \\\n",
       "0                 0                 0                 0                 0   \n",
       "1                 0                 0                 0                 0   \n",
       "2                 0                 0                 0                 0   \n",
       "3                 0                 0                 0                 0   \n",
       "4                 0                 0                 0                 0   \n",
       "\n",
       "   Neighbourhood_76  Neighbourhood_77  Neighbourhood_78  Neighbourhood_79  \\\n",
       "0                 0                 0                 0                 0   \n",
       "1                 0                 0                 0                 0   \n",
       "2                 0                 0                 0                 0   \n",
       "3                 0                 0                 0                 0   \n",
       "4                 0                 0                 0                 0   \n",
       "\n",
       "   Neighbourhood_80  \n",
       "0                 0  \n",
       "1                 0  \n",
       "2                 0  \n",
       "3                 0  \n",
       "4                 0  \n",
       "\n",
       "[5 rows x 90 columns]"
      ]
     },
     "execution_count": 41,
     "metadata": {},
     "output_type": "execute_result"
    }
   ],
   "source": [
    "df_num.head()"
   ]
  },
  {
   "cell_type": "code",
   "execution_count": 24,
   "metadata": {
    "collapsed": true
   },
   "outputs": [],
   "source": [
    "# Data preprocessing\n",
    "from sklearn.utils import shuffle\n",
    "\n",
    "shuffle_df = shuffle(df_num, random_state=42)\n",
    "\n",
    "df_label = shuffle_df['No-show']\n",
    "df_feature = shuffle_df.drop('No-show', axis=1)\n",
    "\n",
    "cut_point = round(len(df_num)*0.6)\n",
    "train_feature = np.array(df_feature.values[:cut_point,:])\n",
    "train_label = np.array(df_label.values[:cut_point])\n",
    "test_feature = np.array(df_feature.values[cut_point:,:])\n",
    "test_label = np.array(df_label.values[cut_point:])"
   ]
  },
  {
   "cell_type": "markdown",
   "metadata": {},
   "source": [
    "# Scikit-Learn: 不論是MinMaxScaler或者是get dummies都沒有讓結果變好～"
   ]
  },
  {
   "cell_type": "code",
   "execution_count": 25,
   "metadata": {
    "collapsed": false
   },
   "outputs": [
    {
     "name": "stdout",
     "output_type": "stream",
     "text": [
      "Traing Score:0.798178\n",
      "Testing Score:0.797810\n",
      "\n",
      "             precision    recall  f1-score   support\n",
      "\n",
      "          0       0.80      1.00      0.89     13233\n",
      "          1       1.00      0.00      0.00      3346\n",
      "\n",
      "avg / total       0.84      0.80      0.71     16579\n",
      "\n",
      "\n",
      "             precision    recall  f1-score   support\n",
      "\n",
      "          0       0.80      1.00      0.89     35276\n",
      "          1       0.00      0.00      0.00      8935\n",
      "\n",
      "avg / total       0.64      0.80      0.71     44211\n",
      "\n"
     ]
    }
   ],
   "source": [
    "### naive_bayes.BernoulliNB()\n",
    "from sklearn import cross_validation, naive_bayes\n",
    "X_train,X_test,y_train,y_test = cross_validation.train_test_split(train_feature,train_label, \n",
    "                                              test_size=0.25, random_state=0,stratify=train_label)\n",
    "clf=naive_bayes.BernoulliNB()\n",
    "clf.fit(X_train,y_train)\n",
    "print(\"Traing Score:%f\"%clf.score(train_feature,train_label))\n",
    "print(\"Testing Score:%f\"%clf.score(test_feature,test_label))\n",
    "\n",
    "y_predict = clf.predict(X_test)\n",
    "print('\\n'+classification_report(y_test,y_predict))\n",
    "\n",
    "y_predict2 = clf.predict(test_feature)\n",
    "print('\\n'+classification_report(test_label,y_predict2))"
   ]
  },
  {
   "cell_type": "code",
   "execution_count": 26,
   "metadata": {
    "collapsed": false
   },
   "outputs": [
    {
     "name": "stdout",
     "output_type": "stream",
     "text": [
      "Traing Score:0.244994\n",
      "Testing Score:0.244600\n",
      "\n",
      "             precision    recall  f1-score   support\n",
      "\n",
      "          0       0.81      0.07      0.13     13233\n",
      "          1       0.20      0.94      0.33      3346\n",
      "\n",
      "avg / total       0.69      0.24      0.17     16579\n",
      "\n",
      "\n",
      "             precision    recall  f1-score   support\n",
      "\n",
      "          0       0.82      0.07      0.13     35276\n",
      "          1       0.20      0.94      0.34      8935\n",
      "\n",
      "avg / total       0.70      0.24      0.17     44211\n",
      "\n"
     ]
    }
   ],
   "source": [
    "### naive_bayes.GaussianNB()\n",
    "from sklearn import cross_validation, naive_bayes\n",
    "X_train,X_test,y_train,y_test = cross_validation.train_test_split(train_feature,train_label, \n",
    "                                              test_size=0.25, random_state=0,stratify=train_label)\n",
    "clf=naive_bayes.GaussianNB()\n",
    "clf.fit(X_train,y_train)\n",
    "print(\"Traing Score:%f\"%clf.score(train_feature,train_label))\n",
    "print(\"Testing Score:%f\"%clf.score(test_feature,test_label))\n",
    "\n",
    "y_predict = clf.predict(X_test)\n",
    "print('\\n'+classification_report(y_test,y_predict))\n",
    "\n",
    "y_predict2 = clf.predict(test_feature)\n",
    "print('\\n'+classification_report(test_label,y_predict2))"
   ]
  },
  {
   "cell_type": "code",
   "execution_count": 27,
   "metadata": {
    "collapsed": false
   },
   "outputs": [
    {
     "name": "stdout",
     "output_type": "stream",
     "text": [
      "Traing Score:0.841939\n",
      "Testing Score:0.747371\n",
      "\n",
      "             precision    recall  f1-score   support\n",
      "\n",
      "          0       0.81      0.90      0.85     13233\n",
      "          1       0.27      0.14      0.19      3346\n",
      "\n",
      "avg / total       0.70      0.75      0.72     16579\n",
      "\n",
      "\n",
      "             precision    recall  f1-score   support\n",
      "\n",
      "          0       0.81      0.90      0.85     35276\n",
      "          1       0.28      0.15      0.20      8935\n",
      "\n",
      "avg / total       0.70      0.75      0.72     44211\n",
      "\n"
     ]
    }
   ],
   "source": [
    "### tree.DecisionTreeClassifier()\n",
    "from sklearn import cross_validation,tree\n",
    "X_train,X_test,y_train,y_test = cross_validation.train_test_split(train_feature,train_label, \n",
    "                                              test_size=0.25, random_state=0,stratify=train_label)\n",
    "clf=tree.DecisionTreeClassifier()\n",
    "clf.fit(X_train,y_train)\n",
    "print(\"Traing Score:%f\"%clf.score(train_feature,train_label))\n",
    "print(\"Testing Score:%f\"%clf.score(test_feature,test_label))\n",
    "\n",
    "y_predict = clf.predict(X_test)\n",
    "print('\\n'+classification_report(y_test,y_predict))\n",
    "\n",
    "y_predict2 = clf.predict(test_feature)\n",
    "print('\\n'+classification_report(test_label,y_predict2))"
   ]
  },
  {
   "cell_type": "code",
   "execution_count": 28,
   "metadata": {
    "collapsed": false
   },
   "outputs": [
    {
     "name": "stdout",
     "output_type": "stream",
     "text": [
      "Traing Score:0.798178\n",
      "Testing Score:0.797901\n",
      "\n",
      "             precision    recall  f1-score   support\n",
      "\n",
      "          0       0.80      1.00      0.89     13233\n",
      "          1       0.00      0.00      0.00      3346\n",
      "\n",
      "avg / total       0.64      0.80      0.71     16579\n",
      "\n",
      "\n",
      "             precision    recall  f1-score   support\n",
      "\n",
      "          0       0.80      1.00      0.89     35276\n",
      "          1       0.00      0.00      0.00      8935\n",
      "\n",
      "avg / total       0.64      0.80      0.71     44211\n",
      "\n"
     ]
    },
    {
     "name": "stderr",
     "output_type": "stream",
     "text": [
      "//anaconda/lib/python3.5/site-packages/sklearn/metrics/classification.py:1135: UndefinedMetricWarning: Precision and F-score are ill-defined and being set to 0.0 in labels with no predicted samples.\n",
      "  'precision', 'predicted', average, warn_for)\n"
     ]
    }
   ],
   "source": [
    "### svm.LinearSVC()\n",
    "from sklearn import cross_validation,svm\n",
    "X_train,X_test,y_train,y_test = cross_validation.train_test_split(train_feature,train_label, \n",
    "                                              test_size=0.25, random_state=0,stratify=train_label)\n",
    "clf=svm.LinearSVC()\n",
    "clf.fit(X_train,y_train)\n",
    "print(\"Traing Score:%f\"%clf.score(train_feature,train_label))\n",
    "print(\"Testing Score:%f\"%clf.score(test_feature,test_label))\n",
    "\n",
    "y_predict = clf.predict(X_test)\n",
    "print('\\n'+classification_report(y_test,y_predict))\n",
    "\n",
    "y_predict2 = clf.predict(test_feature)\n",
    "print('\\n'+classification_report(test_label,y_predict2))"
   ]
  },
  {
   "cell_type": "code",
   "execution_count": 29,
   "metadata": {
    "collapsed": false
   },
   "outputs": [
    {
     "name": "stdout",
     "output_type": "stream",
     "text": [
      "Traing Score:0.798209\n",
      "Testing Score:0.797765\n",
      "\n",
      "             precision    recall  f1-score   support\n",
      "\n",
      "          0       0.80      1.00      0.89     13233\n",
      "          1       0.50      0.00      0.00      3346\n",
      "\n",
      "avg / total       0.74      0.80      0.71     16579\n",
      "\n",
      "\n",
      "             precision    recall  f1-score   support\n",
      "\n",
      "          0       0.80      1.00      0.89     35276\n",
      "          1       0.12      0.00      0.00      8935\n",
      "\n",
      "avg / total       0.66      0.80      0.71     44211\n",
      "\n"
     ]
    }
   ],
   "source": [
    "### ensemble.AdaBoostClassifier()\n",
    "from sklearn import cross_validation,ensemble\n",
    "X_train,X_test,y_train,y_test = cross_validation.train_test_split(train_feature,train_label, \n",
    "                                              test_size=0.25, random_state=0,stratify=train_label) #分層取樣\n",
    "clf=ensemble.AdaBoostClassifier()\n",
    "clf.fit(X_train,y_train)\n",
    "print(\"Traing Score:%f\"%clf.score(train_feature,train_label))\n",
    "print(\"Testing Score:%f\"%clf.score(test_feature,test_label))\n",
    "\n",
    "y_predict = clf.predict(X_test)\n",
    "print('\\n'+classification_report(y_test,y_predict))\n",
    "\n",
    "y_predict2 = clf.predict(test_feature)\n",
    "print('\\n'+classification_report(test_label,y_predict2))"
   ]
  },
  {
   "cell_type": "code",
   "execution_count": 30,
   "metadata": {
    "collapsed": false
   },
   "outputs": [
    {
     "name": "stdout",
     "output_type": "stream",
     "text": [
      "Traing Score:0.833539\n",
      "Testing Score:0.745855\n",
      "\n",
      "             precision    recall  f1-score   support\n",
      "\n",
      "          0       0.81      0.89      0.85     13233\n",
      "          1       0.27      0.16      0.20      3346\n",
      "\n",
      "avg / total       0.70      0.74      0.72     16579\n",
      "\n",
      "\n",
      "             precision    recall  f1-score   support\n",
      "\n",
      "          0       0.81      0.89      0.85     35276\n",
      "          1       0.29      0.18      0.22      8935\n",
      "\n",
      "avg / total       0.70      0.75      0.72     44211\n",
      "\n"
     ]
    }
   ],
   "source": [
    "### ensemble.RandomForestClassifier()\n",
    "from sklearn import cross_validation,ensemble\n",
    "X_train,X_test,y_train,y_test = cross_validation.train_test_split(train_feature,train_label, \n",
    "                                              test_size=0.25, random_state=0,stratify=train_label) #分層取樣\n",
    "clf=ensemble.RandomForestClassifier()\n",
    "clf.fit(X_train,y_train)\n",
    "print(\"Traing Score:%f\"%clf.score(train_feature,train_label))\n",
    "print(\"Testing Score:%f\"%clf.score(test_feature,test_label))\n",
    "\n",
    "y_predict = clf.predict(X_test)\n",
    "print('\\n'+classification_report(y_test,y_predict))\n",
    "\n",
    "y_predict2 = clf.predict(test_feature)\n",
    "print('\\n'+classification_report(test_label,y_predict2))"
   ]
  },
  {
   "cell_type": "code",
   "execution_count": 31,
   "metadata": {
    "collapsed": false
   },
   "outputs": [
    {
     "name": "stdout",
     "output_type": "stream",
     "text": [
      "Traing Score:0.798209\n",
      "Testing Score:0.797856\n",
      "\n",
      "             precision    recall  f1-score   support\n",
      "\n",
      "          0       0.80      1.00      0.89     13233\n",
      "          1       0.00      0.00      0.00      3346\n",
      "\n",
      "avg / total       0.64      0.80      0.71     16579\n",
      "\n",
      "\n",
      "             precision    recall  f1-score   support\n",
      "\n",
      "          0       0.80      1.00      0.89     35276\n",
      "          1       0.00      0.00      0.00      8935\n",
      "\n",
      "avg / total       0.64      0.80      0.71     44211\n",
      "\n"
     ]
    },
    {
     "name": "stderr",
     "output_type": "stream",
     "text": [
      "//anaconda/lib/python3.5/site-packages/sklearn/metrics/classification.py:1135: UndefinedMetricWarning: Precision and F-score are ill-defined and being set to 0.0 in labels with no predicted samples.\n",
      "  'precision', 'predicted', average, warn_for)\n"
     ]
    }
   ],
   "source": [
    "# XGBClassifier()\n",
    "from xgboost import XGBClassifier\n",
    "X_train,X_test,y_train,y_test = cross_validation.train_test_split(train_feature,train_label, \n",
    "                                              test_size=0.25, random_state=0,stratify=train_label) #分層取樣\n",
    "clf=XGBClassifier()\n",
    "clf.fit(X_train,y_train)\n",
    "print(\"Traing Score:%f\"%clf.score(train_feature,train_label))\n",
    "print(\"Testing Score:%f\"%clf.score(test_feature,test_label))\n",
    "\n",
    "y_predict = clf.predict(X_test)\n",
    "print('\\n'+classification_report(y_test,y_predict))\n",
    "\n",
    "y_predict2 = clf.predict(test_feature)\n",
    "print('\\n'+classification_report(test_label,y_predict2))"
   ]
  },
  {
   "cell_type": "markdown",
   "metadata": {
    "collapsed": true
   },
   "source": [
    "# Keras: MLP，效果穩定，跟最佳的Skl差不多強"
   ]
  },
  {
   "cell_type": "code",
   "execution_count": 43,
   "metadata": {
    "collapsed": false
   },
   "outputs": [
    {
     "name": "stdout",
     "output_type": "stream",
     "text": [
      "_________________________________________________________________\n",
      "Layer (type)                 Output Shape              Param #   \n",
      "=================================================================\n",
      "dense_4 (Dense)              (None, 500)               45000     \n",
      "_________________________________________________________________\n",
      "dropout_3 (Dropout)          (None, 500)               0         \n",
      "_________________________________________________________________\n",
      "dense_5 (Dense)              (None, 200)               100200    \n",
      "_________________________________________________________________\n",
      "dropout_4 (Dropout)          (None, 200)               0         \n",
      "_________________________________________________________________\n",
      "dense_6 (Dense)              (None, 1)                 201       \n",
      "=================================================================\n",
      "Total params: 145,401\n",
      "Trainable params: 145,401\n",
      "Non-trainable params: 0\n",
      "_________________________________________________________________\n",
      "None\n",
      "Train on 13263 samples, validate on 53053 samples\n",
      "Epoch 1/50\n",
      "13263/13263 [==============================] - 2s - loss: 0.6663 - acc: 0.7575 - val_loss: 0.6180 - val_acc: 0.7983\n",
      "Epoch 2/50\n",
      "13263/13263 [==============================] - 2s - loss: 0.5756 - acc: 0.7979 - val_loss: 0.5225 - val_acc: 0.7983\n",
      "Epoch 3/50\n",
      "13263/13263 [==============================] - 2s - loss: 0.5223 - acc: 0.7979 - val_loss: 0.5297 - val_acc: 0.7983\n",
      "Epoch 4/50\n",
      "13263/13263 [==============================] - 2s - loss: 0.5174 - acc: 0.7979 - val_loss: 0.5049 - val_acc: 0.7983\n",
      "Epoch 5/50\n",
      "13263/13263 [==============================] - 2s - loss: 0.5036 - acc: 0.7979 - val_loss: 0.5022 - val_acc: 0.7983\n",
      "Epoch 6/50\n",
      "13263/13263 [==============================] - 2s - loss: 0.4979 - acc: 0.7979 - val_loss: 0.4953 - val_acc: 0.7983\n",
      "Epoch 7/50\n",
      "13263/13263 [==============================] - 2s - loss: 0.4943 - acc: 0.7979 - val_loss: 0.4945 - val_acc: 0.7983\n",
      "Epoch 8/50\n",
      "13263/13263 [==============================] - 2s - loss: 0.4919 - acc: 0.7979 - val_loss: 0.4926 - val_acc: 0.7983\n",
      "Epoch 9/50\n",
      "13263/13263 [==============================] - 3s - loss: 0.4907 - acc: 0.7979 - val_loss: 0.4924 - val_acc: 0.7983\n",
      "Epoch 10/50\n",
      "13263/13263 [==============================] - 3s - loss: 0.4900 - acc: 0.7979 - val_loss: 0.4925 - val_acc: 0.7983\n",
      "Epoch 11/50\n",
      "13263/13263 [==============================] - 4s - loss: 0.4902 - acc: 0.7979 - val_loss: 0.4924 - val_acc: 0.7983\n",
      "Epoch 12/50\n",
      "13263/13263 [==============================] - 4s - loss: 0.4894 - acc: 0.7979 - val_loss: 0.4926 - val_acc: 0.7983\n",
      "Epoch 13/50\n",
      "13263/13263 [==============================] - 4s - loss: 0.4895 - acc: 0.7979 - val_loss: 0.4926 - val_acc: 0.7983\n",
      "Epoch 14/50\n",
      "13263/13263 [==============================] - 3s - loss: 0.4878 - acc: 0.7979 - val_loss: 0.4927 - val_acc: 0.7983\n",
      "Epoch 15/50\n",
      "13263/13263 [==============================] - 3s - loss: 0.4884 - acc: 0.7979 - val_loss: 0.4927 - val_acc: 0.7983\n",
      "Epoch 16/50\n",
      "13263/13263 [==============================] - 3s - loss: 0.4881 - acc: 0.7979 - val_loss: 0.4927 - val_acc: 0.7983\n",
      "Epoch 17/50\n",
      "13263/13263 [==============================] - 3s - loss: 0.4875 - acc: 0.7979 - val_loss: 0.4928 - val_acc: 0.7983\n",
      "Epoch 18/50\n",
      "13263/13263 [==============================] - 3s - loss: 0.4871 - acc: 0.7979 - val_loss: 0.4930 - val_acc: 0.7983\n",
      "Epoch 19/50\n",
      "13263/13263 [==============================] - 4s - loss: 0.4876 - acc: 0.7979 - val_loss: 0.4928 - val_acc: 0.7983\n",
      "Epoch 20/50\n",
      "13263/13263 [==============================] - 3s - loss: 0.4870 - acc: 0.7979 - val_loss: 0.4930 - val_acc: 0.7983\n",
      "Epoch 21/50\n",
      "13263/13263 [==============================] - 2s - loss: 0.4854 - acc: 0.7979 - val_loss: 0.4930 - val_acc: 0.7983\n",
      "Epoch 22/50\n",
      "13263/13263 [==============================] - 2s - loss: 0.4857 - acc: 0.7979 - val_loss: 0.4929 - val_acc: 0.7983\n",
      "Epoch 23/50\n",
      "13263/13263 [==============================] - 4s - loss: 0.4845 - acc: 0.7979 - val_loss: 0.4930 - val_acc: 0.7983\n",
      "Epoch 24/50\n",
      "13263/13263 [==============================] - 3s - loss: 0.4853 - acc: 0.7979 - val_loss: 0.4930 - val_acc: 0.7983\n",
      "Epoch 25/50\n",
      "13263/13263 [==============================] - 3s - loss: 0.4846 - acc: 0.7979 - val_loss: 0.4931 - val_acc: 0.7983\n",
      "Epoch 26/50\n",
      "13263/13263 [==============================] - 3s - loss: 0.4858 - acc: 0.7979 - val_loss: 0.4932 - val_acc: 0.7983\n",
      "Epoch 27/50\n",
      "13263/13263 [==============================] - 3s - loss: 0.4849 - acc: 0.7979 - val_loss: 0.4932 - val_acc: 0.7983\n",
      "Epoch 28/50\n",
      "13263/13263 [==============================] - 2s - loss: 0.4834 - acc: 0.7979 - val_loss: 0.4935 - val_acc: 0.7983\n",
      "Epoch 29/50\n",
      "13263/13263 [==============================] - 2s - loss: 0.4848 - acc: 0.7979 - val_loss: 0.4932 - val_acc: 0.7983\n",
      "Epoch 30/50\n",
      "13263/13263 [==============================] - 3s - loss: 0.4830 - acc: 0.7979 - val_loss: 0.4932 - val_acc: 0.7983\n",
      "Epoch 31/50\n",
      "13263/13263 [==============================] - 3s - loss: 0.4833 - acc: 0.7979 - val_loss: 0.4935 - val_acc: 0.7983\n",
      "Epoch 32/50\n",
      "13263/13263 [==============================] - 3s - loss: 0.4826 - acc: 0.7979 - val_loss: 0.4934 - val_acc: 0.7983\n",
      "Epoch 33/50\n",
      "13263/13263 [==============================] - 3s - loss: 0.4822 - acc: 0.7979 - val_loss: 0.4935 - val_acc: 0.7983\n",
      "Epoch 34/50\n",
      "13263/13263 [==============================] - 3s - loss: 0.4820 - acc: 0.7979 - val_loss: 0.4943 - val_acc: 0.7983\n",
      "Epoch 35/50\n",
      "13263/13263 [==============================] - 3s - loss: 0.4820 - acc: 0.7979 - val_loss: 0.4937 - val_acc: 0.7983\n",
      "Epoch 36/50\n",
      "13263/13263 [==============================] - 3s - loss: 0.4816 - acc: 0.7979 - val_loss: 0.4940 - val_acc: 0.7983\n",
      "Epoch 37/50\n",
      "13263/13263 [==============================] - 4s - loss: 0.4804 - acc: 0.7979 - val_loss: 0.4942 - val_acc: 0.7983\n",
      "Epoch 38/50\n",
      "13263/13263 [==============================] - 4s - loss: 0.4804 - acc: 0.7979 - val_loss: 0.4941 - val_acc: 0.7983\n",
      "Epoch 39/50\n",
      "13263/13263 [==============================] - 4s - loss: 0.4809 - acc: 0.7979 - val_loss: 0.4946 - val_acc: 0.7983\n",
      "Epoch 40/50\n",
      "13263/13263 [==============================] - 3s - loss: 0.4808 - acc: 0.7979 - val_loss: 0.4943 - val_acc: 0.7983\n",
      "Epoch 41/50\n",
      "13263/13263 [==============================] - 2s - loss: 0.4797 - acc: 0.7979 - val_loss: 0.4946 - val_acc: 0.7983\n",
      "Epoch 42/50\n",
      "13263/13263 [==============================] - 2s - loss: 0.4798 - acc: 0.7979 - val_loss: 0.4947 - val_acc: 0.7983\n",
      "Epoch 43/50\n",
      "13263/13263 [==============================] - 2s - loss: 0.4790 - acc: 0.7979 - val_loss: 0.4949 - val_acc: 0.7983\n",
      "Epoch 44/50\n",
      "13263/13263 [==============================] - 2s - loss: 0.4791 - acc: 0.7979 - val_loss: 0.4948 - val_acc: 0.7983\n",
      "Epoch 45/50\n",
      "13263/13263 [==============================] - 2s - loss: 0.4779 - acc: 0.7979 - val_loss: 0.4950 - val_acc: 0.7983\n",
      "Epoch 46/50\n",
      "13263/13263 [==============================] - 2s - loss: 0.4790 - acc: 0.7979 - val_loss: 0.4950 - val_acc: 0.7983\n",
      "Epoch 47/50\n",
      "13263/13263 [==============================] - 2s - loss: 0.4764 - acc: 0.7979 - val_loss: 0.4953 - val_acc: 0.7983\n",
      "Epoch 48/50\n",
      "13263/13263 [==============================] - 2s - loss: 0.4777 - acc: 0.7979 - val_loss: 0.4956 - val_acc: 0.7983\n",
      "Epoch 49/50\n",
      "13263/13263 [==============================] - 2s - loss: 0.4783 - acc: 0.7979 - val_loss: 0.4955 - val_acc: 0.7983\n",
      "Epoch 50/50\n",
      "13263/13263 [==============================] - 2s - loss: 0.4772 - acc: 0.7979 - val_loss: 0.4958 - val_acc: 0.7983\n"
     ]
    },
    {
     "data": {
      "image/png": "[encoded data removed]",
      "text/plain": [
       "<matplotlib.figure.Figure at 0x12a6a2470>"
      ]
     },
     "metadata": {},
     "output_type": "display_data"
    },
    {
     "data": {
      "image/png": "[encoded data removed]",
      "text/plain": [
       "<matplotlib.figure.Figure at 0x1124c07f0>"
      ]
     },
     "metadata": {},
     "output_type": "display_data"
    },
    {
     "name": "stdout",
     "output_type": "stream",
     "text": [
      "43712/44211 [============================>.] - ETA: 0s\n",
      "\n",
      "accuracy= 0.797900974866\n"
     ]
    }
   ],
   "source": [
    "# Keras MLP models\n",
    "from keras.models import Sequential\n",
    "from keras.layers import Dense\n",
    "from keras.layers import Dropout\n",
    "\n",
    "def show_train_history(train_history,train,validation):\n",
    "    plt.plot(train_history.history[train])\n",
    "    plt.plot(train_history.history[validation])\n",
    "    plt.title('Train History')\n",
    "    plt.ylabel(train)\n",
    "    plt.xlabel('Epoch')\n",
    "    plt.legend(['train', 'validation'], loc='best')\n",
    "    plt.show()\n",
    "\n",
    "model = Sequential() \n",
    "model.add(Dense(units=500, \n",
    "                input_dim=89, \n",
    "                kernel_initializer='uniform', \n",
    "                activation='relu'))\n",
    "model.add(Dropout(0.5))\n",
    "\n",
    "model.add(Dense(units=200,  \n",
    "                kernel_initializer='uniform', \n",
    "                activation='relu'))\n",
    "model.add(Dropout(0.5))\n",
    "\n",
    "model.add(Dense(units=1, #輸出一個數字 \n",
    "                kernel_initializer='uniform',\n",
    "                activation='sigmoid'))\n",
    "\n",
    "print(model.summary()) #可以清楚看到model還有參數數量\n",
    "\n",
    "model.compile(loss='binary_crossentropy',   #二元用binary\n",
    "              optimizer='adam', metrics=['accuracy'])\n",
    "\n",
    "train_history = model.fit(x=train_feature, y=train_label,  #上面多分割一步在keras是內建的\n",
    "                          validation_split=0.8, epochs=50, \n",
    "                          batch_size=2000, verbose=2) #verbose=2表示顯示訓練過程\n",
    "\n",
    "show_train_history(train_history,'acc','val_acc')\n",
    "show_train_history(train_history,'loss','val_loss')\n",
    "\n",
    "scores = model.evaluate(test_feature, test_label)\n",
    "print('\\n')\n",
    "print('accuracy=',scores[1])"
   ]
  },
  {
   "cell_type": "code",
   "execution_count": null,
   "metadata": {
    "collapsed": true
   },
   "outputs": [],
   "source": []
  }
 ],
 "metadata": {
  "anaconda-cloud": {},
  "kernelspec": {
   "display_name": "Python [conda root]",
   "language": "python",
   "name": "conda-root-py"
  },
  "language_info": {
   "codemirror_mode": {
    "name": "ipython",
    "version": 3
   },
   "file_extension": ".py",
   "mimetype": "text/x-python",
   "name": "python",
   "nbconvert_exporter": "python",
   "pygments_lexer": "ipython3",
   "version": "3.5.2"
  }
 },
 "nbformat": 4,
 "nbformat_minor": 1
}
