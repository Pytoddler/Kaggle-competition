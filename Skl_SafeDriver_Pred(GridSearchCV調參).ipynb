{
 "cells": [
  {
   "cell_type": "code",
   "execution_count": 1,
   "metadata": {
    "collapsed": false
   },
   "outputs": [
    {
     "name": "stderr",
     "output_type": "stream",
     "text": [
      "//anaconda/lib/python3.5/site-packages/sklearn/cross_validation.py:41: DeprecationWarning: This module was deprecated in version 0.18 in favor of the model_selection module into which all the refactored classes and functions are moved. Also note that the interface of the new CV iterators are different from that of this module. This module will be removed in 0.20.\n",
      "  \"This module will be removed in 0.20.\", DeprecationWarning)\n"
     ]
    }
   ],
   "source": [
    "# import common APIs\n",
    "import numpy as np\n",
    "import pandas as pd\n",
    "import matplotlib.pyplot as plt\n",
    "%matplotlib inline\n",
    "from mpl_toolkits.mplot3d import Axes3D\n",
    "import seaborn as sns\n",
    "import os\n",
    "from sklearn.preprocessing import MinMaxScaler, StandardScaler, LabelEncoder, OneHotEncoder\n",
    "from sklearn.decomposition import PCA\n",
    "from sklearn import cross_validation, naive_bayes, tree, svm, ensemble\n",
    "from sklearn.metrics import classification_report,confusion_matrix,precision_recall_curve,auc,roc_auc_score,roc_curve\n",
    "from xgboost import XGBRegressor"
   ]
  },
  {
   "cell_type": "code",
   "execution_count": 2,
   "metadata": {
    "collapsed": false
   },
   "outputs": [
    {
     "data": {
      "text/html": [
       "<div>\n",
       "<table border=\"1\" class=\"dataframe\">\n",
       "  <thead>\n",
       "    <tr style=\"text-align: right;\">\n",
       "      <th></th>\n",
       "      <th>id</th>\n",
       "      <th>target</th>\n",
       "      <th>ps_ind_01</th>\n",
       "      <th>ps_ind_02_cat</th>\n",
       "      <th>ps_ind_03</th>\n",
       "      <th>ps_ind_04_cat</th>\n",
       "      <th>ps_ind_05_cat</th>\n",
       "      <th>ps_ind_06_bin</th>\n",
       "      <th>ps_ind_07_bin</th>\n",
       "      <th>ps_ind_08_bin</th>\n",
       "      <th>...</th>\n",
       "      <th>ps_calc_11</th>\n",
       "      <th>ps_calc_12</th>\n",
       "      <th>ps_calc_13</th>\n",
       "      <th>ps_calc_14</th>\n",
       "      <th>ps_calc_15_bin</th>\n",
       "      <th>ps_calc_16_bin</th>\n",
       "      <th>ps_calc_17_bin</th>\n",
       "      <th>ps_calc_18_bin</th>\n",
       "      <th>ps_calc_19_bin</th>\n",
       "      <th>ps_calc_20_bin</th>\n",
       "    </tr>\n",
       "  </thead>\n",
       "  <tbody>\n",
       "    <tr>\n",
       "      <th>0</th>\n",
       "      <td>7</td>\n",
       "      <td>0</td>\n",
       "      <td>2</td>\n",
       "      <td>2</td>\n",
       "      <td>5</td>\n",
       "      <td>1</td>\n",
       "      <td>0</td>\n",
       "      <td>0</td>\n",
       "      <td>1</td>\n",
       "      <td>0</td>\n",
       "      <td>...</td>\n",
       "      <td>9</td>\n",
       "      <td>1</td>\n",
       "      <td>5</td>\n",
       "      <td>8</td>\n",
       "      <td>0</td>\n",
       "      <td>1</td>\n",
       "      <td>1</td>\n",
       "      <td>0</td>\n",
       "      <td>0</td>\n",
       "      <td>1</td>\n",
       "    </tr>\n",
       "    <tr>\n",
       "      <th>1</th>\n",
       "      <td>9</td>\n",
       "      <td>0</td>\n",
       "      <td>1</td>\n",
       "      <td>1</td>\n",
       "      <td>7</td>\n",
       "      <td>0</td>\n",
       "      <td>0</td>\n",
       "      <td>0</td>\n",
       "      <td>0</td>\n",
       "      <td>1</td>\n",
       "      <td>...</td>\n",
       "      <td>3</td>\n",
       "      <td>1</td>\n",
       "      <td>1</td>\n",
       "      <td>9</td>\n",
       "      <td>0</td>\n",
       "      <td>1</td>\n",
       "      <td>1</td>\n",
       "      <td>0</td>\n",
       "      <td>1</td>\n",
       "      <td>0</td>\n",
       "    </tr>\n",
       "    <tr>\n",
       "      <th>2</th>\n",
       "      <td>13</td>\n",
       "      <td>0</td>\n",
       "      <td>5</td>\n",
       "      <td>4</td>\n",
       "      <td>9</td>\n",
       "      <td>1</td>\n",
       "      <td>0</td>\n",
       "      <td>0</td>\n",
       "      <td>0</td>\n",
       "      <td>1</td>\n",
       "      <td>...</td>\n",
       "      <td>4</td>\n",
       "      <td>2</td>\n",
       "      <td>7</td>\n",
       "      <td>7</td>\n",
       "      <td>0</td>\n",
       "      <td>1</td>\n",
       "      <td>1</td>\n",
       "      <td>0</td>\n",
       "      <td>1</td>\n",
       "      <td>0</td>\n",
       "    </tr>\n",
       "    <tr>\n",
       "      <th>3</th>\n",
       "      <td>16</td>\n",
       "      <td>0</td>\n",
       "      <td>0</td>\n",
       "      <td>1</td>\n",
       "      <td>2</td>\n",
       "      <td>0</td>\n",
       "      <td>0</td>\n",
       "      <td>1</td>\n",
       "      <td>0</td>\n",
       "      <td>0</td>\n",
       "      <td>...</td>\n",
       "      <td>2</td>\n",
       "      <td>2</td>\n",
       "      <td>4</td>\n",
       "      <td>9</td>\n",
       "      <td>0</td>\n",
       "      <td>0</td>\n",
       "      <td>0</td>\n",
       "      <td>0</td>\n",
       "      <td>0</td>\n",
       "      <td>0</td>\n",
       "    </tr>\n",
       "    <tr>\n",
       "      <th>4</th>\n",
       "      <td>17</td>\n",
       "      <td>0</td>\n",
       "      <td>0</td>\n",
       "      <td>2</td>\n",
       "      <td>0</td>\n",
       "      <td>1</td>\n",
       "      <td>0</td>\n",
       "      <td>1</td>\n",
       "      <td>0</td>\n",
       "      <td>0</td>\n",
       "      <td>...</td>\n",
       "      <td>3</td>\n",
       "      <td>1</td>\n",
       "      <td>1</td>\n",
       "      <td>3</td>\n",
       "      <td>0</td>\n",
       "      <td>0</td>\n",
       "      <td>0</td>\n",
       "      <td>1</td>\n",
       "      <td>1</td>\n",
       "      <td>0</td>\n",
       "    </tr>\n",
       "  </tbody>\n",
       "</table>\n",
       "<p>5 rows × 59 columns</p>\n",
       "</div>"
      ],
      "text/plain": [
       "   id  target  ps_ind_01  ps_ind_02_cat  ps_ind_03  ps_ind_04_cat  \\\n",
       "0   7       0          2              2          5              1   \n",
       "1   9       0          1              1          7              0   \n",
       "2  13       0          5              4          9              1   \n",
       "3  16       0          0              1          2              0   \n",
       "4  17       0          0              2          0              1   \n",
       "\n",
       "   ps_ind_05_cat  ps_ind_06_bin  ps_ind_07_bin  ps_ind_08_bin       ...        \\\n",
       "0              0              0              1              0       ...         \n",
       "1              0              0              0              1       ...         \n",
       "2              0              0              0              1       ...         \n",
       "3              0              1              0              0       ...         \n",
       "4              0              1              0              0       ...         \n",
       "\n",
       "   ps_calc_11  ps_calc_12  ps_calc_13  ps_calc_14  ps_calc_15_bin  \\\n",
       "0           9           1           5           8               0   \n",
       "1           3           1           1           9               0   \n",
       "2           4           2           7           7               0   \n",
       "3           2           2           4           9               0   \n",
       "4           3           1           1           3               0   \n",
       "\n",
       "   ps_calc_16_bin  ps_calc_17_bin  ps_calc_18_bin  ps_calc_19_bin  \\\n",
       "0               1               1               0               0   \n",
       "1               1               1               0               1   \n",
       "2               1               1               0               1   \n",
       "3               0               0               0               0   \n",
       "4               0               0               1               1   \n",
       "\n",
       "   ps_calc_20_bin  \n",
       "0               1  \n",
       "1               0  \n",
       "2               0  \n",
       "3               0  \n",
       "4               0  \n",
       "\n",
       "[5 rows x 59 columns]"
      ]
     },
     "execution_count": 2,
     "metadata": {},
     "output_type": "execute_result"
    }
   ],
   "source": [
    "# Data observation\n",
    "filepath = '/Users/mac/Desktop/Kaggle_datasets/Safe_Driver(Reg)/'\n",
    "filename01 = 'train.csv'\n",
    "\n",
    "df = pd.read_csv(os.path.join(filepath, filename01))\n",
    "df.head()"
   ]
  },
  {
   "cell_type": "code",
   "execution_count": 3,
   "metadata": {
    "collapsed": false
   },
   "outputs": [
    {
     "name": "stdout",
     "output_type": "stream",
     "text": [
      "<class 'pandas.core.frame.DataFrame'>\n",
      "RangeIndex: 595212 entries, 0 to 595211\n",
      "Data columns (total 59 columns):\n",
      "id                595212 non-null int64\n",
      "target            595212 non-null int64\n",
      "ps_ind_01         595212 non-null int64\n",
      "ps_ind_02_cat     595212 non-null int64\n",
      "ps_ind_03         595212 non-null int64\n",
      "ps_ind_04_cat     595212 non-null int64\n",
      "ps_ind_05_cat     595212 non-null int64\n",
      "ps_ind_06_bin     595212 non-null int64\n",
      "ps_ind_07_bin     595212 non-null int64\n",
      "ps_ind_08_bin     595212 non-null int64\n",
      "ps_ind_09_bin     595212 non-null int64\n",
      "ps_ind_10_bin     595212 non-null int64\n",
      "ps_ind_11_bin     595212 non-null int64\n",
      "ps_ind_12_bin     595212 non-null int64\n",
      "ps_ind_13_bin     595212 non-null int64\n",
      "ps_ind_14         595212 non-null int64\n",
      "ps_ind_15         595212 non-null int64\n",
      "ps_ind_16_bin     595212 non-null int64\n",
      "ps_ind_17_bin     595212 non-null int64\n",
      "ps_ind_18_bin     595212 non-null int64\n",
      "ps_reg_01         595212 non-null float64\n",
      "ps_reg_02         595212 non-null float64\n",
      "ps_reg_03         595212 non-null float64\n",
      "ps_car_01_cat     595212 non-null int64\n",
      "ps_car_02_cat     595212 non-null int64\n",
      "ps_car_03_cat     595212 non-null int64\n",
      "ps_car_04_cat     595212 non-null int64\n",
      "ps_car_05_cat     595212 non-null int64\n",
      "ps_car_06_cat     595212 non-null int64\n",
      "ps_car_07_cat     595212 non-null int64\n",
      "ps_car_08_cat     595212 non-null int64\n",
      "ps_car_09_cat     595212 non-null int64\n",
      "ps_car_10_cat     595212 non-null int64\n",
      "ps_car_11_cat     595212 non-null int64\n",
      "ps_car_11         595212 non-null int64\n",
      "ps_car_12         595212 non-null float64\n",
      "ps_car_13         595212 non-null float64\n",
      "ps_car_14         595212 non-null float64\n",
      "ps_car_15         595212 non-null float64\n",
      "ps_calc_01        595212 non-null float64\n",
      "ps_calc_02        595212 non-null float64\n",
      "ps_calc_03        595212 non-null float64\n",
      "ps_calc_04        595212 non-null int64\n",
      "ps_calc_05        595212 non-null int64\n",
      "ps_calc_06        595212 non-null int64\n",
      "ps_calc_07        595212 non-null int64\n",
      "ps_calc_08        595212 non-null int64\n",
      "ps_calc_09        595212 non-null int64\n",
      "ps_calc_10        595212 non-null int64\n",
      "ps_calc_11        595212 non-null int64\n",
      "ps_calc_12        595212 non-null int64\n",
      "ps_calc_13        595212 non-null int64\n",
      "ps_calc_14        595212 non-null int64\n",
      "ps_calc_15_bin    595212 non-null int64\n",
      "ps_calc_16_bin    595212 non-null int64\n",
      "ps_calc_17_bin    595212 non-null int64\n",
      "ps_calc_18_bin    595212 non-null int64\n",
      "ps_calc_19_bin    595212 non-null int64\n",
      "ps_calc_20_bin    595212 non-null int64\n",
      "dtypes: float64(10), int64(49)\n",
      "memory usage: 267.9 MB\n"
     ]
    }
   ],
   "source": [
    "df.info()"
   ]
  },
  {
   "cell_type": "code",
   "execution_count": 4,
   "metadata": {
    "collapsed": false
   },
   "outputs": [
    {
     "data": {
      "text/plain": [
       "0    573518\n",
       "1     21694\n",
       "Name: target, dtype: int64"
      ]
     },
     "execution_count": 4,
     "metadata": {},
     "output_type": "execute_result"
    }
   ],
   "source": [
    "df.target.value_counts()"
   ]
  },
  {
   "cell_type": "code",
   "execution_count": 5,
   "metadata": {
    "collapsed": false
   },
   "outputs": [
    {
     "data": {
      "text/html": [
       "<div>\n",
       "<table border=\"1\" class=\"dataframe\">\n",
       "  <thead>\n",
       "    <tr style=\"text-align: right;\">\n",
       "      <th></th>\n",
       "      <th>id</th>\n",
       "      <th>ps_ind_01</th>\n",
       "      <th>ps_ind_02_cat</th>\n",
       "      <th>ps_ind_03</th>\n",
       "      <th>ps_ind_04_cat</th>\n",
       "      <th>ps_ind_05_cat</th>\n",
       "      <th>ps_ind_06_bin</th>\n",
       "      <th>ps_ind_07_bin</th>\n",
       "      <th>ps_ind_08_bin</th>\n",
       "      <th>ps_ind_09_bin</th>\n",
       "      <th>...</th>\n",
       "      <th>ps_calc_11</th>\n",
       "      <th>ps_calc_12</th>\n",
       "      <th>ps_calc_13</th>\n",
       "      <th>ps_calc_14</th>\n",
       "      <th>ps_calc_15_bin</th>\n",
       "      <th>ps_calc_16_bin</th>\n",
       "      <th>ps_calc_17_bin</th>\n",
       "      <th>ps_calc_18_bin</th>\n",
       "      <th>ps_calc_19_bin</th>\n",
       "      <th>ps_calc_20_bin</th>\n",
       "    </tr>\n",
       "  </thead>\n",
       "  <tbody>\n",
       "    <tr>\n",
       "      <th>0</th>\n",
       "      <td>0</td>\n",
       "      <td>0</td>\n",
       "      <td>1</td>\n",
       "      <td>8</td>\n",
       "      <td>1</td>\n",
       "      <td>0</td>\n",
       "      <td>0</td>\n",
       "      <td>1</td>\n",
       "      <td>0</td>\n",
       "      <td>0</td>\n",
       "      <td>...</td>\n",
       "      <td>1</td>\n",
       "      <td>1</td>\n",
       "      <td>1</td>\n",
       "      <td>12</td>\n",
       "      <td>0</td>\n",
       "      <td>1</td>\n",
       "      <td>1</td>\n",
       "      <td>0</td>\n",
       "      <td>0</td>\n",
       "      <td>1</td>\n",
       "    </tr>\n",
       "    <tr>\n",
       "      <th>1</th>\n",
       "      <td>1</td>\n",
       "      <td>4</td>\n",
       "      <td>2</td>\n",
       "      <td>5</td>\n",
       "      <td>1</td>\n",
       "      <td>0</td>\n",
       "      <td>0</td>\n",
       "      <td>0</td>\n",
       "      <td>0</td>\n",
       "      <td>1</td>\n",
       "      <td>...</td>\n",
       "      <td>2</td>\n",
       "      <td>0</td>\n",
       "      <td>3</td>\n",
       "      <td>10</td>\n",
       "      <td>0</td>\n",
       "      <td>0</td>\n",
       "      <td>1</td>\n",
       "      <td>1</td>\n",
       "      <td>0</td>\n",
       "      <td>1</td>\n",
       "    </tr>\n",
       "    <tr>\n",
       "      <th>2</th>\n",
       "      <td>2</td>\n",
       "      <td>5</td>\n",
       "      <td>1</td>\n",
       "      <td>3</td>\n",
       "      <td>0</td>\n",
       "      <td>0</td>\n",
       "      <td>0</td>\n",
       "      <td>0</td>\n",
       "      <td>0</td>\n",
       "      <td>1</td>\n",
       "      <td>...</td>\n",
       "      <td>4</td>\n",
       "      <td>0</td>\n",
       "      <td>2</td>\n",
       "      <td>4</td>\n",
       "      <td>0</td>\n",
       "      <td>0</td>\n",
       "      <td>0</td>\n",
       "      <td>0</td>\n",
       "      <td>0</td>\n",
       "      <td>0</td>\n",
       "    </tr>\n",
       "    <tr>\n",
       "      <th>3</th>\n",
       "      <td>3</td>\n",
       "      <td>0</td>\n",
       "      <td>1</td>\n",
       "      <td>6</td>\n",
       "      <td>0</td>\n",
       "      <td>0</td>\n",
       "      <td>1</td>\n",
       "      <td>0</td>\n",
       "      <td>0</td>\n",
       "      <td>0</td>\n",
       "      <td>...</td>\n",
       "      <td>5</td>\n",
       "      <td>1</td>\n",
       "      <td>0</td>\n",
       "      <td>5</td>\n",
       "      <td>1</td>\n",
       "      <td>0</td>\n",
       "      <td>1</td>\n",
       "      <td>0</td>\n",
       "      <td>0</td>\n",
       "      <td>0</td>\n",
       "    </tr>\n",
       "    <tr>\n",
       "      <th>4</th>\n",
       "      <td>4</td>\n",
       "      <td>5</td>\n",
       "      <td>1</td>\n",
       "      <td>7</td>\n",
       "      <td>0</td>\n",
       "      <td>0</td>\n",
       "      <td>0</td>\n",
       "      <td>0</td>\n",
       "      <td>0</td>\n",
       "      <td>1</td>\n",
       "      <td>...</td>\n",
       "      <td>4</td>\n",
       "      <td>0</td>\n",
       "      <td>0</td>\n",
       "      <td>4</td>\n",
       "      <td>0</td>\n",
       "      <td>1</td>\n",
       "      <td>1</td>\n",
       "      <td>0</td>\n",
       "      <td>0</td>\n",
       "      <td>1</td>\n",
       "    </tr>\n",
       "  </tbody>\n",
       "</table>\n",
       "<p>5 rows × 58 columns</p>\n",
       "</div>"
      ],
      "text/plain": [
       "   id  ps_ind_01  ps_ind_02_cat  ps_ind_03  ps_ind_04_cat  ps_ind_05_cat  \\\n",
       "0   0          0              1          8              1              0   \n",
       "1   1          4              2          5              1              0   \n",
       "2   2          5              1          3              0              0   \n",
       "3   3          0              1          6              0              0   \n",
       "4   4          5              1          7              0              0   \n",
       "\n",
       "   ps_ind_06_bin  ps_ind_07_bin  ps_ind_08_bin  ps_ind_09_bin       ...        \\\n",
       "0              0              1              0              0       ...         \n",
       "1              0              0              0              1       ...         \n",
       "2              0              0              0              1       ...         \n",
       "3              1              0              0              0       ...         \n",
       "4              0              0              0              1       ...         \n",
       "\n",
       "   ps_calc_11  ps_calc_12  ps_calc_13  ps_calc_14  ps_calc_15_bin  \\\n",
       "0           1           1           1          12               0   \n",
       "1           2           0           3          10               0   \n",
       "2           4           0           2           4               0   \n",
       "3           5           1           0           5               1   \n",
       "4           4           0           0           4               0   \n",
       "\n",
       "   ps_calc_16_bin  ps_calc_17_bin  ps_calc_18_bin  ps_calc_19_bin  \\\n",
       "0               1               1               0               0   \n",
       "1               0               1               1               0   \n",
       "2               0               0               0               0   \n",
       "3               0               1               0               0   \n",
       "4               1               1               0               0   \n",
       "\n",
       "   ps_calc_20_bin  \n",
       "0               1  \n",
       "1               1  \n",
       "2               0  \n",
       "3               0  \n",
       "4               1  \n",
       "\n",
       "[5 rows x 58 columns]"
      ]
     },
     "execution_count": 5,
     "metadata": {},
     "output_type": "execute_result"
    }
   ],
   "source": [
    "filepath = '/Users/mac/Desktop/Kaggle_datasets/Safe_Driver(Reg)/'\n",
    "filename02 = 'test.csv'\n",
    "\n",
    "df2 = pd.read_csv(os.path.join(filepath, filename02))\n",
    "df2.head()"
   ]
  },
  {
   "cell_type": "code",
   "execution_count": 6,
   "metadata": {
    "collapsed": false
   },
   "outputs": [
    {
     "data": {
      "text/html": [
       "<div>\n",
       "<table border=\"1\" class=\"dataframe\">\n",
       "  <thead>\n",
       "    <tr style=\"text-align: right;\">\n",
       "      <th></th>\n",
       "      <th>id</th>\n",
       "      <th>target</th>\n",
       "    </tr>\n",
       "  </thead>\n",
       "  <tbody>\n",
       "    <tr>\n",
       "      <th>0</th>\n",
       "      <td>0</td>\n",
       "      <td>0.0364</td>\n",
       "    </tr>\n",
       "    <tr>\n",
       "      <th>1</th>\n",
       "      <td>1</td>\n",
       "      <td>0.0364</td>\n",
       "    </tr>\n",
       "    <tr>\n",
       "      <th>2</th>\n",
       "      <td>2</td>\n",
       "      <td>0.0364</td>\n",
       "    </tr>\n",
       "    <tr>\n",
       "      <th>3</th>\n",
       "      <td>3</td>\n",
       "      <td>0.0364</td>\n",
       "    </tr>\n",
       "    <tr>\n",
       "      <th>4</th>\n",
       "      <td>4</td>\n",
       "      <td>0.0364</td>\n",
       "    </tr>\n",
       "  </tbody>\n",
       "</table>\n",
       "</div>"
      ],
      "text/plain": [
       "   id  target\n",
       "0   0  0.0364\n",
       "1   1  0.0364\n",
       "2   2  0.0364\n",
       "3   3  0.0364\n",
       "4   4  0.0364"
      ]
     },
     "execution_count": 6,
     "metadata": {},
     "output_type": "execute_result"
    }
   ],
   "source": [
    "filepath = '/Users/mac/Desktop/Kaggle_datasets/Safe_Driver(Reg)/'\n",
    "filename03 = 'sample_submission.csv'\n",
    "\n",
    "df3 = pd.read_csv(os.path.join(filepath, filename03))\n",
    "df3.head()"
   ]
  },
  {
   "cell_type": "code",
   "execution_count": 7,
   "metadata": {
    "collapsed": true
   },
   "outputs": [],
   "source": [
    "# Data preprocessing\n",
    "from sklearn.utils import shuffle\n",
    "\n",
    "df.drop('id', axis=1, inplace=True)\n",
    "shuffle_df = shuffle(df, random_state=42)\n",
    "\n",
    "df_label = shuffle_df['target']\n",
    "df_feature = shuffle_df.drop('target', axis=1)\n",
    "\n",
    "cut_point = round(len(df)*0.6)\n",
    "train_feature = np.array(df_feature.values[:cut_point,:])\n",
    "train_label = np.array(df_label.values[:cut_point])\n",
    "test_feature = np.array(df_feature.values[cut_point:,:])\n",
    "test_label = np.array(df_label.values[cut_point:])"
   ]
  },
  {
   "cell_type": "code",
   "execution_count": 13,
   "metadata": {
    "collapsed": false
   },
   "outputs": [
    {
     "name": "stdout",
     "output_type": "stream",
     "text": [
      "Traing Score:1.000000\n",
      "Testing Score:-1.303998\n"
     ]
    }
   ],
   "source": [
    "### tree.DecisionTreeRegressor()\n",
    "from sklearn import cross_validation, tree\n",
    "X_train,X_test,y_train,y_test = cross_validation.train_test_split(train_feature,train_label, \n",
    "                                              test_size=0.25, random_state=0)\n",
    "regr=tree.DecisionTreeRegressor()\n",
    "regr.fit(X_train,y_train)\n",
    "print(\"Traing Score:%f\"%regr.score(X_train,y_train))\n",
    "print(\"Testing Score:%f\"%regr.score(X_test,y_test))\n",
    "#np.mean(np.abs((regr.predict(test_feature)-test_label)/test_label)) #平均誤差百分比"
   ]
  },
  {
   "cell_type": "code",
   "execution_count": 37,
   "metadata": {
    "collapsed": false
   },
   "outputs": [
    {
     "name": "stdout",
     "output_type": "stream",
     "text": [
      "Traing Score:0.790828\n",
      "Testing Score:-0.152782\n"
     ]
    }
   ],
   "source": [
    "### ensemble.RandomForestRegressor()\n",
    "from sklearn import cross_validation,ensemble\n",
    "X_train,X_test,y_train,y_test = cross_validation.train_test_split(train_feature,train_label, \n",
    "                                                test_size=0.25, random_state=0)\n",
    "regr=ensemble.RandomForestRegressor()\n",
    "regr.fit(X_train,y_train)\n",
    "print(\"Traing Score:%f\"%regr.score(X_train,y_train))\n",
    "print(\"Testing Score:%f\"%regr.score(X_test,y_test))"
   ]
  },
  {
   "cell_type": "code",
   "execution_count": 38,
   "metadata": {
    "collapsed": false
   },
   "outputs": [
    {
     "name": "stdout",
     "output_type": "stream",
     "text": [
      "Traing Score:0.004517\n",
      "Testing Score:0.004009\n"
     ]
    }
   ],
   "source": [
    "### ensemble.AdaBoostRegressor()\n",
    "from sklearn import cross_validation,ensemble\n",
    "X_train,X_test,y_train,y_test = cross_validation.train_test_split(train_feature,train_label,\n",
    "                                                                  test_size=0.25, random_state=0)\n",
    "regr=ensemble.AdaBoostRegressor()\n",
    "regr.fit(X_train,y_train)\n",
    "print(\"Traing Score:%f\"%regr.score(X_train,y_train))\n",
    "print(\"Testing Score:%f\"%regr.score(X_test,y_test))"
   ]
  },
  {
   "cell_type": "markdown",
   "metadata": {},
   "source": [
    "### GradientBoostingRegressor() 跟 XGB伯仲之間，可是訓練時間超久！！"
   ]
  },
  {
   "cell_type": "code",
   "execution_count": 39,
   "metadata": {
    "collapsed": false
   },
   "outputs": [
    {
     "name": "stdout",
     "output_type": "stream",
     "text": [
      "Traing Score:0.016172\n",
      "Testing Score:0.009060\n"
     ]
    }
   ],
   "source": [
    "### ensemble.GradientBoostingRegressor()\n",
    "from sklearn import cross_validation,ensemble\n",
    "X_train,X_test,y_train,y_test = cross_validation.train_test_split(train_feature,train_label,\n",
    "                                                                  test_size=0.25, random_state=0)\n",
    "regr=ensemble.GradientBoostingRegressor()\n",
    "regr.fit(X_train,y_train)\n",
    "print(\"Traing Score:%f\"%regr.score(X_train,y_train))\n",
    "print(\"Testing Score:%f\"%regr.score(X_test,y_test))"
   ]
  },
  {
   "cell_type": "markdown",
   "metadata": {},
   "source": [
    "### XGB 94強..."
   ]
  },
  {
   "cell_type": "code",
   "execution_count": 8,
   "metadata": {
    "collapsed": false
   },
   "outputs": [
    {
     "name": "stdout",
     "output_type": "stream",
     "text": [
      "Traing Score:0.015627\n",
      "Testing Score:0.009405\n"
     ]
    }
   ],
   "source": [
    "# XGBRegressor\n",
    "from xgboost import XGBRegressor\n",
    "X_train,X_test,y_train,y_test = cross_validation.train_test_split(train_feature,train_label,\n",
    "                                          test_size=0.25,random_state=0)\n",
    "regr=XGBRegressor()\n",
    "regr.fit(X_train,y_train)\n",
    "print(\"Traing Score:%f\"%regr.score(X_train,y_train))\n",
    "print(\"Testing Score:%f\"%regr.score(X_test,y_test))"
   ]
  },
  {
   "cell_type": "markdown",
   "metadata": {},
   "source": [
    "# Tuning the parameters"
   ]
  },
  {
   "cell_type": "code",
   "execution_count": 18,
   "metadata": {
    "collapsed": false
   },
   "outputs": [
    {
     "name": "stdout",
     "output_type": "stream",
     "text": [
      "Traing Score:0.656000\n",
      "Testing Score:-0.069946\n"
     ]
    }
   ],
   "source": [
    "# XGBRegressor\n",
    "# Default: XGBRegressor(max_depth=3, learning_rate=0.1, n_estimators=100, silent=True, objective='reg:linear', booster='gbtree', n_jobs=1, nthread=None, gamma=0, min_child_weight=1, max_delta_step=0, subsample=1, colsample_bytree=1, colsample_bylevel=1, reg_alpha=0, reg_lambda=1, scale_pos_weight=1, base_score=0.5, random_state=0, seed=None, missing=None, **kwargs)\n",
    "\n",
    "from xgboost import XGBRegressor\n",
    "X_train,X_test,y_train,y_test = cross_validation.train_test_split(train_feature,train_label,\n",
    "                                          test_size=0.25,random_state=0)\n",
    "regr = XGBRegressor(\n",
    "    max_depth=10, \n",
    "    learning_rate=0.2, \n",
    "    n_estimators=200, \n",
    "    silent=True, \n",
    "    objective='reg:linear', \n",
    "    #nthread=None, \n",
    "    #gamma=0, \n",
    "    #min_child_weight=1, \n",
    "    #max_delta_step=0, \n",
    "    #subsample=1, \n",
    "    #colsample_bytree=1, \n",
    "    #colsample_bylevel=1, \n",
    "    #reg_alpha=0, \n",
    "    #reg_lambda=1, \n",
    "    #scale_pos_weight=1, \n",
    "    #base_score=0.5, \n",
    "    #seed=None, \n",
    "    #missing=None,\n",
    "    )\n",
    "\n",
    "regr.fit(X_train,y_train)\n",
    "print(\"Traing Score:%f\"%regr.score(X_train,y_train))\n",
    "print(\"Testing Score:%f\"%regr.score(X_test,y_test))"
   ]
  },
  {
   "cell_type": "code",
   "execution_count": 24,
   "metadata": {
    "collapsed": false
   },
   "outputs": [
    {
     "name": "stdout",
     "output_type": "stream",
     "text": [
      "Fitting 3 folds for each of 12 candidates, totalling 36 fits\n",
      "[CV] n_estimators=50, learning_rate=0.1, max_depth=2 .................\n",
      "[CV]  n_estimators=50, learning_rate=0.1, max_depth=2, score=0.008441 -   7.2s\n",
      "[CV] n_estimators=50, learning_rate=0.1, max_depth=2 .................\n"
     ]
    },
    {
     "name": "stderr",
     "output_type": "stream",
     "text": [
      "[Parallel(n_jobs=1)]: Done   1 out of   1 | elapsed:    7.2s remaining:    0.0s\n"
     ]
    },
    {
     "name": "stdout",
     "output_type": "stream",
     "text": [
      "[CV]  n_estimators=50, learning_rate=0.1, max_depth=2, score=0.007748 -   7.4s\n",
      "[CV] n_estimators=50, learning_rate=0.1, max_depth=2 .................\n"
     ]
    },
    {
     "name": "stderr",
     "output_type": "stream",
     "text": [
      "[Parallel(n_jobs=1)]: Done   2 out of   2 | elapsed:   14.7s remaining:    0.0s\n"
     ]
    },
    {
     "name": "stdout",
     "output_type": "stream",
     "text": [
      "[CV]  n_estimators=50, learning_rate=0.1, max_depth=2, score=0.008667 -   9.7s\n",
      "[CV] n_estimators=100, learning_rate=0.1, max_depth=2 ................\n"
     ]
    },
    {
     "name": "stderr",
     "output_type": "stream",
     "text": [
      "[Parallel(n_jobs=1)]: Done   3 out of   3 | elapsed:   24.4s remaining:    0.0s\n"
     ]
    },
    {
     "name": "stdout",
     "output_type": "stream",
     "text": [
      "[CV]  n_estimators=100, learning_rate=0.1, max_depth=2, score=0.009753 -  16.7s\n",
      "[CV] n_estimators=100, learning_rate=0.1, max_depth=2 ................\n"
     ]
    },
    {
     "name": "stderr",
     "output_type": "stream",
     "text": [
      "[Parallel(n_jobs=1)]: Done   4 out of   4 | elapsed:   41.1s remaining:    0.0s\n"
     ]
    },
    {
     "name": "stdout",
     "output_type": "stream",
     "text": [
      "[CV]  n_estimators=100, learning_rate=0.1, max_depth=2, score=0.008819 -  18.7s\n",
      "[CV] n_estimators=100, learning_rate=0.1, max_depth=2 ................\n",
      "[CV]  n_estimators=100, learning_rate=0.1, max_depth=2, score=0.009918 -  21.5s\n",
      "[CV] n_estimators=50, learning_rate=0.1, max_depth=3 .................\n",
      "[CV]  n_estimators=50, learning_rate=0.1, max_depth=3, score=0.009031 -  15.2s\n",
      "[CV] n_estimators=50, learning_rate=0.1, max_depth=3 .................\n",
      "[CV]  n_estimators=50, learning_rate=0.1, max_depth=3, score=0.008158 -  14.6s\n",
      "[CV] n_estimators=50, learning_rate=0.1, max_depth=3 .................\n",
      "[CV]  n_estimators=50, learning_rate=0.1, max_depth=3, score=0.009717 -  13.7s\n",
      "[CV] n_estimators=100, learning_rate=0.1, max_depth=3 ................\n",
      "[CV]  n_estimators=100, learning_rate=0.1, max_depth=3, score=0.009725 -  29.4s\n",
      "[CV] n_estimators=100, learning_rate=0.1, max_depth=3 ................\n",
      "[CV]  n_estimators=100, learning_rate=0.1, max_depth=3, score=0.008598 -  35.2s\n",
      "[CV] n_estimators=100, learning_rate=0.1, max_depth=3 ................\n",
      "[CV]  n_estimators=100, learning_rate=0.1, max_depth=3, score=0.010174 -  29.1s\n",
      "[CV] n_estimators=50, learning_rate=0.1, max_depth=4 .................\n",
      "[CV]  n_estimators=50, learning_rate=0.1, max_depth=4, score=0.009351 -  24.0s\n",
      "[CV] n_estimators=50, learning_rate=0.1, max_depth=4 .................\n",
      "[CV]  n_estimators=50, learning_rate=0.1, max_depth=4, score=0.008460 -  22.7s\n",
      "[CV] n_estimators=50, learning_rate=0.1, max_depth=4 .................\n",
      "[CV]  n_estimators=50, learning_rate=0.1, max_depth=4, score=0.009792 -  20.5s\n",
      "[CV] n_estimators=100, learning_rate=0.1, max_depth=4 ................\n",
      "[CV]  n_estimators=100, learning_rate=0.1, max_depth=4, score=0.009582 -  49.0s\n",
      "[CV] n_estimators=100, learning_rate=0.1, max_depth=4 ................\n",
      "[CV]  n_estimators=100, learning_rate=0.1, max_depth=4, score=0.008706 -  36.8s\n",
      "[CV] n_estimators=100, learning_rate=0.1, max_depth=4 ................\n",
      "[CV]  n_estimators=100, learning_rate=0.1, max_depth=4, score=0.009671 -  45.3s\n",
      "[CV] n_estimators=50, learning_rate=0.2, max_depth=2 .................\n",
      "[CV]  n_estimators=50, learning_rate=0.2, max_depth=2, score=0.009964 -   9.6s\n",
      "[CV] n_estimators=50, learning_rate=0.2, max_depth=2 .................\n",
      "[CV]  n_estimators=50, learning_rate=0.2, max_depth=2, score=0.008996 -   9.5s\n",
      "[CV] n_estimators=50, learning_rate=0.2, max_depth=2 .................\n",
      "[CV]  n_estimators=50, learning_rate=0.2, max_depth=2, score=0.009602 -   9.0s\n",
      "[CV] n_estimators=100, learning_rate=0.2, max_depth=2 ................\n",
      "[CV]  n_estimators=100, learning_rate=0.2, max_depth=2, score=0.010249 -  17.7s\n",
      "[CV] n_estimators=100, learning_rate=0.2, max_depth=2 ................\n",
      "[CV]  n_estimators=100, learning_rate=0.2, max_depth=2, score=0.008991 -  17.3s\n",
      "[CV] n_estimators=100, learning_rate=0.2, max_depth=2 ................\n",
      "[CV]  n_estimators=100, learning_rate=0.2, max_depth=2, score=0.009665 -  25.7s\n",
      "[CV] n_estimators=50, learning_rate=0.2, max_depth=3 .................\n",
      "[CV]  n_estimators=50, learning_rate=0.2, max_depth=3, score=0.009394 -  17.0s\n",
      "[CV] n_estimators=50, learning_rate=0.2, max_depth=3 .................\n",
      "[CV]  n_estimators=50, learning_rate=0.2, max_depth=3, score=0.008368 -  14.4s\n",
      "[CV] n_estimators=50, learning_rate=0.2, max_depth=3 .................\n",
      "[CV]  n_estimators=50, learning_rate=0.2, max_depth=3, score=0.009895 -  13.8s\n",
      "[CV] n_estimators=100, learning_rate=0.2, max_depth=3 ................\n",
      "[CV]  n_estimators=100, learning_rate=0.2, max_depth=3, score=0.009535 -  28.2s\n",
      "[CV] n_estimators=100, learning_rate=0.2, max_depth=3 ................\n",
      "[CV]  n_estimators=100, learning_rate=0.2, max_depth=3, score=0.008117 -  35.1s\n",
      "[CV] n_estimators=100, learning_rate=0.2, max_depth=3 ................\n",
      "[CV]  n_estimators=100, learning_rate=0.2, max_depth=3, score=0.009039 -  26.7s\n",
      "[CV] n_estimators=50, learning_rate=0.2, max_depth=4 .................\n",
      "[CV]  n_estimators=50, learning_rate=0.2, max_depth=4, score=0.009296 -  25.6s\n",
      "[CV] n_estimators=50, learning_rate=0.2, max_depth=4 .................\n",
      "[CV]  n_estimators=50, learning_rate=0.2, max_depth=4, score=0.008131 -  27.7s\n",
      "[CV] n_estimators=50, learning_rate=0.2, max_depth=4 .................\n",
      "[CV]  n_estimators=50, learning_rate=0.2, max_depth=4, score=0.008773 -  27.7s\n",
      "[CV] n_estimators=100, learning_rate=0.2, max_depth=4 ................\n",
      "[CV]  n_estimators=100, learning_rate=0.2, max_depth=4, score=0.007926 -  44.9s\n",
      "[CV] n_estimators=100, learning_rate=0.2, max_depth=4 ................\n",
      "[CV]  n_estimators=100, learning_rate=0.2, max_depth=4, score=0.006208 -  36.1s\n",
      "[CV] n_estimators=100, learning_rate=0.2, max_depth=4 ................\n",
      "[CV]  n_estimators=100, learning_rate=0.2, max_depth=4, score=0.007413 -  39.3s\n"
     ]
    },
    {
     "name": "stderr",
     "output_type": "stream",
     "text": [
      "[Parallel(n_jobs=1)]: Done  36 out of  36 | elapsed: 14.1min finished\n"
     ]
    },
    {
     "name": "stdout",
     "output_type": "stream",
     "text": [
      "0.00963492633263067\n",
      "XGBRegressor(base_score=0.5, colsample_bylevel=1, colsample_bytree=1, gamma=0,\n",
      "       learning_rate=0.2, max_delta_step=0, max_depth=2,\n",
      "       min_child_weight=1, missing=None, n_estimators=100, nthread=-1,\n",
      "       objective='reg:linear', reg_alpha=0, reg_lambda=1,\n",
      "       scale_pos_weight=1, seed=0, silent=True, subsample=1)\n"
     ]
    }
   ],
   "source": [
    "from sklearn.grid_search import GridSearchCV\n",
    "\n",
    "#用dict傳參數\n",
    "parameters={\n",
    "    'max_depth':[2,3,4], \n",
    "    'learning_rate':[0.1,0.2], \n",
    "    'n_estimators':[50,100],\n",
    "}\n",
    "\n",
    "model = XGBRegressor()\n",
    "grid = GridSearchCV(estimator=model, \n",
    "                    param_grid=parameters,\n",
    "                    cv=3,\n",
    "                    verbose=5,)\n",
    "\n",
    "grid.fit(X_train,y_train)\n",
    "\n",
    "print(grid.best_score_)\n",
    "print(grid.best_estimator_)"
   ]
  },
  {
   "cell_type": "code",
   "execution_count": 30,
   "metadata": {
    "collapsed": false
   },
   "outputs": [
    {
     "data": {
      "text/plain": [
       "{'learning_rate': 0.2, 'max_depth': 2, 'n_estimators': 100}"
      ]
     },
     "execution_count": 30,
     "metadata": {},
     "output_type": "execute_result"
    }
   ],
   "source": [
    "grid.best_params_"
   ]
  },
  {
   "cell_type": "code",
   "execution_count": 9,
   "metadata": {
    "collapsed": false
   },
   "outputs": [
    {
     "name": "stdout",
     "output_type": "stream",
     "text": [
      "Traing Score:0.013634\n",
      "Testing Score:0.008926\n"
     ]
    }
   ],
   "source": [
    "# 調整成最佳參數的XGBRegressor\n",
    "from xgboost import XGBRegressor\n",
    "X_train,X_test,y_train,y_test = cross_validation.train_test_split(train_feature,train_label,\n",
    "                                          test_size=0.25,random_state=0)\n",
    "regr= XGBRegressor(base_score=0.5, colsample_bylevel=1, colsample_bytree=1, gamma=0,\n",
    "       learning_rate=0.2, max_delta_step=0, max_depth=2,\n",
    "       min_child_weight=1, missing=None, n_estimators=100, nthread=-1,\n",
    "       objective='reg:linear', reg_alpha=0, reg_lambda=1,\n",
    "       scale_pos_weight=1, seed=0, silent=True, subsample=1)\n",
    "\n",
    "regr.fit(X_train,y_train)\n",
    "\n",
    "print(\"Traing Score:%f\"%regr.score(X_train,y_train))\n",
    "print(\"Testing Score:%f\"%regr.score(X_test,y_test))"
   ]
  },
  {
   "cell_type": "code",
   "execution_count": 32,
   "metadata": {
    "collapsed": false
   },
   "outputs": [
    {
     "data": {
      "text/plain": [
       "array([ 0.02281702,  0.04230547,  0.03215387, ...,  0.050439  ,\n",
       "        0.02625221,  0.02031264], dtype=float32)"
      ]
     },
     "execution_count": 32,
     "metadata": {},
     "output_type": "execute_result"
    }
   ],
   "source": [
    "ans_train = regr.predict(test_feature)\n",
    "ans_train"
   ]
  },
  {
   "cell_type": "code",
   "execution_count": 33,
   "metadata": {
    "collapsed": false
   },
   "outputs": [
    {
     "data": {
      "text/plain": [
       "<matplotlib.axes._subplots.AxesSubplot at 0x11098d160>"
      ]
     },
     "execution_count": 33,
     "metadata": {},
     "output_type": "execute_result"
    },
    {
     "data": {
      "image/png": "[encoded data removed]",
      "text/plain": [
       "<matplotlib.figure.Figure at 0x11142aa90>"
      ]
     },
     "metadata": {},
     "output_type": "display_data"
    }
   ],
   "source": [
    "sns.kdeplot(ans_train)"
   ]
  },
  {
   "cell_type": "code",
   "execution_count": 10,
   "metadata": {
    "collapsed": false
   },
   "outputs": [],
   "source": [
    "df2.drop('id', axis=1, inplace=True)\n",
    "df2_feature = np.array(df2.values)"
   ]
  },
  {
   "cell_type": "code",
   "execution_count": 11,
   "metadata": {
    "collapsed": false
   },
   "outputs": [
    {
     "data": {
      "text/plain": [
       "array([ 0.02853408,  0.03256738,  0.03038755, ...,  0.03900239,\n",
       "        0.02681893,  0.03101519], dtype=float32)"
      ]
     },
     "execution_count": 11,
     "metadata": {},
     "output_type": "execute_result"
    }
   ],
   "source": [
    "ans_test = regr.predict(df2_feature)\n",
    "ans_test"
   ]
  },
  {
   "cell_type": "code",
   "execution_count": 36,
   "metadata": {
    "collapsed": false
   },
   "outputs": [
    {
     "data": {
      "text/plain": [
       "<matplotlib.axes._subplots.AxesSubplot at 0x111a1fc50>"
      ]
     },
     "execution_count": 36,
     "metadata": {},
     "output_type": "execute_result"
    },
    {
     "data": {
      "image/png": "[encoded data removed]",
      "text/plain": [
       "<matplotlib.figure.Figure at 0x1118c00b8>"
      ]
     },
     "metadata": {},
     "output_type": "display_data"
    }
   ],
   "source": [
    "sns.kdeplot(ans_test)"
   ]
  },
  {
   "cell_type": "code",
   "execution_count": 13,
   "metadata": {
    "collapsed": true
   },
   "outputs": [],
   "source": [
    "positive = np.where(ans_test<0, 0, ans_test)"
   ]
  },
  {
   "cell_type": "code",
   "execution_count": 14,
   "metadata": {
    "collapsed": false
   },
   "outputs": [
    {
     "data": {
      "text/plain": [
       "<matplotlib.axes._subplots.AxesSubplot at 0x1109bc470>"
      ]
     },
     "execution_count": 14,
     "metadata": {},
     "output_type": "execute_result"
    },
    {
     "data": {
      "image/png": "[encoded data removed]",
      "text/plain": [
       "<matplotlib.figure.Figure at 0x110955b00>"
      ]
     },
     "metadata": {},
     "output_type": "display_data"
    }
   ],
   "source": [
    "sns.kdeplot(positive)"
   ]
  },
  {
   "cell_type": "code",
   "execution_count": 15,
   "metadata": {
    "collapsed": false
   },
   "outputs": [
    {
     "data": {
      "text/html": [
       "<div>\n",
       "<table border=\"1\" class=\"dataframe\">\n",
       "  <thead>\n",
       "    <tr style=\"text-align: right;\">\n",
       "      <th></th>\n",
       "      <th>id</th>\n",
       "      <th>target</th>\n",
       "    </tr>\n",
       "  </thead>\n",
       "  <tbody>\n",
       "    <tr>\n",
       "      <th>0</th>\n",
       "      <td>0</td>\n",
       "      <td>0.028534</td>\n",
       "    </tr>\n",
       "    <tr>\n",
       "      <th>1</th>\n",
       "      <td>1</td>\n",
       "      <td>0.032567</td>\n",
       "    </tr>\n",
       "    <tr>\n",
       "      <th>2</th>\n",
       "      <td>2</td>\n",
       "      <td>0.030388</td>\n",
       "    </tr>\n",
       "    <tr>\n",
       "      <th>3</th>\n",
       "      <td>3</td>\n",
       "      <td>0.011949</td>\n",
       "    </tr>\n",
       "    <tr>\n",
       "      <th>4</th>\n",
       "      <td>4</td>\n",
       "      <td>0.038435</td>\n",
       "    </tr>\n",
       "  </tbody>\n",
       "</table>\n",
       "</div>"
      ],
      "text/plain": [
       "   id    target\n",
       "0   0  0.028534\n",
       "1   1  0.032567\n",
       "2   2  0.030388\n",
       "3   3  0.011949\n",
       "4   4  0.038435"
      ]
     },
     "execution_count": 15,
     "metadata": {},
     "output_type": "execute_result"
    }
   ],
   "source": [
    "df3['target'] = positive\n",
    "df3.head()"
   ]
  },
  {
   "cell_type": "code",
   "execution_count": 16,
   "metadata": {
    "collapsed": false
   },
   "outputs": [
    {
     "data": {
      "text/html": [
       "<div>\n",
       "<table border=\"1\" class=\"dataframe\">\n",
       "  <thead>\n",
       "    <tr style=\"text-align: right;\">\n",
       "      <th></th>\n",
       "      <th>id</th>\n",
       "      <th>target</th>\n",
       "    </tr>\n",
       "  </thead>\n",
       "  <tbody>\n",
       "    <tr>\n",
       "      <th>count</th>\n",
       "      <td>8.928160e+05</td>\n",
       "      <td>892816.000000</td>\n",
       "    </tr>\n",
       "    <tr>\n",
       "      <th>mean</th>\n",
       "      <td>7.441535e+05</td>\n",
       "      <td>0.036624</td>\n",
       "    </tr>\n",
       "    <tr>\n",
       "      <th>std</th>\n",
       "      <td>4.296830e+05</td>\n",
       "      <td>0.018261</td>\n",
       "    </tr>\n",
       "    <tr>\n",
       "      <th>min</th>\n",
       "      <td>0.000000e+00</td>\n",
       "      <td>0.000000</td>\n",
       "    </tr>\n",
       "    <tr>\n",
       "      <th>25%</th>\n",
       "      <td>3.720218e+05</td>\n",
       "      <td>0.024369</td>\n",
       "    </tr>\n",
       "    <tr>\n",
       "      <th>50%</th>\n",
       "      <td>7.443070e+05</td>\n",
       "      <td>0.033682</td>\n",
       "    </tr>\n",
       "    <tr>\n",
       "      <th>75%</th>\n",
       "      <td>1.116308e+06</td>\n",
       "      <td>0.045204</td>\n",
       "    </tr>\n",
       "    <tr>\n",
       "      <th>max</th>\n",
       "      <td>1.488026e+06</td>\n",
       "      <td>0.689391</td>\n",
       "    </tr>\n",
       "  </tbody>\n",
       "</table>\n",
       "</div>"
      ],
      "text/plain": [
       "                 id         target\n",
       "count  8.928160e+05  892816.000000\n",
       "mean   7.441535e+05       0.036624\n",
       "std    4.296830e+05       0.018261\n",
       "min    0.000000e+00       0.000000\n",
       "25%    3.720218e+05       0.024369\n",
       "50%    7.443070e+05       0.033682\n",
       "75%    1.116308e+06       0.045204\n",
       "max    1.488026e+06       0.689391"
      ]
     },
     "execution_count": 16,
     "metadata": {},
     "output_type": "execute_result"
    }
   ],
   "source": [
    "df3.describe()"
   ]
  },
  {
   "cell_type": "code",
   "execution_count": 17,
   "metadata": {
    "collapsed": false
   },
   "outputs": [],
   "source": [
    "df3.to_csv('GBreg_param_Ans.csv', index=0)"
   ]
  },
  {
   "cell_type": "code",
   "execution_count": null,
   "metadata": {
    "collapsed": true
   },
   "outputs": [],
   "source": []
  }
 ],
 "metadata": {
  "anaconda-cloud": {},
  "kernelspec": {
   "display_name": "Python [conda root]",
   "language": "python",
   "name": "conda-root-py"
  },
  "language_info": {
   "codemirror_mode": {
    "name": "ipython",
    "version": 3
   },
   "file_extension": ".py",
   "mimetype": "text/x-python",
   "name": "python",
   "nbconvert_exporter": "python",
   "pygments_lexer": "ipython3",
   "version": "3.5.2"
  }
 },
 "nbformat": 4,
 "nbformat_minor": 1
}
